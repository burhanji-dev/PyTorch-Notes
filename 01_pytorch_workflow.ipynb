{
  "nbformat": 4,
  "nbformat_minor": 0,
  "metadata": {
    "colab": {
      "provenance": [],
      "toc_visible": true,
      "gpuType": "T4"
    },
    "kernelspec": {
      "name": "python3",
      "display_name": "Python 3"
    },
    "language_info": {
      "name": "python"
    },
    "accelerator": "GPU"
  },
  "cells": [
    {
      "cell_type": "markdown",
      "source": [
        "# pytorch workflow"
      ],
      "metadata": {
        "id": "t9R4Mwz-c9XZ"
      }
    },
    {
      "cell_type": "code",
      "source": [
        "what_were_covering = {1: \"data (prepare and load)\",\n",
        "                      2: \"build a model\",\n",
        "                      3: \"fitting the model to the data (training)\",\n",
        "                      4: \"making predictions and evaluating a model (inference)\",\n",
        "                      5: \"save and load a model\",\n",
        "                      6: \" put it all together\"}\n",
        "what_were_covering"
      ],
      "metadata": {
        "colab": {
          "base_uri": "https://localhost:8080/"
        },
        "id": "LD6n0FUBeyL-",
        "outputId": "98667cf6-ed16-489e-c771-96a3379ea7e7"
      },
      "execution_count": null,
      "outputs": [
        {
          "output_type": "execute_result",
          "data": {
            "text/plain": [
              "{1: 'data (prepare and load)',\n",
              " 2: 'build a model',\n",
              " 3: 'fitting the model to the data (training)',\n",
              " 4: 'making predictions and evaluating a model (inference)',\n",
              " 5: 'save and load a model',\n",
              " 6: ' put it all together'}"
            ]
          },
          "metadata": {},
          "execution_count": 2
        }
      ]
    },
    {
      "cell_type": "code",
      "source": [
        "import torch\n",
        "from torch import nn # nn contains all of pytorch's building blocks for neural networks\n",
        "import matplotlib.pyplot as plt\n",
        "\n",
        "# check the pytorch version\n",
        "torch.__version__"
      ],
      "metadata": {
        "colab": {
          "base_uri": "https://localhost:8080/",
          "height": 36
        },
        "id": "GXYGc7V-f2UF",
        "outputId": "ef724fe3-dba4-46ce-9937-d8cf5be1f665"
      },
      "execution_count": null,
      "outputs": [
        {
          "output_type": "execute_result",
          "data": {
            "text/plain": [
              "'2.1.0+cu121'"
            ],
            "application/vnd.google.colaboratory.intrinsic+json": {
              "type": "string"
            }
          },
          "metadata": {},
          "execution_count": 1
        }
      ]
    },
    {
      "cell_type": "markdown",
      "source": [
        "## 1. Data (Preparing and loading)\n",
        "\n",
        "Data can be almost anything... in machine learning\n",
        "\n",
        "* excel spreadsheet\n",
        "* images of any kind\n",
        "* videos\n",
        "* audio like songs and podcast\n",
        "* DNA\n",
        "* text\n",
        "\n",
        "Machine learning is a game of two parts:\n",
        "1. get data into a numerical representation.\n",
        "2. build a model to learn patterns in that numerical representation.\n",
        "\n",
        "To showcase this,  lets create some *known* data using the linear regression formula.\n",
        "\n",
        "We'll use a linear regression fomula to make a straight line with *known* **parameters**.\n",
        "\n",
        "How do you calculate linear regression? The Linear Regression Equation : The equation has the form Y= a + bX, where Y is the dependent variable (that's the variable that goes on the Y-axis), X is the independent variable (i.e. it is plotted on the X-axis), b is the slope of the line, and a is the y-intercept."
      ],
      "metadata": {
        "id": "SxKHyZ18gqGe"
      }
    },
    {
      "cell_type": "code",
      "source": [
        "# Create *known* parameters\n",
        "weight = 0.7 # - b\n",
        "bias = 0.3 # - a\n",
        "\n",
        "# create\n",
        "start =  0\n",
        "end = 1\n",
        "step = 0.02\n",
        "\n",
        "X = torch.arange(start, end, step).unsqueeze(dim=1)\n",
        "y = weight * X + bias\n",
        "\n",
        "X[:10], y[:10]"
      ],
      "metadata": {
        "colab": {
          "base_uri": "https://localhost:8080/"
        },
        "id": "OEr01I5NhMUy",
        "outputId": "acdfe24c-5c06-460f-ea5f-c390f9d86fb7"
      },
      "execution_count": null,
      "outputs": [
        {
          "output_type": "execute_result",
          "data": {
            "text/plain": [
              "(tensor([[0.0000],\n",
              "         [0.0200],\n",
              "         [0.0400],\n",
              "         [0.0600],\n",
              "         [0.0800],\n",
              "         [0.1000],\n",
              "         [0.1200],\n",
              "         [0.1400],\n",
              "         [0.1600],\n",
              "         [0.1800]]),\n",
              " tensor([[0.3000],\n",
              "         [0.3140],\n",
              "         [0.3280],\n",
              "         [0.3420],\n",
              "         [0.3560],\n",
              "         [0.3700],\n",
              "         [0.3840],\n",
              "         [0.3980],\n",
              "         [0.4120],\n",
              "         [0.4260]]))"
            ]
          },
          "metadata": {},
          "execution_count": 4
        }
      ]
    },
    {
      "cell_type": "code",
      "source": [
        "len(X), len(y)"
      ],
      "metadata": {
        "colab": {
          "base_uri": "https://localhost:8080/"
        },
        "id": "XxZ_pensl10X",
        "outputId": "1fd60ad9-39a4-483f-9cb6-c49576c8b8f3"
      },
      "execution_count": null,
      "outputs": [
        {
          "output_type": "execute_result",
          "data": {
            "text/plain": [
              "(50, 50)"
            ]
          },
          "metadata": {},
          "execution_count": 5
        }
      ]
    },
    {
      "cell_type": "markdown",
      "source": [
        "### splitting data into train and test sets"
      ],
      "metadata": {
        "id": "USTOzJj_l8JW"
      }
    },
    {
      "cell_type": "code",
      "source": [
        "# Create train/test split\n",
        "train_split = int(0.8 * len(X))\n",
        "X_train, y_train = X[:train_split], y[:train_split]\n",
        "X_test, y_test = X[train_split:], y[train_split:]\n",
        "\n",
        "len(X_train), len(y_train), len(X_test), len(y_test)"
      ],
      "metadata": {
        "colab": {
          "base_uri": "https://localhost:8080/"
        },
        "id": "R8JshxR7oAQr",
        "outputId": "9fdaab86-2726-49ac-f043-ffef0ca74020"
      },
      "execution_count": null,
      "outputs": [
        {
          "output_type": "execute_result",
          "data": {
            "text/plain": [
              "(40, 40, 10, 10)"
            ]
          },
          "metadata": {},
          "execution_count": 6
        }
      ]
    },
    {
      "cell_type": "code",
      "source": [
        "def plot_predictions(train_data = X_train,\n",
        "                     train_labels = y_train,\n",
        "                     test_data = X_test,\n",
        "                     test_labels = y_test,\n",
        "                     predictions = None):\n",
        "  \"\"\"\n",
        "  plots training data, test data and compares predictions.\n",
        "  \"\"\"\n",
        "  plt.figure(figsize=(10, 7))\n",
        "\n",
        "  # Plot training data in blue\n",
        "  plt.scatter(train_data, train_labels, c='b', s=4, label='Training Data')\n",
        "\n",
        "  # plot testing data in green\n",
        "  plt.scatter(test_data, test_labels, c='orange', s=4, label='Testing Data')\n",
        "\n",
        "  # Are there predictions?\n",
        "  if predictions is not None:\n",
        "    # plot the predictions if they exist\n",
        "    plt.scatter(test_data, predictions, c='r', s=4, label='Predictions')\n",
        "\n",
        "  # show the legend\n",
        "  plt.legend(prop={\"size\": 14});"
      ],
      "metadata": {
        "id": "RvjMO6nGoWv6"
      },
      "execution_count": null,
      "outputs": []
    },
    {
      "cell_type": "code",
      "source": [],
      "metadata": {
        "id": "wmS9AKmlxxkW"
      },
      "execution_count": null,
      "outputs": []
    },
    {
      "cell_type": "code",
      "source": [
        "plot_predictions()"
      ],
      "metadata": {
        "colab": {
          "base_uri": "https://localhost:8080/",
          "height": 599
        },
        "id": "qn99pTXMpsyT",
        "outputId": "49bc787a-c3ac-4e55-dc6f-9e19f3692a43"
      },
      "execution_count": null,
      "outputs": [
        {
          "output_type": "display_data",
          "data": {
            "text/plain": [
              "<Figure size 1000x700 with 1 Axes>"
            ],
            "image/png": "[encoded data removed]"
          },
          "metadata": {}
        }
      ]
    },
    {
      "cell_type": "markdown",
      "source": [
        "## Build a model\n",
        "\n",
        "What our model does:\n",
        "* start with random values (weight an bias)\n",
        "* look at training data and adjust the random values to better represent the ideal values (the weight and bais values we used to create the data)\n",
        "\n",
        "How does it do so?\n",
        "\n",
        "Through two main algorithms:\n",
        "1. gradient descent\n",
        "2. backpropagation"
      ],
      "metadata": {
        "id": "hyB-36knt4GD"
      }
    },
    {
      "cell_type": "code",
      "source": [
        "# Create linear regression model class\n",
        "class LinearRegressionModel(nn.Module): # almost everything in pytorch inherits from nn.Module\n",
        "  def __init__(self):\n",
        "    super().__init__()\n",
        "    self.weights = nn.Parameter(torch.randn(1,\n",
        "                                            requires_grad=True,\n",
        "                                            dtype= torch.float))\n",
        "\n",
        "    self.bias = nn.Parameter(torch.randn(1,\n",
        "                                         requires_grad=True,\n",
        "                                         dtype=torch.float))\n",
        "\n",
        "  # foward method to define the computation in the model\n",
        "  def forward(self, x: torch.Tensor) -> torch.Tensor: # <- 'x' is the input data\n",
        "    return self.weights * x + self.bias # this is the linear regression formula"
      ],
      "metadata": {
        "id": "v8kC246Mem7U"
      },
      "execution_count": null,
      "outputs": []
    },
    {
      "cell_type": "markdown",
      "source": [
        "### pytorch model building essentials\n",
        "\n",
        "* torch.nn - contains all of the building blocks for computational graphs\n",
        "(such as a neural networks)\n",
        "* torch.nn.Parameter - what paramters should our model try to learn, often a pytorch layer from torch.nn will set these for us.\n",
        "* torch.nn.Module - The base class for all neural network modules, if you subclass it you should overwrite forward()\n",
        "* torch.optim - this is where the optimizers in pytorch live, they will help with gradient descent.\n",
        "* def foward() - all nn.module subclasses require you to overwrite foward(), this method defines what happens in the foward computation\n"
      ],
      "metadata": {
        "id": "F0-TO52qjdjF"
      }
    },
    {
      "cell_type": "markdown",
      "source": [
        "### checking the contents of our pytorch model\n",
        "\n",
        "we can check our model paramters or whats inside our model by using `.parameters()`"
      ],
      "metadata": {
        "id": "1UCatZnboc_v"
      }
    },
    {
      "cell_type": "code",
      "source": [
        "# create a random seed\n",
        "torch.manual_seed(42)\n",
        "\n",
        "# create an instance of the model (this is a subclass of nn.module)\n",
        "model_0 = LinearRegressionModel()\n",
        "\n",
        "# check out the parameters\n",
        "list(model_0.parameters())"
      ],
      "metadata": {
        "colab": {
          "base_uri": "https://localhost:8080/"
        },
        "id": "1qU0UoWRpXpe",
        "outputId": "7b61838b-f384-48bd-e260-e0226032ef21"
      },
      "execution_count": null,
      "outputs": [
        {
          "output_type": "execute_result",
          "data": {
            "text/plain": [
              "[Parameter containing:\n",
              " tensor([0.3367], requires_grad=True),\n",
              " Parameter containing:\n",
              " tensor([0.1288], requires_grad=True)]"
            ]
          },
          "metadata": {},
          "execution_count": 10
        }
      ]
    },
    {
      "cell_type": "code",
      "source": [
        "# list named parameters\n",
        "model_0.state_dict()"
      ],
      "metadata": {
        "colab": {
          "base_uri": "https://localhost:8080/"
        },
        "id": "ezJCTzmDpuxN",
        "outputId": "e7930c98-c11a-4aa8-cca8-314f4a4f036a"
      },
      "execution_count": null,
      "outputs": [
        {
          "output_type": "execute_result",
          "data": {
            "text/plain": [
              "OrderedDict([('weights', tensor([0.3367])), ('bias', tensor([0.1288]))])"
            ]
          },
          "metadata": {},
          "execution_count": 11
        }
      ]
    },
    {
      "cell_type": "code",
      "source": [
        "weight, bias # the model is going to evaluate the data to get as close as possible to the correct weights and biases"
      ],
      "metadata": {
        "colab": {
          "base_uri": "https://localhost:8080/"
        },
        "id": "3lSGD26rrWir",
        "outputId": "892323ac-27a0-444a-9799-39509638af65"
      },
      "execution_count": null,
      "outputs": [
        {
          "output_type": "execute_result",
          "data": {
            "text/plain": [
              "(0.7, 0.3)"
            ]
          },
          "metadata": {},
          "execution_count": 12
        }
      ]
    },
    {
      "cell_type": "markdown",
      "source": [
        "### Making predictions using `torch.inference_mode()`\n",
        "\n",
        "To check our model's predictive power, lets see how well it predicts `y_test` based on `X_test`.\n",
        "\n",
        "when we pass data through our model, its going to run it through the foward method"
      ],
      "metadata": {
        "id": "5fVzEZSbr9vo"
      }
    },
    {
      "cell_type": "code",
      "source": [
        "# Make predictions with model\n",
        "with torch.inference_mode():\n",
        "  y_preds = model_0(X_test)\n",
        "\n",
        "y_preds"
      ],
      "metadata": {
        "colab": {
          "base_uri": "https://localhost:8080/"
        },
        "id": "NLRp-nPAte38",
        "outputId": "993d64c2-3c57-4075-d172-0f2c0af23da3"
      },
      "execution_count": null,
      "outputs": [
        {
          "output_type": "execute_result",
          "data": {
            "text/plain": [
              "tensor([[0.3982],\n",
              "        [0.4049],\n",
              "        [0.4116],\n",
              "        [0.4184],\n",
              "        [0.4251],\n",
              "        [0.4318],\n",
              "        [0.4386],\n",
              "        [0.4453],\n",
              "        [0.4520],\n",
              "        [0.4588]])"
            ]
          },
          "metadata": {},
          "execution_count": 13
        }
      ]
    },
    {
      "cell_type": "code",
      "source": [
        "y_test"
      ],
      "metadata": {
        "colab": {
          "base_uri": "https://localhost:8080/"
        },
        "id": "VByDFX3Uw5wv",
        "outputId": "a12a709e-e276-4a72-b17c-6f9c5a51e137"
      },
      "execution_count": null,
      "outputs": [
        {
          "output_type": "execute_result",
          "data": {
            "text/plain": [
              "tensor([[0.8600],\n",
              "        [0.8740],\n",
              "        [0.8880],\n",
              "        [0.9020],\n",
              "        [0.9160],\n",
              "        [0.9300],\n",
              "        [0.9440],\n",
              "        [0.9580],\n",
              "        [0.9720],\n",
              "        [0.9860]])"
            ]
          },
          "metadata": {},
          "execution_count": 14
        }
      ]
    },
    {
      "cell_type": "code",
      "source": [
        "plot_predictions(predictions=y_preds)"
      ],
      "metadata": {
        "colab": {
          "base_uri": "https://localhost:8080/",
          "height": 599
        },
        "id": "6mif7WmXw8Pi",
        "outputId": "10a15944-1431-4338-b9e5-edb98eb45860"
      },
      "execution_count": null,
      "outputs": [
        {
          "output_type": "display_data",
          "data": {
            "text/plain": [
              "<Figure size 1000x700 with 1 Axes>"
            ],
            "image/png": "[encoded data removed]"
          },
          "metadata": {}
        }
      ]
    },
    {
      "cell_type": "markdown",
      "source": [
        "# 3. Train model\n",
        "\n",
        "the idea of training a model is to go from unknown parameters to some known parameters.\n",
        "from a poor representation to a good representation of the data.\n",
        "\n",
        "One way to measure how poor or how wrong the models predictions are is to use a loss function.\n",
        "\n",
        "* Note: loss function may also be called the cost function or criterion in different areas.\n",
        "\n",
        "Things we need to train:\n",
        "\n",
        "* **Loss function:** a function to measure how wrong your predictions are to the ideal output, so lower is better\n",
        "\n",
        "* **Optimizer:** takes into account the loss of a model and adjust the models parameters (e.g. weights and bias) to improve the loss function.\n",
        " * inside an optimizer youll often have to set two parameters:\n",
        "   * **params :**  the model parameters youd like to optimize, for example params=model_0.parameters()\n",
        "   * **lr (learning rate) :** the learning rate is a hyperparamter that defines how big/small the optimizer changes the parameters with each step(a small lr results in small changes, a large lr results in large changes)\n",
        "\n",
        "And specifically for pytorch, we need:\n",
        "* A training loop\n",
        "* A testing loop"
      ],
      "metadata": {
        "id": "mLHkao2nxGDw"
      }
    },
    {
      "cell_type": "code",
      "source": [
        "list(model_0.parameters())"
      ],
      "metadata": {
        "colab": {
          "base_uri": "https://localhost:8080/"
        },
        "id": "gqzT7AfjzEqk",
        "outputId": "35857da6-b1e8-4421-b21a-f898aaae0df3"
      },
      "execution_count": null,
      "outputs": [
        {
          "output_type": "execute_result",
          "data": {
            "text/plain": [
              "[Parameter containing:\n",
              " tensor([0.3367], requires_grad=True),\n",
              " Parameter containing:\n",
              " tensor([0.1288], requires_grad=True)]"
            ]
          },
          "metadata": {},
          "execution_count": 16
        }
      ]
    },
    {
      "cell_type": "code",
      "source": [
        "model_0.state_dict()"
      ],
      "metadata": {
        "colab": {
          "base_uri": "https://localhost:8080/"
        },
        "id": "hKadE86RzFCL",
        "outputId": "ccafa9bf-18b5-431d-9865-5032094022f6"
      },
      "execution_count": null,
      "outputs": [
        {
          "output_type": "execute_result",
          "data": {
            "text/plain": [
              "OrderedDict([('weights', tensor([0.3367])), ('bias', tensor([0.1288]))])"
            ]
          },
          "metadata": {},
          "execution_count": 17
        }
      ]
    },
    {
      "cell_type": "code",
      "source": [
        "# Setup a loss function\n",
        "loss_fn = nn.L1Loss()\n",
        "\n",
        "# Setup an optimizer (stocastic gradient descent)\n",
        "optimizer = torch.optim.SGD(params=model_0.parameters(),\n",
        "                            lr=0.01) # lr = learning rate"
      ],
      "metadata": {
        "id": "GT7tjBy1zFLA"
      },
      "execution_count": null,
      "outputs": []
    },
    {
      "cell_type": "code",
      "source": [
        "loss_fn"
      ],
      "metadata": {
        "colab": {
          "base_uri": "https://localhost:8080/"
        },
        "id": "qj1ezLyV2-ju",
        "outputId": "82f6b91e-29de-473f-e9b5-fe4cfc18222d"
      },
      "execution_count": null,
      "outputs": [
        {
          "output_type": "execute_result",
          "data": {
            "text/plain": [
              "L1Loss()"
            ]
          },
          "metadata": {},
          "execution_count": 19
        }
      ]
    },
    {
      "cell_type": "markdown",
      "source": [
        "### Building a training loop (and a testing loop) in Pytorch\n",
        "\n",
        "the things we need in a training loop:\n",
        "* 1. loop through the data\n",
        "* 2. forward pass (this involves data moving through our model's `forward()` functions) to make predictions on data- also called forward propagation\n",
        "* 3. calculate the loss (compare forward pass predictions to ground truth labels)\n",
        "* 4. optimizer zero grad\n",
        "* 5. loss backward - move backwards through the network to calculate the gradients of each of parameters of our model with respect to the loss (**backpropagation**)\n",
        "* 6. optimizer step - use the optimizer to adjust our models parameters to try and improve the loss (**gradient descent**)\n"
      ],
      "metadata": {
        "id": "AK5syX9K2_4W"
      }
    },
    {
      "cell_type": "code",
      "source": [
        "torch.manual_seed(42)\n",
        "\n",
        "# an epoch is one loop through the data..(this is a hyperparameter since we are setting it ourselves)\n",
        "epochs = 200\n",
        "\n",
        "# Tracking Different Values\n",
        "epoch_count = []\n",
        "loss_values = []\n",
        "test_loss_values = []\n",
        "\n",
        "### Training\n",
        "# 1. loop through the data\n",
        "for epoch in range(epochs):\n",
        "  # set the model to training mode\n",
        "  model_0.train() # train mode in pytorch sets all parameters that require gradients to require gradients\n",
        "\n",
        "  # 2. Forward pass\n",
        "  y_pred = model_0(X_train)\n",
        "\n",
        "  # 3. calculate the loss\n",
        "  loss = loss_fn(y_pred, y_train)\n",
        "  # print(f\"loss: {loss}\")\n",
        "\n",
        "  # 4. optimizer zero grad\n",
        "  optimizer.zero_grad()\n",
        "\n",
        "  # 5. perform backpropagation on the loss with respect to the parameters of the model\n",
        "  loss.backward()\n",
        "\n",
        "  # 6. Step the optimizer (perform gradient descent)\n",
        "  optimizer.step() # by default how the optimizer changes will accumulate\n",
        "                   # through the loop so we have to zero them in step 4 for the next iteration of the loop\n",
        "\n",
        "\n",
        "  ### Testing\n",
        "  model_0.eval() # turns off settings not needed for evaluations/testing\n",
        "  with torch.inference_mode(): # turns off gradient tracking\n",
        "    # 1. do the forward pass\n",
        "    test_pred = model_0(X_test)\n",
        "\n",
        "    # 2. calculate the loss\n",
        "    test_loss = loss_fn(test_pred, y_test)\n",
        "\n",
        "  # print out whats happening\n",
        "  if epoch % 10 == 0:\n",
        "    epoch_count.append(epoch)\n",
        "    loss_values.append(loss)\n",
        "    test_loss_values.append(test_loss)\n",
        "    print(f\"epoch: {epoch} | loss: {loss} | test loss: {test_loss}\")\n",
        "  # print out model state_dict()\n",
        "    print(model_0.state_dict())\n"
      ],
      "metadata": {
        "colab": {
          "base_uri": "https://localhost:8080/"
        },
        "id": "taoK97Eo9w-J",
        "outputId": "c286fb18-8c2e-4e9f-8886-a2201688a7c6"
      },
      "execution_count": null,
      "outputs": [
        {
          "output_type": "stream",
          "name": "stdout",
          "text": [
            "epoch: 0 | loss: 0.31288138031959534 | test loss: 0.48106518387794495\n",
            "OrderedDict([('weights', tensor([0.3406])), ('bias', tensor([0.1388]))])\n",
            "epoch: 10 | loss: 0.1976713240146637 | test loss: 0.3463551998138428\n",
            "OrderedDict([('weights', tensor([0.3796])), ('bias', tensor([0.2388]))])\n",
            "epoch: 20 | loss: 0.08908725529909134 | test loss: 0.21729660034179688\n",
            "OrderedDict([('weights', tensor([0.4184])), ('bias', tensor([0.3333]))])\n",
            "epoch: 30 | loss: 0.053148526698350906 | test loss: 0.14464017748832703\n",
            "OrderedDict([('weights', tensor([0.4512])), ('bias', tensor([0.3768]))])\n",
            "epoch: 40 | loss: 0.04543796554207802 | test loss: 0.11360953003168106\n",
            "OrderedDict([('weights', tensor([0.4748])), ('bias', tensor([0.3868]))])\n",
            "epoch: 50 | loss: 0.04167863354086876 | test loss: 0.09919948130846024\n",
            "OrderedDict([('weights', tensor([0.4938])), ('bias', tensor([0.3843]))])\n",
            "epoch: 60 | loss: 0.03818932920694351 | test loss: 0.08886633068323135\n",
            "OrderedDict([('weights', tensor([0.5116])), ('bias', tensor([0.3788]))])\n",
            "epoch: 70 | loss: 0.03476089984178543 | test loss: 0.0805937647819519\n",
            "OrderedDict([('weights', tensor([0.5288])), ('bias', tensor([0.3718]))])\n",
            "epoch: 80 | loss: 0.03132382780313492 | test loss: 0.07232122868299484\n",
            "OrderedDict([('weights', tensor([0.5459])), ('bias', tensor([0.3648]))])\n",
            "epoch: 90 | loss: 0.02788739837706089 | test loss: 0.06473556160926819\n",
            "OrderedDict([('weights', tensor([0.5629])), ('bias', tensor([0.3573]))])\n",
            "epoch: 100 | loss: 0.024458957836031914 | test loss: 0.05646304413676262\n",
            "OrderedDict([('weights', tensor([0.5800])), ('bias', tensor([0.3503]))])\n",
            "epoch: 110 | loss: 0.021020207554101944 | test loss: 0.04819049686193466\n",
            "OrderedDict([('weights', tensor([0.5972])), ('bias', tensor([0.3433]))])\n",
            "epoch: 120 | loss: 0.01758546568453312 | test loss: 0.04060482233762741\n",
            "OrderedDict([('weights', tensor([0.6141])), ('bias', tensor([0.3358]))])\n",
            "epoch: 130 | loss: 0.014155393466353416 | test loss: 0.03233227878808975\n",
            "OrderedDict([('weights', tensor([0.6313])), ('bias', tensor([0.3288]))])\n",
            "epoch: 140 | loss: 0.010716589167714119 | test loss: 0.024059748277068138\n",
            "OrderedDict([('weights', tensor([0.6485])), ('bias', tensor([0.3218]))])\n",
            "epoch: 150 | loss: 0.0072835334576666355 | test loss: 0.016474086791276932\n",
            "OrderedDict([('weights', tensor([0.6654])), ('bias', tensor([0.3143]))])\n",
            "epoch: 160 | loss: 0.0038517764769494534 | test loss: 0.008201557211577892\n",
            "OrderedDict([('weights', tensor([0.6826])), ('bias', tensor([0.3073]))])\n",
            "epoch: 170 | loss: 0.008932482451200485 | test loss: 0.005023092031478882\n",
            "OrderedDict([('weights', tensor([0.6951])), ('bias', tensor([0.2993]))])\n",
            "epoch: 180 | loss: 0.008932482451200485 | test loss: 0.005023092031478882\n",
            "OrderedDict([('weights', tensor([0.6951])), ('bias', tensor([0.2993]))])\n",
            "epoch: 190 | loss: 0.008932482451200485 | test loss: 0.005023092031478882\n",
            "OrderedDict([('weights', tensor([0.6951])), ('bias', tensor([0.2993]))])\n"
          ]
        }
      ]
    },
    {
      "cell_type": "code",
      "source": [
        "import numpy as np"
      ],
      "metadata": {
        "id": "IkeP0Zc4XuP3"
      },
      "execution_count": null,
      "outputs": []
    },
    {
      "cell_type": "code",
      "source": [
        "plt.plot(epoch_count, np.array(torch.tensor(loss_values)), label=\"Train Loss\")\n",
        "plt.plot(epoch_count, test_loss_values, label=\"Test Loss\")\n",
        "plt.title(\"Training and Test loss Curves\")\n",
        "plt.ylabel(\"loss\")\n",
        "plt.xlabel('epochs')\n",
        "plt.legend()"
      ],
      "metadata": {
        "colab": {
          "base_uri": "https://localhost:8080/",
          "height": 489
        },
        "id": "yVwCXLWbVhHQ",
        "outputId": "4befae01-7d04-4c1e-aecf-72e77b86bfad"
      },
      "execution_count": null,
      "outputs": [
        {
          "output_type": "execute_result",
          "data": {
            "text/plain": [
              "<matplotlib.legend.Legend at 0x7a1d184fb0d0>"
            ]
          },
          "metadata": {},
          "execution_count": 22
        },
        {
          "output_type": "display_data",
          "data": {
            "text/plain": [
              "<Figure size 640x480 with 1 Axes>"
            ],
            "image/png": "[encoded data removed]"
          },
          "metadata": {}
        }
      ]
    },
    {
      "cell_type": "code",
      "source": [
        "model_0.state_dict()"
      ],
      "metadata": {
        "colab": {
          "base_uri": "https://localhost:8080/"
        },
        "id": "ekdIkekm-I2Q",
        "outputId": "9acf1b05-4a4b-4479-9652-15f6b57b1c73"
      },
      "execution_count": null,
      "outputs": [
        {
          "output_type": "execute_result",
          "data": {
            "text/plain": [
              "OrderedDict([('weights', tensor([0.6990])), ('bias', tensor([0.3093]))])"
            ]
          },
          "metadata": {},
          "execution_count": 23
        }
      ]
    },
    {
      "cell_type": "code",
      "source": [
        "weight, bias"
      ],
      "metadata": {
        "colab": {
          "base_uri": "https://localhost:8080/"
        },
        "id": "dr6WsLlk-LNV",
        "outputId": "c999bbe7-d7c5-4b08-ecc8-e8f70564cb78"
      },
      "execution_count": null,
      "outputs": [
        {
          "output_type": "execute_result",
          "data": {
            "text/plain": [
              "(0.7, 0.3)"
            ]
          },
          "metadata": {},
          "execution_count": 24
        }
      ]
    },
    {
      "cell_type": "code",
      "source": [
        "with torch.inference_mode():\n",
        "  y_preds_new = model_0(X_test)"
      ],
      "metadata": {
        "id": "-CfZXqa2_QHb"
      },
      "execution_count": null,
      "outputs": []
    },
    {
      "cell_type": "code",
      "source": [
        "plot_predictions(predictions=y_preds);"
      ],
      "metadata": {
        "colab": {
          "base_uri": "https://localhost:8080/",
          "height": 599
        },
        "id": "S0fHP40LKjMg",
        "outputId": "f32a95b3-7371-400e-8240-c92b4f193ea4"
      },
      "execution_count": null,
      "outputs": [
        {
          "output_type": "display_data",
          "data": {
            "text/plain": [
              "<Figure size 1000x700 with 1 Axes>"
            ],
            "image/png": "[encoded data removed]"
          },
          "metadata": {}
        }
      ]
    },
    {
      "cell_type": "code",
      "source": [
        "plot_predictions(predictions=y_preds_new)"
      ],
      "metadata": {
        "colab": {
          "base_uri": "https://localhost:8080/",
          "height": 599
        },
        "id": "CL4pTDuzKx3W",
        "outputId": "7275b8ac-19c3-498f-b990-62d0d5ef11c3"
      },
      "execution_count": null,
      "outputs": [
        {
          "output_type": "display_data",
          "data": {
            "text/plain": [
              "<Figure size 1000x700 with 1 Axes>"
            ],
            "image/png": "[encoded data removed]"
          },
          "metadata": {}
        }
      ]
    },
    {
      "cell_type": "markdown",
      "source": [
        "### Saving a model in pytorch\n",
        "\n",
        "There are three main methods you should know about for saving and loading models in pytorch.\n",
        "\n",
        "1. `torch.save() `- allows you to save a pytorch object in pythons pickle format\n",
        "2. `torch.load()`- allows you to load a saved pytorch object\n",
        "3. `torch.nn.Module.load_state_dict()` - this allows you to load a models saved state dictionary"
      ],
      "metadata": {
        "id": "GG7TLLk6LF3q"
      }
    },
    {
      "cell_type": "code",
      "source": [
        "model_0.state_dict()"
      ],
      "metadata": {
        "colab": {
          "base_uri": "https://localhost:8080/"
        },
        "id": "IWVVFaeOulo0",
        "outputId": "06ada030-b989-42f7-b243-39c91f98b5b5"
      },
      "execution_count": null,
      "outputs": [
        {
          "output_type": "execute_result",
          "data": {
            "text/plain": [
              "OrderedDict([('weights', tensor([0.6990])), ('bias', tensor([0.3093]))])"
            ]
          },
          "metadata": {},
          "execution_count": 28
        }
      ]
    },
    {
      "cell_type": "code",
      "source": [
        "# Saving a model\n",
        "from pathlib import Path\n",
        "\n",
        "# 1. create model directory\n",
        "MODEL_PATH = Path(\"models\")\n",
        "MODEL_PATH.mkdir(parents=True, exist_ok=True)\n",
        "\n",
        "# 2. Create model save path\n",
        "MODEL_NAME = \"01_pytorch_workflow_model_0.pth\"\n",
        "MODEL_SAVE_PATH = MODEL_PATH / MODEL_NAME\n",
        "\n",
        "# 3. Save the model state dict\n",
        "print(f\" Saving model to : {MODEL_SAVE_PATH}\")\n",
        "torch.save(obj=model_0.state_dict(),\n",
        "           f=MODEL_SAVE_PATH)"
      ],
      "metadata": {
        "colab": {
          "base_uri": "https://localhost:8080/"
        },
        "id": "kaXaJbW9upC3",
        "outputId": "cfdb7309-51e9-42a0-eba1-f1c8200e4c19"
      },
      "execution_count": null,
      "outputs": [
        {
          "output_type": "stream",
          "name": "stdout",
          "text": [
            " Saving model to : models/01_pytorch_workflow_model_0.pth\n"
          ]
        }
      ]
    },
    {
      "cell_type": "markdown",
      "source": [
        "## Loading a pytorch model\n",
        "\n",
        "Since we saved our models \"state_dict() rather than the entire model,  well create a new instancte of our model class and load the saved state_dict() into that"
      ],
      "metadata": {
        "id": "w24kY1W3w-bK"
      }
    },
    {
      "cell_type": "code",
      "source": [
        "model_0.state_dict()"
      ],
      "metadata": {
        "colab": {
          "base_uri": "https://localhost:8080/"
        },
        "id": "eNnvaMFGz6k1",
        "outputId": "cc183660-255b-4bed-dda7-81c6e8cc4d60"
      },
      "execution_count": null,
      "outputs": [
        {
          "output_type": "execute_result",
          "data": {
            "text/plain": [
              "OrderedDict([('weights', tensor([0.6990])), ('bias', tensor([0.3093]))])"
            ]
          },
          "metadata": {},
          "execution_count": 30
        }
      ]
    },
    {
      "cell_type": "code",
      "source": [
        "# To load in a saved state_dict we have to instantiate a new instance of our model class\n",
        "loaded_model_0 = LinearRegressionModel()\n",
        "\n",
        "# load the saved state_dict of model_0 (this will update the new instance with updated parameters)\n",
        "loaded_model_0.load_state_dict(torch.load(f=MODEL_SAVE_PATH))"
      ],
      "metadata": {
        "colab": {
          "base_uri": "https://localhost:8080/"
        },
        "id": "slc_xIwQz__O",
        "outputId": "a18c7d4f-8f64-4c2f-a87c-575f09197ca4"
      },
      "execution_count": null,
      "outputs": [
        {
          "output_type": "execute_result",
          "data": {
            "text/plain": [
              "<All keys matched successfully>"
            ]
          },
          "metadata": {},
          "execution_count": 31
        }
      ]
    },
    {
      "cell_type": "code",
      "source": [
        "loaded_model_0.state_dict()"
      ],
      "metadata": {
        "colab": {
          "base_uri": "https://localhost:8080/"
        },
        "id": "ytlLJ_ju0yyr",
        "outputId": "6e8e1202-6726-42c4-c0ff-48d930b8fbe9"
      },
      "execution_count": null,
      "outputs": [
        {
          "output_type": "execute_result",
          "data": {
            "text/plain": [
              "OrderedDict([('weights', tensor([0.6990])), ('bias', tensor([0.3093]))])"
            ]
          },
          "metadata": {},
          "execution_count": 32
        }
      ]
    },
    {
      "cell_type": "code",
      "source": [
        "# Make some predictions with our loaded model\n",
        "loaded_model_0.eval()\n",
        "with torch.inference_mode():\n",
        "  loaded_model_preds = loaded_model_0(X_test)\n",
        "\n",
        "loaded_model_preds"
      ],
      "metadata": {
        "colab": {
          "base_uri": "https://localhost:8080/"
        },
        "id": "PRsF2x6C1ZaR",
        "outputId": "cb86cd52-1366-4f2d-cd56-a084775e03e2"
      },
      "execution_count": null,
      "outputs": [
        {
          "output_type": "execute_result",
          "data": {
            "text/plain": [
              "tensor([[0.8685],\n",
              "        [0.8825],\n",
              "        [0.8965],\n",
              "        [0.9105],\n",
              "        [0.9245],\n",
              "        [0.9384],\n",
              "        [0.9524],\n",
              "        [0.9664],\n",
              "        [0.9804],\n",
              "        [0.9944]])"
            ]
          },
          "metadata": {},
          "execution_count": 33
        }
      ]
    },
    {
      "cell_type": "code",
      "source": [
        "# compare loaded model preds with original model preds\n",
        "y_preds == loaded_model_preds"
      ],
      "metadata": {
        "colab": {
          "base_uri": "https://localhost:8080/"
        },
        "id": "ftte3tY92Fhf",
        "outputId": "ba50db58-dfce-4795-ab65-0c2978a5bee1"
      },
      "execution_count": null,
      "outputs": [
        {
          "output_type": "execute_result",
          "data": {
            "text/plain": [
              "tensor([[False],\n",
              "        [False],\n",
              "        [False],\n",
              "        [False],\n",
              "        [False],\n",
              "        [False],\n",
              "        [False],\n",
              "        [False],\n",
              "        [False],\n",
              "        [False]])"
            ]
          },
          "metadata": {},
          "execution_count": 34
        }
      ]
    },
    {
      "cell_type": "code",
      "source": [
        "# make some model preds\n",
        "model_0.eval()\n",
        "with torch.inference_mode():\n",
        "  y_preds = model_0(X_test)\n",
        "\n",
        "y_preds"
      ],
      "metadata": {
        "colab": {
          "base_uri": "https://localhost:8080/"
        },
        "id": "f116MoNr2PWV",
        "outputId": "87d252be-855e-45dd-9ded-94f771049bec"
      },
      "execution_count": null,
      "outputs": [
        {
          "output_type": "execute_result",
          "data": {
            "text/plain": [
              "tensor([[0.8685],\n",
              "        [0.8825],\n",
              "        [0.8965],\n",
              "        [0.9105],\n",
              "        [0.9245],\n",
              "        [0.9384],\n",
              "        [0.9524],\n",
              "        [0.9664],\n",
              "        [0.9804],\n",
              "        [0.9944]])"
            ]
          },
          "metadata": {},
          "execution_count": 35
        }
      ]
    },
    {
      "cell_type": "markdown",
      "source": [
        "### Putting it all together\n",
        "lets go back through the steps above and see it all in one place"
      ],
      "metadata": {
        "id": "Cs9zHe5a8YoK"
      }
    },
    {
      "cell_type": "code",
      "source": [
        "# create device agnostic code.\n",
        "device = 'cuda' if torch.cuda.is_available() else 'cpu'\n",
        "print(f\"using device: {device}\")"
      ],
      "metadata": {
        "colab": {
          "base_uri": "https://localhost:8080/"
        },
        "id": "XzB7T7Z68xwf",
        "outputId": "989332ff-0fba-41b0-e0f2-fa67cb81f4a2"
      },
      "execution_count": null,
      "outputs": [
        {
          "output_type": "stream",
          "name": "stdout",
          "text": [
            "using device: cuda\n"
          ]
        }
      ]
    },
    {
      "cell_type": "code",
      "source": [
        "# create some data using linear regression formula y = weight * X + bias\n",
        "weight = 0.7\n",
        "bias = 0.3\n",
        "\n",
        "# create range values\n",
        "start = 0\n",
        "end = 1\n",
        "step = 0.02\n",
        "\n",
        "# Create x and y (features and labels)\n",
        "x = torch.arange(start,  end,  step).unsqueeze(dim=1) # without unsqueeze errors with pop up\n",
        "y = weight * x + bias\n",
        "x[:10], y[:10]"
      ],
      "metadata": {
        "colab": {
          "base_uri": "https://localhost:8080/"
        },
        "id": "aSNjdBGl9-gu",
        "outputId": "ed8b4b56-f893-41a9-d839-2ebf8b146c89"
      },
      "execution_count": null,
      "outputs": [
        {
          "output_type": "execute_result",
          "data": {
            "text/plain": [
              "(tensor([[0.0000],\n",
              "         [0.0200],\n",
              "         [0.0400],\n",
              "         [0.0600],\n",
              "         [0.0800],\n",
              "         [0.1000],\n",
              "         [0.1200],\n",
              "         [0.1400],\n",
              "         [0.1600],\n",
              "         [0.1800]]),\n",
              " tensor([[0.3000],\n",
              "         [0.3140],\n",
              "         [0.3280],\n",
              "         [0.3420],\n",
              "         [0.3560],\n",
              "         [0.3700],\n",
              "         [0.3840],\n",
              "         [0.3980],\n",
              "         [0.4120],\n",
              "         [0.4260]]))"
            ]
          },
          "metadata": {},
          "execution_count": 37
        }
      ]
    },
    {
      "cell_type": "code",
      "source": [
        "# split data\n",
        "train_split = int(0.8 * len(x))\n",
        "x_train, y_train = x[:train_split], y[:train_split]\n",
        "x_test, y_test = x[train_split:], y[train_split:]\n",
        "\n",
        "len(x_train), len(y_train), len(x_test), len(y_test)"
      ],
      "metadata": {
        "colab": {
          "base_uri": "https://localhost:8080/"
        },
        "id": "PNs1VQeP_TF5",
        "outputId": "05068ecf-b717-4430-f2e4-dbf6fa95abd0"
      },
      "execution_count": null,
      "outputs": [
        {
          "output_type": "execute_result",
          "data": {
            "text/plain": [
              "(40, 40, 10, 10)"
            ]
          },
          "metadata": {},
          "execution_count": 38
        }
      ]
    },
    {
      "cell_type": "code",
      "source": [
        "# plot the data\n",
        "plot_predictions(x_train, y_train, x_test, y_test)"
      ],
      "metadata": {
        "colab": {
          "base_uri": "https://localhost:8080/",
          "height": 599
        },
        "id": "-uTNJhMgAV3f",
        "outputId": "9b4f1c50-2e98-4942-d3b0-d619eb2576ae"
      },
      "execution_count": null,
      "outputs": [
        {
          "output_type": "display_data",
          "data": {
            "text/plain": [
              "<Figure size 1000x700 with 1 Axes>"
            ],
            "image/png": "[encoded data removed]"
          },
          "metadata": {}
        }
      ]
    },
    {
      "cell_type": "markdown",
      "source": [
        "### building a linear model create a linear model by subclassing nn.module"
      ],
      "metadata": {
        "id": "JBA-ttxFC5CQ"
      }
    },
    {
      "cell_type": "code",
      "source": [
        "### building a linear model\n",
        "# create a linear model by subclassing nn.module\n",
        "class LinearRegressionModelV2(nn.Module):\n",
        "  def __init__(self):\n",
        "    super().__init__()\n",
        "    # use nn.Linear() for creating the model parameters\n",
        "    self.linear_layer = nn.Linear(in_features=1, # so take in one feature 'x' and output one feature 'y'\n",
        "                                  out_features=1)\n",
        "\n",
        "  def forward(self, x: torch.Tensor) -> torch.Tensor:\n",
        "    return self.linear_layer(x)\n",
        "\n",
        "# set the manual seed\n",
        "torch.manual_seed(42)\n",
        "model_1 = LinearRegressionModelV2()\n",
        "model_1,  model_1.state_dict()"
      ],
      "metadata": {
        "colab": {
          "base_uri": "https://localhost:8080/"
        },
        "id": "0germ7-vBK7t",
        "outputId": "adb59a31-a6c8-4928-8816-8998e7f7e275"
      },
      "execution_count": null,
      "outputs": [
        {
          "output_type": "execute_result",
          "data": {
            "text/plain": [
              "(LinearRegressionModelV2(\n",
              "   (linear_layer): Linear(in_features=1, out_features=1, bias=True)\n",
              " ),\n",
              " OrderedDict([('linear_layer.weight', tensor([[0.7645]])),\n",
              "              ('linear_layer.bias', tensor([0.8300]))]))"
            ]
          },
          "metadata": {},
          "execution_count": 40
        }
      ]
    },
    {
      "cell_type": "code",
      "source": [
        "# check the models current device\n",
        "next(model_1.parameters()).device"
      ],
      "metadata": {
        "colab": {
          "base_uri": "https://localhost:8080/"
        },
        "id": "JvNJyBfmEF1V",
        "outputId": "3460df95-d1e5-4dbb-f6c9-33bcdc42e0d0"
      },
      "execution_count": null,
      "outputs": [
        {
          "output_type": "execute_result",
          "data": {
            "text/plain": [
              "device(type='cpu')"
            ]
          },
          "metadata": {},
          "execution_count": 41
        }
      ]
    },
    {
      "cell_type": "code",
      "source": [
        "# set the model to use the target device\n",
        "model_1.to(device)\n",
        "next(model_1.parameters()).device"
      ],
      "metadata": {
        "colab": {
          "base_uri": "https://localhost:8080/"
        },
        "id": "JCNpwhf4FOYf",
        "outputId": "953cb092-a873-4afe-9999-a3d5e90b71e3"
      },
      "execution_count": null,
      "outputs": [
        {
          "output_type": "execute_result",
          "data": {
            "text/plain": [
              "device(type='cuda', index=0)"
            ]
          },
          "metadata": {},
          "execution_count": 42
        }
      ]
    },
    {
      "cell_type": "markdown",
      "source": [
        "### Training\n",
        "\n",
        "For training we need:\n",
        "* loss function\n",
        "* optimizer\n",
        "* training loop\n",
        "* testing loop\n"
      ],
      "metadata": {
        "id": "8-ZXCtE9Fe3O"
      }
    },
    {
      "cell_type": "code",
      "source": [
        "# set up the loss function\n",
        "loss_fn = nn.L1Loss() # same as MAE\n",
        "\n",
        "# set up the optimizer\n",
        "optimizer = torch.optim.SGD(params=model_1.parameters(), # these are the parameters we want our model to optimize\n",
        "                            lr=0.01)"
      ],
      "metadata": {
        "id": "tCjyNtlZFnwb"
      },
      "execution_count": null,
      "outputs": []
    },
    {
      "cell_type": "code",
      "source": [
        "# lets write a training loop\n",
        "torch.manual_seed(42)\n",
        "\n",
        "epochs = 200\n",
        "\n",
        "# device agnostic code for data (put data on the target device)\n",
        "x_train = x_train.to(device)\n",
        "y_train = y_train.to(device)\n",
        "x_test = x_test.to(device)\n",
        "y_test = y_test.to(device)\n",
        "\n",
        "for epoch in range(epochs):\n",
        "  model_1.train()\n",
        "\n",
        "  # 1. forward pass\n",
        "  y_pred = model_1(x_train)\n",
        "\n",
        "  # calculate the loss\n",
        "  loss = loss_fn(y_pred, y_train)\n",
        "\n",
        "  # 3. optimizer zero grad\n",
        "  optimizer.zero_grad()\n",
        "\n",
        "  # 4. perform backpropagation\n",
        "  loss.backward()\n",
        "\n",
        "  # 5. optimizer step\n",
        "  optimizer.step()\n",
        "\n",
        "  ### Testing\n",
        "  model_1.eval()\n",
        "  with torch.inference_mode():\n",
        "    test_pred = model_1(x_test)\n",
        "\n",
        "    test_loss = loss_fn(test_pred, y_test)\n",
        "\n",
        "  # print out whats happening\n",
        "  if epoch % 10 == 0:\n",
        "    print(f\"epoch: {epoch} | Loss: {loss} | test_loss: {test_loss}\")"
      ],
      "metadata": {
        "colab": {
          "base_uri": "https://localhost:8080/"
        },
        "id": "2XU5YSX8Gm0v",
        "outputId": "42213521-848f-4b03-9e70-7f580d14ea86"
      },
      "execution_count": null,
      "outputs": [
        {
          "output_type": "stream",
          "name": "stdout",
          "text": [
            "epoch: 0 | Loss: 0.5551779866218567 | test_loss: 0.5739762187004089\n",
            "epoch: 10 | Loss: 0.439968079328537 | test_loss: 0.4392664134502411\n",
            "epoch: 20 | Loss: 0.3247582018375397 | test_loss: 0.30455657839775085\n",
            "epoch: 30 | Loss: 0.20954833924770355 | test_loss: 0.16984669864177704\n",
            "epoch: 40 | Loss: 0.09433845430612564 | test_loss: 0.03513690456748009\n",
            "epoch: 50 | Loss: 0.023886388167738914 | test_loss: 0.04784907028079033\n",
            "epoch: 60 | Loss: 0.019956795498728752 | test_loss: 0.045803118497133255\n",
            "epoch: 70 | Loss: 0.016517987474799156 | test_loss: 0.037530567497015\n",
            "epoch: 80 | Loss: 0.013089174404740334 | test_loss: 0.02994490973651409\n",
            "epoch: 90 | Loss: 0.009653178043663502 | test_loss: 0.02167237363755703\n",
            "epoch: 100 | Loss: 0.006215683650225401 | test_loss: 0.014086711220443249\n",
            "epoch: 110 | Loss: 0.00278724217787385 | test_loss: 0.005814164876937866\n",
            "epoch: 120 | Loss: 0.0012645035749301314 | test_loss: 0.013801801018416882\n",
            "epoch: 130 | Loss: 0.0012645035749301314 | test_loss: 0.013801801018416882\n",
            "epoch: 140 | Loss: 0.0012645035749301314 | test_loss: 0.013801801018416882\n",
            "epoch: 150 | Loss: 0.0012645035749301314 | test_loss: 0.013801801018416882\n",
            "epoch: 160 | Loss: 0.0012645035749301314 | test_loss: 0.013801801018416882\n",
            "epoch: 170 | Loss: 0.0012645035749301314 | test_loss: 0.013801801018416882\n",
            "epoch: 180 | Loss: 0.0012645035749301314 | test_loss: 0.013801801018416882\n",
            "epoch: 190 | Loss: 0.0012645035749301314 | test_loss: 0.013801801018416882\n"
          ]
        }
      ]
    },
    {
      "cell_type": "code",
      "source": [
        "model_1.state_dict()"
      ],
      "metadata": {
        "colab": {
          "base_uri": "https://localhost:8080/"
        },
        "id": "vyHWaIEEIoTc",
        "outputId": "4df54ed0-08f6-4be7-c0c3-deb79b91d793"
      },
      "execution_count": null,
      "outputs": [
        {
          "output_type": "execute_result",
          "data": {
            "text/plain": [
              "OrderedDict([('linear_layer.weight', tensor([[0.6968]], device='cuda:0')),\n",
              "             ('linear_layer.bias', tensor([0.3025], device='cuda:0'))])"
            ]
          },
          "metadata": {},
          "execution_count": 45
        }
      ]
    },
    {
      "cell_type": "markdown",
      "source": [
        "### Making and evaluating predictions"
      ],
      "metadata": {
        "id": "3zW_IMwgJ2YX"
      }
    },
    {
      "cell_type": "code",
      "source": [
        "# turn model into evaluation mode\n",
        "model_1.eval()\n",
        "\n",
        "# Make predictions on the test data\n",
        "with torch.inference_mode():\n",
        "  y_preds = model_1(x_test)\n",
        "\n",
        "y_preds"
      ],
      "metadata": {
        "colab": {
          "base_uri": "https://localhost:8080/"
        },
        "id": "jrbdvSbWKn5V",
        "outputId": "e617f238-0add-4df2-93c4-d7e39b37bde2"
      },
      "execution_count": null,
      "outputs": [
        {
          "output_type": "execute_result",
          "data": {
            "text/plain": [
              "tensor([[0.8600],\n",
              "        [0.8739],\n",
              "        [0.8878],\n",
              "        [0.9018],\n",
              "        [0.9157],\n",
              "        [0.9296],\n",
              "        [0.9436],\n",
              "        [0.9575],\n",
              "        [0.9714],\n",
              "        [0.9854]], device='cuda:0')"
            ]
          },
          "metadata": {},
          "execution_count": 46
        }
      ]
    },
    {
      "cell_type": "code",
      "source": [
        "plot_predictions(predictions=y_preds.cpu())"
      ],
      "metadata": {
        "colab": {
          "base_uri": "https://localhost:8080/",
          "height": 599
        },
        "id": "S6pHvlKpK_xR",
        "outputId": "25c07171-6ee8-428b-e926-76373f31d7d7"
      },
      "execution_count": null,
      "outputs": [
        {
          "output_type": "display_data",
          "data": {
            "text/plain": [
              "<Figure size 1000x700 with 1 Axes>"
            ],
            "image/png": "[encoded data removed]"
          },
          "metadata": {}
        }
      ]
    },
    {
      "cell_type": "markdown",
      "source": [
        "### saving and loading a trained model"
      ],
      "metadata": {
        "id": "cIOPKVgsLOUX"
      }
    },
    {
      "cell_type": "code",
      "source": [
        "from pathlib import Path\n",
        "\n",
        "# create model directory\n",
        "MODEL_PATH = Path(\"models\")\n",
        "MODEL_PATH.mkdir(parents=True, exist_ok=True)\n",
        "\n",
        "# create a model save path\n",
        "MODEL_NAME = \"01_pytorch_workflow_model_1.pth\"\n",
        "MODEL_SAVE_PATH = MODEL_PATH / MODEL_NAME\n",
        "\n",
        "# save the model state dict\n",
        "print(f\"saving model to: {MODEL_SAVE_PATH}\")\n",
        "torch.save(obj=model_1.state_dict(),\n",
        "           f=MODEL_SAVE_PATH)"
      ],
      "metadata": {
        "colab": {
          "base_uri": "https://localhost:8080/"
        },
        "id": "awQHgkZ39eK5",
        "outputId": "dffc6871-589d-4cf3-c86f-6a6c0582a3b7"
      },
      "execution_count": null,
      "outputs": [
        {
          "output_type": "stream",
          "name": "stdout",
          "text": [
            "saving model to: models/01_pytorch_workflow_model_1.pth\n"
          ]
        }
      ]
    },
    {
      "cell_type": "code",
      "source": [
        "# load a pytorch model\n",
        "\n",
        "# create a new instance of linear regression model v2\n",
        "loaded_model_1 = LinearRegressionModelV2()\n",
        "\n",
        "# Load and saved model_1 state_dict\n",
        "loaded_model_1.load_state_dict(torch.load(MODEL_SAVE_PATH))\n",
        "\n",
        "# put the loaded model to device\n",
        "loaded_model_1.to(device)"
      ],
      "metadata": {
        "colab": {
          "base_uri": "https://localhost:8080/"
        },
        "id": "JGZP8LY7VHCk",
        "outputId": "da5ab4c5-6d31-47ff-f47a-0020b29dd911"
      },
      "execution_count": null,
      "outputs": [
        {
          "output_type": "execute_result",
          "data": {
            "text/plain": [
              "LinearRegressionModelV2(\n",
              "  (linear_layer): Linear(in_features=1, out_features=1, bias=True)\n",
              ")"
            ]
          },
          "metadata": {},
          "execution_count": 51
        }
      ]
    },
    {
      "cell_type": "code",
      "source": [
        "next(loaded_model_1.parameters()).device"
      ],
      "metadata": {
        "colab": {
          "base_uri": "https://localhost:8080/"
        },
        "id": "xZt9H8HxWP69",
        "outputId": "769c8971-ef91-45ad-ca24-de9b5f08e3ae"
      },
      "execution_count": null,
      "outputs": [
        {
          "output_type": "execute_result",
          "data": {
            "text/plain": [
              "device(type='cuda', index=0)"
            ]
          },
          "metadata": {},
          "execution_count": 52
        }
      ]
    },
    {
      "cell_type": "code",
      "source": [
        "loaded_model_1.state_dict()"
      ],
      "metadata": {
        "colab": {
          "base_uri": "https://localhost:8080/"
        },
        "id": "3gf0KGFdWZwe",
        "outputId": "bafdb2d7-e005-4385-9dae-18aba1e5e5ff"
      },
      "execution_count": null,
      "outputs": [
        {
          "output_type": "execute_result",
          "data": {
            "text/plain": [
              "OrderedDict([('linear_layer.weight', tensor([[0.6968]], device='cuda:0')),\n",
              "             ('linear_layer.bias', tensor([0.3025], device='cuda:0'))])"
            ]
          },
          "metadata": {},
          "execution_count": 53
        }
      ]
    },
    {
      "cell_type": "code",
      "source": [
        "# evaluate the loaded model\n",
        "loaded_model_1.eval()\n",
        "with torch.inference_mode():\n",
        "  X_test = X_test.to(device)\n",
        "  loaded_model_1_preds = loaded_model_1(X_test)\n",
        "y_preds == loaded_model_1_preds"
      ],
      "metadata": {
        "colab": {
          "base_uri": "https://localhost:8080/"
        },
        "id": "TL5dOJl5Wc4y",
        "outputId": "ba5205de-d71c-46ed-fc13-44821463d0b3"
      },
      "execution_count": null,
      "outputs": [
        {
          "output_type": "execute_result",
          "data": {
            "text/plain": [
              "tensor([[True],\n",
              "        [True],\n",
              "        [True],\n",
              "        [True],\n",
              "        [True],\n",
              "        [True],\n",
              "        [True],\n",
              "        [True],\n",
              "        [True],\n",
              "        [True]], device='cuda:0')"
            ]
          },
          "metadata": {},
          "execution_count": 65
        }
      ]
    },
    {
      "cell_type": "code",
      "source": [
        "y_preds.device"
      ],
      "metadata": {
        "colab": {
          "base_uri": "https://localhost:8080/"
        },
        "id": "cvYVgqdmWx_O",
        "outputId": "cc1158be-6607-42a1-8d5c-c5ee966ddfa4"
      },
      "execution_count": null,
      "outputs": [
        {
          "output_type": "execute_result",
          "data": {
            "text/plain": [
              "device(type='cuda', index=0)"
            ]
          },
          "metadata": {},
          "execution_count": 57
        }
      ]
    },
    {
      "cell_type": "markdown",
      "source": [
        "### exercises and extra curriculum"
      ],
      "metadata": {
        "id": "U-VMtN8KXzfY"
      }
    },
    {
      "cell_type": "code",
      "source": [
        "# data parameters\n",
        "weight = 0.3\n",
        "bias = 0.9\n",
        "\n",
        "# create\n",
        "start = 0\n",
        "end = 1\n",
        "step = 0.01\n",
        "\n",
        "X = torch.arange(start, end, step).unsqueeze(dim=1)\n",
        "y = weight * X + bias\n",
        "\n",
        "len(X), len(y)\n"
      ],
      "metadata": {
        "colab": {
          "base_uri": "https://localhost:8080/"
        },
        "id": "MrjQxWQcj7jh",
        "outputId": "3ca0b716-fb5e-49b9-f12c-b419c0d480b2"
      },
      "execution_count": null,
      "outputs": [
        {
          "output_type": "execute_result",
          "data": {
            "text/plain": [
              "(100, 100)"
            ]
          },
          "metadata": {},
          "execution_count": 2
        }
      ]
    },
    {
      "cell_type": "code",
      "source": [
        "# splitting the data into training and test splits\n",
        "train_split = int(0.8 * len(X))\n",
        "X_train, y_train = X[:train_split], y[:train_split]\n",
        "X_test, y_test = X[train_split:], y[train_split:]\n",
        "\n",
        "len(X_train), len(y_train), len(X_test), len(y_test)"
      ],
      "metadata": {
        "colab": {
          "base_uri": "https://localhost:8080/"
        },
        "id": "VoVYnhz6mcJj",
        "outputId": "e7094087-8b89-40f5-e52b-0b35aadd5497"
      },
      "execution_count": null,
      "outputs": [
        {
          "output_type": "execute_result",
          "data": {
            "text/plain": [
              "(80, 80, 20, 20)"
            ]
          },
          "metadata": {},
          "execution_count": 3
        }
      ]
    },
    {
      "cell_type": "code",
      "source": [
        "def plot_predictions(train_data = X_train,\n",
        "                     train_labels = y_train,\n",
        "                     test_data = X_test,\n",
        "                     test_labels = y_test,\n",
        "                     predictions = None):\n",
        "  \"\"\"\n",
        "  plots training data, test data and compares predictions.\n",
        "  \"\"\"\n",
        "  plt.figure(figsize=(10, 7))\n",
        "\n",
        "  # Plot training data in blue\n",
        "  plt.scatter(train_data, train_labels, c='b', s=4, label='Training Data')\n",
        "\n",
        "  # plot testing data in green\n",
        "  plt.scatter(test_data, test_labels, c='orange', s=4, label='Testing Data')\n",
        "\n",
        "  # Are there predictions?\n",
        "  if predictions is not None:\n",
        "    # plot the predictions if they exist\n",
        "    plt.scatter(test_data, predictions, c='r', s=4, label='Predictions')\n",
        "\n",
        "  # show the legend\n",
        "  plt.legend(prop={\"size\": 14});"
      ],
      "metadata": {
        "id": "TMXbOsCOoBOv"
      },
      "execution_count": null,
      "outputs": []
    },
    {
      "cell_type": "code",
      "source": [
        "plot_predictions(X_train, y_train, X_test, y_test)"
      ],
      "metadata": {
        "colab": {
          "base_uri": "https://localhost:8080/",
          "height": 599
        },
        "id": "eLrS0Q6PoY40",
        "outputId": "55582c5f-c79b-44a2-d2ca-864678758040"
      },
      "execution_count": null,
      "outputs": [
        {
          "output_type": "display_data",
          "data": {
            "text/plain": [
              "<Figure size 1000x700 with 1 Axes>"
            ],
            "image/png": "[encoded data removed]"
          },
          "metadata": {}
        }
      ]
    },
    {
      "cell_type": "markdown",
      "source": [
        "### building model practice"
      ],
      "metadata": {
        "id": "j51YbC0iqq-o"
      }
    },
    {
      "cell_type": "code",
      "source": [
        "class LinearRegressionModelV3(nn.Module):\n",
        "  def __init__(self):\n",
        "    super().__init__()\n",
        "    self.linear_layer = nn.Linear(in_features=1,\n",
        "                                  out_features=1)\n",
        "  def forward(self, x: torch.Tensor) -> torch.Tensor:\n",
        "    return self.linear_layer(x)\n"
      ],
      "metadata": {
        "id": "p8KAyO1Ko0Zr"
      },
      "execution_count": null,
      "outputs": []
    },
    {
      "cell_type": "code",
      "source": [
        "# setting the manual seed\n",
        "torch.manual_seed(42)\n",
        "model_2 = LinearRegressionModelV3()\n",
        "model_2, model_2.state_dict()"
      ],
      "metadata": {
        "colab": {
          "base_uri": "https://localhost:8080/"
        },
        "id": "4wk3ncAosGbF",
        "outputId": "b745f3a8-e1c5-4347-bdb3-c30116bf7ea0"
      },
      "execution_count": null,
      "outputs": [
        {
          "output_type": "execute_result",
          "data": {
            "text/plain": [
              "(LinearRegressionModelV3(\n",
              "   (linear_layer): Linear(in_features=1, out_features=1, bias=True)\n",
              " ),\n",
              " OrderedDict([('linear_layer.weight', tensor([[0.7645]])),\n",
              "              ('linear_layer.bias', tensor([0.8300]))]))"
            ]
          },
          "metadata": {},
          "execution_count": 7
        }
      ]
    },
    {
      "cell_type": "code",
      "source": [
        "next(model_2.parameters()).device"
      ],
      "metadata": {
        "colab": {
          "base_uri": "https://localhost:8080/"
        },
        "id": "0gE6LfAesaNZ",
        "outputId": "70fe9fb0-e8a7-4208-98d3-a8f45b362ae0"
      },
      "execution_count": null,
      "outputs": [
        {
          "output_type": "execute_result",
          "data": {
            "text/plain": [
              "device(type='cpu')"
            ]
          },
          "metadata": {},
          "execution_count": 8
        }
      ]
    },
    {
      "cell_type": "code",
      "source": [
        "device = 'cuda' if torch.cuda.is_available() else 'cpu'"
      ],
      "metadata": {
        "id": "q1lvej_gs-rs"
      },
      "execution_count": null,
      "outputs": []
    },
    {
      "cell_type": "code",
      "source": [
        "model_2.to(device)\n",
        "next(model_2.parameters()).device"
      ],
      "metadata": {
        "colab": {
          "base_uri": "https://localhost:8080/"
        },
        "id": "d6VxdziXtZYI",
        "outputId": "39af50f0-25ad-49bd-f40d-6a3d12b31dbf"
      },
      "execution_count": null,
      "outputs": [
        {
          "output_type": "execute_result",
          "data": {
            "text/plain": [
              "device(type='cuda', index=0)"
            ]
          },
          "metadata": {},
          "execution_count": 10
        }
      ]
    },
    {
      "cell_type": "markdown",
      "source": [
        "### model training practice\n",
        "For training we need:\n",
        "* loss function\n",
        "* optimizer\n",
        "* training loop\n",
        "* testing loop"
      ],
      "metadata": {
        "id": "XZ0aDJTGtvbb"
      }
    },
    {
      "cell_type": "code",
      "source": [
        "torch.manual_seed(42)\n",
        "\n",
        "# set up the loss function\n",
        "loss_fn = nn.L1Loss()\n",
        "\n",
        "# set up the optimizer\n",
        "optimizer = torch.optim.SGD(params=model_2.parameters(),\n",
        "                            lr=0.01)\n",
        "\n",
        "# lets a write training loop\n",
        "epochs = 400\n",
        "\n",
        "# device agnostic code\n",
        "X_train = X_train.to(device)\n",
        "X_test = X_test.to(device)\n",
        "y_train = y_train.to(device)\n",
        "y_test = y_test.to(device)\n",
        "\n",
        "# loop\n",
        "for epoch in range(epochs):\n",
        "  model_2.train()\n",
        "\n",
        "  # 1. forward pass\n",
        "  y_pred = model_2(X_train)\n",
        "\n",
        "  # 2. loss function\n",
        "  loss = loss_fn(y_pred, y_train)\n",
        "\n",
        "  # 3. zero gradient\n",
        "  optimizer.zero_grad()\n",
        "\n",
        "  # 4. backpropagation\n",
        "  loss.backward()\n",
        "\n",
        "  # 5. optimizer step\n",
        "  optimizer.step()\n",
        "\n",
        "  ### Testing\n",
        "  model_2.eval()\n",
        "  with torch.inference_mode():\n",
        "    test_pred = model_2(X_test)\n",
        "    test_loss = loss_fn(test_pred, y_test)\n",
        "\n",
        "  # print whats happening\n",
        "  if epoch % 20 == 0:\n",
        "    print(f\"epoch: {epoch} | loss {loss} | test loss {test_loss}\")\n",
        "\n"
      ],
      "metadata": {
        "colab": {
          "base_uri": "https://localhost:8080/"
        },
        "id": "BPX8NUalSXCf",
        "outputId": "00a04983-ac5e-4b5b-f06b-26335be739e5"
      },
      "execution_count": null,
      "outputs": [
        {
          "output_type": "stream",
          "name": "stdout",
          "text": [
            "epoch: 0 | loss 0.007878492586314678 | test loss 0.007064235396683216\n",
            "epoch: 20 | loss 0.007878492586314678 | test loss 0.007064235396683216\n",
            "epoch: 40 | loss 0.007878492586314678 | test loss 0.007064235396683216\n",
            "epoch: 60 | loss 0.007878492586314678 | test loss 0.007064235396683216\n",
            "epoch: 80 | loss 0.007878492586314678 | test loss 0.007064235396683216\n",
            "epoch: 100 | loss 0.007878492586314678 | test loss 0.007064235396683216\n",
            "epoch: 120 | loss 0.007878492586314678 | test loss 0.007064235396683216\n",
            "epoch: 140 | loss 0.007878492586314678 | test loss 0.007064235396683216\n",
            "epoch: 160 | loss 0.007878492586314678 | test loss 0.007064235396683216\n",
            "epoch: 180 | loss 0.007878492586314678 | test loss 0.007064235396683216\n",
            "epoch: 200 | loss 0.007878492586314678 | test loss 0.007064235396683216\n",
            "epoch: 220 | loss 0.007878492586314678 | test loss 0.007064235396683216\n",
            "epoch: 240 | loss 0.007878492586314678 | test loss 0.007064235396683216\n",
            "epoch: 260 | loss 0.007878492586314678 | test loss 0.007064235396683216\n",
            "epoch: 280 | loss 0.007878492586314678 | test loss 0.007064235396683216\n",
            "epoch: 300 | loss 0.007878492586314678 | test loss 0.007064235396683216\n",
            "epoch: 320 | loss 0.007878492586314678 | test loss 0.007064235396683216\n",
            "epoch: 340 | loss 0.007878492586314678 | test loss 0.007064235396683216\n",
            "epoch: 360 | loss 0.007878492586314678 | test loss 0.007064235396683216\n",
            "epoch: 380 | loss 0.007878492586314678 | test loss 0.007064235396683216\n"
          ]
        }
      ]
    },
    {
      "cell_type": "markdown",
      "source": [
        "### evaluating the model practice"
      ],
      "metadata": {
        "id": "jEtexAxTa_Yw"
      }
    },
    {
      "cell_type": "code",
      "source": [
        "# evaluating the model\n",
        "model_2.eval()\n",
        "\n",
        "with torch.inference_mode():\n",
        "  y_preds = model_2(X_test)\n",
        "\n",
        "y_preds"
      ],
      "metadata": {
        "colab": {
          "base_uri": "https://localhost:8080/"
        },
        "id": "N_YGwkPrb-l1",
        "outputId": "76bfec19-dde6-4069-f3c4-e1b4b4e2ef5b"
      },
      "execution_count": null,
      "outputs": [
        {
          "output_type": "execute_result",
          "data": {
            "text/plain": [
              "tensor([[1.1333],\n",
              "        [1.1363],\n",
              "        [1.1393],\n",
              "        [1.1423],\n",
              "        [1.1454],\n",
              "        [1.1484],\n",
              "        [1.1514],\n",
              "        [1.1545],\n",
              "        [1.1575],\n",
              "        [1.1605],\n",
              "        [1.1635],\n",
              "        [1.1666],\n",
              "        [1.1696],\n",
              "        [1.1726],\n",
              "        [1.1757],\n",
              "        [1.1787],\n",
              "        [1.1817],\n",
              "        [1.1847],\n",
              "        [1.1878],\n",
              "        [1.1908]], device='cuda:0')"
            ]
          },
          "metadata": {},
          "execution_count": 23
        }
      ]
    },
    {
      "cell_type": "code",
      "source": [
        "plot_predictions(predictions=y_preds.cpu())"
      ],
      "metadata": {
        "colab": {
          "base_uri": "https://localhost:8080/",
          "height": 599
        },
        "id": "1zslywEXcTfi",
        "outputId": "9500a634-0614-4c4f-b3a1-c5767c7b585f"
      },
      "execution_count": null,
      "outputs": [
        {
          "output_type": "display_data",
          "data": {
            "text/plain": [
              "<Figure size 1000x700 with 1 Axes>"
            ],
            "image/png": "[encoded data removed]"
          },
          "metadata": {}
        }
      ]
    },
    {
      "cell_type": "markdown",
      "source": [
        "### saving the model practice"
      ],
      "metadata": {
        "id": "_DOvBbwfc9_x"
      }
    },
    {
      "cell_type": "code",
      "source": [
        "from pathlib import Path\n",
        "\n",
        "MODEL_PATH = Path(\"models\")\n",
        "MODEL_PATH.mkdir(parents=True, exist_ok=True)\n",
        "\n",
        "MODEL_NAME = \"01_pytorch_workflow_model_2.pth\"\n",
        "MODEL_SAVE_PATH = MODEL_PATH / MODEL_NAME\n",
        "\n",
        "print(f\"saving model to: {MODEL_SAVE_PATH}\")\n",
        "torch.save(obj=model_2.state_dict(),\n",
        "           f=MODEL_SAVE_PATH)\n",
        "\n"
      ],
      "metadata": {
        "colab": {
          "base_uri": "https://localhost:8080/"
        },
        "id": "pMLhx16dgNLj",
        "outputId": "a6b83b0f-534d-4078-ad60-9fe03d9bfc18"
      },
      "execution_count": null,
      "outputs": [
        {
          "output_type": "stream",
          "name": "stdout",
          "text": [
            "saving model to: models/01_pytorch_workflow_model_2.pth\n"
          ]
        }
      ]
    },
    {
      "cell_type": "code",
      "source": [
        "loaded_model_2 = LinearRegressionModelV3()\n",
        "\n",
        "loaded_model_2.load_state_dict(torch.load(MODEL_SAVE_PATH))\n",
        "\n",
        "loaded_model_2.to(device)"
      ],
      "metadata": {
        "colab": {
          "base_uri": "https://localhost:8080/"
        },
        "id": "N6iAj0a9iBSp",
        "outputId": "3b4013e2-cb2c-4d72-eed1-de22f8aa51ef"
      },
      "execution_count": null,
      "outputs": [
        {
          "output_type": "execute_result",
          "data": {
            "text/plain": [
              "LinearRegressionModelV3(\n",
              "  (linear_layer): Linear(in_features=1, out_features=1, bias=True)\n",
              ")"
            ]
          },
          "metadata": {},
          "execution_count": 29
        }
      ]
    },
    {
      "cell_type": "code",
      "source": [],
      "metadata": {
        "id": "MnERJfFgnNd6"
      },
      "execution_count": null,
      "outputs": []
    }
  ]
}