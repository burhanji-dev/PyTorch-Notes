{
  "nbformat": 4,
  "nbformat_minor": 0,
  "metadata": {
    "colab": {
      "provenance": [],
      "gpuType": "T4",
      "toc_visible": true
    },
    "kernelspec": {
      "name": "python3",
      "display_name": "Python 3"
    },
    "language_info": {
      "name": "python"
    },
    "accelerator": "GPU",
    "widgets": {
      "application/vnd.jupyter.widget-state+json": {
        "6dbaa7924afe40fca31f43a27ec9fad6": {
          "model_module": "@jupyter-widgets/controls",
          "model_name": "HBoxModel",
          "model_module_version": "1.5.0",
          "state": {
            "_dom_classes": [],
            "_model_module": "@jupyter-widgets/controls",
            "_model_module_version": "1.5.0",
            "_model_name": "HBoxModel",
            "_view_count": null,
            "_view_module": "@jupyter-widgets/controls",
            "_view_module_version": "1.5.0",
            "_view_name": "HBoxView",
            "box_style": "",
            "children": [
              "IPY_MODEL_049db5763ca649bc976f3817756d854e",
              "IPY_MODEL_db8cb6d40f26450191c8fc4d7f9b793d",
              "IPY_MODEL_9845c601c5c244619889858f535a8f73"
            ],
            "layout": "IPY_MODEL_fcbcff8ba71442c49c739f058a2ec0b6"
          }
        },
        "049db5763ca649bc976f3817756d854e": {
          "model_module": "@jupyter-widgets/controls",
          "model_name": "HTMLModel",
          "model_module_version": "1.5.0",
          "state": {
            "_dom_classes": [],
            "_model_module": "@jupyter-widgets/controls",
            "_model_module_version": "1.5.0",
            "_model_name": "HTMLModel",
            "_view_count": null,
            "_view_module": "@jupyter-widgets/controls",
            "_view_module_version": "1.5.0",
            "_view_name": "HTMLView",
            "description": "",
            "description_tooltip": null,
            "layout": "IPY_MODEL_3bcf7141c262486badee2beb774b05b4",
            "placeholder": "​",
            "style": "IPY_MODEL_fc9fcd2d9c4248f38d339e1878c64942",
            "value": "100%"
          }
        },
        "db8cb6d40f26450191c8fc4d7f9b793d": {
          "model_module": "@jupyter-widgets/controls",
          "model_name": "FloatProgressModel",
          "model_module_version": "1.5.0",
          "state": {
            "_dom_classes": [],
            "_model_module": "@jupyter-widgets/controls",
            "_model_module_version": "1.5.0",
            "_model_name": "FloatProgressModel",
            "_view_count": null,
            "_view_module": "@jupyter-widgets/controls",
            "_view_module_version": "1.5.0",
            "_view_name": "ProgressView",
            "bar_style": "success",
            "description": "",
            "description_tooltip": null,
            "layout": "IPY_MODEL_87c8ccae27e84479894eec52b4b9cb7f",
            "max": 3,
            "min": 0,
            "orientation": "horizontal",
            "style": "IPY_MODEL_fc065fa84f8c4277afc6721974a42295",
            "value": 3
          }
        },
        "9845c601c5c244619889858f535a8f73": {
          "model_module": "@jupyter-widgets/controls",
          "model_name": "HTMLModel",
          "model_module_version": "1.5.0",
          "state": {
            "_dom_classes": [],
            "_model_module": "@jupyter-widgets/controls",
            "_model_module_version": "1.5.0",
            "_model_name": "HTMLModel",
            "_view_count": null,
            "_view_module": "@jupyter-widgets/controls",
            "_view_module_version": "1.5.0",
            "_view_name": "HTMLView",
            "description": "",
            "description_tooltip": null,
            "layout": "IPY_MODEL_585c1c0814d14f9fa84d552f8a5ecc94",
            "placeholder": "​",
            "style": "IPY_MODEL_cb2e2613fb484d2d8fe1a139925ee97b",
            "value": " 3/3 [00:28&lt;00:00,  9.56s/it]"
          }
        },
        "fcbcff8ba71442c49c739f058a2ec0b6": {
          "model_module": "@jupyter-widgets/base",
          "model_name": "LayoutModel",
          "model_module_version": "1.2.0",
          "state": {
            "_model_module": "@jupyter-widgets/base",
            "_model_module_version": "1.2.0",
            "_model_name": "LayoutModel",
            "_view_count": null,
            "_view_module": "@jupyter-widgets/base",
            "_view_module_version": "1.2.0",
            "_view_name": "LayoutView",
            "align_content": null,
            "align_items": null,
            "align_self": null,
            "border": null,
            "bottom": null,
            "display": null,
            "flex": null,
            "flex_flow": null,
            "grid_area": null,
            "grid_auto_columns": null,
            "grid_auto_flow": null,
            "grid_auto_rows": null,
            "grid_column": null,
            "grid_gap": null,
            "grid_row": null,
            "grid_template_areas": null,
            "grid_template_columns": null,
            "grid_template_rows": null,
            "height": null,
            "justify_content": null,
            "justify_items": null,
            "left": null,
            "margin": null,
            "max_height": null,
            "max_width": null,
            "min_height": null,
            "min_width": null,
            "object_fit": null,
            "object_position": null,
            "order": null,
            "overflow": null,
            "overflow_x": null,
            "overflow_y": null,
            "padding": null,
            "right": null,
            "top": null,
            "visibility": null,
            "width": null
          }
        },
        "3bcf7141c262486badee2beb774b05b4": {
          "model_module": "@jupyter-widgets/base",
          "model_name": "LayoutModel",
          "model_module_version": "1.2.0",
          "state": {
            "_model_module": "@jupyter-widgets/base",
            "_model_module_version": "1.2.0",
            "_model_name": "LayoutModel",
            "_view_count": null,
            "_view_module": "@jupyter-widgets/base",
            "_view_module_version": "1.2.0",
            "_view_name": "LayoutView",
            "align_content": null,
            "align_items": null,
            "align_self": null,
            "border": null,
            "bottom": null,
            "display": null,
            "flex": null,
            "flex_flow": null,
            "grid_area": null,
            "grid_auto_columns": null,
            "grid_auto_flow": null,
            "grid_auto_rows": null,
            "grid_column": null,
            "grid_gap": null,
            "grid_row": null,
            "grid_template_areas": null,
            "grid_template_columns": null,
            "grid_template_rows": null,
            "height": null,
            "justify_content": null,
            "justify_items": null,
            "left": null,
            "margin": null,
            "max_height": null,
            "max_width": null,
            "min_height": null,
            "min_width": null,
            "object_fit": null,
            "object_position": null,
            "order": null,
            "overflow": null,
            "overflow_x": null,
            "overflow_y": null,
            "padding": null,
            "right": null,
            "top": null,
            "visibility": null,
            "width": null
          }
        },
        "fc9fcd2d9c4248f38d339e1878c64942": {
          "model_module": "@jupyter-widgets/controls",
          "model_name": "DescriptionStyleModel",
          "model_module_version": "1.5.0",
          "state": {
            "_model_module": "@jupyter-widgets/controls",
            "_model_module_version": "1.5.0",
            "_model_name": "DescriptionStyleModel",
            "_view_count": null,
            "_view_module": "@jupyter-widgets/base",
            "_view_module_version": "1.2.0",
            "_view_name": "StyleView",
            "description_width": ""
          }
        },
        "87c8ccae27e84479894eec52b4b9cb7f": {
          "model_module": "@jupyter-widgets/base",
          "model_name": "LayoutModel",
          "model_module_version": "1.2.0",
          "state": {
            "_model_module": "@jupyter-widgets/base",
            "_model_module_version": "1.2.0",
            "_model_name": "LayoutModel",
            "_view_count": null,
            "_view_module": "@jupyter-widgets/base",
            "_view_module_version": "1.2.0",
            "_view_name": "LayoutView",
            "align_content": null,
            "align_items": null,
            "align_self": null,
            "border": null,
            "bottom": null,
            "display": null,
            "flex": null,
            "flex_flow": null,
            "grid_area": null,
            "grid_auto_columns": null,
            "grid_auto_flow": null,
            "grid_auto_rows": null,
            "grid_column": null,
            "grid_gap": null,
            "grid_row": null,
            "grid_template_areas": null,
            "grid_template_columns": null,
            "grid_template_rows": null,
            "height": null,
            "justify_content": null,
            "justify_items": null,
            "left": null,
            "margin": null,
            "max_height": null,
            "max_width": null,
            "min_height": null,
            "min_width": null,
            "object_fit": null,
            "object_position": null,
            "order": null,
            "overflow": null,
            "overflow_x": null,
            "overflow_y": null,
            "padding": null,
            "right": null,
            "top": null,
            "visibility": null,
            "width": null
          }
        },
        "fc065fa84f8c4277afc6721974a42295": {
          "model_module": "@jupyter-widgets/controls",
          "model_name": "ProgressStyleModel",
          "model_module_version": "1.5.0",
          "state": {
            "_model_module": "@jupyter-widgets/controls",
            "_model_module_version": "1.5.0",
            "_model_name": "ProgressStyleModel",
            "_view_count": null,
            "_view_module": "@jupyter-widgets/base",
            "_view_module_version": "1.2.0",
            "_view_name": "StyleView",
            "bar_color": null,
            "description_width": ""
          }
        },
        "585c1c0814d14f9fa84d552f8a5ecc94": {
          "model_module": "@jupyter-widgets/base",
          "model_name": "LayoutModel",
          "model_module_version": "1.2.0",
          "state": {
            "_model_module": "@jupyter-widgets/base",
            "_model_module_version": "1.2.0",
            "_model_name": "LayoutModel",
            "_view_count": null,
            "_view_module": "@jupyter-widgets/base",
            "_view_module_version": "1.2.0",
            "_view_name": "LayoutView",
            "align_content": null,
            "align_items": null,
            "align_self": null,
            "border": null,
            "bottom": null,
            "display": null,
            "flex": null,
            "flex_flow": null,
            "grid_area": null,
            "grid_auto_columns": null,
            "grid_auto_flow": null,
            "grid_auto_rows": null,
            "grid_column": null,
            "grid_gap": null,
            "grid_row": null,
            "grid_template_areas": null,
            "grid_template_columns": null,
            "grid_template_rows": null,
            "height": null,
            "justify_content": null,
            "justify_items": null,
            "left": null,
            "margin": null,
            "max_height": null,
            "max_width": null,
            "min_height": null,
            "min_width": null,
            "object_fit": null,
            "object_position": null,
            "order": null,
            "overflow": null,
            "overflow_x": null,
            "overflow_y": null,
            "padding": null,
            "right": null,
            "top": null,
            "visibility": null,
            "width": null
          }
        },
        "cb2e2613fb484d2d8fe1a139925ee97b": {
          "model_module": "@jupyter-widgets/controls",
          "model_name": "DescriptionStyleModel",
          "model_module_version": "1.5.0",
          "state": {
            "_model_module": "@jupyter-widgets/controls",
            "_model_module_version": "1.5.0",
            "_model_name": "DescriptionStyleModel",
            "_view_count": null,
            "_view_module": "@jupyter-widgets/base",
            "_view_module_version": "1.2.0",
            "_view_name": "StyleView",
            "description_width": ""
          }
        },
        "6938702bb04d43d7877d3e9ba0d968ea": {
          "model_module": "@jupyter-widgets/controls",
          "model_name": "HBoxModel",
          "model_module_version": "1.5.0",
          "state": {
            "_dom_classes": [],
            "_model_module": "@jupyter-widgets/controls",
            "_model_module_version": "1.5.0",
            "_model_name": "HBoxModel",
            "_view_count": null,
            "_view_module": "@jupyter-widgets/controls",
            "_view_module_version": "1.5.0",
            "_view_name": "HBoxView",
            "box_style": "",
            "children": [
              "IPY_MODEL_d9e8eb34ca7046be83f2c50648ed43fb",
              "IPY_MODEL_0fa900badbe1438b8b168314036264ff",
              "IPY_MODEL_84b284b1985649d788d0caea5b47393d"
            ],
            "layout": "IPY_MODEL_f5eae9c2346344c6bb013d05dbe0da67"
          }
        },
        "d9e8eb34ca7046be83f2c50648ed43fb": {
          "model_module": "@jupyter-widgets/controls",
          "model_name": "HTMLModel",
          "model_module_version": "1.5.0",
          "state": {
            "_dom_classes": [],
            "_model_module": "@jupyter-widgets/controls",
            "_model_module_version": "1.5.0",
            "_model_name": "HTMLModel",
            "_view_count": null,
            "_view_module": "@jupyter-widgets/controls",
            "_view_module_version": "1.5.0",
            "_view_name": "HTMLView",
            "description": "",
            "description_tooltip": null,
            "layout": "IPY_MODEL_76e9138f7d294812af21c054cb7937e0",
            "placeholder": "​",
            "style": "IPY_MODEL_95ed0f9f60cb4842a989827aec6bf981",
            "value": "100%"
          }
        },
        "0fa900badbe1438b8b168314036264ff": {
          "model_module": "@jupyter-widgets/controls",
          "model_name": "FloatProgressModel",
          "model_module_version": "1.5.0",
          "state": {
            "_dom_classes": [],
            "_model_module": "@jupyter-widgets/controls",
            "_model_module_version": "1.5.0",
            "_model_name": "FloatProgressModel",
            "_view_count": null,
            "_view_module": "@jupyter-widgets/controls",
            "_view_module_version": "1.5.0",
            "_view_name": "ProgressView",
            "bar_style": "success",
            "description": "",
            "description_tooltip": null,
            "layout": "IPY_MODEL_0f8a1854089f477b842a7110764cc69f",
            "max": 313,
            "min": 0,
            "orientation": "horizontal",
            "style": "IPY_MODEL_e8db32ed33614e69a5d7ddca03ec56d5",
            "value": 313
          }
        },
        "84b284b1985649d788d0caea5b47393d": {
          "model_module": "@jupyter-widgets/controls",
          "model_name": "HTMLModel",
          "model_module_version": "1.5.0",
          "state": {
            "_dom_classes": [],
            "_model_module": "@jupyter-widgets/controls",
            "_model_module_version": "1.5.0",
            "_model_name": "HTMLModel",
            "_view_count": null,
            "_view_module": "@jupyter-widgets/controls",
            "_view_module_version": "1.5.0",
            "_view_name": "HTMLView",
            "description": "",
            "description_tooltip": null,
            "layout": "IPY_MODEL_56ac0c43bb8e454c8a750b12416ec941",
            "placeholder": "​",
            "style": "IPY_MODEL_43c6e084894c4c9ca587ea8d46db82a8",
            "value": " 313/313 [00:01&lt;00:00, 224.50it/s]"
          }
        },
        "f5eae9c2346344c6bb013d05dbe0da67": {
          "model_module": "@jupyter-widgets/base",
          "model_name": "LayoutModel",
          "model_module_version": "1.2.0",
          "state": {
            "_model_module": "@jupyter-widgets/base",
            "_model_module_version": "1.2.0",
            "_model_name": "LayoutModel",
            "_view_count": null,
            "_view_module": "@jupyter-widgets/base",
            "_view_module_version": "1.2.0",
            "_view_name": "LayoutView",
            "align_content": null,
            "align_items": null,
            "align_self": null,
            "border": null,
            "bottom": null,
            "display": null,
            "flex": null,
            "flex_flow": null,
            "grid_area": null,
            "grid_auto_columns": null,
            "grid_auto_flow": null,
            "grid_auto_rows": null,
            "grid_column": null,
            "grid_gap": null,
            "grid_row": null,
            "grid_template_areas": null,
            "grid_template_columns": null,
            "grid_template_rows": null,
            "height": null,
            "justify_content": null,
            "justify_items": null,
            "left": null,
            "margin": null,
            "max_height": null,
            "max_width": null,
            "min_height": null,
            "min_width": null,
            "object_fit": null,
            "object_position": null,
            "order": null,
            "overflow": null,
            "overflow_x": null,
            "overflow_y": null,
            "padding": null,
            "right": null,
            "top": null,
            "visibility": null,
            "width": null
          }
        },
        "76e9138f7d294812af21c054cb7937e0": {
          "model_module": "@jupyter-widgets/base",
          "model_name": "LayoutModel",
          "model_module_version": "1.2.0",
          "state": {
            "_model_module": "@jupyter-widgets/base",
            "_model_module_version": "1.2.0",
            "_model_name": "LayoutModel",
            "_view_count": null,
            "_view_module": "@jupyter-widgets/base",
            "_view_module_version": "1.2.0",
            "_view_name": "LayoutView",
            "align_content": null,
            "align_items": null,
            "align_self": null,
            "border": null,
            "bottom": null,
            "display": null,
            "flex": null,
            "flex_flow": null,
            "grid_area": null,
            "grid_auto_columns": null,
            "grid_auto_flow": null,
            "grid_auto_rows": null,
            "grid_column": null,
            "grid_gap": null,
            "grid_row": null,
            "grid_template_areas": null,
            "grid_template_columns": null,
            "grid_template_rows": null,
            "height": null,
            "justify_content": null,
            "justify_items": null,
            "left": null,
            "margin": null,
            "max_height": null,
            "max_width": null,
            "min_height": null,
            "min_width": null,
            "object_fit": null,
            "object_position": null,
            "order": null,
            "overflow": null,
            "overflow_x": null,
            "overflow_y": null,
            "padding": null,
            "right": null,
            "top": null,
            "visibility": null,
            "width": null
          }
        },
        "95ed0f9f60cb4842a989827aec6bf981": {
          "model_module": "@jupyter-widgets/controls",
          "model_name": "DescriptionStyleModel",
          "model_module_version": "1.5.0",
          "state": {
            "_model_module": "@jupyter-widgets/controls",
            "_model_module_version": "1.5.0",
            "_model_name": "DescriptionStyleModel",
            "_view_count": null,
            "_view_module": "@jupyter-widgets/base",
            "_view_module_version": "1.2.0",
            "_view_name": "StyleView",
            "description_width": ""
          }
        },
        "0f8a1854089f477b842a7110764cc69f": {
          "model_module": "@jupyter-widgets/base",
          "model_name": "LayoutModel",
          "model_module_version": "1.2.0",
          "state": {
            "_model_module": "@jupyter-widgets/base",
            "_model_module_version": "1.2.0",
            "_model_name": "LayoutModel",
            "_view_count": null,
            "_view_module": "@jupyter-widgets/base",
            "_view_module_version": "1.2.0",
            "_view_name": "LayoutView",
            "align_content": null,
            "align_items": null,
            "align_self": null,
            "border": null,
            "bottom": null,
            "display": null,
            "flex": null,
            "flex_flow": null,
            "grid_area": null,
            "grid_auto_columns": null,
            "grid_auto_flow": null,
            "grid_auto_rows": null,
            "grid_column": null,
            "grid_gap": null,
            "grid_row": null,
            "grid_template_areas": null,
            "grid_template_columns": null,
            "grid_template_rows": null,
            "height": null,
            "justify_content": null,
            "justify_items": null,
            "left": null,
            "margin": null,
            "max_height": null,
            "max_width": null,
            "min_height": null,
            "min_width": null,
            "object_fit": null,
            "object_position": null,
            "order": null,
            "overflow": null,
            "overflow_x": null,
            "overflow_y": null,
            "padding": null,
            "right": null,
            "top": null,
            "visibility": null,
            "width": null
          }
        },
        "e8db32ed33614e69a5d7ddca03ec56d5": {
          "model_module": "@jupyter-widgets/controls",
          "model_name": "ProgressStyleModel",
          "model_module_version": "1.5.0",
          "state": {
            "_model_module": "@jupyter-widgets/controls",
            "_model_module_version": "1.5.0",
            "_model_name": "ProgressStyleModel",
            "_view_count": null,
            "_view_module": "@jupyter-widgets/base",
            "_view_module_version": "1.2.0",
            "_view_name": "StyleView",
            "bar_color": null,
            "description_width": ""
          }
        },
        "56ac0c43bb8e454c8a750b12416ec941": {
          "model_module": "@jupyter-widgets/base",
          "model_name": "LayoutModel",
          "model_module_version": "1.2.0",
          "state": {
            "_model_module": "@jupyter-widgets/base",
            "_model_module_version": "1.2.0",
            "_model_name": "LayoutModel",
            "_view_count": null,
            "_view_module": "@jupyter-widgets/base",
            "_view_module_version": "1.2.0",
            "_view_name": "LayoutView",
            "align_content": null,
            "align_items": null,
            "align_self": null,
            "border": null,
            "bottom": null,
            "display": null,
            "flex": null,
            "flex_flow": null,
            "grid_area": null,
            "grid_auto_columns": null,
            "grid_auto_flow": null,
            "grid_auto_rows": null,
            "grid_column": null,
            "grid_gap": null,
            "grid_row": null,
            "grid_template_areas": null,
            "grid_template_columns": null,
            "grid_template_rows": null,
            "height": null,
            "justify_content": null,
            "justify_items": null,
            "left": null,
            "margin": null,
            "max_height": null,
            "max_width": null,
            "min_height": null,
            "min_width": null,
            "object_fit": null,
            "object_position": null,
            "order": null,
            "overflow": null,
            "overflow_x": null,
            "overflow_y": null,
            "padding": null,
            "right": null,
            "top": null,
            "visibility": null,
            "width": null
          }
        },
        "43c6e084894c4c9ca587ea8d46db82a8": {
          "model_module": "@jupyter-widgets/controls",
          "model_name": "DescriptionStyleModel",
          "model_module_version": "1.5.0",
          "state": {
            "_model_module": "@jupyter-widgets/controls",
            "_model_module_version": "1.5.0",
            "_model_name": "DescriptionStyleModel",
            "_view_count": null,
            "_view_module": "@jupyter-widgets/base",
            "_view_module_version": "1.2.0",
            "_view_name": "StyleView",
            "description_width": ""
          }
        },
        "9fd47f6518ae4f679cf239a90f376031": {
          "model_module": "@jupyter-widgets/controls",
          "model_name": "HBoxModel",
          "model_module_version": "1.5.0",
          "state": {
            "_dom_classes": [],
            "_model_module": "@jupyter-widgets/controls",
            "_model_module_version": "1.5.0",
            "_model_name": "HBoxModel",
            "_view_count": null,
            "_view_module": "@jupyter-widgets/controls",
            "_view_module_version": "1.5.0",
            "_view_name": "HBoxView",
            "box_style": "",
            "children": [
              "IPY_MODEL_343e6ab1824b4494932a5b2a43ea024d",
              "IPY_MODEL_bb8441b53abd4fae826ae57316142698",
              "IPY_MODEL_f048489083be4621a890b44983ba5dda"
            ],
            "layout": "IPY_MODEL_05bd8fb3fe224ecf95ff8b6f9217197c"
          }
        },
        "343e6ab1824b4494932a5b2a43ea024d": {
          "model_module": "@jupyter-widgets/controls",
          "model_name": "HTMLModel",
          "model_module_version": "1.5.0",
          "state": {
            "_dom_classes": [],
            "_model_module": "@jupyter-widgets/controls",
            "_model_module_version": "1.5.0",
            "_model_name": "HTMLModel",
            "_view_count": null,
            "_view_module": "@jupyter-widgets/controls",
            "_view_module_version": "1.5.0",
            "_view_name": "HTMLView",
            "description": "",
            "description_tooltip": null,
            "layout": "IPY_MODEL_def0f4673d514ad89a672f2eacb83f10",
            "placeholder": "​",
            "style": "IPY_MODEL_accf07f0a7a6429cb26566011cae35c9",
            "value": "100%"
          }
        },
        "bb8441b53abd4fae826ae57316142698": {
          "model_module": "@jupyter-widgets/controls",
          "model_name": "FloatProgressModel",
          "model_module_version": "1.5.0",
          "state": {
            "_dom_classes": [],
            "_model_module": "@jupyter-widgets/controls",
            "_model_module_version": "1.5.0",
            "_model_name": "FloatProgressModel",
            "_view_count": null,
            "_view_module": "@jupyter-widgets/controls",
            "_view_module_version": "1.5.0",
            "_view_name": "ProgressView",
            "bar_style": "success",
            "description": "",
            "description_tooltip": null,
            "layout": "IPY_MODEL_79ebd3f862054bc2a4914468544c5835",
            "max": 3,
            "min": 0,
            "orientation": "horizontal",
            "style": "IPY_MODEL_dbe8cbfb51fc4e36b41b3ed3740eecc8",
            "value": 3
          }
        },
        "f048489083be4621a890b44983ba5dda": {
          "model_module": "@jupyter-widgets/controls",
          "model_name": "HTMLModel",
          "model_module_version": "1.5.0",
          "state": {
            "_dom_classes": [],
            "_model_module": "@jupyter-widgets/controls",
            "_model_module_version": "1.5.0",
            "_model_name": "HTMLModel",
            "_view_count": null,
            "_view_module": "@jupyter-widgets/controls",
            "_view_module_version": "1.5.0",
            "_view_name": "HTMLView",
            "description": "",
            "description_tooltip": null,
            "layout": "IPY_MODEL_2c66007db7534c0f8ea31b55f7739a34",
            "placeholder": "​",
            "style": "IPY_MODEL_0806b079c2ec4c0dbcfbd3eb985f62ae",
            "value": " 3/3 [00:31&lt;00:00, 10.29s/it]"
          }
        },
        "05bd8fb3fe224ecf95ff8b6f9217197c": {
          "model_module": "@jupyter-widgets/base",
          "model_name": "LayoutModel",
          "model_module_version": "1.2.0",
          "state": {
            "_model_module": "@jupyter-widgets/base",
            "_model_module_version": "1.2.0",
            "_model_name": "LayoutModel",
            "_view_count": null,
            "_view_module": "@jupyter-widgets/base",
            "_view_module_version": "1.2.0",
            "_view_name": "LayoutView",
            "align_content": null,
            "align_items": null,
            "align_self": null,
            "border": null,
            "bottom": null,
            "display": null,
            "flex": null,
            "flex_flow": null,
            "grid_area": null,
            "grid_auto_columns": null,
            "grid_auto_flow": null,
            "grid_auto_rows": null,
            "grid_column": null,
            "grid_gap": null,
            "grid_row": null,
            "grid_template_areas": null,
            "grid_template_columns": null,
            "grid_template_rows": null,
            "height": null,
            "justify_content": null,
            "justify_items": null,
            "left": null,
            "margin": null,
            "max_height": null,
            "max_width": null,
            "min_height": null,
            "min_width": null,
            "object_fit": null,
            "object_position": null,
            "order": null,
            "overflow": null,
            "overflow_x": null,
            "overflow_y": null,
            "padding": null,
            "right": null,
            "top": null,
            "visibility": null,
            "width": null
          }
        },
        "def0f4673d514ad89a672f2eacb83f10": {
          "model_module": "@jupyter-widgets/base",
          "model_name": "LayoutModel",
          "model_module_version": "1.2.0",
          "state": {
            "_model_module": "@jupyter-widgets/base",
            "_model_module_version": "1.2.0",
            "_model_name": "LayoutModel",
            "_view_count": null,
            "_view_module": "@jupyter-widgets/base",
            "_view_module_version": "1.2.0",
            "_view_name": "LayoutView",
            "align_content": null,
            "align_items": null,
            "align_self": null,
            "border": null,
            "bottom": null,
            "display": null,
            "flex": null,
            "flex_flow": null,
            "grid_area": null,
            "grid_auto_columns": null,
            "grid_auto_flow": null,
            "grid_auto_rows": null,
            "grid_column": null,
            "grid_gap": null,
            "grid_row": null,
            "grid_template_areas": null,
            "grid_template_columns": null,
            "grid_template_rows": null,
            "height": null,
            "justify_content": null,
            "justify_items": null,
            "left": null,
            "margin": null,
            "max_height": null,
            "max_width": null,
            "min_height": null,
            "min_width": null,
            "object_fit": null,
            "object_position": null,
            "order": null,
            "overflow": null,
            "overflow_x": null,
            "overflow_y": null,
            "padding": null,
            "right": null,
            "top": null,
            "visibility": null,
            "width": null
          }
        },
        "accf07f0a7a6429cb26566011cae35c9": {
          "model_module": "@jupyter-widgets/controls",
          "model_name": "DescriptionStyleModel",
          "model_module_version": "1.5.0",
          "state": {
            "_model_module": "@jupyter-widgets/controls",
            "_model_module_version": "1.5.0",
            "_model_name": "DescriptionStyleModel",
            "_view_count": null,
            "_view_module": "@jupyter-widgets/base",
            "_view_module_version": "1.2.0",
            "_view_name": "StyleView",
            "description_width": ""
          }
        },
        "79ebd3f862054bc2a4914468544c5835": {
          "model_module": "@jupyter-widgets/base",
          "model_name": "LayoutModel",
          "model_module_version": "1.2.0",
          "state": {
            "_model_module": "@jupyter-widgets/base",
            "_model_module_version": "1.2.0",
            "_model_name": "LayoutModel",
            "_view_count": null,
            "_view_module": "@jupyter-widgets/base",
            "_view_module_version": "1.2.0",
            "_view_name": "LayoutView",
            "align_content": null,
            "align_items": null,
            "align_self": null,
            "border": null,
            "bottom": null,
            "display": null,
            "flex": null,
            "flex_flow": null,
            "grid_area": null,
            "grid_auto_columns": null,
            "grid_auto_flow": null,
            "grid_auto_rows": null,
            "grid_column": null,
            "grid_gap": null,
            "grid_row": null,
            "grid_template_areas": null,
            "grid_template_columns": null,
            "grid_template_rows": null,
            "height": null,
            "justify_content": null,
            "justify_items": null,
            "left": null,
            "margin": null,
            "max_height": null,
            "max_width": null,
            "min_height": null,
            "min_width": null,
            "object_fit": null,
            "object_position": null,
            "order": null,
            "overflow": null,
            "overflow_x": null,
            "overflow_y": null,
            "padding": null,
            "right": null,
            "top": null,
            "visibility": null,
            "width": null
          }
        },
        "dbe8cbfb51fc4e36b41b3ed3740eecc8": {
          "model_module": "@jupyter-widgets/controls",
          "model_name": "ProgressStyleModel",
          "model_module_version": "1.5.0",
          "state": {
            "_model_module": "@jupyter-widgets/controls",
            "_model_module_version": "1.5.0",
            "_model_name": "ProgressStyleModel",
            "_view_count": null,
            "_view_module": "@jupyter-widgets/base",
            "_view_module_version": "1.2.0",
            "_view_name": "StyleView",
            "bar_color": null,
            "description_width": ""
          }
        },
        "2c66007db7534c0f8ea31b55f7739a34": {
          "model_module": "@jupyter-widgets/base",
          "model_name": "LayoutModel",
          "model_module_version": "1.2.0",
          "state": {
            "_model_module": "@jupyter-widgets/base",
            "_model_module_version": "1.2.0",
            "_model_name": "LayoutModel",
            "_view_count": null,
            "_view_module": "@jupyter-widgets/base",
            "_view_module_version": "1.2.0",
            "_view_name": "LayoutView",
            "align_content": null,
            "align_items": null,
            "align_self": null,
            "border": null,
            "bottom": null,
            "display": null,
            "flex": null,
            "flex_flow": null,
            "grid_area": null,
            "grid_auto_columns": null,
            "grid_auto_flow": null,
            "grid_auto_rows": null,
            "grid_column": null,
            "grid_gap": null,
            "grid_row": null,
            "grid_template_areas": null,
            "grid_template_columns": null,
            "grid_template_rows": null,
            "height": null,
            "justify_content": null,
            "justify_items": null,
            "left": null,
            "margin": null,
            "max_height": null,
            "max_width": null,
            "min_height": null,
            "min_width": null,
            "object_fit": null,
            "object_position": null,
            "order": null,
            "overflow": null,
            "overflow_x": null,
            "overflow_y": null,
            "padding": null,
            "right": null,
            "top": null,
            "visibility": null,
            "width": null
          }
        },
        "0806b079c2ec4c0dbcfbd3eb985f62ae": {
          "model_module": "@jupyter-widgets/controls",
          "model_name": "DescriptionStyleModel",
          "model_module_version": "1.5.0",
          "state": {
            "_model_module": "@jupyter-widgets/controls",
            "_model_module_version": "1.5.0",
            "_model_name": "DescriptionStyleModel",
            "_view_count": null,
            "_view_module": "@jupyter-widgets/base",
            "_view_module_version": "1.2.0",
            "_view_name": "StyleView",
            "description_width": ""
          }
        },
        "2e7b8cebb25c4c8a9907b78a439e5db4": {
          "model_module": "@jupyter-widgets/controls",
          "model_name": "HBoxModel",
          "model_module_version": "1.5.0",
          "state": {
            "_dom_classes": [],
            "_model_module": "@jupyter-widgets/controls",
            "_model_module_version": "1.5.0",
            "_model_name": "HBoxModel",
            "_view_count": null,
            "_view_module": "@jupyter-widgets/controls",
            "_view_module_version": "1.5.0",
            "_view_name": "HBoxView",
            "box_style": "",
            "children": [
              "IPY_MODEL_430fb8b60b8b41d789736514cbf0e87b",
              "IPY_MODEL_5d3c0e198c9e490c8505046241fa2529",
              "IPY_MODEL_d9329fa21685499ab8944e0b6391407d"
            ],
            "layout": "IPY_MODEL_c2de2d4eeac84905b1d43032b7e8cca6"
          }
        },
        "430fb8b60b8b41d789736514cbf0e87b": {
          "model_module": "@jupyter-widgets/controls",
          "model_name": "HTMLModel",
          "model_module_version": "1.5.0",
          "state": {
            "_dom_classes": [],
            "_model_module": "@jupyter-widgets/controls",
            "_model_module_version": "1.5.0",
            "_model_name": "HTMLModel",
            "_view_count": null,
            "_view_module": "@jupyter-widgets/controls",
            "_view_module_version": "1.5.0",
            "_view_name": "HTMLView",
            "description": "",
            "description_tooltip": null,
            "layout": "IPY_MODEL_2c676bf57d99494ba3e0f5531bf62d20",
            "placeholder": "​",
            "style": "IPY_MODEL_97aa014a581845b6b08d96cb099269fa",
            "value": "100%"
          }
        },
        "5d3c0e198c9e490c8505046241fa2529": {
          "model_module": "@jupyter-widgets/controls",
          "model_name": "FloatProgressModel",
          "model_module_version": "1.5.0",
          "state": {
            "_dom_classes": [],
            "_model_module": "@jupyter-widgets/controls",
            "_model_module_version": "1.5.0",
            "_model_name": "FloatProgressModel",
            "_view_count": null,
            "_view_module": "@jupyter-widgets/controls",
            "_view_module_version": "1.5.0",
            "_view_name": "ProgressView",
            "bar_style": "success",
            "description": "",
            "description_tooltip": null,
            "layout": "IPY_MODEL_ed404db62f5045dea2e5eb7585c913a5",
            "max": 313,
            "min": 0,
            "orientation": "horizontal",
            "style": "IPY_MODEL_24ab089ef1a847778eba9ff04ca07014",
            "value": 313
          }
        },
        "d9329fa21685499ab8944e0b6391407d": {
          "model_module": "@jupyter-widgets/controls",
          "model_name": "HTMLModel",
          "model_module_version": "1.5.0",
          "state": {
            "_dom_classes": [],
            "_model_module": "@jupyter-widgets/controls",
            "_model_module_version": "1.5.0",
            "_model_name": "HTMLModel",
            "_view_count": null,
            "_view_module": "@jupyter-widgets/controls",
            "_view_module_version": "1.5.0",
            "_view_name": "HTMLView",
            "description": "",
            "description_tooltip": null,
            "layout": "IPY_MODEL_1fcc844c934e4989aa3d90ba451d082f",
            "placeholder": "​",
            "style": "IPY_MODEL_33aeb1ce6e4b4a1dad357c77836257ad",
            "value": " 313/313 [00:01&lt;00:00, 260.80it/s]"
          }
        },
        "c2de2d4eeac84905b1d43032b7e8cca6": {
          "model_module": "@jupyter-widgets/base",
          "model_name": "LayoutModel",
          "model_module_version": "1.2.0",
          "state": {
            "_model_module": "@jupyter-widgets/base",
            "_model_module_version": "1.2.0",
            "_model_name": "LayoutModel",
            "_view_count": null,
            "_view_module": "@jupyter-widgets/base",
            "_view_module_version": "1.2.0",
            "_view_name": "LayoutView",
            "align_content": null,
            "align_items": null,
            "align_self": null,
            "border": null,
            "bottom": null,
            "display": null,
            "flex": null,
            "flex_flow": null,
            "grid_area": null,
            "grid_auto_columns": null,
            "grid_auto_flow": null,
            "grid_auto_rows": null,
            "grid_column": null,
            "grid_gap": null,
            "grid_row": null,
            "grid_template_areas": null,
            "grid_template_columns": null,
            "grid_template_rows": null,
            "height": null,
            "justify_content": null,
            "justify_items": null,
            "left": null,
            "margin": null,
            "max_height": null,
            "max_width": null,
            "min_height": null,
            "min_width": null,
            "object_fit": null,
            "object_position": null,
            "order": null,
            "overflow": null,
            "overflow_x": null,
            "overflow_y": null,
            "padding": null,
            "right": null,
            "top": null,
            "visibility": null,
            "width": null
          }
        },
        "2c676bf57d99494ba3e0f5531bf62d20": {
          "model_module": "@jupyter-widgets/base",
          "model_name": "LayoutModel",
          "model_module_version": "1.2.0",
          "state": {
            "_model_module": "@jupyter-widgets/base",
            "_model_module_version": "1.2.0",
            "_model_name": "LayoutModel",
            "_view_count": null,
            "_view_module": "@jupyter-widgets/base",
            "_view_module_version": "1.2.0",
            "_view_name": "LayoutView",
            "align_content": null,
            "align_items": null,
            "align_self": null,
            "border": null,
            "bottom": null,
            "display": null,
            "flex": null,
            "flex_flow": null,
            "grid_area": null,
            "grid_auto_columns": null,
            "grid_auto_flow": null,
            "grid_auto_rows": null,
            "grid_column": null,
            "grid_gap": null,
            "grid_row": null,
            "grid_template_areas": null,
            "grid_template_columns": null,
            "grid_template_rows": null,
            "height": null,
            "justify_content": null,
            "justify_items": null,
            "left": null,
            "margin": null,
            "max_height": null,
            "max_width": null,
            "min_height": null,
            "min_width": null,
            "object_fit": null,
            "object_position": null,
            "order": null,
            "overflow": null,
            "overflow_x": null,
            "overflow_y": null,
            "padding": null,
            "right": null,
            "top": null,
            "visibility": null,
            "width": null
          }
        },
        "97aa014a581845b6b08d96cb099269fa": {
          "model_module": "@jupyter-widgets/controls",
          "model_name": "DescriptionStyleModel",
          "model_module_version": "1.5.0",
          "state": {
            "_model_module": "@jupyter-widgets/controls",
            "_model_module_version": "1.5.0",
            "_model_name": "DescriptionStyleModel",
            "_view_count": null,
            "_view_module": "@jupyter-widgets/base",
            "_view_module_version": "1.2.0",
            "_view_name": "StyleView",
            "description_width": ""
          }
        },
        "ed404db62f5045dea2e5eb7585c913a5": {
          "model_module": "@jupyter-widgets/base",
          "model_name": "LayoutModel",
          "model_module_version": "1.2.0",
          "state": {
            "_model_module": "@jupyter-widgets/base",
            "_model_module_version": "1.2.0",
            "_model_name": "LayoutModel",
            "_view_count": null,
            "_view_module": "@jupyter-widgets/base",
            "_view_module_version": "1.2.0",
            "_view_name": "LayoutView",
            "align_content": null,
            "align_items": null,
            "align_self": null,
            "border": null,
            "bottom": null,
            "display": null,
            "flex": null,
            "flex_flow": null,
            "grid_area": null,
            "grid_auto_columns": null,
            "grid_auto_flow": null,
            "grid_auto_rows": null,
            "grid_column": null,
            "grid_gap": null,
            "grid_row": null,
            "grid_template_areas": null,
            "grid_template_columns": null,
            "grid_template_rows": null,
            "height": null,
            "justify_content": null,
            "justify_items": null,
            "left": null,
            "margin": null,
            "max_height": null,
            "max_width": null,
            "min_height": null,
            "min_width": null,
            "object_fit": null,
            "object_position": null,
            "order": null,
            "overflow": null,
            "overflow_x": null,
            "overflow_y": null,
            "padding": null,
            "right": null,
            "top": null,
            "visibility": null,
            "width": null
          }
        },
        "24ab089ef1a847778eba9ff04ca07014": {
          "model_module": "@jupyter-widgets/controls",
          "model_name": "ProgressStyleModel",
          "model_module_version": "1.5.0",
          "state": {
            "_model_module": "@jupyter-widgets/controls",
            "_model_module_version": "1.5.0",
            "_model_name": "ProgressStyleModel",
            "_view_count": null,
            "_view_module": "@jupyter-widgets/base",
            "_view_module_version": "1.2.0",
            "_view_name": "StyleView",
            "bar_color": null,
            "description_width": ""
          }
        },
        "1fcc844c934e4989aa3d90ba451d082f": {
          "model_module": "@jupyter-widgets/base",
          "model_name": "LayoutModel",
          "model_module_version": "1.2.0",
          "state": {
            "_model_module": "@jupyter-widgets/base",
            "_model_module_version": "1.2.0",
            "_model_name": "LayoutModel",
            "_view_count": null,
            "_view_module": "@jupyter-widgets/base",
            "_view_module_version": "1.2.0",
            "_view_name": "LayoutView",
            "align_content": null,
            "align_items": null,
            "align_self": null,
            "border": null,
            "bottom": null,
            "display": null,
            "flex": null,
            "flex_flow": null,
            "grid_area": null,
            "grid_auto_columns": null,
            "grid_auto_flow": null,
            "grid_auto_rows": null,
            "grid_column": null,
            "grid_gap": null,
            "grid_row": null,
            "grid_template_areas": null,
            "grid_template_columns": null,
            "grid_template_rows": null,
            "height": null,
            "justify_content": null,
            "justify_items": null,
            "left": null,
            "margin": null,
            "max_height": null,
            "max_width": null,
            "min_height": null,
            "min_width": null,
            "object_fit": null,
            "object_position": null,
            "order": null,
            "overflow": null,
            "overflow_x": null,
            "overflow_y": null,
            "padding": null,
            "right": null,
            "top": null,
            "visibility": null,
            "width": null
          }
        },
        "33aeb1ce6e4b4a1dad357c77836257ad": {
          "model_module": "@jupyter-widgets/controls",
          "model_name": "DescriptionStyleModel",
          "model_module_version": "1.5.0",
          "state": {
            "_model_module": "@jupyter-widgets/controls",
            "_model_module_version": "1.5.0",
            "_model_name": "DescriptionStyleModel",
            "_view_count": null,
            "_view_module": "@jupyter-widgets/base",
            "_view_module_version": "1.2.0",
            "_view_name": "StyleView",
            "description_width": ""
          }
        },
        "19018fd6d4fa469a9b87f328dbf21985": {
          "model_module": "@jupyter-widgets/controls",
          "model_name": "HBoxModel",
          "model_module_version": "1.5.0",
          "state": {
            "_dom_classes": [],
            "_model_module": "@jupyter-widgets/controls",
            "_model_module_version": "1.5.0",
            "_model_name": "HBoxModel",
            "_view_count": null,
            "_view_module": "@jupyter-widgets/controls",
            "_view_module_version": "1.5.0",
            "_view_name": "HBoxView",
            "box_style": "",
            "children": [
              "IPY_MODEL_b5762b379c734fc5b94a905f91e2bdce",
              "IPY_MODEL_5dc4999754674fb9bb81ae7b527aa709",
              "IPY_MODEL_cf66dbf0038541babc93609dded13dff"
            ],
            "layout": "IPY_MODEL_894169f240f24a3b9538fb639a9a1e8d"
          }
        },
        "b5762b379c734fc5b94a905f91e2bdce": {
          "model_module": "@jupyter-widgets/controls",
          "model_name": "HTMLModel",
          "model_module_version": "1.5.0",
          "state": {
            "_dom_classes": [],
            "_model_module": "@jupyter-widgets/controls",
            "_model_module_version": "1.5.0",
            "_model_name": "HTMLModel",
            "_view_count": null,
            "_view_module": "@jupyter-widgets/controls",
            "_view_module_version": "1.5.0",
            "_view_name": "HTMLView",
            "description": "",
            "description_tooltip": null,
            "layout": "IPY_MODEL_5256f554b7914588a3bd0fffe2913b37",
            "placeholder": "​",
            "style": "IPY_MODEL_e17f38016b3c4e14a8e207ac573cacf1",
            "value": "100%"
          }
        },
        "5dc4999754674fb9bb81ae7b527aa709": {
          "model_module": "@jupyter-widgets/controls",
          "model_name": "FloatProgressModel",
          "model_module_version": "1.5.0",
          "state": {
            "_dom_classes": [],
            "_model_module": "@jupyter-widgets/controls",
            "_model_module_version": "1.5.0",
            "_model_name": "FloatProgressModel",
            "_view_count": null,
            "_view_module": "@jupyter-widgets/controls",
            "_view_module_version": "1.5.0",
            "_view_name": "ProgressView",
            "bar_style": "success",
            "description": "",
            "description_tooltip": null,
            "layout": "IPY_MODEL_83b6b4ba5a274fde9aff61601b73d6e9",
            "max": 3,
            "min": 0,
            "orientation": "horizontal",
            "style": "IPY_MODEL_e42848b9068e4b668594fe5fecfa067e",
            "value": 3
          }
        },
        "cf66dbf0038541babc93609dded13dff": {
          "model_module": "@jupyter-widgets/controls",
          "model_name": "HTMLModel",
          "model_module_version": "1.5.0",
          "state": {
            "_dom_classes": [],
            "_model_module": "@jupyter-widgets/controls",
            "_model_module_version": "1.5.0",
            "_model_name": "HTMLModel",
            "_view_count": null,
            "_view_module": "@jupyter-widgets/controls",
            "_view_module_version": "1.5.0",
            "_view_name": "HTMLView",
            "description": "",
            "description_tooltip": null,
            "layout": "IPY_MODEL_777c45217b4d4c13927d232e840c1abc",
            "placeholder": "​",
            "style": "IPY_MODEL_c859dbaff2d14871962a0d283e01abc4",
            "value": " 3/3 [00:38&lt;00:00, 13.08s/it]"
          }
        },
        "894169f240f24a3b9538fb639a9a1e8d": {
          "model_module": "@jupyter-widgets/base",
          "model_name": "LayoutModel",
          "model_module_version": "1.2.0",
          "state": {
            "_model_module": "@jupyter-widgets/base",
            "_model_module_version": "1.2.0",
            "_model_name": "LayoutModel",
            "_view_count": null,
            "_view_module": "@jupyter-widgets/base",
            "_view_module_version": "1.2.0",
            "_view_name": "LayoutView",
            "align_content": null,
            "align_items": null,
            "align_self": null,
            "border": null,
            "bottom": null,
            "display": null,
            "flex": null,
            "flex_flow": null,
            "grid_area": null,
            "grid_auto_columns": null,
            "grid_auto_flow": null,
            "grid_auto_rows": null,
            "grid_column": null,
            "grid_gap": null,
            "grid_row": null,
            "grid_template_areas": null,
            "grid_template_columns": null,
            "grid_template_rows": null,
            "height": null,
            "justify_content": null,
            "justify_items": null,
            "left": null,
            "margin": null,
            "max_height": null,
            "max_width": null,
            "min_height": null,
            "min_width": null,
            "object_fit": null,
            "object_position": null,
            "order": null,
            "overflow": null,
            "overflow_x": null,
            "overflow_y": null,
            "padding": null,
            "right": null,
            "top": null,
            "visibility": null,
            "width": null
          }
        },
        "5256f554b7914588a3bd0fffe2913b37": {
          "model_module": "@jupyter-widgets/base",
          "model_name": "LayoutModel",
          "model_module_version": "1.2.0",
          "state": {
            "_model_module": "@jupyter-widgets/base",
            "_model_module_version": "1.2.0",
            "_model_name": "LayoutModel",
            "_view_count": null,
            "_view_module": "@jupyter-widgets/base",
            "_view_module_version": "1.2.0",
            "_view_name": "LayoutView",
            "align_content": null,
            "align_items": null,
            "align_self": null,
            "border": null,
            "bottom": null,
            "display": null,
            "flex": null,
            "flex_flow": null,
            "grid_area": null,
            "grid_auto_columns": null,
            "grid_auto_flow": null,
            "grid_auto_rows": null,
            "grid_column": null,
            "grid_gap": null,
            "grid_row": null,
            "grid_template_areas": null,
            "grid_template_columns": null,
            "grid_template_rows": null,
            "height": null,
            "justify_content": null,
            "justify_items": null,
            "left": null,
            "margin": null,
            "max_height": null,
            "max_width": null,
            "min_height": null,
            "min_width": null,
            "object_fit": null,
            "object_position": null,
            "order": null,
            "overflow": null,
            "overflow_x": null,
            "overflow_y": null,
            "padding": null,
            "right": null,
            "top": null,
            "visibility": null,
            "width": null
          }
        },
        "e17f38016b3c4e14a8e207ac573cacf1": {
          "model_module": "@jupyter-widgets/controls",
          "model_name": "DescriptionStyleModel",
          "model_module_version": "1.5.0",
          "state": {
            "_model_module": "@jupyter-widgets/controls",
            "_model_module_version": "1.5.0",
            "_model_name": "DescriptionStyleModel",
            "_view_count": null,
            "_view_module": "@jupyter-widgets/base",
            "_view_module_version": "1.2.0",
            "_view_name": "StyleView",
            "description_width": ""
          }
        },
        "83b6b4ba5a274fde9aff61601b73d6e9": {
          "model_module": "@jupyter-widgets/base",
          "model_name": "LayoutModel",
          "model_module_version": "1.2.0",
          "state": {
            "_model_module": "@jupyter-widgets/base",
            "_model_module_version": "1.2.0",
            "_model_name": "LayoutModel",
            "_view_count": null,
            "_view_module": "@jupyter-widgets/base",
            "_view_module_version": "1.2.0",
            "_view_name": "LayoutView",
            "align_content": null,
            "align_items": null,
            "align_self": null,
            "border": null,
            "bottom": null,
            "display": null,
            "flex": null,
            "flex_flow": null,
            "grid_area": null,
            "grid_auto_columns": null,
            "grid_auto_flow": null,
            "grid_auto_rows": null,
            "grid_column": null,
            "grid_gap": null,
            "grid_row": null,
            "grid_template_areas": null,
            "grid_template_columns": null,
            "grid_template_rows": null,
            "height": null,
            "justify_content": null,
            "justify_items": null,
            "left": null,
            "margin": null,
            "max_height": null,
            "max_width": null,
            "min_height": null,
            "min_width": null,
            "object_fit": null,
            "object_position": null,
            "order": null,
            "overflow": null,
            "overflow_x": null,
            "overflow_y": null,
            "padding": null,
            "right": null,
            "top": null,
            "visibility": null,
            "width": null
          }
        },
        "e42848b9068e4b668594fe5fecfa067e": {
          "model_module": "@jupyter-widgets/controls",
          "model_name": "ProgressStyleModel",
          "model_module_version": "1.5.0",
          "state": {
            "_model_module": "@jupyter-widgets/controls",
            "_model_module_version": "1.5.0",
            "_model_name": "ProgressStyleModel",
            "_view_count": null,
            "_view_module": "@jupyter-widgets/base",
            "_view_module_version": "1.2.0",
            "_view_name": "StyleView",
            "bar_color": null,
            "description_width": ""
          }
        },
        "777c45217b4d4c13927d232e840c1abc": {
          "model_module": "@jupyter-widgets/base",
          "model_name": "LayoutModel",
          "model_module_version": "1.2.0",
          "state": {
            "_model_module": "@jupyter-widgets/base",
            "_model_module_version": "1.2.0",
            "_model_name": "LayoutModel",
            "_view_count": null,
            "_view_module": "@jupyter-widgets/base",
            "_view_module_version": "1.2.0",
            "_view_name": "LayoutView",
            "align_content": null,
            "align_items": null,
            "align_self": null,
            "border": null,
            "bottom": null,
            "display": null,
            "flex": null,
            "flex_flow": null,
            "grid_area": null,
            "grid_auto_columns": null,
            "grid_auto_flow": null,
            "grid_auto_rows": null,
            "grid_column": null,
            "grid_gap": null,
            "grid_row": null,
            "grid_template_areas": null,
            "grid_template_columns": null,
            "grid_template_rows": null,
            "height": null,
            "justify_content": null,
            "justify_items": null,
            "left": null,
            "margin": null,
            "max_height": null,
            "max_width": null,
            "min_height": null,
            "min_width": null,
            "object_fit": null,
            "object_position": null,
            "order": null,
            "overflow": null,
            "overflow_x": null,
            "overflow_y": null,
            "padding": null,
            "right": null,
            "top": null,
            "visibility": null,
            "width": null
          }
        },
        "c859dbaff2d14871962a0d283e01abc4": {
          "model_module": "@jupyter-widgets/controls",
          "model_name": "DescriptionStyleModel",
          "model_module_version": "1.5.0",
          "state": {
            "_model_module": "@jupyter-widgets/controls",
            "_model_module_version": "1.5.0",
            "_model_name": "DescriptionStyleModel",
            "_view_count": null,
            "_view_module": "@jupyter-widgets/base",
            "_view_module_version": "1.2.0",
            "_view_name": "StyleView",
            "description_width": ""
          }
        },
        "46d99fb239624acfbfa80428cbfaedd3": {
          "model_module": "@jupyter-widgets/controls",
          "model_name": "HBoxModel",
          "model_module_version": "1.5.0",
          "state": {
            "_dom_classes": [],
            "_model_module": "@jupyter-widgets/controls",
            "_model_module_version": "1.5.0",
            "_model_name": "HBoxModel",
            "_view_count": null,
            "_view_module": "@jupyter-widgets/controls",
            "_view_module_version": "1.5.0",
            "_view_name": "HBoxView",
            "box_style": "",
            "children": [
              "IPY_MODEL_7a62c5eef726493097ee4166d313302e",
              "IPY_MODEL_84ff5b3e287a4fc2807a522bbf6d0170",
              "IPY_MODEL_f5a4dadb9a2447c9a996e8f570b43f39"
            ],
            "layout": "IPY_MODEL_c37fc1f75d3d4a8899aa17250dbd5d6f"
          }
        },
        "7a62c5eef726493097ee4166d313302e": {
          "model_module": "@jupyter-widgets/controls",
          "model_name": "HTMLModel",
          "model_module_version": "1.5.0",
          "state": {
            "_dom_classes": [],
            "_model_module": "@jupyter-widgets/controls",
            "_model_module_version": "1.5.0",
            "_model_name": "HTMLModel",
            "_view_count": null,
            "_view_module": "@jupyter-widgets/controls",
            "_view_module_version": "1.5.0",
            "_view_name": "HTMLView",
            "description": "",
            "description_tooltip": null,
            "layout": "IPY_MODEL_812c1a9e358b475b949c0beb83193798",
            "placeholder": "​",
            "style": "IPY_MODEL_6f94ab045a3d44698d1484b19bfa2d61",
            "value": "100%"
          }
        },
        "84ff5b3e287a4fc2807a522bbf6d0170": {
          "model_module": "@jupyter-widgets/controls",
          "model_name": "FloatProgressModel",
          "model_module_version": "1.5.0",
          "state": {
            "_dom_classes": [],
            "_model_module": "@jupyter-widgets/controls",
            "_model_module_version": "1.5.0",
            "_model_name": "FloatProgressModel",
            "_view_count": null,
            "_view_module": "@jupyter-widgets/controls",
            "_view_module_version": "1.5.0",
            "_view_name": "ProgressView",
            "bar_style": "success",
            "description": "",
            "description_tooltip": null,
            "layout": "IPY_MODEL_a02211c8f41049499134b79e7249b374",
            "max": 313,
            "min": 0,
            "orientation": "horizontal",
            "style": "IPY_MODEL_6d2cb937d6b14df1bbc69f59102cb4c7",
            "value": 313
          }
        },
        "f5a4dadb9a2447c9a996e8f570b43f39": {
          "model_module": "@jupyter-widgets/controls",
          "model_name": "HTMLModel",
          "model_module_version": "1.5.0",
          "state": {
            "_dom_classes": [],
            "_model_module": "@jupyter-widgets/controls",
            "_model_module_version": "1.5.0",
            "_model_name": "HTMLModel",
            "_view_count": null,
            "_view_module": "@jupyter-widgets/controls",
            "_view_module_version": "1.5.0",
            "_view_name": "HTMLView",
            "description": "",
            "description_tooltip": null,
            "layout": "IPY_MODEL_a95ec45624f544e6bf180ef0a3e97442",
            "placeholder": "​",
            "style": "IPY_MODEL_40c675d946754bf5a8c5c4630f0923ef",
            "value": " 313/313 [00:01&lt;00:00, 153.53it/s]"
          }
        },
        "c37fc1f75d3d4a8899aa17250dbd5d6f": {
          "model_module": "@jupyter-widgets/base",
          "model_name": "LayoutModel",
          "model_module_version": "1.2.0",
          "state": {
            "_model_module": "@jupyter-widgets/base",
            "_model_module_version": "1.2.0",
            "_model_name": "LayoutModel",
            "_view_count": null,
            "_view_module": "@jupyter-widgets/base",
            "_view_module_version": "1.2.0",
            "_view_name": "LayoutView",
            "align_content": null,
            "align_items": null,
            "align_self": null,
            "border": null,
            "bottom": null,
            "display": null,
            "flex": null,
            "flex_flow": null,
            "grid_area": null,
            "grid_auto_columns": null,
            "grid_auto_flow": null,
            "grid_auto_rows": null,
            "grid_column": null,
            "grid_gap": null,
            "grid_row": null,
            "grid_template_areas": null,
            "grid_template_columns": null,
            "grid_template_rows": null,
            "height": null,
            "justify_content": null,
            "justify_items": null,
            "left": null,
            "margin": null,
            "max_height": null,
            "max_width": null,
            "min_height": null,
            "min_width": null,
            "object_fit": null,
            "object_position": null,
            "order": null,
            "overflow": null,
            "overflow_x": null,
            "overflow_y": null,
            "padding": null,
            "right": null,
            "top": null,
            "visibility": null,
            "width": null
          }
        },
        "812c1a9e358b475b949c0beb83193798": {
          "model_module": "@jupyter-widgets/base",
          "model_name": "LayoutModel",
          "model_module_version": "1.2.0",
          "state": {
            "_model_module": "@jupyter-widgets/base",
            "_model_module_version": "1.2.0",
            "_model_name": "LayoutModel",
            "_view_count": null,
            "_view_module": "@jupyter-widgets/base",
            "_view_module_version": "1.2.0",
            "_view_name": "LayoutView",
            "align_content": null,
            "align_items": null,
            "align_self": null,
            "border": null,
            "bottom": null,
            "display": null,
            "flex": null,
            "flex_flow": null,
            "grid_area": null,
            "grid_auto_columns": null,
            "grid_auto_flow": null,
            "grid_auto_rows": null,
            "grid_column": null,
            "grid_gap": null,
            "grid_row": null,
            "grid_template_areas": null,
            "grid_template_columns": null,
            "grid_template_rows": null,
            "height": null,
            "justify_content": null,
            "justify_items": null,
            "left": null,
            "margin": null,
            "max_height": null,
            "max_width": null,
            "min_height": null,
            "min_width": null,
            "object_fit": null,
            "object_position": null,
            "order": null,
            "overflow": null,
            "overflow_x": null,
            "overflow_y": null,
            "padding": null,
            "right": null,
            "top": null,
            "visibility": null,
            "width": null
          }
        },
        "6f94ab045a3d44698d1484b19bfa2d61": {
          "model_module": "@jupyter-widgets/controls",
          "model_name": "DescriptionStyleModel",
          "model_module_version": "1.5.0",
          "state": {
            "_model_module": "@jupyter-widgets/controls",
            "_model_module_version": "1.5.0",
            "_model_name": "DescriptionStyleModel",
            "_view_count": null,
            "_view_module": "@jupyter-widgets/base",
            "_view_module_version": "1.2.0",
            "_view_name": "StyleView",
            "description_width": ""
          }
        },
        "a02211c8f41049499134b79e7249b374": {
          "model_module": "@jupyter-widgets/base",
          "model_name": "LayoutModel",
          "model_module_version": "1.2.0",
          "state": {
            "_model_module": "@jupyter-widgets/base",
            "_model_module_version": "1.2.0",
            "_model_name": "LayoutModel",
            "_view_count": null,
            "_view_module": "@jupyter-widgets/base",
            "_view_module_version": "1.2.0",
            "_view_name": "LayoutView",
            "align_content": null,
            "align_items": null,
            "align_self": null,
            "border": null,
            "bottom": null,
            "display": null,
            "flex": null,
            "flex_flow": null,
            "grid_area": null,
            "grid_auto_columns": null,
            "grid_auto_flow": null,
            "grid_auto_rows": null,
            "grid_column": null,
            "grid_gap": null,
            "grid_row": null,
            "grid_template_areas": null,
            "grid_template_columns": null,
            "grid_template_rows": null,
            "height": null,
            "justify_content": null,
            "justify_items": null,
            "left": null,
            "margin": null,
            "max_height": null,
            "max_width": null,
            "min_height": null,
            "min_width": null,
            "object_fit": null,
            "object_position": null,
            "order": null,
            "overflow": null,
            "overflow_x": null,
            "overflow_y": null,
            "padding": null,
            "right": null,
            "top": null,
            "visibility": null,
            "width": null
          }
        },
        "6d2cb937d6b14df1bbc69f59102cb4c7": {
          "model_module": "@jupyter-widgets/controls",
          "model_name": "ProgressStyleModel",
          "model_module_version": "1.5.0",
          "state": {
            "_model_module": "@jupyter-widgets/controls",
            "_model_module_version": "1.5.0",
            "_model_name": "ProgressStyleModel",
            "_view_count": null,
            "_view_module": "@jupyter-widgets/base",
            "_view_module_version": "1.2.0",
            "_view_name": "StyleView",
            "bar_color": null,
            "description_width": ""
          }
        },
        "a95ec45624f544e6bf180ef0a3e97442": {
          "model_module": "@jupyter-widgets/base",
          "model_name": "LayoutModel",
          "model_module_version": "1.2.0",
          "state": {
            "_model_module": "@jupyter-widgets/base",
            "_model_module_version": "1.2.0",
            "_model_name": "LayoutModel",
            "_view_count": null,
            "_view_module": "@jupyter-widgets/base",
            "_view_module_version": "1.2.0",
            "_view_name": "LayoutView",
            "align_content": null,
            "align_items": null,
            "align_self": null,
            "border": null,
            "bottom": null,
            "display": null,
            "flex": null,
            "flex_flow": null,
            "grid_area": null,
            "grid_auto_columns": null,
            "grid_auto_flow": null,
            "grid_auto_rows": null,
            "grid_column": null,
            "grid_gap": null,
            "grid_row": null,
            "grid_template_areas": null,
            "grid_template_columns": null,
            "grid_template_rows": null,
            "height": null,
            "justify_content": null,
            "justify_items": null,
            "left": null,
            "margin": null,
            "max_height": null,
            "max_width": null,
            "min_height": null,
            "min_width": null,
            "object_fit": null,
            "object_position": null,
            "order": null,
            "overflow": null,
            "overflow_x": null,
            "overflow_y": null,
            "padding": null,
            "right": null,
            "top": null,
            "visibility": null,
            "width": null
          }
        },
        "40c675d946754bf5a8c5c4630f0923ef": {
          "model_module": "@jupyter-widgets/controls",
          "model_name": "DescriptionStyleModel",
          "model_module_version": "1.5.0",
          "state": {
            "_model_module": "@jupyter-widgets/controls",
            "_model_module_version": "1.5.0",
            "_model_name": "DescriptionStyleModel",
            "_view_count": null,
            "_view_module": "@jupyter-widgets/base",
            "_view_module_version": "1.2.0",
            "_view_name": "StyleView",
            "description_width": ""
          }
        },
        "fe05c749f5dc43c3852a8eed6c0da31b": {
          "model_module": "@jupyter-widgets/controls",
          "model_name": "HBoxModel",
          "model_module_version": "1.5.0",
          "state": {
            "_dom_classes": [],
            "_model_module": "@jupyter-widgets/controls",
            "_model_module_version": "1.5.0",
            "_model_name": "HBoxModel",
            "_view_count": null,
            "_view_module": "@jupyter-widgets/controls",
            "_view_module_version": "1.5.0",
            "_view_name": "HBoxView",
            "box_style": "",
            "children": [
              "IPY_MODEL_e9da6e5985d94d7a8fb9536a86e93adc",
              "IPY_MODEL_a053ea3464784a388729163c6d65c26f",
              "IPY_MODEL_833cc0fe197347a2bdf466b5ffc1a184"
            ],
            "layout": "IPY_MODEL_a327ee96479048ddb01d4ab500d0aa3c"
          }
        },
        "e9da6e5985d94d7a8fb9536a86e93adc": {
          "model_module": "@jupyter-widgets/controls",
          "model_name": "HTMLModel",
          "model_module_version": "1.5.0",
          "state": {
            "_dom_classes": [],
            "_model_module": "@jupyter-widgets/controls",
            "_model_module_version": "1.5.0",
            "_model_name": "HTMLModel",
            "_view_count": null,
            "_view_module": "@jupyter-widgets/controls",
            "_view_module_version": "1.5.0",
            "_view_name": "HTMLView",
            "description": "",
            "description_tooltip": null,
            "layout": "IPY_MODEL_675fe16d4d1d4190a463efc5c620a756",
            "placeholder": "​",
            "style": "IPY_MODEL_c042de93c32946939b2ed01905bb7b0a",
            "value": "Making predictions....: 100%"
          }
        },
        "a053ea3464784a388729163c6d65c26f": {
          "model_module": "@jupyter-widgets/controls",
          "model_name": "FloatProgressModel",
          "model_module_version": "1.5.0",
          "state": {
            "_dom_classes": [],
            "_model_module": "@jupyter-widgets/controls",
            "_model_module_version": "1.5.0",
            "_model_name": "FloatProgressModel",
            "_view_count": null,
            "_view_module": "@jupyter-widgets/controls",
            "_view_module_version": "1.5.0",
            "_view_name": "ProgressView",
            "bar_style": "success",
            "description": "",
            "description_tooltip": null,
            "layout": "IPY_MODEL_6f268afc45df4d24ab4807ca985cd09a",
            "max": 313,
            "min": 0,
            "orientation": "horizontal",
            "style": "IPY_MODEL_0dcbfe41abc8451aa8ac796dc2a1b1dc",
            "value": 313
          }
        },
        "833cc0fe197347a2bdf466b5ffc1a184": {
          "model_module": "@jupyter-widgets/controls",
          "model_name": "HTMLModel",
          "model_module_version": "1.5.0",
          "state": {
            "_dom_classes": [],
            "_model_module": "@jupyter-widgets/controls",
            "_model_module_version": "1.5.0",
            "_model_name": "HTMLModel",
            "_view_count": null,
            "_view_module": "@jupyter-widgets/controls",
            "_view_module_version": "1.5.0",
            "_view_name": "HTMLView",
            "description": "",
            "description_tooltip": null,
            "layout": "IPY_MODEL_5d8de11c59cb4006b391b999ceb63a66",
            "placeholder": "​",
            "style": "IPY_MODEL_16e861b4acc745f2ae61d9fe62c70ce6",
            "value": " 313/313 [00:01&lt;00:00, 243.57it/s]"
          }
        },
        "a327ee96479048ddb01d4ab500d0aa3c": {
          "model_module": "@jupyter-widgets/base",
          "model_name": "LayoutModel",
          "model_module_version": "1.2.0",
          "state": {
            "_model_module": "@jupyter-widgets/base",
            "_model_module_version": "1.2.0",
            "_model_name": "LayoutModel",
            "_view_count": null,
            "_view_module": "@jupyter-widgets/base",
            "_view_module_version": "1.2.0",
            "_view_name": "LayoutView",
            "align_content": null,
            "align_items": null,
            "align_self": null,
            "border": null,
            "bottom": null,
            "display": null,
            "flex": null,
            "flex_flow": null,
            "grid_area": null,
            "grid_auto_columns": null,
            "grid_auto_flow": null,
            "grid_auto_rows": null,
            "grid_column": null,
            "grid_gap": null,
            "grid_row": null,
            "grid_template_areas": null,
            "grid_template_columns": null,
            "grid_template_rows": null,
            "height": null,
            "justify_content": null,
            "justify_items": null,
            "left": null,
            "margin": null,
            "max_height": null,
            "max_width": null,
            "min_height": null,
            "min_width": null,
            "object_fit": null,
            "object_position": null,
            "order": null,
            "overflow": null,
            "overflow_x": null,
            "overflow_y": null,
            "padding": null,
            "right": null,
            "top": null,
            "visibility": null,
            "width": null
          }
        },
        "675fe16d4d1d4190a463efc5c620a756": {
          "model_module": "@jupyter-widgets/base",
          "model_name": "LayoutModel",
          "model_module_version": "1.2.0",
          "state": {
            "_model_module": "@jupyter-widgets/base",
            "_model_module_version": "1.2.0",
            "_model_name": "LayoutModel",
            "_view_count": null,
            "_view_module": "@jupyter-widgets/base",
            "_view_module_version": "1.2.0",
            "_view_name": "LayoutView",
            "align_content": null,
            "align_items": null,
            "align_self": null,
            "border": null,
            "bottom": null,
            "display": null,
            "flex": null,
            "flex_flow": null,
            "grid_area": null,
            "grid_auto_columns": null,
            "grid_auto_flow": null,
            "grid_auto_rows": null,
            "grid_column": null,
            "grid_gap": null,
            "grid_row": null,
            "grid_template_areas": null,
            "grid_template_columns": null,
            "grid_template_rows": null,
            "height": null,
            "justify_content": null,
            "justify_items": null,
            "left": null,
            "margin": null,
            "max_height": null,
            "max_width": null,
            "min_height": null,
            "min_width": null,
            "object_fit": null,
            "object_position": null,
            "order": null,
            "overflow": null,
            "overflow_x": null,
            "overflow_y": null,
            "padding": null,
            "right": null,
            "top": null,
            "visibility": null,
            "width": null
          }
        },
        "c042de93c32946939b2ed01905bb7b0a": {
          "model_module": "@jupyter-widgets/controls",
          "model_name": "DescriptionStyleModel",
          "model_module_version": "1.5.0",
          "state": {
            "_model_module": "@jupyter-widgets/controls",
            "_model_module_version": "1.5.0",
            "_model_name": "DescriptionStyleModel",
            "_view_count": null,
            "_view_module": "@jupyter-widgets/base",
            "_view_module_version": "1.2.0",
            "_view_name": "StyleView",
            "description_width": ""
          }
        },
        "6f268afc45df4d24ab4807ca985cd09a": {
          "model_module": "@jupyter-widgets/base",
          "model_name": "LayoutModel",
          "model_module_version": "1.2.0",
          "state": {
            "_model_module": "@jupyter-widgets/base",
            "_model_module_version": "1.2.0",
            "_model_name": "LayoutModel",
            "_view_count": null,
            "_view_module": "@jupyter-widgets/base",
            "_view_module_version": "1.2.0",
            "_view_name": "LayoutView",
            "align_content": null,
            "align_items": null,
            "align_self": null,
            "border": null,
            "bottom": null,
            "display": null,
            "flex": null,
            "flex_flow": null,
            "grid_area": null,
            "grid_auto_columns": null,
            "grid_auto_flow": null,
            "grid_auto_rows": null,
            "grid_column": null,
            "grid_gap": null,
            "grid_row": null,
            "grid_template_areas": null,
            "grid_template_columns": null,
            "grid_template_rows": null,
            "height": null,
            "justify_content": null,
            "justify_items": null,
            "left": null,
            "margin": null,
            "max_height": null,
            "max_width": null,
            "min_height": null,
            "min_width": null,
            "object_fit": null,
            "object_position": null,
            "order": null,
            "overflow": null,
            "overflow_x": null,
            "overflow_y": null,
            "padding": null,
            "right": null,
            "top": null,
            "visibility": null,
            "width": null
          }
        },
        "0dcbfe41abc8451aa8ac796dc2a1b1dc": {
          "model_module": "@jupyter-widgets/controls",
          "model_name": "ProgressStyleModel",
          "model_module_version": "1.5.0",
          "state": {
            "_model_module": "@jupyter-widgets/controls",
            "_model_module_version": "1.5.0",
            "_model_name": "ProgressStyleModel",
            "_view_count": null,
            "_view_module": "@jupyter-widgets/base",
            "_view_module_version": "1.2.0",
            "_view_name": "StyleView",
            "bar_color": null,
            "description_width": ""
          }
        },
        "5d8de11c59cb4006b391b999ceb63a66": {
          "model_module": "@jupyter-widgets/base",
          "model_name": "LayoutModel",
          "model_module_version": "1.2.0",
          "state": {
            "_model_module": "@jupyter-widgets/base",
            "_model_module_version": "1.2.0",
            "_model_name": "LayoutModel",
            "_view_count": null,
            "_view_module": "@jupyter-widgets/base",
            "_view_module_version": "1.2.0",
            "_view_name": "LayoutView",
            "align_content": null,
            "align_items": null,
            "align_self": null,
            "border": null,
            "bottom": null,
            "display": null,
            "flex": null,
            "flex_flow": null,
            "grid_area": null,
            "grid_auto_columns": null,
            "grid_auto_flow": null,
            "grid_auto_rows": null,
            "grid_column": null,
            "grid_gap": null,
            "grid_row": null,
            "grid_template_areas": null,
            "grid_template_columns": null,
            "grid_template_rows": null,
            "height": null,
            "justify_content": null,
            "justify_items": null,
            "left": null,
            "margin": null,
            "max_height": null,
            "max_width": null,
            "min_height": null,
            "min_width": null,
            "object_fit": null,
            "object_position": null,
            "order": null,
            "overflow": null,
            "overflow_x": null,
            "overflow_y": null,
            "padding": null,
            "right": null,
            "top": null,
            "visibility": null,
            "width": null
          }
        },
        "16e861b4acc745f2ae61d9fe62c70ce6": {
          "model_module": "@jupyter-widgets/controls",
          "model_name": "DescriptionStyleModel",
          "model_module_version": "1.5.0",
          "state": {
            "_model_module": "@jupyter-widgets/controls",
            "_model_module_version": "1.5.0",
            "_model_name": "DescriptionStyleModel",
            "_view_count": null,
            "_view_module": "@jupyter-widgets/base",
            "_view_module_version": "1.2.0",
            "_view_name": "StyleView",
            "description_width": ""
          }
        },
        "0ad1316b894944bbaa087d9c71a34847": {
          "model_module": "@jupyter-widgets/controls",
          "model_name": "HBoxModel",
          "model_module_version": "1.5.0",
          "state": {
            "_dom_classes": [],
            "_model_module": "@jupyter-widgets/controls",
            "_model_module_version": "1.5.0",
            "_model_name": "HBoxModel",
            "_view_count": null,
            "_view_module": "@jupyter-widgets/controls",
            "_view_module_version": "1.5.0",
            "_view_name": "HBoxView",
            "box_style": "",
            "children": [
              "IPY_MODEL_09ab9b2bf8bf46c79a89e0432e12da58",
              "IPY_MODEL_c0453cce565a414894c073fb30f701df",
              "IPY_MODEL_3e0d9df00de84add98a516312a1fe63d"
            ],
            "layout": "IPY_MODEL_40a1c16758894246a366cd9c0851e5f2"
          }
        },
        "09ab9b2bf8bf46c79a89e0432e12da58": {
          "model_module": "@jupyter-widgets/controls",
          "model_name": "HTMLModel",
          "model_module_version": "1.5.0",
          "state": {
            "_dom_classes": [],
            "_model_module": "@jupyter-widgets/controls",
            "_model_module_version": "1.5.0",
            "_model_name": "HTMLModel",
            "_view_count": null,
            "_view_module": "@jupyter-widgets/controls",
            "_view_module_version": "1.5.0",
            "_view_name": "HTMLView",
            "description": "",
            "description_tooltip": null,
            "layout": "IPY_MODEL_a49c3e1ceab34e9e81b59d0921315f1c",
            "placeholder": "​",
            "style": "IPY_MODEL_7a62069b96d642e98190c6583e05b4d2",
            "value": "100%"
          }
        },
        "c0453cce565a414894c073fb30f701df": {
          "model_module": "@jupyter-widgets/controls",
          "model_name": "FloatProgressModel",
          "model_module_version": "1.5.0",
          "state": {
            "_dom_classes": [],
            "_model_module": "@jupyter-widgets/controls",
            "_model_module_version": "1.5.0",
            "_model_name": "FloatProgressModel",
            "_view_count": null,
            "_view_module": "@jupyter-widgets/controls",
            "_view_module_version": "1.5.0",
            "_view_name": "ProgressView",
            "bar_style": "success",
            "description": "",
            "description_tooltip": null,
            "layout": "IPY_MODEL_a6ecd42b58844ca59a254f22430d65ee",
            "max": 313,
            "min": 0,
            "orientation": "horizontal",
            "style": "IPY_MODEL_2ba8718e1f4346fdb09cdc77187cbee6",
            "value": 313
          }
        },
        "3e0d9df00de84add98a516312a1fe63d": {
          "model_module": "@jupyter-widgets/controls",
          "model_name": "HTMLModel",
          "model_module_version": "1.5.0",
          "state": {
            "_dom_classes": [],
            "_model_module": "@jupyter-widgets/controls",
            "_model_module_version": "1.5.0",
            "_model_name": "HTMLModel",
            "_view_count": null,
            "_view_module": "@jupyter-widgets/controls",
            "_view_module_version": "1.5.0",
            "_view_name": "HTMLView",
            "description": "",
            "description_tooltip": null,
            "layout": "IPY_MODEL_fc530ec0769b4f56bdf2996febd50667",
            "placeholder": "​",
            "style": "IPY_MODEL_47909935b0bb4bb09b2b9d5a653741cd",
            "value": " 313/313 [00:01&lt;00:00, 239.68it/s]"
          }
        },
        "40a1c16758894246a366cd9c0851e5f2": {
          "model_module": "@jupyter-widgets/base",
          "model_name": "LayoutModel",
          "model_module_version": "1.2.0",
          "state": {
            "_model_module": "@jupyter-widgets/base",
            "_model_module_version": "1.2.0",
            "_model_name": "LayoutModel",
            "_view_count": null,
            "_view_module": "@jupyter-widgets/base",
            "_view_module_version": "1.2.0",
            "_view_name": "LayoutView",
            "align_content": null,
            "align_items": null,
            "align_self": null,
            "border": null,
            "bottom": null,
            "display": null,
            "flex": null,
            "flex_flow": null,
            "grid_area": null,
            "grid_auto_columns": null,
            "grid_auto_flow": null,
            "grid_auto_rows": null,
            "grid_column": null,
            "grid_gap": null,
            "grid_row": null,
            "grid_template_areas": null,
            "grid_template_columns": null,
            "grid_template_rows": null,
            "height": null,
            "justify_content": null,
            "justify_items": null,
            "left": null,
            "margin": null,
            "max_height": null,
            "max_width": null,
            "min_height": null,
            "min_width": null,
            "object_fit": null,
            "object_position": null,
            "order": null,
            "overflow": null,
            "overflow_x": null,
            "overflow_y": null,
            "padding": null,
            "right": null,
            "top": null,
            "visibility": null,
            "width": null
          }
        },
        "a49c3e1ceab34e9e81b59d0921315f1c": {
          "model_module": "@jupyter-widgets/base",
          "model_name": "LayoutModel",
          "model_module_version": "1.2.0",
          "state": {
            "_model_module": "@jupyter-widgets/base",
            "_model_module_version": "1.2.0",
            "_model_name": "LayoutModel",
            "_view_count": null,
            "_view_module": "@jupyter-widgets/base",
            "_view_module_version": "1.2.0",
            "_view_name": "LayoutView",
            "align_content": null,
            "align_items": null,
            "align_self": null,
            "border": null,
            "bottom": null,
            "display": null,
            "flex": null,
            "flex_flow": null,
            "grid_area": null,
            "grid_auto_columns": null,
            "grid_auto_flow": null,
            "grid_auto_rows": null,
            "grid_column": null,
            "grid_gap": null,
            "grid_row": null,
            "grid_template_areas": null,
            "grid_template_columns": null,
            "grid_template_rows": null,
            "height": null,
            "justify_content": null,
            "justify_items": null,
            "left": null,
            "margin": null,
            "max_height": null,
            "max_width": null,
            "min_height": null,
            "min_width": null,
            "object_fit": null,
            "object_position": null,
            "order": null,
            "overflow": null,
            "overflow_x": null,
            "overflow_y": null,
            "padding": null,
            "right": null,
            "top": null,
            "visibility": null,
            "width": null
          }
        },
        "7a62069b96d642e98190c6583e05b4d2": {
          "model_module": "@jupyter-widgets/controls",
          "model_name": "DescriptionStyleModel",
          "model_module_version": "1.5.0",
          "state": {
            "_model_module": "@jupyter-widgets/controls",
            "_model_module_version": "1.5.0",
            "_model_name": "DescriptionStyleModel",
            "_view_count": null,
            "_view_module": "@jupyter-widgets/base",
            "_view_module_version": "1.2.0",
            "_view_name": "StyleView",
            "description_width": ""
          }
        },
        "a6ecd42b58844ca59a254f22430d65ee": {
          "model_module": "@jupyter-widgets/base",
          "model_name": "LayoutModel",
          "model_module_version": "1.2.0",
          "state": {
            "_model_module": "@jupyter-widgets/base",
            "_model_module_version": "1.2.0",
            "_model_name": "LayoutModel",
            "_view_count": null,
            "_view_module": "@jupyter-widgets/base",
            "_view_module_version": "1.2.0",
            "_view_name": "LayoutView",
            "align_content": null,
            "align_items": null,
            "align_self": null,
            "border": null,
            "bottom": null,
            "display": null,
            "flex": null,
            "flex_flow": null,
            "grid_area": null,
            "grid_auto_columns": null,
            "grid_auto_flow": null,
            "grid_auto_rows": null,
            "grid_column": null,
            "grid_gap": null,
            "grid_row": null,
            "grid_template_areas": null,
            "grid_template_columns": null,
            "grid_template_rows": null,
            "height": null,
            "justify_content": null,
            "justify_items": null,
            "left": null,
            "margin": null,
            "max_height": null,
            "max_width": null,
            "min_height": null,
            "min_width": null,
            "object_fit": null,
            "object_position": null,
            "order": null,
            "overflow": null,
            "overflow_x": null,
            "overflow_y": null,
            "padding": null,
            "right": null,
            "top": null,
            "visibility": null,
            "width": null
          }
        },
        "2ba8718e1f4346fdb09cdc77187cbee6": {
          "model_module": "@jupyter-widgets/controls",
          "model_name": "ProgressStyleModel",
          "model_module_version": "1.5.0",
          "state": {
            "_model_module": "@jupyter-widgets/controls",
            "_model_module_version": "1.5.0",
            "_model_name": "ProgressStyleModel",
            "_view_count": null,
            "_view_module": "@jupyter-widgets/base",
            "_view_module_version": "1.2.0",
            "_view_name": "StyleView",
            "bar_color": null,
            "description_width": ""
          }
        },
        "fc530ec0769b4f56bdf2996febd50667": {
          "model_module": "@jupyter-widgets/base",
          "model_name": "LayoutModel",
          "model_module_version": "1.2.0",
          "state": {
            "_model_module": "@jupyter-widgets/base",
            "_model_module_version": "1.2.0",
            "_model_name": "LayoutModel",
            "_view_count": null,
            "_view_module": "@jupyter-widgets/base",
            "_view_module_version": "1.2.0",
            "_view_name": "LayoutView",
            "align_content": null,
            "align_items": null,
            "align_self": null,
            "border": null,
            "bottom": null,
            "display": null,
            "flex": null,
            "flex_flow": null,
            "grid_area": null,
            "grid_auto_columns": null,
            "grid_auto_flow": null,
            "grid_auto_rows": null,
            "grid_column": null,
            "grid_gap": null,
            "grid_row": null,
            "grid_template_areas": null,
            "grid_template_columns": null,
            "grid_template_rows": null,
            "height": null,
            "justify_content": null,
            "justify_items": null,
            "left": null,
            "margin": null,
            "max_height": null,
            "max_width": null,
            "min_height": null,
            "min_width": null,
            "object_fit": null,
            "object_position": null,
            "order": null,
            "overflow": null,
            "overflow_x": null,
            "overflow_y": null,
            "padding": null,
            "right": null,
            "top": null,
            "visibility": null,
            "width": null
          }
        },
        "47909935b0bb4bb09b2b9d5a653741cd": {
          "model_module": "@jupyter-widgets/controls",
          "model_name": "DescriptionStyleModel",
          "model_module_version": "1.5.0",
          "state": {
            "_model_module": "@jupyter-widgets/controls",
            "_model_module_version": "1.5.0",
            "_model_name": "DescriptionStyleModel",
            "_view_count": null,
            "_view_module": "@jupyter-widgets/base",
            "_view_module_version": "1.2.0",
            "_view_name": "StyleView",
            "description_width": ""
          }
        },
        "ec5118a00d6141e191951fbe7001efa5": {
          "model_module": "@jupyter-widgets/controls",
          "model_name": "HBoxModel",
          "model_module_version": "1.5.0",
          "state": {
            "_dom_classes": [],
            "_model_module": "@jupyter-widgets/controls",
            "_model_module_version": "1.5.0",
            "_model_name": "HBoxModel",
            "_view_count": null,
            "_view_module": "@jupyter-widgets/controls",
            "_view_module_version": "1.5.0",
            "_view_name": "HBoxView",
            "box_style": "",
            "children": [
              "IPY_MODEL_dfa352f2641341fcb8a82a9a1ca5bb57",
              "IPY_MODEL_7d68a8780a574cf3bf4186a5c63cd544",
              "IPY_MODEL_2ae7d1e17b46405facd1aac257fb9f31"
            ],
            "layout": "IPY_MODEL_cee688d5fdcc413a919a2f7a935bc785"
          }
        },
        "dfa352f2641341fcb8a82a9a1ca5bb57": {
          "model_module": "@jupyter-widgets/controls",
          "model_name": "HTMLModel",
          "model_module_version": "1.5.0",
          "state": {
            "_dom_classes": [],
            "_model_module": "@jupyter-widgets/controls",
            "_model_module_version": "1.5.0",
            "_model_name": "HTMLModel",
            "_view_count": null,
            "_view_module": "@jupyter-widgets/controls",
            "_view_module_version": "1.5.0",
            "_view_name": "HTMLView",
            "description": "",
            "description_tooltip": null,
            "layout": "IPY_MODEL_48407222d2f4482997d63baaddf5ba2d",
            "placeholder": "​",
            "style": "IPY_MODEL_4d1e965b48054d61be83538cb8accef5",
            "value": "100%"
          }
        },
        "7d68a8780a574cf3bf4186a5c63cd544": {
          "model_module": "@jupyter-widgets/controls",
          "model_name": "FloatProgressModel",
          "model_module_version": "1.5.0",
          "state": {
            "_dom_classes": [],
            "_model_module": "@jupyter-widgets/controls",
            "_model_module_version": "1.5.0",
            "_model_name": "FloatProgressModel",
            "_view_count": null,
            "_view_module": "@jupyter-widgets/controls",
            "_view_module_version": "1.5.0",
            "_view_name": "ProgressView",
            "bar_style": "success",
            "description": "",
            "description_tooltip": null,
            "layout": "IPY_MODEL_fcb8925355594098afc55a87982dd4b8",
            "max": 1,
            "min": 0,
            "orientation": "horizontal",
            "style": "IPY_MODEL_fff2950070564a5c9043f0fa948bbe63",
            "value": 1
          }
        },
        "2ae7d1e17b46405facd1aac257fb9f31": {
          "model_module": "@jupyter-widgets/controls",
          "model_name": "HTMLModel",
          "model_module_version": "1.5.0",
          "state": {
            "_dom_classes": [],
            "_model_module": "@jupyter-widgets/controls",
            "_model_module_version": "1.5.0",
            "_model_name": "HTMLModel",
            "_view_count": null,
            "_view_module": "@jupyter-widgets/controls",
            "_view_module_version": "1.5.0",
            "_view_name": "HTMLView",
            "description": "",
            "description_tooltip": null,
            "layout": "IPY_MODEL_4db7194579e844a2a4cba5259e309fab",
            "placeholder": "​",
            "style": "IPY_MODEL_acebfedeb03d4bfe813fad9d305bdfad",
            "value": " 1/1 [01:26&lt;00:00, 86.59s/it]"
          }
        },
        "cee688d5fdcc413a919a2f7a935bc785": {
          "model_module": "@jupyter-widgets/base",
          "model_name": "LayoutModel",
          "model_module_version": "1.2.0",
          "state": {
            "_model_module": "@jupyter-widgets/base",
            "_model_module_version": "1.2.0",
            "_model_name": "LayoutModel",
            "_view_count": null,
            "_view_module": "@jupyter-widgets/base",
            "_view_module_version": "1.2.0",
            "_view_name": "LayoutView",
            "align_content": null,
            "align_items": null,
            "align_self": null,
            "border": null,
            "bottom": null,
            "display": null,
            "flex": null,
            "flex_flow": null,
            "grid_area": null,
            "grid_auto_columns": null,
            "grid_auto_flow": null,
            "grid_auto_rows": null,
            "grid_column": null,
            "grid_gap": null,
            "grid_row": null,
            "grid_template_areas": null,
            "grid_template_columns": null,
            "grid_template_rows": null,
            "height": null,
            "justify_content": null,
            "justify_items": null,
            "left": null,
            "margin": null,
            "max_height": null,
            "max_width": null,
            "min_height": null,
            "min_width": null,
            "object_fit": null,
            "object_position": null,
            "order": null,
            "overflow": null,
            "overflow_x": null,
            "overflow_y": null,
            "padding": null,
            "right": null,
            "top": null,
            "visibility": null,
            "width": null
          }
        },
        "48407222d2f4482997d63baaddf5ba2d": {
          "model_module": "@jupyter-widgets/base",
          "model_name": "LayoutModel",
          "model_module_version": "1.2.0",
          "state": {
            "_model_module": "@jupyter-widgets/base",
            "_model_module_version": "1.2.0",
            "_model_name": "LayoutModel",
            "_view_count": null,
            "_view_module": "@jupyter-widgets/base",
            "_view_module_version": "1.2.0",
            "_view_name": "LayoutView",
            "align_content": null,
            "align_items": null,
            "align_self": null,
            "border": null,
            "bottom": null,
            "display": null,
            "flex": null,
            "flex_flow": null,
            "grid_area": null,
            "grid_auto_columns": null,
            "grid_auto_flow": null,
            "grid_auto_rows": null,
            "grid_column": null,
            "grid_gap": null,
            "grid_row": null,
            "grid_template_areas": null,
            "grid_template_columns": null,
            "grid_template_rows": null,
            "height": null,
            "justify_content": null,
            "justify_items": null,
            "left": null,
            "margin": null,
            "max_height": null,
            "max_width": null,
            "min_height": null,
            "min_width": null,
            "object_fit": null,
            "object_position": null,
            "order": null,
            "overflow": null,
            "overflow_x": null,
            "overflow_y": null,
            "padding": null,
            "right": null,
            "top": null,
            "visibility": null,
            "width": null
          }
        },
        "4d1e965b48054d61be83538cb8accef5": {
          "model_module": "@jupyter-widgets/controls",
          "model_name": "DescriptionStyleModel",
          "model_module_version": "1.5.0",
          "state": {
            "_model_module": "@jupyter-widgets/controls",
            "_model_module_version": "1.5.0",
            "_model_name": "DescriptionStyleModel",
            "_view_count": null,
            "_view_module": "@jupyter-widgets/base",
            "_view_module_version": "1.2.0",
            "_view_name": "StyleView",
            "description_width": ""
          }
        },
        "fcb8925355594098afc55a87982dd4b8": {
          "model_module": "@jupyter-widgets/base",
          "model_name": "LayoutModel",
          "model_module_version": "1.2.0",
          "state": {
            "_model_module": "@jupyter-widgets/base",
            "_model_module_version": "1.2.0",
            "_model_name": "LayoutModel",
            "_view_count": null,
            "_view_module": "@jupyter-widgets/base",
            "_view_module_version": "1.2.0",
            "_view_name": "LayoutView",
            "align_content": null,
            "align_items": null,
            "align_self": null,
            "border": null,
            "bottom": null,
            "display": null,
            "flex": null,
            "flex_flow": null,
            "grid_area": null,
            "grid_auto_columns": null,
            "grid_auto_flow": null,
            "grid_auto_rows": null,
            "grid_column": null,
            "grid_gap": null,
            "grid_row": null,
            "grid_template_areas": null,
            "grid_template_columns": null,
            "grid_template_rows": null,
            "height": null,
            "justify_content": null,
            "justify_items": null,
            "left": null,
            "margin": null,
            "max_height": null,
            "max_width": null,
            "min_height": null,
            "min_width": null,
            "object_fit": null,
            "object_position": null,
            "order": null,
            "overflow": null,
            "overflow_x": null,
            "overflow_y": null,
            "padding": null,
            "right": null,
            "top": null,
            "visibility": null,
            "width": null
          }
        },
        "fff2950070564a5c9043f0fa948bbe63": {
          "model_module": "@jupyter-widgets/controls",
          "model_name": "ProgressStyleModel",
          "model_module_version": "1.5.0",
          "state": {
            "_model_module": "@jupyter-widgets/controls",
            "_model_module_version": "1.5.0",
            "_model_name": "ProgressStyleModel",
            "_view_count": null,
            "_view_module": "@jupyter-widgets/base",
            "_view_module_version": "1.2.0",
            "_view_name": "StyleView",
            "bar_color": null,
            "description_width": ""
          }
        },
        "4db7194579e844a2a4cba5259e309fab": {
          "model_module": "@jupyter-widgets/base",
          "model_name": "LayoutModel",
          "model_module_version": "1.2.0",
          "state": {
            "_model_module": "@jupyter-widgets/base",
            "_model_module_version": "1.2.0",
            "_model_name": "LayoutModel",
            "_view_count": null,
            "_view_module": "@jupyter-widgets/base",
            "_view_module_version": "1.2.0",
            "_view_name": "LayoutView",
            "align_content": null,
            "align_items": null,
            "align_self": null,
            "border": null,
            "bottom": null,
            "display": null,
            "flex": null,
            "flex_flow": null,
            "grid_area": null,
            "grid_auto_columns": null,
            "grid_auto_flow": null,
            "grid_auto_rows": null,
            "grid_column": null,
            "grid_gap": null,
            "grid_row": null,
            "grid_template_areas": null,
            "grid_template_columns": null,
            "grid_template_rows": null,
            "height": null,
            "justify_content": null,
            "justify_items": null,
            "left": null,
            "margin": null,
            "max_height": null,
            "max_width": null,
            "min_height": null,
            "min_width": null,
            "object_fit": null,
            "object_position": null,
            "order": null,
            "overflow": null,
            "overflow_x": null,
            "overflow_y": null,
            "padding": null,
            "right": null,
            "top": null,
            "visibility": null,
            "width": null
          }
        },
        "acebfedeb03d4bfe813fad9d305bdfad": {
          "model_module": "@jupyter-widgets/controls",
          "model_name": "DescriptionStyleModel",
          "model_module_version": "1.5.0",
          "state": {
            "_model_module": "@jupyter-widgets/controls",
            "_model_module_version": "1.5.0",
            "_model_name": "DescriptionStyleModel",
            "_view_count": null,
            "_view_module": "@jupyter-widgets/base",
            "_view_module_version": "1.2.0",
            "_view_name": "StyleView",
            "description_width": ""
          }
        },
        "8d11012d9ce644a691b1681cafe41567": {
          "model_module": "@jupyter-widgets/controls",
          "model_name": "HBoxModel",
          "model_module_version": "1.5.0",
          "state": {
            "_dom_classes": [],
            "_model_module": "@jupyter-widgets/controls",
            "_model_module_version": "1.5.0",
            "_model_name": "HBoxModel",
            "_view_count": null,
            "_view_module": "@jupyter-widgets/controls",
            "_view_module_version": "1.5.0",
            "_view_name": "HBoxView",
            "box_style": "",
            "children": [
              "IPY_MODEL_829ad3a9e64b402e9dbe01fabc10b926",
              "IPY_MODEL_8c14b1b6694841aabee5e3f48b9c959f",
              "IPY_MODEL_87f78344f6e84ac5bf4f3925b6e23f70"
            ],
            "layout": "IPY_MODEL_b84d594e4c2e41dd94782f873b1e97ba"
          }
        },
        "829ad3a9e64b402e9dbe01fabc10b926": {
          "model_module": "@jupyter-widgets/controls",
          "model_name": "HTMLModel",
          "model_module_version": "1.5.0",
          "state": {
            "_dom_classes": [],
            "_model_module": "@jupyter-widgets/controls",
            "_model_module_version": "1.5.0",
            "_model_name": "HTMLModel",
            "_view_count": null,
            "_view_module": "@jupyter-widgets/controls",
            "_view_module_version": "1.5.0",
            "_view_name": "HTMLView",
            "description": "",
            "description_tooltip": null,
            "layout": "IPY_MODEL_aa9cbf35f4b542708569de1b49e5680e",
            "placeholder": "​",
            "style": "IPY_MODEL_6d14e9e0e2e844779f87f96a7c385d4b",
            "value": "Making predictions....: 100%"
          }
        },
        "8c14b1b6694841aabee5e3f48b9c959f": {
          "model_module": "@jupyter-widgets/controls",
          "model_name": "FloatProgressModel",
          "model_module_version": "1.5.0",
          "state": {
            "_dom_classes": [],
            "_model_module": "@jupyter-widgets/controls",
            "_model_module_version": "1.5.0",
            "_model_name": "FloatProgressModel",
            "_view_count": null,
            "_view_module": "@jupyter-widgets/controls",
            "_view_module_version": "1.5.0",
            "_view_name": "ProgressView",
            "bar_style": "success",
            "description": "",
            "description_tooltip": null,
            "layout": "IPY_MODEL_0abcc779c733433bbbfb7872d517b86c",
            "max": 313,
            "min": 0,
            "orientation": "horizontal",
            "style": "IPY_MODEL_554d1645c6d04687a462d511008c15c0",
            "value": 313
          }
        },
        "87f78344f6e84ac5bf4f3925b6e23f70": {
          "model_module": "@jupyter-widgets/controls",
          "model_name": "HTMLModel",
          "model_module_version": "1.5.0",
          "state": {
            "_dom_classes": [],
            "_model_module": "@jupyter-widgets/controls",
            "_model_module_version": "1.5.0",
            "_model_name": "HTMLModel",
            "_view_count": null,
            "_view_module": "@jupyter-widgets/controls",
            "_view_module_version": "1.5.0",
            "_view_name": "HTMLView",
            "description": "",
            "description_tooltip": null,
            "layout": "IPY_MODEL_73e2b789e0c64fd4aad5cd020e5fcdef",
            "placeholder": "​",
            "style": "IPY_MODEL_b72ddf86cfb74cef86fccc8068171949",
            "value": " 313/313 [00:06&lt;00:00, 54.27it/s]"
          }
        },
        "b84d594e4c2e41dd94782f873b1e97ba": {
          "model_module": "@jupyter-widgets/base",
          "model_name": "LayoutModel",
          "model_module_version": "1.2.0",
          "state": {
            "_model_module": "@jupyter-widgets/base",
            "_model_module_version": "1.2.0",
            "_model_name": "LayoutModel",
            "_view_count": null,
            "_view_module": "@jupyter-widgets/base",
            "_view_module_version": "1.2.0",
            "_view_name": "LayoutView",
            "align_content": null,
            "align_items": null,
            "align_self": null,
            "border": null,
            "bottom": null,
            "display": null,
            "flex": null,
            "flex_flow": null,
            "grid_area": null,
            "grid_auto_columns": null,
            "grid_auto_flow": null,
            "grid_auto_rows": null,
            "grid_column": null,
            "grid_gap": null,
            "grid_row": null,
            "grid_template_areas": null,
            "grid_template_columns": null,
            "grid_template_rows": null,
            "height": null,
            "justify_content": null,
            "justify_items": null,
            "left": null,
            "margin": null,
            "max_height": null,
            "max_width": null,
            "min_height": null,
            "min_width": null,
            "object_fit": null,
            "object_position": null,
            "order": null,
            "overflow": null,
            "overflow_x": null,
            "overflow_y": null,
            "padding": null,
            "right": null,
            "top": null,
            "visibility": null,
            "width": null
          }
        },
        "aa9cbf35f4b542708569de1b49e5680e": {
          "model_module": "@jupyter-widgets/base",
          "model_name": "LayoutModel",
          "model_module_version": "1.2.0",
          "state": {
            "_model_module": "@jupyter-widgets/base",
            "_model_module_version": "1.2.0",
            "_model_name": "LayoutModel",
            "_view_count": null,
            "_view_module": "@jupyter-widgets/base",
            "_view_module_version": "1.2.0",
            "_view_name": "LayoutView",
            "align_content": null,
            "align_items": null,
            "align_self": null,
            "border": null,
            "bottom": null,
            "display": null,
            "flex": null,
            "flex_flow": null,
            "grid_area": null,
            "grid_auto_columns": null,
            "grid_auto_flow": null,
            "grid_auto_rows": null,
            "grid_column": null,
            "grid_gap": null,
            "grid_row": null,
            "grid_template_areas": null,
            "grid_template_columns": null,
            "grid_template_rows": null,
            "height": null,
            "justify_content": null,
            "justify_items": null,
            "left": null,
            "margin": null,
            "max_height": null,
            "max_width": null,
            "min_height": null,
            "min_width": null,
            "object_fit": null,
            "object_position": null,
            "order": null,
            "overflow": null,
            "overflow_x": null,
            "overflow_y": null,
            "padding": null,
            "right": null,
            "top": null,
            "visibility": null,
            "width": null
          }
        },
        "6d14e9e0e2e844779f87f96a7c385d4b": {
          "model_module": "@jupyter-widgets/controls",
          "model_name": "DescriptionStyleModel",
          "model_module_version": "1.5.0",
          "state": {
            "_model_module": "@jupyter-widgets/controls",
            "_model_module_version": "1.5.0",
            "_model_name": "DescriptionStyleModel",
            "_view_count": null,
            "_view_module": "@jupyter-widgets/base",
            "_view_module_version": "1.2.0",
            "_view_name": "StyleView",
            "description_width": ""
          }
        },
        "0abcc779c733433bbbfb7872d517b86c": {
          "model_module": "@jupyter-widgets/base",
          "model_name": "LayoutModel",
          "model_module_version": "1.2.0",
          "state": {
            "_model_module": "@jupyter-widgets/base",
            "_model_module_version": "1.2.0",
            "_model_name": "LayoutModel",
            "_view_count": null,
            "_view_module": "@jupyter-widgets/base",
            "_view_module_version": "1.2.0",
            "_view_name": "LayoutView",
            "align_content": null,
            "align_items": null,
            "align_self": null,
            "border": null,
            "bottom": null,
            "display": null,
            "flex": null,
            "flex_flow": null,
            "grid_area": null,
            "grid_auto_columns": null,
            "grid_auto_flow": null,
            "grid_auto_rows": null,
            "grid_column": null,
            "grid_gap": null,
            "grid_row": null,
            "grid_template_areas": null,
            "grid_template_columns": null,
            "grid_template_rows": null,
            "height": null,
            "justify_content": null,
            "justify_items": null,
            "left": null,
            "margin": null,
            "max_height": null,
            "max_width": null,
            "min_height": null,
            "min_width": null,
            "object_fit": null,
            "object_position": null,
            "order": null,
            "overflow": null,
            "overflow_x": null,
            "overflow_y": null,
            "padding": null,
            "right": null,
            "top": null,
            "visibility": null,
            "width": null
          }
        },
        "554d1645c6d04687a462d511008c15c0": {
          "model_module": "@jupyter-widgets/controls",
          "model_name": "ProgressStyleModel",
          "model_module_version": "1.5.0",
          "state": {
            "_model_module": "@jupyter-widgets/controls",
            "_model_module_version": "1.5.0",
            "_model_name": "ProgressStyleModel",
            "_view_count": null,
            "_view_module": "@jupyter-widgets/base",
            "_view_module_version": "1.2.0",
            "_view_name": "StyleView",
            "bar_color": null,
            "description_width": ""
          }
        },
        "73e2b789e0c64fd4aad5cd020e5fcdef": {
          "model_module": "@jupyter-widgets/base",
          "model_name": "LayoutModel",
          "model_module_version": "1.2.0",
          "state": {
            "_model_module": "@jupyter-widgets/base",
            "_model_module_version": "1.2.0",
            "_model_name": "LayoutModel",
            "_view_count": null,
            "_view_module": "@jupyter-widgets/base",
            "_view_module_version": "1.2.0",
            "_view_name": "LayoutView",
            "align_content": null,
            "align_items": null,
            "align_self": null,
            "border": null,
            "bottom": null,
            "display": null,
            "flex": null,
            "flex_flow": null,
            "grid_area": null,
            "grid_auto_columns": null,
            "grid_auto_flow": null,
            "grid_auto_rows": null,
            "grid_column": null,
            "grid_gap": null,
            "grid_row": null,
            "grid_template_areas": null,
            "grid_template_columns": null,
            "grid_template_rows": null,
            "height": null,
            "justify_content": null,
            "justify_items": null,
            "left": null,
            "margin": null,
            "max_height": null,
            "max_width": null,
            "min_height": null,
            "min_width": null,
            "object_fit": null,
            "object_position": null,
            "order": null,
            "overflow": null,
            "overflow_x": null,
            "overflow_y": null,
            "padding": null,
            "right": null,
            "top": null,
            "visibility": null,
            "width": null
          }
        },
        "b72ddf86cfb74cef86fccc8068171949": {
          "model_module": "@jupyter-widgets/controls",
          "model_name": "DescriptionStyleModel",
          "model_module_version": "1.5.0",
          "state": {
            "_model_module": "@jupyter-widgets/controls",
            "_model_module_version": "1.5.0",
            "_model_name": "DescriptionStyleModel",
            "_view_count": null,
            "_view_module": "@jupyter-widgets/base",
            "_view_module_version": "1.2.0",
            "_view_name": "StyleView",
            "description_width": ""
          }
        }
      }
    }
  },
  "cells": [
    {
      "cell_type": "markdown",
      "source": [
        "# Pytorch Computer Vision"
      ],
      "metadata": {
        "id": "m2Zp0KEdFxIs"
      }
    },
    {
      "cell_type": "markdown",
      "source": [
        "## 0. Computer Vision libraries in pytorch\n",
        "\n",
        "* `torchvision` - base domain library for pytorch computer vision\n",
        "* `torchvision.datasets` - get datasets and data loading functions for computer vision here\n",
        "* `torchvision.models` - get pretrained computer vision models that you can leverage for your own problems\n",
        "* `torchvision.tranforms` - functions for manipulating  your vision data (images) to be suitable for use with an ML model\n",
        "* `torch.utils.data.Dataset` - Base dataset class for pytorch\n",
        "* `torch.utils.data.DataLoader` - Creates a python iterable over a dataset"
      ],
      "metadata": {
        "id": "XaflfHydMvWs"
      }
    },
    {
      "cell_type": "code",
      "source": [
        "# import pytorch\n",
        "import torch\n",
        "from torch import nn\n",
        "\n",
        "# import torchvision\n",
        "import torchvision\n",
        "from torchvision import datasets\n",
        "from torchvision import transforms\n",
        "from torchvision.transforms import ToTensor\n",
        "\n",
        "# Import matplotlib for visualization\n",
        "import matplotlib.pyplot as plt\n",
        "\n",
        "# Check Versions\n",
        "print(torch.__version__)\n",
        "print(torchvision.__version__)\n"
      ],
      "metadata": {
        "colab": {
          "base_uri": "https://localhost:8080/"
        },
        "id": "xrLqz314OkF2",
        "outputId": "ed49cd65-09df-4d32-fab0-5fe028713adc"
      },
      "execution_count": null,
      "outputs": [
        {
          "output_type": "stream",
          "name": "stdout",
          "text": [
            "2.1.0+cu121\n",
            "0.16.0+cu121\n"
          ]
        }
      ]
    },
    {
      "cell_type": "markdown",
      "source": [
        "## 1. Getting a dataset\n",
        "\n",
        "The dataset we'll be using is FashionMNIST."
      ],
      "metadata": {
        "id": "WPv4drSxQBND"
      }
    },
    {
      "cell_type": "code",
      "source": [
        "# Setup the training data\n",
        "train_data = datasets.FashionMNIST(\n",
        "    root= 'data', # where to download data to\n",
        "    train=True, # do we want the training dataset\n",
        "    download=True, # do we want to download the data\n",
        "    transform=ToTensor(), # how do we want to transform the data\n",
        "    target_transform=None # how do we want to transform the labels\n",
        ")\n",
        "\n",
        "test_data = datasets.FashionMNIST(\n",
        "    root= 'data',\n",
        "    train=False,\n",
        "    download=True,\n",
        "    transform=ToTensor(),\n",
        "    target_transform=None,\n",
        ")"
      ],
      "metadata": {
        "colab": {
          "base_uri": "https://localhost:8080/"
        },
        "id": "K3vM3c9URSP7",
        "outputId": "4efdc12b-6453-4351-8c9c-79056892f01a"
      },
      "execution_count": null,
      "outputs": [
        {
          "output_type": "stream",
          "name": "stdout",
          "text": [
            "Downloading http://fashion-mnist.s3-website.eu-central-1.amazonaws.com/train-images-idx3-ubyte.gz\n",
            "Downloading http://fashion-mnist.s3-website.eu-central-1.amazonaws.com/train-images-idx3-ubyte.gz to data/FashionMNIST/raw/train-images-idx3-ubyte.gz\n"
          ]
        },
        {
          "output_type": "stream",
          "name": "stderr",
          "text": [
            "100%|██████████| 26421880/26421880 [00:02<00:00, 9979552.80it/s] \n"
          ]
        },
        {
          "output_type": "stream",
          "name": "stdout",
          "text": [
            "Extracting data/FashionMNIST/raw/train-images-idx3-ubyte.gz to data/FashionMNIST/raw\n",
            "\n",
            "Downloading http://fashion-mnist.s3-website.eu-central-1.amazonaws.com/train-labels-idx1-ubyte.gz\n",
            "Downloading http://fashion-mnist.s3-website.eu-central-1.amazonaws.com/train-labels-idx1-ubyte.gz to data/FashionMNIST/raw/train-labels-idx1-ubyte.gz\n"
          ]
        },
        {
          "output_type": "stream",
          "name": "stderr",
          "text": [
            "100%|██████████| 29515/29515 [00:00<00:00, 176665.34it/s]\n"
          ]
        },
        {
          "output_type": "stream",
          "name": "stdout",
          "text": [
            "Extracting data/FashionMNIST/raw/train-labels-idx1-ubyte.gz to data/FashionMNIST/raw\n",
            "\n",
            "Downloading http://fashion-mnist.s3-website.eu-central-1.amazonaws.com/t10k-images-idx3-ubyte.gz\n",
            "Downloading http://fashion-mnist.s3-website.eu-central-1.amazonaws.com/t10k-images-idx3-ubyte.gz to data/FashionMNIST/raw/t10k-images-idx3-ubyte.gz\n"
          ]
        },
        {
          "output_type": "stream",
          "name": "stderr",
          "text": [
            "100%|██████████| 4422102/4422102 [00:01<00:00, 3244003.18it/s]\n"
          ]
        },
        {
          "output_type": "stream",
          "name": "stdout",
          "text": [
            "Extracting data/FashionMNIST/raw/t10k-images-idx3-ubyte.gz to data/FashionMNIST/raw\n",
            "\n",
            "Downloading http://fashion-mnist.s3-website.eu-central-1.amazonaws.com/t10k-labels-idx1-ubyte.gz\n",
            "Downloading http://fashion-mnist.s3-website.eu-central-1.amazonaws.com/t10k-labels-idx1-ubyte.gz to data/FashionMNIST/raw/t10k-labels-idx1-ubyte.gz\n"
          ]
        },
        {
          "output_type": "stream",
          "name": "stderr",
          "text": [
            "100%|██████████| 5148/5148 [00:00<00:00, 1558671.55it/s]\n"
          ]
        },
        {
          "output_type": "stream",
          "name": "stdout",
          "text": [
            "Extracting data/FashionMNIST/raw/t10k-labels-idx1-ubyte.gz to data/FashionMNIST/raw\n",
            "\n"
          ]
        }
      ]
    },
    {
      "cell_type": "code",
      "source": [
        "len(train_data), len(test_data)"
      ],
      "metadata": {
        "colab": {
          "base_uri": "https://localhost:8080/"
        },
        "id": "eIvrk-9sRSUF",
        "outputId": "06145ac4-94fb-4101-eb69-6242154b3bf5"
      },
      "execution_count": null,
      "outputs": [
        {
          "output_type": "execute_result",
          "data": {
            "text/plain": [
              "(60000, 10000)"
            ]
          },
          "metadata": {},
          "execution_count": 3
        }
      ]
    },
    {
      "cell_type": "code",
      "source": [
        "# see the first training example\n",
        "image, label = train_data[0]\n",
        "image, label"
      ],
      "metadata": {
        "colab": {
          "base_uri": "https://localhost:8080/"
        },
        "id": "u9aLithkRUAZ",
        "outputId": "580cb92d-d382-47a4-8a95-54287067420f"
      },
      "execution_count": null,
      "outputs": [
        {
          "output_type": "execute_result",
          "data": {
            "text/plain": [
              "(tensor([[[0.0000, 0.0000, 0.0000, 0.0000, 0.0000, 0.0000, 0.0000, 0.0000,\n",
              "           0.0000, 0.0000, 0.0000, 0.0000, 0.0000, 0.0000, 0.0000, 0.0000,\n",
              "           0.0000, 0.0000, 0.0000, 0.0000, 0.0000, 0.0000, 0.0000, 0.0000,\n",
              "           0.0000, 0.0000, 0.0000, 0.0000],\n",
              "          [0.0000, 0.0000, 0.0000, 0.0000, 0.0000, 0.0000, 0.0000, 0.0000,\n",
              "           0.0000, 0.0000, 0.0000, 0.0000, 0.0000, 0.0000, 0.0000, 0.0000,\n",
              "           0.0000, 0.0000, 0.0000, 0.0000, 0.0000, 0.0000, 0.0000, 0.0000,\n",
              "           0.0000, 0.0000, 0.0000, 0.0000],\n",
              "          [0.0000, 0.0000, 0.0000, 0.0000, 0.0000, 0.0000, 0.0000, 0.0000,\n",
              "           0.0000, 0.0000, 0.0000, 0.0000, 0.0000, 0.0000, 0.0000, 0.0000,\n",
              "           0.0000, 0.0000, 0.0000, 0.0000, 0.0000, 0.0000, 0.0000, 0.0000,\n",
              "           0.0000, 0.0000, 0.0000, 0.0000],\n",
              "          [0.0000, 0.0000, 0.0000, 0.0000, 0.0000, 0.0000, 0.0000, 0.0000,\n",
              "           0.0000, 0.0000, 0.0000, 0.0000, 0.0039, 0.0000, 0.0000, 0.0510,\n",
              "           0.2863, 0.0000, 0.0000, 0.0039, 0.0157, 0.0000, 0.0000, 0.0000,\n",
              "           0.0000, 0.0039, 0.0039, 0.0000],\n",
              "          [0.0000, 0.0000, 0.0000, 0.0000, 0.0000, 0.0000, 0.0000, 0.0000,\n",
              "           0.0000, 0.0000, 0.0000, 0.0000, 0.0118, 0.0000, 0.1412, 0.5333,\n",
              "           0.4980, 0.2431, 0.2118, 0.0000, 0.0000, 0.0000, 0.0039, 0.0118,\n",
              "           0.0157, 0.0000, 0.0000, 0.0118],\n",
              "          [0.0000, 0.0000, 0.0000, 0.0000, 0.0000, 0.0000, 0.0000, 0.0000,\n",
              "           0.0000, 0.0000, 0.0000, 0.0000, 0.0235, 0.0000, 0.4000, 0.8000,\n",
              "           0.6902, 0.5255, 0.5647, 0.4824, 0.0902, 0.0000, 0.0000, 0.0000,\n",
              "           0.0000, 0.0471, 0.0392, 0.0000],\n",
              "          [0.0000, 0.0000, 0.0000, 0.0000, 0.0000, 0.0000, 0.0000, 0.0000,\n",
              "           0.0000, 0.0000, 0.0000, 0.0000, 0.0000, 0.0000, 0.6078, 0.9255,\n",
              "           0.8118, 0.6980, 0.4196, 0.6118, 0.6314, 0.4275, 0.2510, 0.0902,\n",
              "           0.3020, 0.5098, 0.2824, 0.0588],\n",
              "          [0.0000, 0.0000, 0.0000, 0.0000, 0.0000, 0.0000, 0.0000, 0.0000,\n",
              "           0.0000, 0.0000, 0.0000, 0.0039, 0.0000, 0.2706, 0.8118, 0.8745,\n",
              "           0.8549, 0.8471, 0.8471, 0.6392, 0.4980, 0.4745, 0.4784, 0.5725,\n",
              "           0.5529, 0.3451, 0.6745, 0.2588],\n",
              "          [0.0000, 0.0000, 0.0000, 0.0000, 0.0000, 0.0000, 0.0000, 0.0000,\n",
              "           0.0000, 0.0039, 0.0039, 0.0039, 0.0000, 0.7843, 0.9098, 0.9098,\n",
              "           0.9137, 0.8980, 0.8745, 0.8745, 0.8431, 0.8353, 0.6431, 0.4980,\n",
              "           0.4824, 0.7686, 0.8980, 0.0000],\n",
              "          [0.0000, 0.0000, 0.0000, 0.0000, 0.0000, 0.0000, 0.0000, 0.0000,\n",
              "           0.0000, 0.0000, 0.0000, 0.0000, 0.0000, 0.7176, 0.8824, 0.8471,\n",
              "           0.8745, 0.8941, 0.9216, 0.8902, 0.8784, 0.8706, 0.8784, 0.8667,\n",
              "           0.8745, 0.9608, 0.6784, 0.0000],\n",
              "          [0.0000, 0.0000, 0.0000, 0.0000, 0.0000, 0.0000, 0.0000, 0.0000,\n",
              "           0.0000, 0.0000, 0.0000, 0.0000, 0.0000, 0.7569, 0.8941, 0.8549,\n",
              "           0.8353, 0.7765, 0.7059, 0.8314, 0.8235, 0.8275, 0.8353, 0.8745,\n",
              "           0.8627, 0.9529, 0.7922, 0.0000],\n",
              "          [0.0000, 0.0000, 0.0000, 0.0000, 0.0000, 0.0000, 0.0000, 0.0000,\n",
              "           0.0000, 0.0039, 0.0118, 0.0000, 0.0471, 0.8588, 0.8627, 0.8314,\n",
              "           0.8549, 0.7529, 0.6627, 0.8902, 0.8157, 0.8549, 0.8784, 0.8314,\n",
              "           0.8863, 0.7725, 0.8196, 0.2039],\n",
              "          [0.0000, 0.0000, 0.0000, 0.0000, 0.0000, 0.0000, 0.0000, 0.0000,\n",
              "           0.0000, 0.0000, 0.0235, 0.0000, 0.3882, 0.9569, 0.8706, 0.8627,\n",
              "           0.8549, 0.7961, 0.7765, 0.8667, 0.8431, 0.8353, 0.8706, 0.8627,\n",
              "           0.9608, 0.4667, 0.6549, 0.2196],\n",
              "          [0.0000, 0.0000, 0.0000, 0.0000, 0.0000, 0.0000, 0.0000, 0.0000,\n",
              "           0.0000, 0.0157, 0.0000, 0.0000, 0.2157, 0.9255, 0.8941, 0.9020,\n",
              "           0.8941, 0.9412, 0.9098, 0.8353, 0.8549, 0.8745, 0.9176, 0.8510,\n",
              "           0.8510, 0.8196, 0.3608, 0.0000],\n",
              "          [0.0000, 0.0000, 0.0039, 0.0157, 0.0235, 0.0275, 0.0078, 0.0000,\n",
              "           0.0000, 0.0000, 0.0000, 0.0000, 0.9294, 0.8863, 0.8510, 0.8745,\n",
              "           0.8706, 0.8588, 0.8706, 0.8667, 0.8471, 0.8745, 0.8980, 0.8431,\n",
              "           0.8549, 1.0000, 0.3020, 0.0000],\n",
              "          [0.0000, 0.0118, 0.0000, 0.0000, 0.0000, 0.0000, 0.0000, 0.0000,\n",
              "           0.0000, 0.2431, 0.5686, 0.8000, 0.8941, 0.8118, 0.8353, 0.8667,\n",
              "           0.8549, 0.8157, 0.8275, 0.8549, 0.8784, 0.8745, 0.8588, 0.8431,\n",
              "           0.8784, 0.9569, 0.6235, 0.0000],\n",
              "          [0.0000, 0.0000, 0.0000, 0.0000, 0.0706, 0.1725, 0.3216, 0.4196,\n",
              "           0.7412, 0.8941, 0.8627, 0.8706, 0.8510, 0.8863, 0.7843, 0.8039,\n",
              "           0.8275, 0.9020, 0.8784, 0.9176, 0.6902, 0.7373, 0.9804, 0.9725,\n",
              "           0.9137, 0.9333, 0.8431, 0.0000],\n",
              "          [0.0000, 0.2235, 0.7333, 0.8157, 0.8784, 0.8667, 0.8784, 0.8157,\n",
              "           0.8000, 0.8392, 0.8157, 0.8196, 0.7843, 0.6235, 0.9608, 0.7569,\n",
              "           0.8078, 0.8745, 1.0000, 1.0000, 0.8667, 0.9176, 0.8667, 0.8275,\n",
              "           0.8627, 0.9098, 0.9647, 0.0000],\n",
              "          [0.0118, 0.7922, 0.8941, 0.8784, 0.8667, 0.8275, 0.8275, 0.8392,\n",
              "           0.8039, 0.8039, 0.8039, 0.8627, 0.9412, 0.3137, 0.5882, 1.0000,\n",
              "           0.8980, 0.8667, 0.7373, 0.6039, 0.7490, 0.8235, 0.8000, 0.8196,\n",
              "           0.8706, 0.8941, 0.8824, 0.0000],\n",
              "          [0.3843, 0.9137, 0.7765, 0.8235, 0.8706, 0.8980, 0.8980, 0.9176,\n",
              "           0.9765, 0.8627, 0.7608, 0.8431, 0.8510, 0.9451, 0.2549, 0.2863,\n",
              "           0.4157, 0.4588, 0.6588, 0.8588, 0.8667, 0.8431, 0.8510, 0.8745,\n",
              "           0.8745, 0.8784, 0.8980, 0.1137],\n",
              "          [0.2941, 0.8000, 0.8314, 0.8000, 0.7569, 0.8039, 0.8275, 0.8824,\n",
              "           0.8471, 0.7255, 0.7725, 0.8078, 0.7765, 0.8353, 0.9412, 0.7647,\n",
              "           0.8902, 0.9608, 0.9373, 0.8745, 0.8549, 0.8314, 0.8196, 0.8706,\n",
              "           0.8627, 0.8667, 0.9020, 0.2627],\n",
              "          [0.1882, 0.7961, 0.7176, 0.7608, 0.8353, 0.7725, 0.7255, 0.7451,\n",
              "           0.7608, 0.7529, 0.7922, 0.8392, 0.8588, 0.8667, 0.8627, 0.9255,\n",
              "           0.8824, 0.8471, 0.7804, 0.8078, 0.7294, 0.7098, 0.6941, 0.6745,\n",
              "           0.7098, 0.8039, 0.8078, 0.4510],\n",
              "          [0.0000, 0.4784, 0.8588, 0.7569, 0.7020, 0.6706, 0.7176, 0.7686,\n",
              "           0.8000, 0.8235, 0.8353, 0.8118, 0.8275, 0.8235, 0.7843, 0.7686,\n",
              "           0.7608, 0.7490, 0.7647, 0.7490, 0.7765, 0.7529, 0.6902, 0.6118,\n",
              "           0.6549, 0.6941, 0.8235, 0.3608],\n",
              "          [0.0000, 0.0000, 0.2902, 0.7412, 0.8314, 0.7490, 0.6863, 0.6745,\n",
              "           0.6863, 0.7098, 0.7255, 0.7373, 0.7412, 0.7373, 0.7569, 0.7765,\n",
              "           0.8000, 0.8196, 0.8235, 0.8235, 0.8275, 0.7373, 0.7373, 0.7608,\n",
              "           0.7529, 0.8471, 0.6667, 0.0000],\n",
              "          [0.0078, 0.0000, 0.0000, 0.0000, 0.2588, 0.7843, 0.8706, 0.9294,\n",
              "           0.9373, 0.9490, 0.9647, 0.9529, 0.9569, 0.8667, 0.8627, 0.7569,\n",
              "           0.7490, 0.7020, 0.7137, 0.7137, 0.7098, 0.6902, 0.6510, 0.6588,\n",
              "           0.3882, 0.2275, 0.0000, 0.0000],\n",
              "          [0.0000, 0.0000, 0.0000, 0.0000, 0.0000, 0.0000, 0.0000, 0.1569,\n",
              "           0.2392, 0.1725, 0.2824, 0.1608, 0.1373, 0.0000, 0.0000, 0.0000,\n",
              "           0.0000, 0.0000, 0.0000, 0.0000, 0.0000, 0.0000, 0.0000, 0.0000,\n",
              "           0.0000, 0.0000, 0.0000, 0.0000],\n",
              "          [0.0000, 0.0000, 0.0000, 0.0000, 0.0000, 0.0000, 0.0000, 0.0000,\n",
              "           0.0000, 0.0000, 0.0000, 0.0000, 0.0000, 0.0000, 0.0000, 0.0000,\n",
              "           0.0000, 0.0000, 0.0000, 0.0000, 0.0000, 0.0000, 0.0000, 0.0000,\n",
              "           0.0000, 0.0000, 0.0000, 0.0000],\n",
              "          [0.0000, 0.0000, 0.0000, 0.0000, 0.0000, 0.0000, 0.0000, 0.0000,\n",
              "           0.0000, 0.0000, 0.0000, 0.0000, 0.0000, 0.0000, 0.0000, 0.0000,\n",
              "           0.0000, 0.0000, 0.0000, 0.0000, 0.0000, 0.0000, 0.0000, 0.0000,\n",
              "           0.0000, 0.0000, 0.0000, 0.0000]]]),\n",
              " 9)"
            ]
          },
          "metadata": {},
          "execution_count": 4
        }
      ]
    },
    {
      "cell_type": "code",
      "source": [
        "class_names = train_data.classes\n",
        "class_names"
      ],
      "metadata": {
        "colab": {
          "base_uri": "https://localhost:8080/"
        },
        "id": "aTNnIU3_RUF_",
        "outputId": "6e5def2a-09e5-42c9-ffa2-0d07fd68f0f3"
      },
      "execution_count": null,
      "outputs": [
        {
          "output_type": "execute_result",
          "data": {
            "text/plain": [
              "['T-shirt/top',\n",
              " 'Trouser',\n",
              " 'Pullover',\n",
              " 'Dress',\n",
              " 'Coat',\n",
              " 'Sandal',\n",
              " 'Shirt',\n",
              " 'Sneaker',\n",
              " 'Bag',\n",
              " 'Ankle boot']"
            ]
          },
          "metadata": {},
          "execution_count": 5
        }
      ]
    },
    {
      "cell_type": "code",
      "source": [
        "class_to_idx = train_data.class_to_idx\n",
        "class_to_idx"
      ],
      "metadata": {
        "colab": {
          "base_uri": "https://localhost:8080/"
        },
        "id": "LbrrW4HrRUK0",
        "outputId": "81660ab6-32da-4f54-80fa-f67c2f49c000"
      },
      "execution_count": null,
      "outputs": [
        {
          "output_type": "execute_result",
          "data": {
            "text/plain": [
              "{'T-shirt/top': 0,\n",
              " 'Trouser': 1,\n",
              " 'Pullover': 2,\n",
              " 'Dress': 3,\n",
              " 'Coat': 4,\n",
              " 'Sandal': 5,\n",
              " 'Shirt': 6,\n",
              " 'Sneaker': 7,\n",
              " 'Bag': 8,\n",
              " 'Ankle boot': 9}"
            ]
          },
          "metadata": {},
          "execution_count": 6
        }
      ]
    },
    {
      "cell_type": "code",
      "source": [
        "train_data.targets"
      ],
      "metadata": {
        "colab": {
          "base_uri": "https://localhost:8080/"
        },
        "id": "zwFTUNZgRUQN",
        "outputId": "fbe6030b-4c25-485e-a00a-94b5bc1862f9"
      },
      "execution_count": null,
      "outputs": [
        {
          "output_type": "execute_result",
          "data": {
            "text/plain": [
              "tensor([9, 0, 0,  ..., 3, 0, 5])"
            ]
          },
          "metadata": {},
          "execution_count": 7
        }
      ]
    },
    {
      "cell_type": "code",
      "source": [
        "# check the shape of our image\n",
        "print(f\"Image Shape: {image.shape} -> [color_channels, height, width]\")\n",
        "print(f\"Image label: {class_names[label]}\")"
      ],
      "metadata": {
        "colab": {
          "base_uri": "https://localhost:8080/"
        },
        "id": "YzA8bMEpU2v1",
        "outputId": "3cf5db2e-c978-4b4a-bdb8-811890703019"
      },
      "execution_count": null,
      "outputs": [
        {
          "output_type": "stream",
          "name": "stdout",
          "text": [
            "Image Shape: torch.Size([1, 28, 28]) -> [color_channels, height, width]\n",
            "Image label: Ankle boot\n"
          ]
        }
      ]
    },
    {
      "cell_type": "markdown",
      "source": [
        "### 1.2 Visualizing our data"
      ],
      "metadata": {
        "id": "uVCNQb-1VMmY"
      }
    },
    {
      "cell_type": "code",
      "source": [
        "import matplotlib.pyplot as plt\n",
        "image, label = train_data[0]\n",
        "print(f\"Image shape: {image.shape}\")\n",
        "plt.imshow(image.squeeze())\n",
        "plt.title(label)"
      ],
      "metadata": {
        "colab": {
          "base_uri": "https://localhost:8080/",
          "height": 487
        },
        "id": "0owOy8kWzhE4",
        "outputId": "eabd8c97-2484-48ee-f7ed-805852e804fc"
      },
      "execution_count": null,
      "outputs": [
        {
          "output_type": "stream",
          "name": "stdout",
          "text": [
            "Image shape: torch.Size([1, 28, 28])\n"
          ]
        },
        {
          "output_type": "execute_result",
          "data": {
            "text/plain": [
              "Text(0.5, 1.0, '9')"
            ]
          },
          "metadata": {},
          "execution_count": 9
        },
        {
          "output_type": "display_data",
          "data": {
            "text/plain": [
              "<Figure size 640x480 with 1 Axes>"
            ],
            "image/png": "[encoded data removed]"
          },
          "metadata": {}
        }
      ]
    },
    {
      "cell_type": "code",
      "source": [
        "plt.imshow(image.squeeze(), cmap='gray')\n",
        "plt.title(class_names[label])\n",
        "plt.axis(False)"
      ],
      "metadata": {
        "colab": {
          "base_uri": "https://localhost:8080/",
          "height": 445
        },
        "id": "5Peg5G8Kz5xH",
        "outputId": "7f9b499e-7e8f-4181-a528-a7dceba86f49"
      },
      "execution_count": null,
      "outputs": [
        {
          "output_type": "execute_result",
          "data": {
            "text/plain": [
              "(-0.5, 27.5, 27.5, -0.5)"
            ]
          },
          "metadata": {},
          "execution_count": 10
        },
        {
          "output_type": "display_data",
          "data": {
            "text/plain": [
              "<Figure size 640x480 with 1 Axes>"
            ],
            "image/png": "[encoded data removed]"
          },
          "metadata": {}
        }
      ]
    },
    {
      "cell_type": "code",
      "source": [
        "# plot more images\n",
        "torch.manual_seed(42)\n",
        "fig = plt.figure(figsize=(9, 9))\n",
        "rows, cols = 4, 4\n",
        "for i in range(1, rows*cols+1):\n",
        "  random_idx = torch.randint(0, len(train_data), size=[1]).item()\n",
        "  img, label = train_data[random_idx]\n",
        "  fig.add_subplot(rows, cols, i)\n",
        "  plt.imshow(img.squeeze(), cmap='gray')\n",
        "  plt.title(class_names[label])\n",
        "  plt.axis(False);"
      ],
      "metadata": {
        "colab": {
          "base_uri": "https://localhost:8080/",
          "height": 752
        },
        "id": "vf08LK_80VXe",
        "outputId": "ce551952-6569-4b14-97ee-cade7d12290b"
      },
      "execution_count": null,
      "outputs": [
        {
          "output_type": "display_data",
          "data": {
            "text/plain": [
              "<Figure size 900x900 with 16 Axes>"
            ],
            "image/png": "[encoded data removed]"
          },
          "metadata": {}
        }
      ]
    },
    {
      "cell_type": "markdown",
      "source": [
        "## 2. Prepare DataLoader\n",
        "\n",
        "Right now, our data is in the form of pytorch Datasets\n",
        "\n",
        "Recall That a data loader turns our dataset into Pytorch iterable\n",
        "\n",
        "More specifically we want to turn our data into Batches (or mini-batches)\n",
        "\n",
        "why would we do this?\n",
        "\n",
        "1. It is more computationally efficient, as in, your computing hardware may not be able to look (store in memory) at 60000 images in one hit. so we break it down to 32 images at a time (batch size of 32)\n",
        "\n",
        "2. It gives our neural network more chances to update its gradients per epoch.\n",
        "\n"
      ],
      "metadata": {
        "id": "0AthjFIO1D6Q"
      }
    },
    {
      "cell_type": "code",
      "source": [
        "from torch.utils.data import DataLoader\n",
        "\n",
        "# setup the batch size hyperparameter\n",
        "BATCH_SIZE = 32\n",
        "\n",
        "# Turn datasets into iterables (batches)\n",
        "train_dataloader = DataLoader(train_data,\n",
        "                              batch_size=BATCH_SIZE,\n",
        "                              shuffle=True)\n",
        "\n",
        "test_dataloader = DataLoader(test_data,\n",
        "                             batch_size=BATCH_SIZE,\n",
        "                             shuffle=False)\n",
        "\n",
        "train_dataloader, test_dataloader"
      ],
      "metadata": {
        "colab": {
          "base_uri": "https://localhost:8080/"
        },
        "id": "wu44gdSM6Llc",
        "outputId": "7d261dc7-8a98-44df-f2f9-f81cec171b6f"
      },
      "execution_count": null,
      "outputs": [
        {
          "output_type": "execute_result",
          "data": {
            "text/plain": [
              "(<torch.utils.data.dataloader.DataLoader at 0x7f276daa0e80>,\n",
              " <torch.utils.data.dataloader.DataLoader at 0x7f276da7a800>)"
            ]
          },
          "metadata": {},
          "execution_count": 12
        }
      ]
    },
    {
      "cell_type": "code",
      "source": [
        "# lets check out what we have created\n",
        "print(f'dataloaders: {train_dataloader, test_dataloader}')\n",
        "print(f'Length of the train dataloader {len(train_dataloader)} Batches of {BATCH_SIZE}')\n",
        "print(f'Length of the test dataloader {len(test_dataloader)} Batches of {BATCH_SIZE}')"
      ],
      "metadata": {
        "colab": {
          "base_uri": "https://localhost:8080/"
        },
        "id": "Py1-nMAP6LZs",
        "outputId": "d2e47b3e-57af-44af-afbd-0c75fe62693e"
      },
      "execution_count": null,
      "outputs": [
        {
          "output_type": "stream",
          "name": "stdout",
          "text": [
            "dataloaders: (<torch.utils.data.dataloader.DataLoader object at 0x7f276daa0e80>, <torch.utils.data.dataloader.DataLoader object at 0x7f276da7a800>)\n",
            "Length of the train dataloader 1875 Batches of 32\n",
            "Length of the test dataloader 313 Batches of 32\n"
          ]
        }
      ]
    },
    {
      "cell_type": "code",
      "source": [
        "# check out whats inside the training dataloader\n",
        "train_features_batch, train_labels_batch = next(iter(train_dataloader))\n",
        "train_features_batch.shape, train_labels_batch.shape"
      ],
      "metadata": {
        "colab": {
          "base_uri": "https://localhost:8080/"
        },
        "id": "xyRxdN1f9B4V",
        "outputId": "02fca26b-2d3e-4d5c-9654-2651510f3f95"
      },
      "execution_count": null,
      "outputs": [
        {
          "output_type": "execute_result",
          "data": {
            "text/plain": [
              "(torch.Size([32, 1, 28, 28]), torch.Size([32]))"
            ]
          },
          "metadata": {},
          "execution_count": 14
        }
      ]
    },
    {
      "cell_type": "code",
      "source": [
        "# show a sample\n",
        "# torch.manual_seed(42)\n",
        "random_idx = torch.randint(0, len(train_features_batch), size=[1]).item()\n",
        "img, label = train_features_batch[random_idx], train_labels_batch[random_idx]\n",
        "plt.imshow(img.squeeze(), cmap='gray')\n",
        "plt.title(class_names[label])\n",
        "plt.axis(False)\n",
        "print(f'Image size: {img.shape}')\n",
        "print(f'Label: {label}, Label size {label.shape}')\n"
      ],
      "metadata": {
        "colab": {
          "base_uri": "https://localhost:8080/",
          "height": 463
        },
        "id": "hISseUVe6LLd",
        "outputId": "376b20e0-f27d-47b4-a511-88c6149cbfee"
      },
      "execution_count": null,
      "outputs": [
        {
          "output_type": "stream",
          "name": "stdout",
          "text": [
            "Image size: torch.Size([1, 28, 28])\n",
            "Label: 8, Label size torch.Size([])\n"
          ]
        },
        {
          "output_type": "display_data",
          "data": {
            "text/plain": [
              "<Figure size 640x480 with 1 Axes>"
            ],
            "image/png": "[encoded data removed]"
          },
          "metadata": {}
        }
      ]
    },
    {
      "cell_type": "markdown",
      "source": [
        "## 3. Model 0: Build a baseline model\n",
        "\n",
        "When starting to build a series of machine learning experience, its best practice to start with a baseline model.\n",
        "\n",
        "A baseline model is a simple model you will try to improve upon with subsequent models/experiments.\n",
        "\n",
        "start simple and add complexity when necessary"
      ],
      "metadata": {
        "id": "NeEW5WeJ3Cgv"
      }
    },
    {
      "cell_type": "code",
      "source": [
        "# create a flatten layer\n",
        "flatten_model = nn.Flatten()\n",
        "\n",
        "# get a single sample\n",
        "x = train_features_batch[0]\n",
        "\n",
        "# flatten the sample\n",
        "output = flatten_model(x) # perform the forward pass\n",
        "\n",
        "# print what happened\n",
        "print(f'Shape before flattening: {x.shape} -> [color_channels, height, width]')\n",
        "print(f'Shape after flattening: {output.shape} [color_channels, height * width]')"
      ],
      "metadata": {
        "colab": {
          "base_uri": "https://localhost:8080/"
        },
        "id": "sL4T3Sp6_4x9",
        "outputId": "90583bab-a4df-4219-fe64-16e7cfab6f3b"
      },
      "execution_count": null,
      "outputs": [
        {
          "output_type": "stream",
          "name": "stdout",
          "text": [
            "Shape before flattening: torch.Size([1, 28, 28]) -> [color_channels, height, width]\n",
            "Shape after flattening: torch.Size([1, 784]) [color_channels, height * width]\n"
          ]
        }
      ]
    },
    {
      "cell_type": "code",
      "source": [
        "output.squeeze()"
      ],
      "metadata": {
        "colab": {
          "base_uri": "https://localhost:8080/"
        },
        "id": "HJuYgFX03ClF",
        "outputId": "e9d53ba5-8089-40ce-8245-dce1bdad2962"
      },
      "execution_count": null,
      "outputs": [
        {
          "output_type": "execute_result",
          "data": {
            "text/plain": [
              "tensor([0.0000, 0.0000, 0.0000, 0.0000, 0.0000, 0.0000, 0.0000, 0.0000, 0.0000,\n",
              "        0.0000, 0.0000, 0.0000, 0.0000, 0.0000, 0.0000, 0.0000, 0.0000, 0.0000,\n",
              "        0.0000, 0.0000, 0.0000, 0.0000, 0.0000, 0.0000, 0.0000, 0.0000, 0.0000,\n",
              "        0.0000, 0.0000, 0.0000, 0.0000, 0.0000, 0.0000, 0.0000, 0.0000, 0.0000,\n",
              "        0.0000, 0.0000, 0.0000, 0.0000, 0.0000, 0.0000, 0.0000, 0.0000, 0.0000,\n",
              "        0.0000, 0.0000, 0.0000, 0.0000, 0.0000, 0.0000, 0.0000, 0.0000, 0.0000,\n",
              "        0.0000, 0.0000, 0.0000, 0.0000, 0.0000, 0.0000, 0.0000, 0.0000, 0.0000,\n",
              "        0.0000, 0.0000, 0.0000, 0.0000, 0.0000, 0.0000, 0.0000, 0.0000, 0.0000,\n",
              "        0.0000, 0.0000, 0.0000, 0.0000, 0.0000, 0.0000, 0.0000, 0.0000, 0.0000,\n",
              "        0.0000, 0.0000, 0.0000, 0.0000, 0.0000, 0.0000, 0.0000, 0.0000, 0.0000,\n",
              "        0.0000, 0.0000, 0.0000, 0.0039, 0.0039, 0.0000, 0.0000, 0.0078, 0.0078,\n",
              "        0.0000, 0.0000, 0.0039, 0.0078, 0.0000, 0.0000, 0.0000, 0.0000, 0.0000,\n",
              "        0.2863, 0.0000, 0.0000, 0.0078, 0.0000, 0.0000, 0.0000, 0.0000, 0.0000,\n",
              "        0.0000, 0.0000, 0.0000, 0.0000, 0.0000, 0.0000, 0.0000, 0.0000, 0.0000,\n",
              "        0.0000, 0.0000, 0.0000, 0.0000, 0.0000, 0.0000, 0.0000, 0.0000, 0.0000,\n",
              "        0.0000, 0.3725, 0.0000, 0.0000, 0.0000, 0.0000, 0.0000, 0.0000, 0.0000,\n",
              "        0.0000, 0.0000, 0.0000, 0.0000, 0.0000, 0.0000, 0.0000, 0.0000, 0.0000,\n",
              "        0.3373, 0.3569, 0.2039, 0.4980, 0.4196, 0.4706, 0.3608, 0.3961, 0.4706,\n",
              "        0.4471, 1.0000, 0.4314, 0.3451, 0.0078, 0.0000, 0.0000, 0.0000, 0.0000,\n",
              "        0.0000, 0.0000, 0.0000, 0.0000, 0.0000, 0.0000, 0.0000, 0.0000, 0.0000,\n",
              "        0.0000, 0.0706, 0.0824, 0.0706, 0.4588, 0.4118, 0.4980, 0.2588, 0.2235,\n",
              "        0.2588, 0.0824, 0.0510, 0.1922, 0.5137, 0.5765, 0.0000, 0.0000, 0.0000,\n",
              "        0.0000, 0.0000, 0.0000, 0.0000, 0.0000, 0.0000, 0.0000, 0.0000, 0.0000,\n",
              "        0.0000, 0.0000, 0.0000, 0.0000, 0.0000, 0.0000, 0.0000, 0.0000, 0.0000,\n",
              "        0.0000, 0.0000, 0.0000, 0.1333, 0.8000, 0.5608, 0.5255, 0.2431, 0.0000,\n",
              "        0.0000, 0.0000, 0.0000, 0.0000, 0.0000, 0.0000, 0.0000, 0.0000, 0.0000,\n",
              "        0.0000, 0.0000, 0.0000, 0.0039, 0.0039, 0.0000, 0.0000, 0.0000, 0.0000,\n",
              "        0.0078, 0.0000, 0.0000, 0.0000, 0.9137, 0.9686, 0.5137, 0.4353, 0.6471,\n",
              "        0.0000, 0.0000, 0.0000, 0.0000, 0.0000, 0.0000, 0.0000, 0.0000, 0.0000,\n",
              "        0.0000, 0.0000, 0.0000, 0.0000, 0.0000, 0.0000, 0.0000, 0.0000, 0.0000,\n",
              "        0.0000, 0.0000, 0.0000, 0.0000, 0.0588, 0.3843, 0.6980, 0.0588, 0.2824,\n",
              "        0.1686, 0.0000, 0.0000, 0.0000, 0.0000, 0.0000, 0.0000, 0.0000, 0.0000,\n",
              "        0.0000, 0.0000, 0.0000, 0.0000, 0.0000, 0.0000, 0.0000, 0.0000, 0.0000,\n",
              "        0.0000, 0.0000, 0.0000, 0.0000, 0.1333, 0.2078, 0.2157, 0.6745, 0.2941,\n",
              "        0.1059, 0.0000, 0.0000, 0.0000, 0.0000, 0.0000, 0.0000, 0.0000, 0.0000,\n",
              "        0.0000, 0.0000, 0.0000, 0.0000, 0.0000, 0.0000, 0.0000, 0.0000, 0.0000,\n",
              "        0.0000, 0.0000, 0.0039, 0.0000, 0.0078, 0.3333, 0.2980, 0.2941, 0.2039,\n",
              "        0.0314, 0.0000, 0.0000, 0.0000, 0.0000, 0.0000, 0.0000, 0.0000, 0.0000,\n",
              "        0.0000, 0.0000, 0.0000, 0.0000, 0.0000, 0.0000, 0.0000, 0.0000, 0.0000,\n",
              "        0.0000, 0.0000, 0.0039, 0.0039, 0.0000, 0.2196, 0.5020, 0.0157, 0.0706,\n",
              "        0.3451, 0.3216, 0.0588, 0.0000, 0.0000, 0.0000, 0.0000, 0.0000, 0.0000,\n",
              "        0.0000, 0.0000, 0.0000, 0.0000, 0.0000, 0.0000, 0.0000, 0.0000, 0.0000,\n",
              "        0.0000, 0.0000, 0.0000, 0.0000, 0.0000, 0.0157, 0.4863, 0.3843, 0.1804,\n",
              "        0.6235, 0.7882, 0.6000, 0.1569, 0.0000, 0.0000, 0.0000, 0.0000, 0.0000,\n",
              "        0.0000, 0.0000, 0.0000, 0.0000, 0.0000, 0.0000, 0.0000, 0.0000, 0.0000,\n",
              "        0.0000, 0.0000, 0.0000, 0.0000, 0.0000, 0.0000, 0.2863, 0.4431, 0.4196,\n",
              "        0.5882, 0.5020, 0.1020, 0.2235, 0.0549, 0.0000, 0.0000, 0.0000, 0.0000,\n",
              "        0.0000, 0.0000, 0.0000, 0.0000, 0.0000, 0.0000, 0.0000, 0.0000, 0.0000,\n",
              "        0.0000, 0.0000, 0.0000, 0.0000, 0.0000, 0.0000, 0.0039, 0.4078, 0.4314,\n",
              "        0.7137, 0.1843, 0.2196, 0.4118, 0.3216, 0.0196, 0.0000, 0.0000, 0.0000,\n",
              "        0.0000, 0.0000, 0.0039, 0.0000, 0.0000, 0.0000, 0.0000, 0.0000, 0.0000,\n",
              "        0.0000, 0.0000, 0.0000, 0.0000, 0.0000, 0.0000, 0.0000, 0.2549, 0.5647,\n",
              "        0.6275, 0.0824, 0.0000, 0.0000, 0.5098, 0.3333, 0.0000, 0.0000, 0.0000,\n",
              "        0.0000, 0.0000, 0.0000, 0.0000, 0.0000, 0.0039, 0.0039, 0.0000, 0.0000,\n",
              "        0.0000, 0.0000, 0.0000, 0.0000, 0.0000, 0.0000, 0.0000, 0.3333, 0.5647,\n",
              "        0.5529, 0.0000, 0.0000, 0.0000, 0.0000, 0.6510, 0.3059, 0.0000, 0.0000,\n",
              "        0.0000, 0.0000, 0.0000, 0.0000, 0.0000, 0.0000, 0.0000, 0.0000, 0.0000,\n",
              "        0.0000, 0.0000, 0.0000, 0.0000, 0.0000, 0.0000, 0.0000, 0.1922, 0.7216,\n",
              "        0.4510, 0.0000, 0.0000, 0.0157, 0.0000, 0.0000, 0.6275, 0.2667, 0.0000,\n",
              "        0.0000, 0.0000, 0.0000, 0.0000, 0.0039, 0.0000, 0.0000, 0.0784, 0.0784,\n",
              "        0.0000, 0.0000, 0.0000, 0.0000, 0.0000, 0.0000, 0.0000, 0.0706, 0.6392,\n",
              "        0.3804, 0.0000, 0.0000, 0.0000, 0.0314, 0.0000, 0.0000, 0.6667, 0.1529,\n",
              "        0.0000, 0.0000, 0.0000, 0.0000, 0.0039, 0.0000, 0.0314, 0.2471, 0.2980,\n",
              "        0.1686, 0.0000, 0.0000, 0.0000, 0.0000, 0.0000, 0.0000, 0.0000, 0.5255,\n",
              "        0.5333, 0.0000, 0.0000, 0.0000, 0.0000, 0.0078, 0.0000, 0.0000, 0.6784,\n",
              "        0.0706, 0.0000, 0.0039, 0.0039, 0.0039, 0.0000, 0.0000, 0.0706, 0.0941,\n",
              "        0.0000, 0.0196, 0.0000, 0.0000, 0.0000, 0.0000, 0.0000, 0.0000, 0.3451,\n",
              "        0.7137, 0.0275, 0.0000, 0.0000, 0.0000, 0.0000, 0.0000, 0.0000, 0.0000,\n",
              "        0.6588, 0.0039, 0.0000, 0.0039, 0.0000, 0.0000, 0.0000, 0.0000, 0.0078,\n",
              "        0.1922, 0.1059, 0.1216, 0.2196, 0.0667, 0.0000, 0.0000, 0.0000, 0.3451,\n",
              "        0.6000, 0.1922, 0.0000, 0.0196, 0.0000, 0.0039, 0.0000, 0.0000, 0.0000,\n",
              "        0.0000, 0.6471, 0.0000, 0.0000, 0.0039, 0.0510, 0.0275, 0.0000, 0.0000,\n",
              "        0.0000, 0.3294, 0.3804, 0.4000, 0.4941, 0.3882, 0.0000, 0.0196, 0.5020,\n",
              "        0.6000, 0.2863, 0.0000, 0.0000, 0.0000, 0.0000, 0.0000, 0.0000, 0.0000,\n",
              "        0.0000, 0.0039, 0.5451, 0.0000, 0.0000, 0.0000, 0.3176, 0.5961, 0.5725,\n",
              "        0.5490, 0.4863, 0.4824, 0.5098, 0.4941, 0.4431, 0.4431, 0.4471, 0.7216,\n",
              "        0.6235, 0.1647, 0.0000, 0.0000, 0.0000, 0.0078, 0.0000, 0.0000, 0.0000,\n",
              "        0.0000, 0.0000, 0.0000, 0.7294, 0.0000, 0.0000, 0.0039, 0.0000, 0.0000,\n",
              "        0.0000, 0.0941, 0.1647, 0.1804, 0.2235, 0.2549, 0.2706, 0.2549, 0.2471,\n",
              "        0.1569, 0.0000, 0.0000, 0.0000, 0.0000, 0.0000, 0.0000, 0.0000, 0.0000,\n",
              "        0.0000, 0.0000, 0.0000, 0.0000, 0.7137, 0.0157, 0.0000, 0.0039, 0.0000,\n",
              "        0.0000, 0.0000, 0.0000, 0.0000, 0.0000, 0.0000, 0.0000, 0.0000, 0.0000,\n",
              "        0.0000, 0.0000, 0.0000, 0.0000, 0.0000, 0.0000, 0.0000, 0.0000, 0.0000,\n",
              "        0.0000, 0.0000, 0.0000, 0.0000, 0.0000, 0.0000, 0.0000, 0.0000, 0.0000,\n",
              "        0.0000, 0.0000, 0.0000, 0.0000, 0.0000, 0.0000, 0.0000, 0.0000, 0.0000,\n",
              "        0.0000, 0.0000, 0.0000, 0.0000, 0.0000, 0.0000, 0.0000, 0.0000, 0.0000,\n",
              "        0.0000, 0.0000, 0.0000, 0.0000, 0.0000, 0.0000, 0.0000, 0.0000, 0.0000,\n",
              "        0.0000])"
            ]
          },
          "metadata": {},
          "execution_count": 17
        }
      ]
    },
    {
      "cell_type": "code",
      "source": [
        "from torch import nn\n",
        "class FashionMNISTmodelV0(nn.Module):\n",
        "  def __init__(self,\n",
        "               input_shape: int,\n",
        "               hidden_units: int,\n",
        "               output_shape: int):\n",
        "    super().__init__()\n",
        "    self.layer_stack = nn.Sequential(\n",
        "        nn.Flatten(),\n",
        "        nn.Linear(in_features=input_shape,\n",
        "                  out_features=hidden_units),\n",
        "        nn.Linear(in_features=hidden_units,\n",
        "                  out_features=output_shape)\n",
        "    )\n",
        "\n",
        "  def forward(self, x):\n",
        "    return self.layer_stack(x)"
      ],
      "metadata": {
        "id": "qM5NtAct3Co-"
      },
      "execution_count": null,
      "outputs": []
    },
    {
      "cell_type": "code",
      "source": [
        "torch.manual_seed(42)\n",
        "\n",
        "# setup model with input parameters\n",
        "model_0 = FashionMNISTmodelV0(\n",
        "    input_shape=784,\n",
        "    hidden_units=10, # how many units in the hidden layer\n",
        "    output_shape=len(class_names) # one for every class\n",
        ").to('cpu')\n",
        "\n",
        "model_0"
      ],
      "metadata": {
        "colab": {
          "base_uri": "https://localhost:8080/"
        },
        "id": "Naeq54g-3Csl",
        "outputId": "8a551f8b-82e5-4d85-f7f8-574cc3e2a7e9"
      },
      "execution_count": null,
      "outputs": [
        {
          "output_type": "execute_result",
          "data": {
            "text/plain": [
              "FashionMNISTmodelV0(\n",
              "  (layer_stack): Sequential(\n",
              "    (0): Flatten(start_dim=1, end_dim=-1)\n",
              "    (1): Linear(in_features=784, out_features=10, bias=True)\n",
              "    (2): Linear(in_features=10, out_features=10, bias=True)\n",
              "  )\n",
              ")"
            ]
          },
          "metadata": {},
          "execution_count": 19
        }
      ]
    },
    {
      "cell_type": "code",
      "source": [
        "dummy_x = torch.rand([1, 1, 28, 28])\n",
        "model_0(dummy_x).argmax()"
      ],
      "metadata": {
        "colab": {
          "base_uri": "https://localhost:8080/"
        },
        "id": "0PJEcMEw3Cw4",
        "outputId": "885930d1-7ee1-4aa4-94bc-4aa947e9e232"
      },
      "execution_count": null,
      "outputs": [
        {
          "output_type": "execute_result",
          "data": {
            "text/plain": [
              "tensor(4)"
            ]
          },
          "metadata": {},
          "execution_count": 20
        }
      ]
    },
    {
      "cell_type": "markdown",
      "source": [
        "### 3.1 Setup loss, optimizer and evaluation metrics\n",
        "\n",
        "* Loss function - Since we are working with multi-class data, our loss function will be `nn.CrossentropyLoss()`\n",
        "\n",
        "* Optimizer - our optimizer `torch.optim.SGD()` (stochastic gradient descent)\n",
        "\n",
        "* Evaluation metric - since we're working on a classification problem lets use accuracy lets use accuracy as our classification metric"
      ],
      "metadata": {
        "id": "y7jlx9dC3C4e"
      }
    },
    {
      "cell_type": "code",
      "source": [
        "import requests\n",
        "from pathlib import Path\n",
        "\n",
        "# download helper functions from learn pytorch repo\n",
        "if Path(\"helper_functions.py\").is_file():\n",
        "  print(\"helper_functions.py already, exists, skipping the download...\")\n",
        "else:\n",
        "  print(\"Downloading helper_functions.py\")\n",
        "  request = requests.get(\"https://raw.githubusercontent.com/mrdbourke/pytorch-deep-learning/main/helper_functions.py\")\n",
        "  with open(\"helper_functions.py\", \"wb\") as f:\n",
        "    f.write(request.content)"
      ],
      "metadata": {
        "colab": {
          "base_uri": "https://localhost:8080/"
        },
        "id": "4Q5HPrW9EkB5",
        "outputId": "61809c7d-2c0a-4149-f254-e5337db1c3e5"
      },
      "execution_count": null,
      "outputs": [
        {
          "output_type": "stream",
          "name": "stdout",
          "text": [
            "Downloading helper_functions.py\n"
          ]
        }
      ]
    },
    {
      "cell_type": "code",
      "source": [
        "# Import the accuracy metric\n",
        "from helper_functions import accuracy_fn\n",
        "\n",
        "# setup loss function and the optimizer\n",
        "loss_fn = nn.CrossEntropyLoss()\n",
        "\n",
        "optimizer = torch.optim.SGD(params=model_0.parameters(),\n",
        "                            lr=0.1)"
      ],
      "metadata": {
        "id": "nzuY80y2IMv8"
      },
      "execution_count": null,
      "outputs": []
    },
    {
      "cell_type": "markdown",
      "source": [
        "### 3.2 Creating a function to time our experiments\n",
        "\n",
        "Machine learning is very experimental.\n",
        "\n",
        "Two of the main things you'll want to track are:\n",
        "1. Models performance (loss and accuracy values)\n",
        "2. How fast it runs"
      ],
      "metadata": {
        "id": "Yqe5WajBJRJe"
      }
    },
    {
      "cell_type": "code",
      "source": [
        "from timeit import default_timer as timer\n",
        "def print_train_time(start: float,\n",
        "                     end: float,\n",
        "                     device: torch.device = None):\n",
        "  \"\"\" Prints difference between start and end time.\"\"\"\n",
        "  total_time = end - start\n",
        "  print(f\"train time on {device}: {total_time:.3f} seconds\")\n",
        "  return total_time"
      ],
      "metadata": {
        "id": "MOJjxUkUJZD5"
      },
      "execution_count": null,
      "outputs": []
    },
    {
      "cell_type": "code",
      "source": [
        "start_time = timer()\n",
        "# some code...\n",
        "end_time = timer()\n",
        "print_train_time(start_time, end_time, device='cpu')"
      ],
      "metadata": {
        "colab": {
          "base_uri": "https://localhost:8080/"
        },
        "id": "Dg31MUC0JZQ2",
        "outputId": "33e00f7e-da6d-4e97-f8f5-4375c626d951"
      },
      "execution_count": null,
      "outputs": [
        {
          "output_type": "stream",
          "name": "stdout",
          "text": [
            "train time on cpu: 0.000 seconds\n"
          ]
        },
        {
          "output_type": "execute_result",
          "data": {
            "text/plain": [
              "7.4266000069656e-05"
            ]
          },
          "metadata": {},
          "execution_count": 24
        }
      ]
    },
    {
      "cell_type": "markdown",
      "source": [
        "### 3.3 Creating a training loop and training a model on batches of data\n",
        "\n",
        "1. Loop through the epochs.\n",
        "2. Loop through training batches, perform training steps, calculate the train loss **per batch**.\n",
        "3. Loop through testing batches,  perform testing steps,  calculate the test loss **per batch**\n",
        "4. Print out whats happening.\n",
        "5. Time it all"
      ],
      "metadata": {
        "id": "oPBagIVaJZWI"
      }
    },
    {
      "cell_type": "code",
      "source": [
        "# import tqdm for progress bar\n",
        "from tqdm.auto import tqdm\n",
        "\n",
        "# Set the seed and start the timer\n",
        "torch.manual_seed(42)\n",
        "train_time_start_on_cpu = timer()\n",
        "\n",
        "# set the number of epochs (well keep this small for faster training time)\n",
        "epochs = 3\n",
        "\n",
        "# Create training and test loop\n",
        "for epoch in tqdm(range(epochs)):\n",
        "  print(f\"epoch: {epoch}\\n-----\")\n",
        "  ### training\n",
        "  train_loss = 0\n",
        "  # Add a loop to loop through the training batches\n",
        "  for batch, (X, y) in enumerate(train_dataloader):\n",
        "    model_0.train()\n",
        "    # 1. forward pass\n",
        "    y_pred = model_0(X)\n",
        "\n",
        "    # 2. calculate the loss (per batch)\n",
        "    loss = loss_fn(y_pred, y)\n",
        "    train_loss += loss # accumulate train loss\n",
        "\n",
        "    # 3. optimizer zero grad\n",
        "    optimizer.zero_grad()\n",
        "\n",
        "    # 4. loss backwards (backpropagation)\n",
        "    loss.backward()\n",
        "\n",
        "    # 5. optimizer step\n",
        "    optimizer.step()\n",
        "\n",
        "    # print out whats happening\n",
        "    if batch % 400 == 0:\n",
        "      print(f\"Looked at {batch * len(X)} / {len(train_dataloader.dataset)} samples.\")\n",
        "\n",
        "  # Divide total train loss by length of train dataloader\n",
        "  train_loss /= len(train_dataloader)\n",
        "\n",
        "  ### Testing\n",
        "  test_loss, test_acc = 0, 0\n",
        "  model_0.eval()\n",
        "  with torch.inference_mode():\n",
        "    for X_test, y_test in test_dataloader:\n",
        "      # forward pass\n",
        "      test_pred = model_0(X_test)\n",
        "\n",
        "      # calculate the loss\n",
        "      test_loss += loss_fn(test_pred, y_test)\n",
        "\n",
        "      # calculate the accuracy\n",
        "      test_acc += accuracy_fn(y_true=y_test,\n",
        "                              y_pred=test_pred.argmax(dim=1))\n",
        "\n",
        "    # calculate the test loss average per batch\n",
        "    test_loss /= len(test_dataloader)\n",
        "\n",
        "    # Calculate the test acc average per epoch\n",
        "    test_acc /= len(test_dataloader)\n",
        "\n",
        "  # print out whats happening\n",
        "  print(f\"\\nTrain loss: {train_loss:.4f} | test loss: {test_loss:.4f} | test acc: {test_acc:.4f}%\")\n",
        "\n",
        "# calculate the training time\n",
        "train_time_end_on_cpu = timer()\n",
        "total_train_time_model_0 = print_train_time(train_time_start_on_cpu,\n",
        "                 train_time_end_on_cpu,\n",
        "                 device=str(next(model_0.parameters()).device))\n",
        "\n",
        "\n"
      ],
      "metadata": {
        "colab": {
          "base_uri": "https://localhost:8080/",
          "height": 535,
          "referenced_widgets": [
            "6dbaa7924afe40fca31f43a27ec9fad6",
            "049db5763ca649bc976f3817756d854e",
            "db8cb6d40f26450191c8fc4d7f9b793d",
            "9845c601c5c244619889858f535a8f73",
            "fcbcff8ba71442c49c739f058a2ec0b6",
            "3bcf7141c262486badee2beb774b05b4",
            "fc9fcd2d9c4248f38d339e1878c64942",
            "87c8ccae27e84479894eec52b4b9cb7f",
            "fc065fa84f8c4277afc6721974a42295",
            "585c1c0814d14f9fa84d552f8a5ecc94",
            "cb2e2613fb484d2d8fe1a139925ee97b"
          ]
        },
        "id": "DiKmG-AOJZZr",
        "outputId": "ef8edcf8-2ae1-489d-e4bf-8c5029507418"
      },
      "execution_count": null,
      "outputs": [
        {
          "output_type": "display_data",
          "data": {
            "text/plain": [
              "  0%|          | 0/3 [00:00<?, ?it/s]"
            ],
            "application/vnd.jupyter.widget-view+json": {
              "version_major": 2,
              "version_minor": 0,
              "model_id": "6dbaa7924afe40fca31f43a27ec9fad6"
            }
          },
          "metadata": {}
        },
        {
          "output_type": "stream",
          "name": "stdout",
          "text": [
            "epoch: 0\n",
            "-----\n",
            "Looked at 0 / 60000 samples.\n",
            "Looked at 12800 / 60000 samples.\n",
            "Looked at 25600 / 60000 samples.\n",
            "Looked at 38400 / 60000 samples.\n",
            "Looked at 51200 / 60000 samples.\n",
            "\n",
            "Train loss: 0.5904 | test loss: 0.5095 | test acc: 82.0387%\n",
            "epoch: 1\n",
            "-----\n",
            "Looked at 0 / 60000 samples.\n",
            "Looked at 12800 / 60000 samples.\n",
            "Looked at 25600 / 60000 samples.\n",
            "Looked at 38400 / 60000 samples.\n",
            "Looked at 51200 / 60000 samples.\n",
            "\n",
            "Train loss: 0.4763 | test loss: 0.4799 | test acc: 83.1969%\n",
            "epoch: 2\n",
            "-----\n",
            "Looked at 0 / 60000 samples.\n",
            "Looked at 12800 / 60000 samples.\n",
            "Looked at 25600 / 60000 samples.\n",
            "Looked at 38400 / 60000 samples.\n",
            "Looked at 51200 / 60000 samples.\n",
            "\n",
            "Train loss: 0.4550 | test loss: 0.4766 | test acc: 83.4265%\n",
            "train time on cpu: 28.648 seconds\n"
          ]
        }
      ]
    },
    {
      "cell_type": "markdown",
      "source": [
        "## 4. Make Predictions and get Model 0 results"
      ],
      "metadata": {
        "id": "o7A0rDYHJbLH"
      }
    },
    {
      "cell_type": "code",
      "source": [
        "torch.manual_seed(42)\n",
        "def eval_model(model: torch.nn.Module,\n",
        "               data_loader: torch.utils.data.DataLoader,\n",
        "               loss_fn: torch.nn.Module,\n",
        "               accuracy_fn):\n",
        "  \"\"\" Returns a Dictionary containing the results of model predicting on data_loader. \"\"\"\n",
        "  loss, acc = 0, 0\n",
        "  model.eval()\n",
        "  with torch.inference_mode():\n",
        "    for X, y in tqdm(data_loader):\n",
        "      # make predictions\n",
        "      y_pred = model(X)\n",
        "\n",
        "      # accumulate the loss and acc values per batch\n",
        "      loss += loss_fn(y_pred, y)\n",
        "      acc += accuracy_fn(y_true=y,\n",
        "                         y_pred=y_pred.argmax(dim=1))\n",
        "\n",
        "    # scale the acc and loss to find the average loss/acc per batch\n",
        "    loss /= len(data_loader)\n",
        "    acc /= len(data_loader)\n",
        "\n",
        "  return {\"model_name\": model.__class__.__name__,  # this only works when the model was created with a class\n",
        "          \"model_loss\": loss.item(),\n",
        "          \"model_accuracy\": acc}\n",
        "\n",
        "model_0_results = eval_model(model=model_0,\n",
        "                             data_loader=test_dataloader,\n",
        "                             loss_fn=loss_fn,\n",
        "                             accuracy_fn=accuracy_fn)\n",
        "\n",
        "model_0_results"
      ],
      "metadata": {
        "colab": {
          "base_uri": "https://localhost:8080/",
          "height": 101,
          "referenced_widgets": [
            "6938702bb04d43d7877d3e9ba0d968ea",
            "d9e8eb34ca7046be83f2c50648ed43fb",
            "0fa900badbe1438b8b168314036264ff",
            "84b284b1985649d788d0caea5b47393d",
            "f5eae9c2346344c6bb013d05dbe0da67",
            "76e9138f7d294812af21c054cb7937e0",
            "95ed0f9f60cb4842a989827aec6bf981",
            "0f8a1854089f477b842a7110764cc69f",
            "e8db32ed33614e69a5d7ddca03ec56d5",
            "56ac0c43bb8e454c8a750b12416ec941",
            "43c6e084894c4c9ca587ea8d46db82a8"
          ]
        },
        "id": "SL8T7nTXZIBt",
        "outputId": "bcc050ee-72b7-4608-981c-510e3ae14c14"
      },
      "execution_count": null,
      "outputs": [
        {
          "output_type": "display_data",
          "data": {
            "text/plain": [
              "  0%|          | 0/313 [00:00<?, ?it/s]"
            ],
            "application/vnd.jupyter.widget-view+json": {
              "version_major": 2,
              "version_minor": 0,
              "model_id": "6938702bb04d43d7877d3e9ba0d968ea"
            }
          },
          "metadata": {}
        },
        {
          "output_type": "execute_result",
          "data": {
            "text/plain": [
              "{'model_name': 'FashionMNISTmodelV0',\n",
              " 'model_loss': 0.47663888335227966,\n",
              " 'model_accuracy': 83.42651757188499}"
            ]
          },
          "metadata": {},
          "execution_count": 26
        }
      ]
    },
    {
      "cell_type": "markdown",
      "source": [
        "## 5. Set up device agnostic code to run on a gpu if its available"
      ],
      "metadata": {
        "id": "BZgVIikbZIFz"
      }
    },
    {
      "cell_type": "code",
      "source": [
        "# Set up device agnostic code\n",
        "device = \"cuda\" if torch.cuda.is_available() else \"cpu\"\n",
        "device"
      ],
      "metadata": {
        "colab": {
          "base_uri": "https://localhost:8080/",
          "height": 36
        },
        "id": "M8l0AVq0dBgT",
        "outputId": "7d2334dd-8bbb-46f5-bd65-89e93ff6e6c6"
      },
      "execution_count": null,
      "outputs": [
        {
          "output_type": "execute_result",
          "data": {
            "text/plain": [
              "'cuda'"
            ],
            "application/vnd.google.colaboratory.intrinsic+json": {
              "type": "string"
            }
          },
          "metadata": {},
          "execution_count": 27
        }
      ]
    },
    {
      "cell_type": "markdown",
      "source": [
        "## 6. Model 1: Building a better model with non-linearity"
      ],
      "metadata": {
        "id": "B4-ZTDf4ZIKX"
      }
    },
    {
      "cell_type": "code",
      "source": [
        "# Create a model with linear and non-linear layers\n",
        "class FashionMNISTmodelV1(nn.Module):\n",
        "  def __init__(self,\n",
        "               input_shape: int,\n",
        "               hidden_units: int,\n",
        "               output_shape: int):\n",
        "    super().__init__()\n",
        "    self.layer_stack = nn.Sequential(\n",
        "        nn.Flatten(), # flatten inputs into a single vector\n",
        "        nn.Linear(in_features=input_shape, out_features=hidden_units),\n",
        "        nn.ReLU(),\n",
        "        nn.Linear(in_features=hidden_units, out_features=output_shape),\n",
        "        nn.ReLU()\n",
        "    )\n",
        "\n",
        "  def forward(self, x: torch.Tensor):\n",
        "    return self.layer_stack(x)\n"
      ],
      "metadata": {
        "id": "0U6f2KNaeNSH"
      },
      "execution_count": null,
      "outputs": []
    },
    {
      "cell_type": "code",
      "source": [
        "next(model_0.parameters()).device"
      ],
      "metadata": {
        "colab": {
          "base_uri": "https://localhost:8080/"
        },
        "id": "k1anAFufeNVw",
        "outputId": "b76ff26f-9437-4dea-8fb5-b51f31cf5faa"
      },
      "execution_count": null,
      "outputs": [
        {
          "output_type": "execute_result",
          "data": {
            "text/plain": [
              "device(type='cpu')"
            ]
          },
          "metadata": {},
          "execution_count": 29
        }
      ]
    },
    {
      "cell_type": "code",
      "source": [
        "# create an instance of model_1\n",
        "torch.manual_seed(42)\n",
        "model_1 = FashionMNISTmodelV1(input_shape=784, # this is the output of our flatten layer\n",
        "                              hidden_units=10,\n",
        "                              output_shape=len(class_names)).to(device)\n",
        "\n",
        "next(model_1.parameters()).device"
      ],
      "metadata": {
        "colab": {
          "base_uri": "https://localhost:8080/"
        },
        "id": "MpIhMbKhZIOW",
        "outputId": "e40147d7-8146-4ef0-8b7b-bfc1ddc9f5b7"
      },
      "execution_count": null,
      "outputs": [
        {
          "output_type": "execute_result",
          "data": {
            "text/plain": [
              "device(type='cuda', index=0)"
            ]
          },
          "metadata": {},
          "execution_count": 30
        }
      ]
    },
    {
      "cell_type": "markdown",
      "source": [
        "### 6.1 Setup loss, optimizer and evaluation metrics"
      ],
      "metadata": {
        "id": "vQHQ-LCPZIUi"
      }
    },
    {
      "cell_type": "code",
      "source": [
        "loss_fn = nn.CrossEntropyLoss()\n",
        "optimizer = torch.optim.SGD(params=model_1.parameters(),\n",
        "                            lr=0.1)"
      ],
      "metadata": {
        "id": "yun3jtbgiM2S"
      },
      "execution_count": null,
      "outputs": []
    },
    {
      "cell_type": "markdown",
      "source": [
        "### 6.2 Functionizing Training and evaluation/testing loops\n",
        "\n",
        "Lets create a function for:\n",
        "* training loop: `train_step()`\n",
        "* testing loop: `test_step()`"
      ],
      "metadata": {
        "id": "fseDMdbciONq"
      }
    },
    {
      "cell_type": "code",
      "source": [
        "def train_step(model: torch.nn.Module,\n",
        "               data_loader: torch.utils.data.DataLoader,\n",
        "               loss_fn: torch.nn.Module,\n",
        "               optimizer: torch.optim.Optimizer,\n",
        "               accuracy_fn,\n",
        "               device: torch.device = device):\n",
        "\n",
        "  \"\"\" Performs a training step with model trying to learn on the data loader\"\"\"\n",
        "  train_loss, train_acc = 0, 0\n",
        "\n",
        "  # put the model into training mode\n",
        "  model.train()\n",
        "\n",
        "  # Add a loop to loop through the training batches\n",
        "  for batch, (X, y) in enumerate(data_loader):\n",
        "    # Put the data on the target device\n",
        "    X, y = X.to(device), y.to(device)\n",
        "\n",
        "    # 1. forward pass (outputs the raw logits from the model)\n",
        "    y_pred = model(X)\n",
        "\n",
        "    # 2. calculate the loss (per batch)\n",
        "    loss = loss_fn(y_pred, y)\n",
        "    train_loss += loss # accumulate train loss\n",
        "    train_acc += accuracy_fn(y,\n",
        "                             y_pred.argmax(dim=1))\n",
        "\n",
        "    # 3. optimizer zero grad\n",
        "    optimizer.zero_grad()\n",
        "\n",
        "    # 4. loss backwards (backpropagation)\n",
        "    loss.backward()\n",
        "\n",
        "    # 5. optimizer step\n",
        "    optimizer.step()\n",
        "\n",
        "  # Divide total train loss and accuracy by length of train dataloader\n",
        "  train_loss /= len(data_loader)\n",
        "  train_acc /= len(data_loader)\n",
        "  print(f\"Train loss: {train_loss:.5f} | train acc: {train_acc:.2f}%\")"
      ],
      "metadata": {
        "id": "YiQvbPbJiOT_"
      },
      "execution_count": null,
      "outputs": []
    },
    {
      "cell_type": "code",
      "source": [
        "\n",
        "def testing_step(model: torch.nn.Module,\n",
        "                 data_loader: torch.utils.data.DataLoader,\n",
        "                 loss_fn: torch.nn.Module,\n",
        "                 accuracy_fn,\n",
        "                 device: torch.device = device):\n",
        "\n",
        "  \"\"\" performs a testing loop step on the model going over the data loader\"\"\"\n",
        "\n",
        "  ### Testing\n",
        "  test_loss, test_acc = 0, 0\n",
        "\n",
        "  model.eval()\n",
        "  with torch.inference_mode():\n",
        "    for X, y in data_loader:\n",
        "      X, y =  X.to(device), y.to(device)\n",
        "      # forward pass\n",
        "      test_pred = model(X)\n",
        "\n",
        "      # calculate the loss\n",
        "      test_loss += loss_fn(test_pred, y)\n",
        "\n",
        "      # calculate the accuracy\n",
        "      test_acc += accuracy_fn(y_true=y,\n",
        "                              y_pred=test_pred.argmax(dim=1))\n",
        "\n",
        "    # calculate the test loss average per batch\n",
        "    test_loss /= len(data_loader)\n",
        "\n",
        "    # Calculate the test acc average per epoch\n",
        "    test_acc /= len(data_loader)\n",
        "\n",
        "  # print out whats happening\n",
        "  print(f\"\\ntest loss: {test_loss:.4f} | test acc: {test_acc:.2f}%\")"
      ],
      "metadata": {
        "id": "1FGtbIvojFcV"
      },
      "execution_count": null,
      "outputs": []
    },
    {
      "cell_type": "code",
      "source": [
        "torch.manual_seed(42)\n",
        "\n",
        "# measure time\n",
        "from timeit import default_timer as timer\n",
        "train_time_start_gpu = timer()\n",
        "\n",
        "# set epochs\n",
        "epochs = 3\n",
        "\n",
        "# create a optimization and evaluation loop using train step and test step\n",
        "for epoch in tqdm(range(epochs)):\n",
        "  print(f'epoch: {epoch}\\n--------')\n",
        "  train_step(model=model_1,\n",
        "             data_loader=train_dataloader,\n",
        "             loss_fn=loss_fn,\n",
        "             optimizer=optimizer,\n",
        "             accuracy_fn=accuracy_fn,\n",
        "             device=device)\n",
        "  testing_step(model=model_1,\n",
        "               data_loader=test_dataloader,\n",
        "               loss_fn=loss_fn,\n",
        "               accuracy_fn=accuracy_fn,\n",
        "               device=device)\n",
        "\n",
        "train_time_end_gpu = timer()\n",
        "total_train_time_model_1 = print_train_time(start=train_time_start_gpu,\n",
        "                                            end=train_time_end_gpu,\n",
        "                                            device=device)\n",
        "\n"
      ],
      "metadata": {
        "colab": {
          "base_uri": "https://localhost:8080/",
          "height": 327,
          "referenced_widgets": [
            "9fd47f6518ae4f679cf239a90f376031",
            "343e6ab1824b4494932a5b2a43ea024d",
            "bb8441b53abd4fae826ae57316142698",
            "f048489083be4621a890b44983ba5dda",
            "05bd8fb3fe224ecf95ff8b6f9217197c",
            "def0f4673d514ad89a672f2eacb83f10",
            "accf07f0a7a6429cb26566011cae35c9",
            "79ebd3f862054bc2a4914468544c5835",
            "dbe8cbfb51fc4e36b41b3ed3740eecc8",
            "2c66007db7534c0f8ea31b55f7739a34",
            "0806b079c2ec4c0dbcfbd3eb985f62ae"
          ]
        },
        "id": "M98zj1JqjFir",
        "outputId": "7678397f-8989-4902-c5b8-8afe00c1978e"
      },
      "execution_count": null,
      "outputs": [
        {
          "output_type": "display_data",
          "data": {
            "text/plain": [
              "  0%|          | 0/3 [00:00<?, ?it/s]"
            ],
            "application/vnd.jupyter.widget-view+json": {
              "version_major": 2,
              "version_minor": 0,
              "model_id": "9fd47f6518ae4f679cf239a90f376031"
            }
          },
          "metadata": {}
        },
        {
          "output_type": "stream",
          "name": "stdout",
          "text": [
            "epoch: 0\n",
            "--------\n",
            "Train loss: 1.09199 | train acc: 61.34%\n",
            "\n",
            "test loss: 0.9564 | test acc: 65.00%\n",
            "epoch: 1\n",
            "--------\n",
            "Train loss: 0.78101 | train acc: 71.93%\n",
            "\n",
            "test loss: 0.7223 | test acc: 73.91%\n",
            "epoch: 2\n",
            "--------\n",
            "Train loss: 0.67027 | train acc: 75.94%\n",
            "\n",
            "test loss: 0.6850 | test acc: 75.02%\n",
            "train time on cuda: 31.203 seconds\n"
          ]
        }
      ]
    },
    {
      "cell_type": "code",
      "source": [
        "model_0_results"
      ],
      "metadata": {
        "colab": {
          "base_uri": "https://localhost:8080/"
        },
        "id": "NT70YK_biOZ6",
        "outputId": "ab617dff-328a-4fbc-a901-13400a309d06"
      },
      "execution_count": null,
      "outputs": [
        {
          "output_type": "execute_result",
          "data": {
            "text/plain": [
              "{'model_name': 'FashionMNISTmodelV0',\n",
              " 'model_loss': 0.47663888335227966,\n",
              " 'model_accuracy': 83.42651757188499}"
            ]
          },
          "metadata": {},
          "execution_count": 35
        }
      ]
    },
    {
      "cell_type": "code",
      "source": [
        "total_train_time_model_0"
      ],
      "metadata": {
        "colab": {
          "base_uri": "https://localhost:8080/"
        },
        "id": "ktQ_1bqxiOii",
        "outputId": "476c9f17-2919-4500-e623-7b2d5e0b8521"
      },
      "execution_count": null,
      "outputs": [
        {
          "output_type": "execute_result",
          "data": {
            "text/plain": [
              "28.64759046300003"
            ]
          },
          "metadata": {},
          "execution_count": 36
        }
      ]
    },
    {
      "cell_type": "code",
      "source": [
        "torch.manual_seed(42)\n",
        "def eval_model(model: torch.nn.Module,\n",
        "               data_loader: torch.utils.data.DataLoader,\n",
        "               loss_fn: torch.nn.Module,\n",
        "               accuracy_fn):\n",
        "  \"\"\" Returns a Dictionary containing the results of model predicting on data_loader. \"\"\"\n",
        "  loss, acc = 0, 0\n",
        "  model.eval()\n",
        "  with torch.inference_mode():\n",
        "    for X, y in tqdm(data_loader):\n",
        "      # Make our code device agnostic\n",
        "      X, y = X.to(device), y.to(device)\n",
        "\n",
        "      # make predictions\n",
        "      y_pred = model(X)\n",
        "\n",
        "      # accumulate the loss and acc values per batch\n",
        "      loss += loss_fn(y_pred, y)\n",
        "      acc += accuracy_fn(y_true=y,\n",
        "                         y_pred=y_pred.argmax(dim=1))\n",
        "\n",
        "    # scale the acc and loss to find the average loss/acc per batch\n",
        "    loss /= len(data_loader)\n",
        "    acc /= len(data_loader)\n",
        "\n",
        "  return {\"model_name\": model.__class__.__name__,  # this only works when the model was created with a class\n",
        "          \"model_loss\": loss.item(),\n",
        "          \"model_accuracy\": acc}"
      ],
      "metadata": {
        "id": "SO-XGKVvide4"
      },
      "execution_count": null,
      "outputs": []
    },
    {
      "cell_type": "code",
      "source": [
        "# Get model_1 results\n",
        "\n",
        "model_1_results = eval_model(model=model_1,\n",
        "           data_loader=test_dataloader,\n",
        "           loss_fn=loss_fn,\n",
        "           accuracy_fn=accuracy_fn)\n",
        "\n",
        "model_1_results"
      ],
      "metadata": {
        "colab": {
          "base_uri": "https://localhost:8080/",
          "height": 101,
          "referenced_widgets": [
            "2e7b8cebb25c4c8a9907b78a439e5db4",
            "430fb8b60b8b41d789736514cbf0e87b",
            "5d3c0e198c9e490c8505046241fa2529",
            "d9329fa21685499ab8944e0b6391407d",
            "c2de2d4eeac84905b1d43032b7e8cca6",
            "2c676bf57d99494ba3e0f5531bf62d20",
            "97aa014a581845b6b08d96cb099269fa",
            "ed404db62f5045dea2e5eb7585c913a5",
            "24ab089ef1a847778eba9ff04ca07014",
            "1fcc844c934e4989aa3d90ba451d082f",
            "33aeb1ce6e4b4a1dad357c77836257ad"
          ]
        },
        "id": "aNTbs3uCjIA4",
        "outputId": "2d514e4b-acb0-4906-d05f-acd57f187791"
      },
      "execution_count": null,
      "outputs": [
        {
          "output_type": "display_data",
          "data": {
            "text/plain": [
              "  0%|          | 0/313 [00:00<?, ?it/s]"
            ],
            "application/vnd.jupyter.widget-view+json": {
              "version_major": 2,
              "version_minor": 0,
              "model_id": "2e7b8cebb25c4c8a9907b78a439e5db4"
            }
          },
          "metadata": {}
        },
        {
          "output_type": "execute_result",
          "data": {
            "text/plain": [
              "{'model_name': 'FashionMNISTmodelV1',\n",
              " 'model_loss': 0.6850008964538574,\n",
              " 'model_accuracy': 75.01996805111821}"
            ]
          },
          "metadata": {},
          "execution_count": 38
        }
      ]
    },
    {
      "cell_type": "code",
      "source": [
        "model_0_results"
      ],
      "metadata": {
        "colab": {
          "base_uri": "https://localhost:8080/"
        },
        "id": "QvGeBZ20jdYi",
        "outputId": "6117c4bc-bfa0-4a9f-bece-e63c4b04dc4f"
      },
      "execution_count": null,
      "outputs": [
        {
          "output_type": "execute_result",
          "data": {
            "text/plain": [
              "{'model_name': 'FashionMNISTmodelV0',\n",
              " 'model_loss': 0.47663888335227966,\n",
              " 'model_accuracy': 83.42651757188499}"
            ]
          },
          "metadata": {},
          "execution_count": 39
        }
      ]
    },
    {
      "cell_type": "markdown",
      "source": [
        "## Model 2: Building a Convolutional Neural Network\n",
        "\n",
        "CNN'S are also known ConvNets.\n",
        "\n",
        "CNN'S are known for their capabilities to find patterns in visual data.\n",
        "\n",
        "To Find our more about whats happening inside a CNN see this website:\n",
        "https://poloclub.github.io/cnn-explainer/"
      ],
      "metadata": {
        "id": "e7oREPpkkOm0"
      }
    },
    {
      "cell_type": "code",
      "source": [
        "# Create a convolutional neural network\n",
        "class FashionMNISTmodelV2(nn.Module):\n",
        "  \"\"\"\n",
        "  Model architecture that replicates the TinyVGG\n",
        "  Model from CNN explainer website.\n",
        "  \"\"\"\n",
        "  def __init__(self, input_shape: int, hidden_units: int, output_shape: int):\n",
        "    super().__init__()\n",
        "    self.conv_block_1 = nn.Sequential(\n",
        "        nn.Conv2d(in_channels=input_shape,\n",
        "                  out_channels=hidden_units,\n",
        "                  kernel_size=3,\n",
        "                  stride=1,\n",
        "                  padding=1),  # These  are our hyper parameters kernel, stride, padding\n",
        "        nn.ReLU(),\n",
        "        nn.Conv2d(in_channels=hidden_units,\n",
        "                  out_channels=hidden_units,\n",
        "                  kernel_size=3,\n",
        "                  stride=1,\n",
        "                  padding=1),\n",
        "        nn.ReLU(),\n",
        "        nn.MaxPool2d(kernel_size=2)\n",
        "    )\n",
        "    self.conv_block_2 = nn.Sequential(\n",
        "        nn.Conv2d(in_channels=hidden_units,\n",
        "                  out_channels=hidden_units,\n",
        "                  kernel_size=3,\n",
        "                  stride=1,\n",
        "                  padding=1),\n",
        "        nn.ReLU(),\n",
        "        nn.Conv2d(in_channels=hidden_units,\n",
        "                  out_channels=hidden_units,\n",
        "                  kernel_size=3,\n",
        "                  stride=1,\n",
        "                  padding=1),\n",
        "        nn.ReLU(),\n",
        "        nn.MaxPool2d(kernel_size=2)\n",
        "    )\n",
        "    self.classifier = nn.Sequential(\n",
        "        nn.Flatten(),\n",
        "        nn.Linear(in_features=hidden_units *7*7,\n",
        "                  out_features=output_shape)\n",
        "    )\n",
        "\n",
        "  def forward(self, x):\n",
        "    x = self.conv_block_1(x)\n",
        "    # print(f\"Output shapee of conv_block_1 {x.shape}\")\n",
        "    x = self.conv_block_2(x)\n",
        "    # print(f\"Output shapee of conv_block_2 {x.shape}\")\n",
        "    x = self.classifier(x)\n",
        "    # print(f\"Output shapee of classifier {x.shape}\")\n",
        "    return x"
      ],
      "metadata": {
        "id": "9EiBI2ztxomB"
      },
      "execution_count": null,
      "outputs": []
    },
    {
      "cell_type": "code",
      "source": [
        "image.shape # input shape is the color channel"
      ],
      "metadata": {
        "colab": {
          "base_uri": "https://localhost:8080/"
        },
        "id": "TweqfIbA6HZA",
        "outputId": "ef2bffc1-1516-43f7-d5a3-5123228d3778"
      },
      "execution_count": null,
      "outputs": [
        {
          "output_type": "execute_result",
          "data": {
            "text/plain": [
              "torch.Size([1, 28, 28])"
            ]
          },
          "metadata": {},
          "execution_count": 41
        }
      ]
    },
    {
      "cell_type": "code",
      "source": [
        "torch.manual_seed(42)\n",
        "model_2 = FashionMNISTmodelV2(input_shape=1, # input shape is the color channel\n",
        "                              hidden_units=10,\n",
        "                              output_shape=len(class_names)).to(device)"
      ],
      "metadata": {
        "id": "Di_6gPpC53yr"
      },
      "execution_count": null,
      "outputs": []
    },
    {
      "cell_type": "markdown",
      "source": [
        "### 7.1 Stepping through `nn.Conv2d`"
      ],
      "metadata": {
        "id": "-w9Omxam63Tv"
      }
    },
    {
      "cell_type": "code",
      "source": [
        "torch.manual_seed(42)\n",
        "\n",
        "# Create a batch of images\n",
        "images = torch.randn(size=(32, 3, 64, 64))\n",
        "test_image = images[0]\n",
        "\n",
        "print(f\"image batch shape: {images.shape}\")\n",
        "print(f\"Single image shape: {test_image.shape}\")\n",
        "print(f\"Test image:\\n {test_image}\")"
      ],
      "metadata": {
        "colab": {
          "base_uri": "https://localhost:8080/"
        },
        "id": "XZBnMFeqc-TT",
        "outputId": "c3008d87-e569-43c8-9cb7-c3b79a34addf"
      },
      "execution_count": null,
      "outputs": [
        {
          "output_type": "stream",
          "name": "stdout",
          "text": [
            "image batch shape: torch.Size([32, 3, 64, 64])\n",
            "Single image shape: torch.Size([3, 64, 64])\n",
            "Test image:\n",
            " tensor([[[ 1.9269,  1.4873,  0.9007,  ...,  1.8446, -1.1845,  1.3835],\n",
            "         [ 1.4451,  0.8564,  2.2181,  ...,  0.3399,  0.7200,  0.4114],\n",
            "         [ 1.9312,  1.0119, -1.4364,  ..., -0.5558,  0.7043,  0.7099],\n",
            "         ...,\n",
            "         [-0.5610, -0.4830,  0.4770,  ..., -0.2713, -0.9537, -0.6737],\n",
            "         [ 0.3076, -0.1277,  0.0366,  ..., -2.0060,  0.2824, -0.8111],\n",
            "         [-1.5486,  0.0485, -0.7712,  ..., -0.1403,  0.9416, -0.0118]],\n",
            "\n",
            "        [[-0.5197,  1.8524,  1.8365,  ...,  0.8935, -1.5114, -0.8515],\n",
            "         [ 2.0818,  1.0677, -1.4277,  ...,  1.6612, -2.6223, -0.4319],\n",
            "         [-0.1010, -0.4388, -1.9775,  ...,  0.2106,  0.2536, -0.7318],\n",
            "         ...,\n",
            "         [ 0.2779,  0.7342, -0.3736,  ..., -0.4601,  0.1815,  0.1850],\n",
            "         [ 0.7205, -0.2833,  0.0937,  ..., -0.1002, -2.3609,  2.2465],\n",
            "         [-1.3242, -0.1973,  0.2920,  ...,  0.5409,  0.6940,  1.8563]],\n",
            "\n",
            "        [[-0.7978,  1.0261,  1.1465,  ...,  1.2134,  0.9354, -0.0780],\n",
            "         [-1.4647, -1.9571,  0.1017,  ..., -1.9986, -0.7409,  0.7011],\n",
            "         [-1.3938,  0.8466, -1.7191,  ..., -1.1867,  0.1320,  0.3407],\n",
            "         ...,\n",
            "         [ 0.8206, -0.3745,  1.2499,  ..., -0.0676,  0.0385,  0.6335],\n",
            "         [-0.5589, -0.3393,  0.2347,  ...,  2.1181,  2.4569,  1.3083],\n",
            "         [-0.4092,  1.5199,  0.2401,  ..., -0.2558,  0.7870,  0.9924]]])\n"
          ]
        }
      ]
    },
    {
      "cell_type": "code",
      "source": [
        "test_image.shape"
      ],
      "metadata": {
        "colab": {
          "base_uri": "https://localhost:8080/"
        },
        "id": "VAmOx9iJhRgC",
        "outputId": "8ffd0f64-bf6d-484b-9a53-16820e164182"
      },
      "execution_count": null,
      "outputs": [
        {
          "output_type": "execute_result",
          "data": {
            "text/plain": [
              "torch.Size([3, 64, 64])"
            ]
          },
          "metadata": {},
          "execution_count": 44
        }
      ]
    },
    {
      "cell_type": "code",
      "source": [
        "torch.manual_seed(42)\n",
        "\n",
        "# create a single conv2d layer\n",
        "conv_layer = nn.Conv2d(in_channels=3,\n",
        "                       out_channels=10,\n",
        "                       kernel_size=3,\n",
        "                       stride=1,\n",
        "                       padding=0)\n",
        "\n",
        "# pass the data through the convolutional layer\n",
        "conv_output = conv_layer(test_image)\n",
        "conv_output.shape"
      ],
      "metadata": {
        "colab": {
          "base_uri": "https://localhost:8080/"
        },
        "id": "N86LwIpic-ZV",
        "outputId": "1501a974-ce33-4685-ef50-d45e2f888822"
      },
      "execution_count": null,
      "outputs": [
        {
          "output_type": "execute_result",
          "data": {
            "text/plain": [
              "torch.Size([10, 62, 62])"
            ]
          },
          "metadata": {},
          "execution_count": 45
        }
      ]
    },
    {
      "cell_type": "code",
      "source": [
        "test_image.unsqueeze(0).shape"
      ],
      "metadata": {
        "colab": {
          "base_uri": "https://localhost:8080/"
        },
        "id": "maC7YyDjc-0X",
        "outputId": "ddaa326f-2fc4-4550-9204-06d0c59cd076"
      },
      "execution_count": null,
      "outputs": [
        {
          "output_type": "execute_result",
          "data": {
            "text/plain": [
              "torch.Size([1, 3, 64, 64])"
            ]
          },
          "metadata": {},
          "execution_count": 46
        }
      ]
    },
    {
      "cell_type": "markdown",
      "source": [
        "### 7.2 Stepping through nn.MaxPool2d()"
      ],
      "metadata": {
        "id": "JVEu3GWzc-37"
      }
    },
    {
      "cell_type": "code",
      "source": [
        "test_image.shape"
      ],
      "metadata": {
        "colab": {
          "base_uri": "https://localhost:8080/"
        },
        "id": "yDnhWYSqc-75",
        "outputId": "fb8cb9fe-663b-411a-af2b-9141ddebd373"
      },
      "execution_count": null,
      "outputs": [
        {
          "output_type": "execute_result",
          "data": {
            "text/plain": [
              "torch.Size([3, 64, 64])"
            ]
          },
          "metadata": {},
          "execution_count": 47
        }
      ]
    },
    {
      "cell_type": "code",
      "source": [
        "# Print out original image shape without unsqueezed dimension\n",
        "print(f\"Test image original shape: {test_image.shape}\")\n",
        "print(f\"Test image with unsqueezed dimension: {test_image.unsqueeze(0).shape}\")\n",
        "\n",
        "# Create a sample nn.maxpool2d layer\n",
        "max_pool_layer = nn.MaxPool2d(kernel_size=2)\n",
        "\n",
        "# Pass data through just the Conv layer\n",
        "test_image_through_conv = conv_layer(test_image.unsqueeze(0))\n",
        "print(f\"Shape after going through conv_layer(): {test_image_through_conv.shape}\")\n",
        "\n",
        "# Pass data through the max pool layer\n",
        "test_image_through_maxpool_and_conv = max_pool_layer(test_image_through_conv)\n",
        "print(f\"Shape after going through maxpool and conv layer: {test_image_through_maxpool_and_conv.shape}\")"
      ],
      "metadata": {
        "colab": {
          "base_uri": "https://localhost:8080/"
        },
        "id": "8vyNxqCoc_Ct",
        "outputId": "57303ce6-cd3f-421f-ef6f-b074596c01bd"
      },
      "execution_count": null,
      "outputs": [
        {
          "output_type": "stream",
          "name": "stdout",
          "text": [
            "Test image original shape: torch.Size([3, 64, 64])\n",
            "Test image with unsqueezed dimension: torch.Size([1, 3, 64, 64])\n",
            "Shape after going through conv_layer(): torch.Size([1, 10, 62, 62])\n",
            "Shape after going through maxpool and conv layer: torch.Size([1, 10, 31, 31])\n"
          ]
        }
      ]
    },
    {
      "cell_type": "code",
      "source": [
        "torch.manual_seed(42)\n",
        "# create a random tensor with a similar number of dimensions to our images\n",
        "random_tensor = torch.randn(size=(1, 1, 2, 2))\n",
        "random_tensor\n",
        "\n",
        "max_pool_layer = nn.MaxPool2d(kernel_size=2)\n",
        "\n",
        "# pass random tensor through the max pool layer\n",
        "max_pool_tensor = max_pool_layer(random_tensor)\n",
        "\n",
        "print(f\"\\nRandom Tensor:\\n {random_tensor}\")\n",
        "print(f\"Random Tensor shape:\\n {random_tensor.shape}\")\n",
        "\n",
        "print(f\"\\nMax pool Tensor:\\n {max_pool_tensor}\")\n",
        "print(f\"Max pool Tensor shape:\\n {max_pool_tensor.shape}\")\n",
        "\n"
      ],
      "metadata": {
        "colab": {
          "base_uri": "https://localhost:8080/"
        },
        "id": "m1TLMejYpETW",
        "outputId": "39a6e291-051f-4782-fbca-8cfd25024b58"
      },
      "execution_count": null,
      "outputs": [
        {
          "output_type": "stream",
          "name": "stdout",
          "text": [
            "\n",
            "Random Tensor:\n",
            " tensor([[[[0.3367, 0.1288],\n",
            "          [0.2345, 0.2303]]]])\n",
            "Random Tensor shape:\n",
            " torch.Size([1, 1, 2, 2])\n",
            "\n",
            "Max pool Tensor:\n",
            " tensor([[[[0.3367]]]])\n",
            "Max pool Tensor shape:\n",
            " torch.Size([1, 1, 1, 1])\n"
          ]
        }
      ]
    },
    {
      "cell_type": "code",
      "source": [
        "plt.imshow(image.squeeze(), cmap='gray')"
      ],
      "metadata": {
        "colab": {
          "base_uri": "https://localhost:8080/",
          "height": 447
        },
        "id": "2y2hmBw0qZNS",
        "outputId": "6f675c08-ab52-4556-dda5-80193bd8ede1"
      },
      "execution_count": null,
      "outputs": [
        {
          "output_type": "execute_result",
          "data": {
            "text/plain": [
              "<matplotlib.image.AxesImage at 0x7f276b45aaa0>"
            ]
          },
          "metadata": {},
          "execution_count": 50
        },
        {
          "output_type": "display_data",
          "data": {
            "text/plain": [
              "<Figure size 640x480 with 1 Axes>"
            ],
            "image/png": "[encoded data removed]"
          },
          "metadata": {}
        }
      ]
    },
    {
      "cell_type": "code",
      "source": [
        "# Create a random tensor thats the same shape as our image\n",
        "rand_image_tensor = torch.randn(size=(1, 28, 28))\n",
        "rand_image_tensor = rand_image_tensor.to(device)"
      ],
      "metadata": {
        "id": "tkipGIPF86W-"
      },
      "execution_count": null,
      "outputs": []
    },
    {
      "cell_type": "code",
      "source": [
        "image.shape"
      ],
      "metadata": {
        "colab": {
          "base_uri": "https://localhost:8080/"
        },
        "id": "gjkBXjsZ9Ngp",
        "outputId": "ee79cb77-572d-4578-dc4e-491181f98ece"
      },
      "execution_count": null,
      "outputs": [
        {
          "output_type": "execute_result",
          "data": {
            "text/plain": [
              "torch.Size([1, 28, 28])"
            ]
          },
          "metadata": {},
          "execution_count": 52
        }
      ]
    },
    {
      "cell_type": "code",
      "source": [
        "# pass random image tensor through the model\n",
        "model_2(rand_image_tensor.unsqueeze(0))"
      ],
      "metadata": {
        "colab": {
          "base_uri": "https://localhost:8080/"
        },
        "id": "ZB_bs5Cl9RLS",
        "outputId": "e7e95490-d5c8-4d47-fdaa-51b7f5946321"
      },
      "execution_count": null,
      "outputs": [
        {
          "output_type": "execute_result",
          "data": {
            "text/plain": [
              "tensor([[ 0.0424, -0.0839,  0.0839, -0.0463,  0.0053,  0.0437,  0.0025,  0.0108,\n",
              "         -0.0158, -0.0177]], device='cuda:0', grad_fn=<AddmmBackward0>)"
            ]
          },
          "metadata": {},
          "execution_count": 53
        }
      ]
    },
    {
      "cell_type": "markdown",
      "source": [
        "### 7.3 Setup a loss function and optimizer for model_2"
      ],
      "metadata": {
        "id": "oBDY-UWsGZc0"
      }
    },
    {
      "cell_type": "code",
      "source": [
        "from helper_functions import accuracy_fn\n",
        "\n",
        "loss_fn = nn.CrossEntropyLoss()\n",
        "optimizer = torch.optim.SGD(params=model_2.parameters(),\n",
        "                            lr=0.1)"
      ],
      "metadata": {
        "id": "JgLVqDC1IWYs"
      },
      "execution_count": null,
      "outputs": []
    },
    {
      "cell_type": "code",
      "source": [
        "model_2.state_dict()"
      ],
      "metadata": {
        "colab": {
          "base_uri": "https://localhost:8080/"
        },
        "id": "HHY2UBwdIWdP",
        "outputId": "1a66f3d0-5940-45ba-ed9c-9079d5c473b8"
      },
      "execution_count": null,
      "outputs": [
        {
          "output_type": "execute_result",
          "data": {
            "text/plain": [
              "OrderedDict([('conv_block_1.0.weight',\n",
              "              tensor([[[[ 0.2548,  0.2767, -0.0781],\n",
              "                        [ 0.3062, -0.0730,  0.0673],\n",
              "                        [-0.1623,  0.1958,  0.2938]]],\n",
              "              \n",
              "              \n",
              "                      [[[-0.2445,  0.2897,  0.0624],\n",
              "                        [ 0.2463,  0.0451,  0.1607],\n",
              "                        [-0.0471,  0.2570,  0.0493]]],\n",
              "              \n",
              "              \n",
              "                      [[[-0.1556,  0.0850, -0.1536],\n",
              "                        [-0.0391, -0.1354,  0.2211],\n",
              "                        [-0.2631, -0.1537, -0.0941]]],\n",
              "              \n",
              "              \n",
              "                      [[[-0.2004,  0.0315, -0.3292],\n",
              "                        [ 0.3010, -0.2832,  0.2573],\n",
              "                        [ 0.0555, -0.1082,  0.2060]]],\n",
              "              \n",
              "              \n",
              "                      [[[ 0.0520,  0.2693,  0.0364],\n",
              "                        [-0.1051,  0.0896, -0.0904],\n",
              "                        [ 0.1403,  0.2976,  0.1927]]],\n",
              "              \n",
              "              \n",
              "                      [[[-0.1457,  0.1924,  0.0596],\n",
              "                        [ 0.1693, -0.2032, -0.3300],\n",
              "                        [-0.1288, -0.2557,  0.2735]]],\n",
              "              \n",
              "              \n",
              "                      [[[ 0.0960,  0.1381,  0.1054],\n",
              "                        [-0.0058,  0.2609, -0.2368],\n",
              "                        [ 0.0210, -0.2275,  0.1028]]],\n",
              "              \n",
              "              \n",
              "                      [[[-0.1148,  0.1021, -0.0694],\n",
              "                        [ 0.2765, -0.1976, -0.1988],\n",
              "                        [-0.1988,  0.2998,  0.1111]]],\n",
              "              \n",
              "              \n",
              "                      [[[ 0.3208, -0.2751, -0.3306],\n",
              "                        [-0.2608, -0.2242,  0.1350],\n",
              "                        [ 0.1194,  0.2770, -0.1721]]],\n",
              "              \n",
              "              \n",
              "                      [[[-0.2272,  0.1769, -0.1347],\n",
              "                        [ 0.2023, -0.0791,  0.1907],\n",
              "                        [-0.2590, -0.1682,  0.1016]]]], device='cuda:0')),\n",
              "             ('conv_block_1.0.bias',\n",
              "              tensor([ 0.0705, -0.0850,  0.1987,  0.2266, -0.2417, -0.1780,  0.3052, -0.1125,\n",
              "                      -0.1182, -0.3225], device='cuda:0')),\n",
              "             ('conv_block_1.2.weight',\n",
              "              tensor([[[[-0.0604,  0.0263, -0.0139],\n",
              "                        [-0.0765,  0.0025, -0.0720],\n",
              "                        [-0.0894, -0.0580, -0.0923]],\n",
              "              \n",
              "                       [[-0.0671,  0.1054,  0.0199],\n",
              "                        [ 0.0325, -0.0983, -0.0692],\n",
              "                        [-0.0351,  0.0165, -0.0928]],\n",
              "              \n",
              "                       [[-0.0454, -0.0631,  0.0003],\n",
              "                        [-0.0392, -0.0073, -0.0714],\n",
              "                        [-0.0724, -0.0615, -0.0361]],\n",
              "              \n",
              "                       [[-0.0832,  0.0884, -0.0209],\n",
              "                        [ 0.0907,  0.0328, -0.0893],\n",
              "                        [ 0.0729, -0.0290, -0.0404]],\n",
              "              \n",
              "                       [[-0.0875, -0.1048,  0.0302],\n",
              "                        [-0.0230,  0.0410, -0.0865],\n",
              "                        [ 0.0783, -0.0774, -0.0182]],\n",
              "              \n",
              "                       [[ 0.0220,  0.0544,  0.0851],\n",
              "                        [ 0.0960, -0.0836,  0.0265],\n",
              "                        [-0.0453, -0.0116, -0.0789]],\n",
              "              \n",
              "                       [[ 0.0960, -0.0774,  0.0563],\n",
              "                        [ 0.0370,  0.0343, -0.0570],\n",
              "                        [ 0.0958,  0.0232,  0.0136]],\n",
              "              \n",
              "                       [[-0.0929,  0.0442, -0.0158],\n",
              "                        [-0.0483,  0.0905,  0.0235],\n",
              "                        [-0.0583, -0.0534, -0.0050]],\n",
              "              \n",
              "                       [[ 0.0589, -0.0269, -0.0601],\n",
              "                        [-0.0361, -0.0787,  0.0376],\n",
              "                        [ 0.0816, -0.0992,  0.0245]],\n",
              "              \n",
              "                       [[ 0.0545,  0.0191, -0.0375],\n",
              "                        [ 0.0550,  0.0554,  0.0394],\n",
              "                        [-0.0185, -0.0279,  0.0113]]],\n",
              "              \n",
              "              \n",
              "                      [[[-0.0186, -0.0314,  0.0674],\n",
              "                        [ 0.0906, -0.0104, -0.0236],\n",
              "                        [ 0.0015, -0.0063,  0.0253]],\n",
              "              \n",
              "                       [[ 0.0295, -0.0957, -0.0389],\n",
              "                        [ 0.0888,  0.0411, -0.0052],\n",
              "                        [-0.0636, -0.0645, -0.0944]],\n",
              "              \n",
              "                       [[-0.0344,  0.0356,  0.0672],\n",
              "                        [ 0.0487, -0.0932, -0.0634],\n",
              "                        [-0.0166,  0.1020,  0.0152]],\n",
              "              \n",
              "                       [[-0.0273,  0.0436, -0.0401],\n",
              "                        [-0.0682,  0.0769, -0.0479],\n",
              "                        [-0.0211, -0.1049,  0.0705]],\n",
              "              \n",
              "                       [[ 0.0799,  0.0384, -0.0735],\n",
              "                        [-0.1040, -0.0856,  0.0786],\n",
              "                        [ 0.0506,  0.0887,  0.0552]],\n",
              "              \n",
              "                       [[ 0.0267, -0.0010, -0.0802],\n",
              "                        [-0.0903, -0.0986,  0.0432],\n",
              "                        [-0.0518, -0.0212, -0.0607]],\n",
              "              \n",
              "                       [[-0.0192, -0.0742, -0.0689],\n",
              "                        [ 0.0350, -0.0313,  0.0651],\n",
              "                        [-0.0338, -0.0773, -0.0186]],\n",
              "              \n",
              "                       [[-0.0511, -0.0322, -0.1003],\n",
              "                        [ 0.0590, -0.0734,  0.0530],\n",
              "                        [ 0.0478,  0.0753, -0.0809]],\n",
              "              \n",
              "                       [[ 0.0758, -0.0498,  0.0391],\n",
              "                        [ 0.0990, -0.0149, -0.0008],\n",
              "                        [-0.0243, -0.0880,  0.0506]],\n",
              "              \n",
              "                       [[-0.1046,  0.0654,  0.0789],\n",
              "                        [ 0.0997, -0.0249, -0.0866],\n",
              "                        [ 0.0237,  0.0582, -0.1049]]],\n",
              "              \n",
              "              \n",
              "                      [[[-0.0239, -0.0632, -0.0092],\n",
              "                        [-0.0519, -0.0431, -0.0335],\n",
              "                        [-0.1002,  0.0865,  0.0884]],\n",
              "              \n",
              "                       [[-0.0165, -0.0120, -0.0430],\n",
              "                        [-0.0952, -0.1026,  0.0392],\n",
              "                        [-0.0579, -0.0678, -0.0082]],\n",
              "              \n",
              "                       [[-0.0351, -0.0341,  0.0034],\n",
              "                        [-0.0224, -0.0363, -0.0505],\n",
              "                        [-0.0858,  0.0884, -0.0422]],\n",
              "              \n",
              "                       [[ 0.0279, -0.0366,  0.0086],\n",
              "                        [ 0.0983,  0.0486, -0.0913],\n",
              "                        [ 0.0418,  0.1001,  0.0277]],\n",
              "              \n",
              "                       [[ 0.0707,  0.1039, -0.0162],\n",
              "                        [ 0.0219, -0.0733, -0.0217],\n",
              "                        [ 0.0781,  0.0540, -0.0667]],\n",
              "              \n",
              "                       [[-0.0845, -0.0720, -0.1040],\n",
              "                        [-0.0813, -0.0261,  0.0711],\n",
              "                        [ 0.0176, -0.0802, -0.0846]],\n",
              "              \n",
              "                       [[ 0.0524, -0.0784, -0.0130],\n",
              "                        [ 0.0506, -0.0488, -0.0115],\n",
              "                        [-0.0092, -0.0249, -0.0534]],\n",
              "              \n",
              "                       [[-0.0940, -0.0852, -0.0564],\n",
              "                        [ 0.1018, -0.0509, -0.0708],\n",
              "                        [ 0.0256,  0.0291,  0.0578]],\n",
              "              \n",
              "                       [[ 0.0801,  0.0587, -0.1045],\n",
              "                        [ 0.0093,  0.0639, -0.0097],\n",
              "                        [-0.0621,  0.1005, -0.0394]],\n",
              "              \n",
              "                       [[-0.0600, -0.0950,  0.0047],\n",
              "                        [ 0.0467,  0.0233,  0.0208],\n",
              "                        [-0.0799, -0.0984,  0.0019]]],\n",
              "              \n",
              "              \n",
              "                      [[[ 0.0961,  0.0608, -0.0614],\n",
              "                        [-0.0137, -0.0777, -0.0509],\n",
              "                        [ 0.0191,  0.0574,  0.0873]],\n",
              "              \n",
              "                       [[-0.0968,  0.0705, -0.0743],\n",
              "                        [ 0.0395,  0.0892,  0.0015],\n",
              "                        [ 0.0959, -0.0898, -0.0403]],\n",
              "              \n",
              "                       [[ 0.0615, -0.0230, -0.0216],\n",
              "                        [-0.0439,  0.0727,  0.0517],\n",
              "                        [ 0.0338, -0.0592, -0.0856]],\n",
              "              \n",
              "                       [[ 0.0114,  0.0312, -0.0487],\n",
              "                        [-0.0295,  0.0712,  0.0084],\n",
              "                        [ 0.0048, -0.0259, -0.0955]],\n",
              "              \n",
              "                       [[-0.0991, -0.0504, -0.0536],\n",
              "                        [ 0.0328, -0.0307, -0.0412],\n",
              "                        [ 0.1005,  0.0367,  0.0751]],\n",
              "              \n",
              "                       [[-0.0510, -0.0431,  0.0387],\n",
              "                        [-0.0702, -0.0689, -0.0051],\n",
              "                        [-0.0386, -0.0790,  0.0625]],\n",
              "              \n",
              "                       [[ 0.0848,  0.0171, -0.0184],\n",
              "                        [-0.0976, -0.0384,  0.0268],\n",
              "                        [ 0.0497, -0.0133, -0.0417]],\n",
              "              \n",
              "                       [[ 0.0587, -0.0839,  0.0666],\n",
              "                        [-0.0409,  0.0016, -0.0208],\n",
              "                        [ 0.0128, -0.0319,  0.0766]],\n",
              "              \n",
              "                       [[-0.0027,  0.0823,  0.1013],\n",
              "                        [-0.0514, -0.0769,  0.0846],\n",
              "                        [ 0.0826, -0.0805, -0.0081]],\n",
              "              \n",
              "                       [[-0.1039, -0.0863,  0.0204],\n",
              "                        [ 0.0280,  0.0223, -0.0287],\n",
              "                        [ 0.0972,  0.0151, -0.0622]]],\n",
              "              \n",
              "              \n",
              "                      [[[-0.0060,  0.0253,  0.0369],\n",
              "                        [-0.0745,  0.0395, -0.0539],\n",
              "                        [-0.0876, -0.0576,  0.1017]],\n",
              "              \n",
              "                       [[ 0.0901,  0.0944,  0.0619],\n",
              "                        [ 0.0796, -0.0141, -0.0580],\n",
              "                        [ 0.0527, -0.0546, -0.0711]],\n",
              "              \n",
              "                       [[-0.0337,  0.0221,  0.0543],\n",
              "                        [-0.0409, -0.0620,  0.0142],\n",
              "                        [-0.0621, -0.0686,  0.0549]],\n",
              "              \n",
              "                       [[-0.0177,  0.0963,  0.1025],\n",
              "                        [ 0.0315,  0.0363,  0.0243],\n",
              "                        [ 0.0017, -0.0077,  0.0014]],\n",
              "              \n",
              "                       [[ 0.0394,  0.0980, -0.0273],\n",
              "                        [-0.0446, -0.0255, -0.0509],\n",
              "                        [ 0.0179,  0.0787,  0.0824]],\n",
              "              \n",
              "                       [[ 0.0484, -0.0776, -0.0566],\n",
              "                        [-0.0232, -0.0194,  0.0087],\n",
              "                        [-0.0968,  0.0328, -0.0804]],\n",
              "              \n",
              "                       [[-0.0667, -0.0876,  0.0918],\n",
              "                        [-0.0998,  0.0795, -0.0035],\n",
              "                        [-0.0123,  0.0659, -0.0097]],\n",
              "              \n",
              "                       [[ 0.0661,  0.0762, -0.0915],\n",
              "                        [ 0.0406,  0.0199,  0.0227],\n",
              "                        [ 0.0154,  0.0288, -0.0507]],\n",
              "              \n",
              "                       [[-0.0135,  0.1002,  0.0708],\n",
              "                        [-0.0040, -0.0991,  0.0046],\n",
              "                        [-0.0718,  0.0857, -0.0640]],\n",
              "              \n",
              "                       [[-0.0076, -0.0234,  0.0188],\n",
              "                        [ 0.0992,  0.0100,  0.0610],\n",
              "                        [ 0.0818,  0.0851, -0.0364]]],\n",
              "              \n",
              "              \n",
              "                      [[[-0.0236,  0.0508, -0.0288],\n",
              "                        [ 0.0494, -0.0230, -0.0715],\n",
              "                        [ 0.0429,  0.0162,  0.0470]],\n",
              "              \n",
              "                       [[ 0.1047,  0.0720,  0.0999],\n",
              "                        [ 0.0056, -0.0907, -0.0739],\n",
              "                        [-0.0655, -0.0929, -0.0528]],\n",
              "              \n",
              "                       [[-0.0970, -0.0973, -0.0630],\n",
              "                        [-0.1039, -0.0647,  0.0402],\n",
              "                        [ 0.0879, -0.0314, -0.0307]],\n",
              "              \n",
              "                       [[ 0.0563, -0.0520, -0.0498],\n",
              "                        [ 0.0649, -0.0918,  0.0129],\n",
              "                        [ 0.0931,  0.0181,  0.0287]],\n",
              "              \n",
              "                       [[-0.0614, -0.0015,  0.0058],\n",
              "                        [ 0.0259,  0.0410,  0.0916],\n",
              "                        [-0.0805,  0.0032, -0.0527]],\n",
              "              \n",
              "                       [[-0.0834, -0.0084, -0.0928],\n",
              "                        [ 0.0736,  0.0122, -0.0568],\n",
              "                        [ 0.0551, -0.0998, -0.0408]],\n",
              "              \n",
              "                       [[-0.0205, -0.0896, -0.0670],\n",
              "                        [-0.0172,  0.0800,  0.1018],\n",
              "                        [ 0.0671, -0.0629, -0.0690]],\n",
              "              \n",
              "                       [[ 0.0920,  0.0373,  0.0028],\n",
              "                        [ 0.0143, -0.0847, -0.0352],\n",
              "                        [ 0.1015, -0.0260, -0.0053]],\n",
              "              \n",
              "                       [[-0.0875, -0.0590, -0.0022],\n",
              "                        [-0.0655, -0.0131,  0.0429],\n",
              "                        [-0.1031,  0.0313, -0.0697]],\n",
              "              \n",
              "                       [[-0.0514,  0.0405,  0.0838],\n",
              "                        [-0.0288, -0.0433, -0.0953],\n",
              "                        [-0.0544, -0.0923, -0.0241]]],\n",
              "              \n",
              "              \n",
              "                      [[[ 0.0215, -0.0988,  0.0920],\n",
              "                        [ 0.0661, -0.1032, -0.0503],\n",
              "                        [ 0.0344, -0.0217, -0.0115]],\n",
              "              \n",
              "                       [[-0.0476,  0.0847, -0.0589],\n",
              "                        [ 0.0874,  0.0068,  0.0212],\n",
              "                        [ 0.0822, -0.0174, -0.0600]],\n",
              "              \n",
              "                       [[-0.0170,  0.0855, -0.0782],\n",
              "                        [ 0.0239, -0.1036,  0.0553],\n",
              "                        [ 0.0389,  0.0045,  0.0452]],\n",
              "              \n",
              "                       [[ 0.0001,  0.0583, -0.0834],\n",
              "                        [-0.0155,  0.0468,  0.1050],\n",
              "                        [ 0.0537, -0.0767,  0.0811]],\n",
              "              \n",
              "                       [[-0.0235, -0.0225, -0.0958],\n",
              "                        [-0.0166,  0.0746,  0.0147],\n",
              "                        [-0.0614,  0.0324, -0.0338]],\n",
              "              \n",
              "                       [[ 0.0962, -0.0915, -0.0333],\n",
              "                        [-0.1018, -0.0415,  0.0332],\n",
              "                        [ 0.1015,  0.0177,  0.1033]],\n",
              "              \n",
              "                       [[ 0.0206,  0.0609,  0.0845],\n",
              "                        [ 0.0881, -0.0590,  0.0969],\n",
              "                        [ 0.0639, -0.0493, -0.0503]],\n",
              "              \n",
              "                       [[-0.0884,  0.0265, -0.0854],\n",
              "                        [ 0.0445,  0.0333, -0.0916],\n",
              "                        [ 0.0287, -0.0086,  0.0482]],\n",
              "              \n",
              "                       [[ 0.0605, -0.1048,  0.0967],\n",
              "                        [ 0.0884,  0.0419, -0.0963],\n",
              "                        [-0.0377, -0.0305, -0.0271]],\n",
              "              \n",
              "                       [[ 0.0594,  0.0383,  0.0835],\n",
              "                        [-0.0395,  0.0355,  0.0375],\n",
              "                        [-0.0878, -0.1022, -0.0547]]],\n",
              "              \n",
              "              \n",
              "                      [[[ 0.0722, -0.0992, -0.0918],\n",
              "                        [ 0.0591,  0.0569,  0.0867],\n",
              "                        [-0.0796, -0.0771,  0.0541]],\n",
              "              \n",
              "                       [[ 0.0917,  0.0631,  0.0165],\n",
              "                        [ 0.0347,  0.1000, -0.0680],\n",
              "                        [-0.0479,  0.0737, -0.0721]],\n",
              "              \n",
              "                       [[-0.0581,  0.0769,  0.0333],\n",
              "                        [ 0.0341, -0.0447, -0.0015],\n",
              "                        [ 0.0965, -0.0633,  0.0008]],\n",
              "              \n",
              "                       [[ 0.0501, -0.0728,  0.1024],\n",
              "                        [-0.0527, -0.0253, -0.0285],\n",
              "                        [-0.0687, -0.1034,  0.0594]],\n",
              "              \n",
              "                       [[ 0.0280, -0.0987, -0.0678],\n",
              "                        [ 0.1042,  0.0403,  0.0423],\n",
              "                        [-0.0631, -0.0462, -0.0159]],\n",
              "              \n",
              "                       [[-0.0193, -0.0722,  0.0087],\n",
              "                        [ 0.0105, -0.0133,  0.0146],\n",
              "                        [-0.0418,  0.0274,  0.0398]],\n",
              "              \n",
              "                       [[-0.0555, -0.1045,  0.0552],\n",
              "                        [ 0.0251, -0.0536,  0.1016],\n",
              "                        [-0.0477,  0.0712,  0.0535]],\n",
              "              \n",
              "                       [[-0.0884,  0.0680, -0.0969],\n",
              "                        [-0.0584, -0.0176, -0.0711],\n",
              "                        [ 0.1030, -0.0211,  0.0419]],\n",
              "              \n",
              "                       [[-0.0941,  0.0607, -0.0328],\n",
              "                        [-0.0802,  0.0154,  0.0511],\n",
              "                        [ 0.0912, -0.0644, -0.0519]],\n",
              "              \n",
              "                       [[ 0.0203,  0.0286,  0.0405],\n",
              "                        [ 0.0579, -0.0239,  0.0586],\n",
              "                        [ 0.0777, -0.0275,  0.0750]]],\n",
              "              \n",
              "              \n",
              "                      [[[ 0.0515,  0.0930, -0.0599],\n",
              "                        [-0.0521, -0.0305,  0.0053],\n",
              "                        [ 0.0633, -0.0602,  0.0528]],\n",
              "              \n",
              "                       [[-0.0378,  0.0637, -0.0050],\n",
              "                        [-0.0923, -0.0580, -0.0763],\n",
              "                        [ 0.0523, -0.0707, -0.0088]],\n",
              "              \n",
              "                       [[ 0.0227, -0.0578,  0.0304],\n",
              "                        [-0.1029, -0.0754, -0.0955],\n",
              "                        [-0.0319, -0.0384,  0.0151]],\n",
              "              \n",
              "                       [[-0.0195,  0.0496,  0.0966],\n",
              "                        [ 0.0378, -0.0415, -0.0987],\n",
              "                        [ 0.0382, -0.0522,  0.0536]],\n",
              "              \n",
              "                       [[ 0.0705,  0.0407,  0.0989],\n",
              "                        [ 0.1001,  0.0223, -0.0768],\n",
              "                        [ 0.0942, -0.0500, -0.0498]],\n",
              "              \n",
              "                       [[ 0.0882,  0.0817,  0.0318],\n",
              "                        [ 0.0066, -0.0887, -0.0109],\n",
              "                        [ 0.1011,  0.0268,  0.0090]],\n",
              "              \n",
              "                       [[-0.0219, -0.0368,  0.0628],\n",
              "                        [ 0.0065,  0.0686, -0.0187],\n",
              "                        [ 0.0461,  0.0435,  0.0168]],\n",
              "              \n",
              "                       [[ 0.0662,  0.0661,  0.0977],\n",
              "                        [ 0.0810, -0.0270, -0.0892],\n",
              "                        [ 0.0193, -0.0009, -0.0275]],\n",
              "              \n",
              "                       [[-0.0177,  0.0050,  0.0769],\n",
              "                        [ 0.0329, -0.0374, -0.0433],\n",
              "                        [-0.0261, -0.0407,  0.0948]],\n",
              "              \n",
              "                       [[ 0.0558,  0.0952,  0.0003],\n",
              "                        [ 0.0213,  0.0366, -0.0998],\n",
              "                        [ 0.0094, -0.0071, -0.0591]]],\n",
              "              \n",
              "              \n",
              "                      [[[-0.0818,  0.0933,  0.0857],\n",
              "                        [ 0.0489,  0.1006, -0.0428],\n",
              "                        [-0.0182,  0.0399, -0.0174]],\n",
              "              \n",
              "                       [[-0.0207, -0.0871,  0.0283],\n",
              "                        [-0.0637,  0.0038,  0.1028],\n",
              "                        [-0.0324, -0.0332,  0.0636]],\n",
              "              \n",
              "                       [[-0.0388, -0.0091,  0.0984],\n",
              "                        [-0.0432, -0.0754, -0.0590],\n",
              "                        [-0.0292, -0.0500, -0.0547]],\n",
              "              \n",
              "                       [[ 0.0426,  0.0179, -0.0337],\n",
              "                        [-0.0819, -0.0332, -0.0445],\n",
              "                        [-0.0343, -0.0951,  0.0227]],\n",
              "              \n",
              "                       [[-0.0774, -0.0821, -0.0861],\n",
              "                        [ 0.0440, -0.0635, -0.0435],\n",
              "                        [ 0.0826,  0.0560,  0.0604]],\n",
              "              \n",
              "                       [[-0.1001, -0.0756, -0.0398],\n",
              "                        [ 0.0871,  0.0108, -0.0788],\n",
              "                        [ 0.0007, -0.0819, -0.0231]],\n",
              "              \n",
              "                       [[-0.0290,  0.0912,  0.0326],\n",
              "                        [-0.0184,  0.0178, -0.0304],\n",
              "                        [ 0.0414,  0.0417,  0.0283]],\n",
              "              \n",
              "                       [[-0.0411,  0.0899, -0.0152],\n",
              "                        [-0.0410,  0.0660,  0.0859],\n",
              "                        [ 0.1049,  0.0312, -0.0359]],\n",
              "              \n",
              "                       [[ 0.0535,  0.0904, -0.1034],\n",
              "                        [-0.0131, -0.0719,  0.0196],\n",
              "                        [ 0.0436, -0.0218, -0.0088]],\n",
              "              \n",
              "                       [[ 0.0474, -0.0177, -0.0885],\n",
              "                        [ 0.0843, -0.0531, -0.0116],\n",
              "                        [ 0.0099, -0.0063, -0.0992]]]], device='cuda:0')),\n",
              "             ('conv_block_1.2.bias',\n",
              "              tensor([ 0.0484, -0.0479, -0.0547,  0.0252, -0.0550, -0.0487, -0.0355, -0.0396,\n",
              "                      -0.0440, -0.0284], device='cuda:0')),\n",
              "             ('conv_block_2.0.weight',\n",
              "              tensor([[[[ 2.7393e-02, -8.5299e-02, -6.3802e-02],\n",
              "                        [ 1.5381e-03,  1.4659e-02,  5.8217e-02],\n",
              "                        [-7.4044e-02,  3.3646e-02,  5.9914e-02]],\n",
              "              \n",
              "                       [[ 5.8530e-02, -9.8180e-02, -4.0225e-02],\n",
              "                        [-9.0606e-02, -6.6704e-02,  5.8711e-02],\n",
              "                        [-1.5740e-02,  4.4769e-02, -6.1876e-02]],\n",
              "              \n",
              "                       [[ 1.6018e-02, -6.3758e-02,  5.2693e-02],\n",
              "                        [-4.6104e-02, -2.6432e-02, -9.1456e-02],\n",
              "                        [ 3.4822e-04,  1.0008e-01,  5.1163e-02]],\n",
              "              \n",
              "                       [[-5.6240e-02,  1.4176e-03, -1.1558e-02],\n",
              "                        [-8.4862e-02,  8.2650e-02,  1.6993e-03],\n",
              "                        [ 2.2199e-02, -4.2567e-02, -4.9323e-02]],\n",
              "              \n",
              "                       [[ 1.7381e-02,  3.8971e-02,  2.3643e-02],\n",
              "                        [-5.0801e-02,  1.0234e-01, -1.5517e-02],\n",
              "                        [-6.4554e-02, -4.9301e-02,  1.0377e-01]],\n",
              "              \n",
              "                       [[ 5.0766e-06, -1.4309e-02, -4.3867e-02],\n",
              "                        [-2.7633e-02, -8.8779e-02, -8.3767e-02],\n",
              "                        [ 6.1695e-02,  9.0172e-02,  1.0059e-01]],\n",
              "              \n",
              "                       [[-7.6099e-02,  5.7012e-02, -6.5245e-02],\n",
              "                        [ 6.2883e-02,  7.6058e-02,  8.1573e-02],\n",
              "                        [ 7.5900e-02,  6.5941e-02,  2.0516e-03]],\n",
              "              \n",
              "                       [[ 4.8434e-02, -3.7712e-02,  4.5899e-02],\n",
              "                        [-3.3879e-02, -1.7700e-03, -9.1746e-02],\n",
              "                        [-2.7562e-02, -5.5432e-02, -3.5557e-02]],\n",
              "              \n",
              "                       [[-6.7313e-02, -9.4810e-02,  6.8639e-03],\n",
              "                        [ 6.8408e-02,  9.6001e-02,  6.1512e-02],\n",
              "                        [-5.4638e-02, -1.0425e-01,  3.9983e-02]],\n",
              "              \n",
              "                       [[ 5.9062e-02, -9.0495e-02,  3.7798e-02],\n",
              "                        [ 8.9121e-02,  6.3853e-03, -6.3505e-02],\n",
              "                        [ 8.6423e-02,  4.5011e-02,  6.9802e-02]]],\n",
              "              \n",
              "              \n",
              "                      [[[-7.1287e-02,  6.1342e-02, -7.2002e-02],\n",
              "                        [ 1.0430e-01, -4.4662e-02,  6.3516e-02],\n",
              "                        [ 2.1107e-02,  2.7935e-02, -1.6165e-02]],\n",
              "              \n",
              "                       [[ 4.3295e-02, -4.3932e-02, -9.9357e-02],\n",
              "                        [-4.0499e-02,  8.2592e-02, -2.7751e-02],\n",
              "                        [ 3.3132e-02, -3.8973e-02,  7.9073e-02]],\n",
              "              \n",
              "                       [[ 6.3086e-02,  3.7211e-02, -5.3881e-02],\n",
              "                        [-8.6133e-02,  3.9686e-03, -6.1839e-02],\n",
              "                        [ 8.6667e-02, -1.0130e-01,  4.7104e-02]],\n",
              "              \n",
              "                       [[ 1.0508e-01,  5.2792e-02,  3.5942e-02],\n",
              "                        [-1.0142e-01,  1.0139e-01, -1.8030e-02],\n",
              "                        [-9.8495e-02,  1.0406e-01, -4.2894e-02]],\n",
              "              \n",
              "                       [[-7.4575e-03,  9.6479e-02, -7.3070e-02],\n",
              "                        [-7.4576e-02,  1.7141e-02, -1.4109e-02],\n",
              "                        [ 2.4280e-02, -8.8407e-02,  3.1524e-03]],\n",
              "              \n",
              "                       [[-4.6882e-02, -5.1820e-02, -9.6517e-02],\n",
              "                        [ 5.5890e-02,  2.0306e-02, -8.9118e-02],\n",
              "                        [ 8.3648e-02,  3.1794e-02,  1.9560e-02]],\n",
              "              \n",
              "                       [[-6.1890e-02,  1.5896e-02,  1.0157e-01],\n",
              "                        [ 7.2299e-02, -8.2100e-02,  9.6220e-02],\n",
              "                        [ 8.1702e-03,  5.0698e-02,  8.1869e-02]],\n",
              "              \n",
              "                       [[ 8.9862e-02, -8.2170e-02,  9.2303e-02],\n",
              "                        [-7.1591e-02,  7.9021e-03, -7.3656e-02],\n",
              "                        [-2.3109e-02, -4.7901e-03, -1.2611e-02]],\n",
              "              \n",
              "                       [[-1.6652e-02,  8.3137e-03,  1.0398e-01],\n",
              "                        [ 6.1244e-02,  5.8973e-02,  4.2190e-02],\n",
              "                        [ 8.1606e-02, -4.8645e-03,  8.3813e-03]],\n",
              "              \n",
              "                       [[ 2.1693e-02, -9.1931e-02, -8.4913e-02],\n",
              "                        [ 1.2923e-02, -4.1241e-02, -1.9342e-03],\n",
              "                        [-2.4187e-02,  1.6408e-02,  6.8581e-02]]],\n",
              "              \n",
              "              \n",
              "                      [[[-3.4958e-02,  8.4418e-02,  8.3227e-02],\n",
              "                        [-8.0901e-02, -8.1400e-02, -8.5284e-02],\n",
              "                        [-5.7766e-02, -4.1033e-02, -7.9341e-03]],\n",
              "              \n",
              "                       [[-2.5635e-02, -5.3258e-02, -3.3488e-02],\n",
              "                        [-3.8131e-02,  1.0341e-01, -3.9068e-02],\n",
              "                        [-7.5473e-02,  4.3818e-02, -6.0886e-03]],\n",
              "              \n",
              "                       [[ 8.0698e-02,  6.5863e-02,  9.6843e-02],\n",
              "                        [-7.7197e-02,  6.7764e-02,  8.8464e-02],\n",
              "                        [-5.2054e-02,  9.6890e-02,  7.9019e-02]],\n",
              "              \n",
              "                       [[ 1.1544e-03,  5.0823e-02, -3.6853e-02],\n",
              "                        [-9.1936e-02,  2.6645e-02,  3.1425e-02],\n",
              "                        [-6.8891e-02,  5.1123e-02, -9.0043e-02]],\n",
              "              \n",
              "                       [[ 9.0718e-02,  1.0208e-01,  2.8699e-02],\n",
              "                        [-6.6137e-02,  5.1300e-02,  1.7963e-02],\n",
              "                        [ 2.8663e-02,  3.4643e-02,  8.0254e-02]],\n",
              "              \n",
              "                       [[-4.5309e-02, -2.3711e-02,  2.8746e-02],\n",
              "                        [ 1.1486e-02,  8.5000e-02, -5.5365e-02],\n",
              "                        [-3.8387e-03,  1.9696e-02, -2.7996e-02]],\n",
              "              \n",
              "                       [[ 7.1859e-02,  1.1530e-02, -9.7422e-02],\n",
              "                        [-1.1420e-02, -4.7809e-02,  1.0243e-02],\n",
              "                        [-1.2250e-02, -1.0456e-01, -1.9208e-02]],\n",
              "              \n",
              "                       [[-1.0096e-02, -3.1083e-02,  9.6848e-02],\n",
              "                        [-2.3000e-02,  6.7717e-02,  2.6112e-02],\n",
              "                        [-8.8979e-02,  2.4770e-02,  8.7356e-02]],\n",
              "              \n",
              "                       [[-6.8948e-02, -6.8134e-02,  1.0318e-01],\n",
              "                        [ 8.4697e-02, -5.8807e-02,  6.3429e-02],\n",
              "                        [-1.3485e-02, -1.0393e-01,  7.9198e-03]],\n",
              "              \n",
              "                       [[ 3.4057e-02, -3.1619e-02,  3.6670e-02],\n",
              "                        [-9.0136e-02,  7.3050e-02,  8.9865e-02],\n",
              "                        [ 5.8130e-02,  1.7866e-02,  3.4716e-02]]],\n",
              "              \n",
              "              \n",
              "                      [[[-7.6269e-02, -2.6339e-02, -1.0063e-02],\n",
              "                        [-5.8659e-02, -7.7857e-02,  7.0900e-02],\n",
              "                        [ 7.1535e-02, -9.5731e-02,  3.3542e-02]],\n",
              "              \n",
              "                       [[ 4.2881e-02,  1.0014e-01,  6.0985e-02],\n",
              "                        [ 9.6907e-02, -3.4510e-02,  7.3827e-02],\n",
              "                        [ 8.5740e-02, -9.9541e-02, -8.4613e-02]],\n",
              "              \n",
              "                       [[ 2.1335e-02,  5.7557e-02, -5.2369e-02],\n",
              "                        [ 1.1609e-02, -1.5303e-04,  2.6680e-02],\n",
              "                        [-5.6642e-02,  5.9455e-02,  7.0098e-02]],\n",
              "              \n",
              "                       [[-7.3139e-02,  1.0211e-03,  2.9247e-04],\n",
              "                        [ 3.3849e-02,  9.8198e-02,  3.0913e-02],\n",
              "                        [-2.3951e-02,  9.4672e-02, -4.0112e-02]],\n",
              "              \n",
              "                       [[-3.0608e-02,  7.1969e-03, -8.0270e-02],\n",
              "                        [ 1.1470e-02, -7.1518e-02,  1.0838e-02],\n",
              "                        [ 1.0099e-02,  1.4591e-02, -8.8891e-02]],\n",
              "              \n",
              "                       [[-1.0012e-01,  4.8501e-02,  9.0399e-02],\n",
              "                        [-9.3537e-02,  3.9043e-02, -7.7594e-02],\n",
              "                        [ 6.6082e-03,  9.8068e-02,  7.9965e-02]],\n",
              "              \n",
              "                       [[-7.7069e-02,  6.5203e-02,  5.5057e-02],\n",
              "                        [-1.6168e-04,  1.0211e-01, -4.1866e-02],\n",
              "                        [-2.4530e-02, -5.3275e-02,  1.5168e-02]],\n",
              "              \n",
              "                       [[ 2.7911e-02,  8.3990e-03, -5.9307e-02],\n",
              "                        [-4.7452e-02,  3.5855e-02, -9.2426e-02],\n",
              "                        [-1.6416e-02, -2.3350e-03, -4.2708e-02]],\n",
              "              \n",
              "                       [[ 3.8360e-02,  6.7940e-03,  7.4004e-02],\n",
              "                        [-9.3616e-03, -6.6528e-02,  7.4477e-02],\n",
              "                        [ 1.4720e-02, -3.0189e-02, -6.9476e-02]],\n",
              "              \n",
              "                       [[ 2.4707e-02, -1.0053e-01,  2.7762e-02],\n",
              "                        [ 5.2119e-02, -9.2465e-02, -6.9009e-02],\n",
              "                        [-7.5781e-02,  8.8597e-02,  8.9611e-02]]],\n",
              "              \n",
              "              \n",
              "                      [[[ 6.5987e-03,  9.8959e-02, -3.5239e-02],\n",
              "                        [-1.0233e-01,  3.6819e-02,  3.7343e-02],\n",
              "                        [ 1.0334e-01, -3.0510e-05,  8.0785e-02]],\n",
              "              \n",
              "                       [[ 6.4612e-02,  7.6292e-02, -1.0460e-01],\n",
              "                        [ 8.6800e-02, -8.9856e-02,  9.4501e-02],\n",
              "                        [-4.3682e-03, -9.3415e-02,  2.9314e-02]],\n",
              "              \n",
              "                       [[-2.1456e-02, -9.4678e-02, -3.8215e-02],\n",
              "                        [ 1.0868e-02,  8.2098e-02, -3.2406e-02],\n",
              "                        [ 6.2610e-02,  1.3200e-02,  3.5531e-03]],\n",
              "              \n",
              "                       [[ 2.0170e-02, -6.9177e-02, -8.7616e-02],\n",
              "                        [-3.3121e-02, -9.8226e-02, -4.9158e-02],\n",
              "                        [ 4.8494e-03, -6.9424e-02, -4.3723e-02]],\n",
              "              \n",
              "                       [[-1.8941e-02, -1.2144e-02, -5.8187e-02],\n",
              "                        [ 5.0650e-03, -1.4795e-02,  3.0147e-02],\n",
              "                        [ 4.7611e-03, -5.2638e-02, -3.6291e-02]],\n",
              "              \n",
              "                       [[-1.2149e-03, -6.5774e-02,  8.2520e-03],\n",
              "                        [-7.4425e-03,  4.0897e-02,  2.4947e-02],\n",
              "                        [ 7.8887e-02, -3.4749e-03, -7.7887e-02]],\n",
              "              \n",
              "                       [[ 4.7119e-02, -7.1240e-02, -1.4489e-02],\n",
              "                        [-3.4132e-02, -3.9997e-02, -3.9000e-02],\n",
              "                        [ 9.6863e-02,  6.0342e-02,  2.9213e-02]],\n",
              "              \n",
              "                       [[ 9.8975e-02, -9.5524e-02,  1.7010e-02],\n",
              "                        [ 6.7481e-02,  7.0022e-02, -8.3890e-02],\n",
              "                        [ 3.7514e-02, -6.0050e-02, -4.1187e-03]],\n",
              "              \n",
              "                       [[-2.1996e-02, -8.8013e-02, -1.0055e-01],\n",
              "                        [-6.9349e-02,  4.7832e-02,  4.8218e-02],\n",
              "                        [-9.1681e-02, -3.9586e-02,  1.7218e-03]],\n",
              "              \n",
              "                       [[-9.1135e-02,  5.9393e-02,  9.5473e-02],\n",
              "                        [ 1.8643e-02, -7.8321e-02,  2.4580e-02],\n",
              "                        [ 3.8265e-02,  8.3468e-02, -5.6085e-02]]],\n",
              "              \n",
              "              \n",
              "                      [[[-9.4437e-02,  4.6312e-02,  6.5624e-03],\n",
              "                        [-3.4345e-02, -4.4169e-02, -5.4351e-02],\n",
              "                        [ 8.5328e-02, -1.8187e-02,  7.6022e-02]],\n",
              "              \n",
              "                       [[ 9.4094e-02,  1.3353e-02,  2.2454e-02],\n",
              "                        [-7.1789e-03,  7.2397e-02, -9.4983e-02],\n",
              "                        [ 4.1919e-02, -1.7174e-02,  4.8132e-02]],\n",
              "              \n",
              "                       [[-4.6949e-04, -3.9029e-02, -1.1379e-02],\n",
              "                        [ 5.6920e-02, -7.3210e-02, -6.6629e-02],\n",
              "                        [-2.3611e-02, -3.8235e-02,  4.1409e-02]],\n",
              "              \n",
              "                       [[ 7.0937e-02, -1.1289e-02,  9.9672e-02],\n",
              "                        [-4.4042e-02, -5.9151e-02, -4.7191e-02],\n",
              "                        [-7.2624e-02, -7.3885e-02, -9.3921e-02]],\n",
              "              \n",
              "                       [[-9.3422e-02,  2.7512e-02,  6.4284e-02],\n",
              "                        [ 9.8963e-02,  8.9787e-02, -6.0709e-03],\n",
              "                        [ 2.0454e-02, -6.3068e-02,  4.0743e-02]],\n",
              "              \n",
              "                       [[-1.0107e-01,  4.9719e-02,  1.9334e-02],\n",
              "                        [ 3.2393e-02,  3.8595e-02, -4.8394e-02],\n",
              "                        [ 9.0452e-02,  5.0307e-02,  6.9243e-02]],\n",
              "              \n",
              "                       [[ 1.3922e-02,  6.6196e-02,  7.0941e-02],\n",
              "                        [ 4.7775e-02,  8.0297e-02, -1.9119e-02],\n",
              "                        [ 6.9310e-02,  2.4286e-02,  6.3424e-02]],\n",
              "              \n",
              "                       [[ 1.0267e-01,  2.3869e-02, -3.9124e-02],\n",
              "                        [-1.0488e-02,  2.9676e-02,  1.7773e-02],\n",
              "                        [-2.8795e-02,  8.2590e-02,  6.3331e-02]],\n",
              "              \n",
              "                       [[-6.5475e-02, -8.5889e-03, -1.0119e-02],\n",
              "                        [-6.6063e-02,  1.5374e-02, -3.2360e-02],\n",
              "                        [-5.4419e-02, -3.3894e-02, -3.7584e-02]],\n",
              "              \n",
              "                       [[ 1.0084e-01,  4.0432e-02,  1.0373e-01],\n",
              "                        [ 2.8903e-02,  2.3868e-02,  4.3333e-02],\n",
              "                        [ 1.8092e-02, -8.2722e-02, -6.2334e-02]]],\n",
              "              \n",
              "              \n",
              "                      [[[-2.5538e-02,  1.5846e-03,  3.9709e-02],\n",
              "                        [ 4.0588e-02,  8.3623e-02,  2.1458e-02],\n",
              "                        [-3.5975e-02, -7.9271e-02, -7.7203e-02]],\n",
              "              \n",
              "                       [[-6.2965e-02,  3.1792e-02,  5.6950e-02],\n",
              "                        [ 9.2224e-02, -3.3342e-02, -8.3150e-03],\n",
              "                        [-3.1303e-02, -3.8517e-04,  3.3837e-02]],\n",
              "              \n",
              "                       [[-2.3160e-03,  4.8799e-03,  1.3354e-02],\n",
              "                        [ 3.9256e-02, -3.1981e-02, -6.2855e-02],\n",
              "                        [ 2.4869e-02, -1.2481e-02, -4.7753e-02]],\n",
              "              \n",
              "                       [[ 4.4268e-02,  9.5597e-04, -1.5333e-02],\n",
              "                        [-5.1027e-02, -1.3868e-02, -8.9632e-02],\n",
              "                        [ 2.3980e-02,  1.5818e-03,  6.3966e-02]],\n",
              "              \n",
              "                       [[ 6.8063e-03,  8.4277e-03,  2.8715e-02],\n",
              "                        [ 8.0210e-02, -4.9812e-02,  6.2930e-02],\n",
              "                        [ 2.5779e-02, -7.0320e-02,  3.6702e-02]],\n",
              "              \n",
              "                       [[-6.3217e-02, -3.3181e-02, -5.0245e-02],\n",
              "                        [-7.1711e-02,  8.3017e-02, -9.4217e-02],\n",
              "                        [ 5.2706e-02, -9.4870e-02, -1.2829e-02]],\n",
              "              \n",
              "                       [[ 6.2868e-03,  7.4937e-02, -3.8147e-02],\n",
              "                        [ 3.0340e-02,  1.6329e-02,  6.2021e-02],\n",
              "                        [ 6.2667e-03,  3.9470e-02, -6.3677e-02]],\n",
              "              \n",
              "                       [[-7.3250e-02,  9.3928e-02, -7.6808e-02],\n",
              "                        [-1.7945e-02, -1.2742e-02,  1.0308e-01],\n",
              "                        [-2.2780e-02, -8.0249e-02, -2.6721e-02]],\n",
              "              \n",
              "                       [[ 5.4372e-02,  4.1773e-02,  8.7204e-02],\n",
              "                        [-2.1579e-02,  4.9653e-02, -9.9194e-02],\n",
              "                        [ 4.0787e-02,  4.8432e-02,  6.7998e-02]],\n",
              "              \n",
              "                       [[-6.0446e-02, -2.8142e-02,  2.5502e-02],\n",
              "                        [-7.4905e-02, -8.3851e-02, -1.0141e-01],\n",
              "                        [ 5.8842e-03,  6.5458e-02,  2.7075e-02]]],\n",
              "              \n",
              "              \n",
              "                      [[[ 6.4263e-03,  3.6727e-02, -6.6240e-02],\n",
              "                        [ 1.1113e-02, -2.6186e-02, -5.2193e-02],\n",
              "                        [ 9.0902e-02, -8.1550e-02,  1.5448e-02]],\n",
              "              \n",
              "                       [[-9.2624e-02, -3.5762e-03, -4.6840e-02],\n",
              "                        [ 3.4695e-02, -5.9191e-02,  6.7466e-02],\n",
              "                        [-8.5536e-02,  6.3313e-02, -7.9181e-02]],\n",
              "              \n",
              "                       [[ 5.6456e-02, -4.4384e-02, -2.4556e-04],\n",
              "                        [-1.9238e-02,  6.8414e-02,  3.4546e-02],\n",
              "                        [-9.2887e-02,  9.6914e-03, -7.2718e-02]],\n",
              "              \n",
              "                       [[ 7.8800e-02,  1.7319e-02, -2.7109e-02],\n",
              "                        [-5.3777e-02,  3.6485e-02, -6.3129e-02],\n",
              "                        [ 4.9992e-02,  5.7519e-02,  6.4701e-02]],\n",
              "              \n",
              "                       [[ 2.7537e-02, -9.2272e-02,  7.5823e-02],\n",
              "                        [-3.2700e-02, -3.1163e-02, -1.1325e-02],\n",
              "                        [ 7.7068e-02,  8.1052e-02,  1.6276e-02]],\n",
              "              \n",
              "                       [[ 5.0296e-02, -9.8241e-02,  2.4900e-04],\n",
              "                        [-9.3254e-02,  3.5876e-02, -7.5099e-02],\n",
              "                        [-3.7568e-02,  7.3684e-02,  1.0074e-01]],\n",
              "              \n",
              "                       [[-6.3286e-02, -5.8503e-02,  1.3055e-02],\n",
              "                        [ 4.1437e-02, -1.7168e-02, -3.2918e-02],\n",
              "                        [-6.9237e-02,  4.4997e-02,  1.0328e-01]],\n",
              "              \n",
              "                       [[-5.1026e-02,  4.9718e-02,  5.1481e-02],\n",
              "                        [ 8.4728e-02, -1.2001e-02,  3.3202e-03],\n",
              "                        [ 7.7444e-02,  6.6631e-02,  1.0411e-01]],\n",
              "              \n",
              "                       [[-3.0207e-02,  4.1709e-02,  7.3605e-02],\n",
              "                        [-7.1553e-02,  2.0940e-02, -2.3586e-02],\n",
              "                        [ 6.7760e-02, -4.7342e-02,  7.3933e-03]],\n",
              "              \n",
              "                       [[ 6.3067e-02, -9.6567e-02, -8.9004e-02],\n",
              "                        [-5.3989e-02,  6.7611e-02,  7.0680e-02],\n",
              "                        [-7.1991e-02,  2.0100e-02, -5.5854e-02]]],\n",
              "              \n",
              "              \n",
              "                      [[[-4.8926e-02,  9.0907e-02,  5.0914e-02],\n",
              "                        [-2.8828e-02,  1.5516e-02,  2.0424e-02],\n",
              "                        [ 2.4691e-02, -3.6079e-02, -6.2074e-02]],\n",
              "              \n",
              "                       [[ 6.9788e-02,  1.4164e-02,  4.4119e-02],\n",
              "                        [-3.9922e-02,  5.1057e-02,  7.6713e-02],\n",
              "                        [ 6.4107e-02,  2.8660e-02,  1.0371e-01]],\n",
              "              \n",
              "                       [[-2.3053e-04,  2.2441e-02,  1.0015e-01],\n",
              "                        [ 1.0245e-01, -4.4506e-02,  9.4953e-02],\n",
              "                        [ 3.8902e-02, -1.1799e-02,  9.2038e-02]],\n",
              "              \n",
              "                       [[-5.4605e-02,  6.8490e-02,  1.0445e-01],\n",
              "                        [-7.2701e-02, -6.2201e-02, -1.0445e-01],\n",
              "                        [-1.8970e-02, -9.5733e-02, -3.5304e-02]],\n",
              "              \n",
              "                       [[ 3.2002e-02,  7.4511e-02,  5.8717e-02],\n",
              "                        [ 5.8511e-02,  4.3730e-02, -6.5378e-02],\n",
              "                        [-8.3694e-02,  4.3696e-03,  1.0009e-01]],\n",
              "              \n",
              "                       [[ 5.9351e-03, -9.0662e-03, -7.1545e-02],\n",
              "                        [-5.2266e-02, -8.1256e-02,  8.4398e-02],\n",
              "                        [-1.7174e-02, -9.3119e-02,  1.1308e-02]],\n",
              "              \n",
              "                       [[ 7.6494e-03, -1.3023e-02,  3.7733e-02],\n",
              "                        [ 5.6687e-02, -9.9128e-02, -8.0753e-02],\n",
              "                        [-5.0639e-03, -9.7729e-02, -9.5750e-02]],\n",
              "              \n",
              "                       [[ 9.3067e-02, -8.0174e-03, -5.2113e-02],\n",
              "                        [-3.6157e-02, -8.2295e-02,  8.2258e-02],\n",
              "                        [-2.2857e-02, -5.9265e-02, -7.9944e-02]],\n",
              "              \n",
              "                       [[ 6.1611e-02, -1.4571e-02, -1.1074e-02],\n",
              "                        [-2.7473e-02, -5.0883e-02,  1.8751e-02],\n",
              "                        [ 8.1099e-02, -6.1093e-02,  5.0504e-03]],\n",
              "              \n",
              "                       [[-8.0165e-02, -4.9426e-02,  9.2525e-02],\n",
              "                        [ 1.1052e-03,  1.0154e-01, -1.8468e-02],\n",
              "                        [-5.7453e-02, -6.2981e-02,  9.3426e-02]]],\n",
              "              \n",
              "              \n",
              "                      [[[-8.1058e-02,  5.5318e-02,  2.6203e-02],\n",
              "                        [ 3.1107e-02,  5.9476e-02, -2.7577e-02],\n",
              "                        [ 6.5223e-02, -8.3982e-02, -3.7087e-02]],\n",
              "              \n",
              "                       [[ 7.7164e-02,  3.1283e-02, -1.4038e-02],\n",
              "                        [-2.4616e-02, -6.4364e-02,  6.4098e-02],\n",
              "                        [-3.3520e-03, -3.5664e-03,  2.4929e-02]],\n",
              "              \n",
              "                       [[ 7.7787e-02, -5.3778e-02, -3.6303e-02],\n",
              "                        [ 7.1429e-02,  5.9532e-02, -5.1855e-02],\n",
              "                        [-1.0428e-01,  1.9555e-02,  5.5434e-02]],\n",
              "              \n",
              "                       [[ 2.5178e-02,  7.4768e-02, -8.3640e-02],\n",
              "                        [ 5.3156e-02, -6.5531e-02,  5.9325e-02],\n",
              "                        [ 7.8394e-02,  3.3385e-02,  8.5284e-02]],\n",
              "              \n",
              "                       [[-6.9481e-02, -9.4275e-02, -1.0135e-01],\n",
              "                        [ 6.6179e-02,  3.6926e-02, -7.7188e-02],\n",
              "                        [ 5.1048e-02,  9.6177e-02, -1.0394e-01]],\n",
              "              \n",
              "                       [[ 7.6466e-02,  1.6167e-02,  9.8053e-03],\n",
              "                        [ 9.4847e-02,  9.5458e-02,  4.4414e-02],\n",
              "                        [ 8.3288e-02,  4.3853e-02,  1.7176e-02]],\n",
              "              \n",
              "                       [[-9.2656e-02,  1.9689e-02, -7.4993e-02],\n",
              "                        [ 3.2452e-02,  1.8598e-02,  2.3681e-03],\n",
              "                        [-7.2071e-02, -6.3899e-02,  7.7912e-02]],\n",
              "              \n",
              "                       [[ 5.1336e-02,  5.5576e-02, -3.1410e-02],\n",
              "                        [-1.8151e-02, -2.7014e-02,  7.2489e-02],\n",
              "                        [-4.5504e-02,  6.6394e-02,  7.2679e-02]],\n",
              "              \n",
              "                       [[-9.6403e-02,  6.4369e-04, -2.0076e-02],\n",
              "                        [-5.8273e-02,  4.5507e-02, -1.2807e-02],\n",
              "                        [ 9.2287e-02, -6.5976e-02,  4.8976e-02]],\n",
              "              \n",
              "                       [[-8.9998e-02, -5.2833e-02,  7.1903e-03],\n",
              "                        [ 8.3283e-02,  5.5521e-02, -8.6550e-02],\n",
              "                        [ 1.1676e-02, -6.2138e-02,  4.5674e-03]]]], device='cuda:0')),\n",
              "             ('conv_block_2.0.bias',\n",
              "              tensor([-0.0878, -0.0309,  0.0723, -0.0967, -0.1005,  0.0192,  0.0144, -0.0193,\n",
              "                       0.0920, -0.0635], device='cuda:0')),\n",
              "             ('conv_block_2.2.weight',\n",
              "              tensor([[[[-6.3992e-02, -7.8791e-02, -1.9619e-02],\n",
              "                        [-2.6901e-02,  6.5222e-02, -5.9186e-03],\n",
              "                        [ 3.3663e-02, -4.3804e-02,  8.5507e-02]],\n",
              "              \n",
              "                       [[ 8.8862e-02, -9.4401e-02, -2.7090e-02],\n",
              "                        [-8.9439e-02,  4.4781e-02, -9.2094e-02],\n",
              "                        [-4.9839e-02,  1.0532e-01, -1.0066e-01]],\n",
              "              \n",
              "                       [[ 7.7771e-02,  8.9049e-03,  8.4289e-02],\n",
              "                        [-5.3494e-02,  6.9236e-02,  1.2718e-02],\n",
              "                        [ 8.1073e-03,  7.1945e-02, -1.0019e-01]],\n",
              "              \n",
              "                       [[-8.4902e-02,  1.0180e-01, -6.3298e-02],\n",
              "                        [-7.5980e-02, -5.1539e-03, -3.3742e-02],\n",
              "                        [-1.4421e-02, -7.0623e-02,  3.8034e-02]],\n",
              "              \n",
              "                       [[-9.0703e-02,  8.5374e-03,  6.1510e-02],\n",
              "                        [ 2.0253e-02,  1.4006e-02,  1.5418e-02],\n",
              "                        [-3.0880e-02, -2.0080e-02, -4.4450e-02]],\n",
              "              \n",
              "                       [[-7.1207e-02, -5.5810e-02,  1.0420e-01],\n",
              "                        [-1.7641e-02,  3.6924e-02,  7.2896e-02],\n",
              "                        [-8.2343e-03, -5.6707e-02, -7.1419e-02]],\n",
              "              \n",
              "                       [[-3.8833e-02,  3.7624e-02, -8.8771e-02],\n",
              "                        [-1.2870e-02,  4.0096e-02,  8.5999e-02],\n",
              "                        [ 3.1721e-02,  2.0846e-02,  7.2162e-02]],\n",
              "              \n",
              "                       [[ 4.8708e-02,  3.5661e-02, -3.2682e-02],\n",
              "                        [-8.4528e-02, -2.2769e-02, -1.9117e-02],\n",
              "                        [ 7.7410e-03, -1.1593e-02,  4.2616e-02]],\n",
              "              \n",
              "                       [[ 7.0050e-02, -4.2735e-02, -1.0002e-01],\n",
              "                        [-5.4081e-02, -5.0436e-02,  5.9750e-02],\n",
              "                        [-6.7994e-02, -9.9145e-03, -2.2340e-02]],\n",
              "              \n",
              "                       [[-6.3976e-02,  4.7780e-02, -4.3909e-02],\n",
              "                        [-5.4531e-03, -7.4112e-02, -1.0632e-02],\n",
              "                        [ 1.4977e-02, -4.2894e-03, -3.9386e-02]]],\n",
              "              \n",
              "              \n",
              "                      [[[ 3.1315e-02, -2.7311e-02, -5.8439e-02],\n",
              "                        [-7.7732e-02, -2.2329e-02, -9.9578e-02],\n",
              "                        [ 8.7492e-02, -5.0357e-02, -4.3684e-02]],\n",
              "              \n",
              "                       [[ 9.7439e-03,  2.7326e-02, -9.9393e-03],\n",
              "                        [ 7.2313e-02, -6.1448e-02,  3.7777e-02],\n",
              "                        [-2.3773e-04, -8.5747e-02, -4.0824e-02]],\n",
              "              \n",
              "                       [[ 2.6825e-02,  2.0138e-02,  7.6647e-02],\n",
              "                        [ 7.0518e-02, -5.7493e-02, -4.5013e-02],\n",
              "                        [-2.2351e-02, -7.5517e-02, -2.8459e-02]],\n",
              "              \n",
              "                       [[-8.6258e-02,  4.0092e-02,  7.4583e-02],\n",
              "                        [ 8.3459e-03, -7.5460e-02, -7.9827e-02],\n",
              "                        [-4.1036e-02,  3.0659e-02,  2.5711e-03]],\n",
              "              \n",
              "                       [[ 1.9166e-02,  9.9346e-02,  4.8956e-02],\n",
              "                        [ 2.2665e-02, -2.1327e-02,  4.9864e-02],\n",
              "                        [ 3.8563e-02, -9.4879e-02, -6.2266e-02]],\n",
              "              \n",
              "                       [[ 3.5381e-03,  3.9997e-02,  5.1282e-02],\n",
              "                        [-6.2748e-02, -1.0458e-01, -5.4909e-03],\n",
              "                        [-1.2050e-02,  3.0588e-02, -2.8988e-02]],\n",
              "              \n",
              "                       [[ 8.0588e-02,  7.0333e-03,  7.6975e-02],\n",
              "                        [-7.3398e-02,  4.2167e-02,  1.2560e-02],\n",
              "                        [-5.2720e-02,  5.2256e-02, -1.0372e-01]],\n",
              "              \n",
              "                       [[ 8.5220e-02,  8.4947e-03,  1.0178e-02],\n",
              "                        [ 4.8746e-02,  8.7503e-03,  4.5184e-02],\n",
              "                        [ 6.7063e-02, -8.2268e-02,  6.9735e-02]],\n",
              "              \n",
              "                       [[-1.5784e-02, -2.4513e-02,  2.1217e-02],\n",
              "                        [ 8.2446e-02, -5.7302e-02, -7.1039e-02],\n",
              "                        [ 6.5418e-02, -4.9507e-02,  3.3937e-02]],\n",
              "              \n",
              "                       [[-1.5530e-02,  2.9014e-02,  8.0439e-02],\n",
              "                        [-5.3421e-02, -5.1151e-02,  5.1716e-02],\n",
              "                        [ 5.7714e-03, -1.1601e-02, -9.2590e-02]]],\n",
              "              \n",
              "              \n",
              "                      [[[ 8.9309e-02, -3.9919e-03, -1.9415e-02],\n",
              "                        [-4.3269e-02, -2.0801e-02,  5.1233e-02],\n",
              "                        [-2.4227e-03,  9.0147e-02, -6.0858e-03]],\n",
              "              \n",
              "                       [[-1.5122e-02,  5.9498e-02, -2.7275e-03],\n",
              "                        [-2.1039e-02,  3.5231e-02,  8.3129e-02],\n",
              "                        [ 2.6305e-02,  7.3398e-02,  6.8309e-02]],\n",
              "              \n",
              "                       [[ 2.9810e-02,  3.6650e-02,  3.4014e-02],\n",
              "                        [ 1.0934e-02,  8.9675e-02,  9.7308e-02],\n",
              "                        [ 3.7524e-02, -5.2640e-03,  9.4509e-02]],\n",
              "              \n",
              "                       [[-8.2042e-02,  7.7453e-02,  5.5849e-02],\n",
              "                        [ 6.7687e-02, -8.0992e-03, -7.8646e-02],\n",
              "                        [ 7.5193e-02, -4.6091e-02,  2.7734e-02]],\n",
              "              \n",
              "                       [[ 5.9719e-02, -9.8508e-02,  6.9954e-03],\n",
              "                        [-3.7444e-02,  7.4815e-02, -6.7114e-02],\n",
              "                        [ 6.4001e-02,  6.5730e-02,  5.8156e-02]],\n",
              "              \n",
              "                       [[ 1.0119e-01,  1.5964e-02, -9.5541e-02],\n",
              "                        [ 7.5248e-02,  9.6499e-03,  2.0918e-03],\n",
              "                        [-1.0041e-01, -2.3691e-02, -5.1162e-02]],\n",
              "              \n",
              "                       [[ 1.0324e-01,  7.5054e-02,  7.8634e-02],\n",
              "                        [ 7.2188e-02, -6.5340e-02, -4.5270e-02],\n",
              "                        [-4.1252e-02, -4.2257e-02,  8.2054e-02]],\n",
              "              \n",
              "                       [[ 3.5815e-02,  8.4470e-02, -4.9309e-03],\n",
              "                        [-9.3965e-02, -3.0582e-02,  7.4081e-02],\n",
              "                        [ 6.4174e-02,  3.2632e-02, -3.0919e-02]],\n",
              "              \n",
              "                       [[-9.8386e-02, -5.6639e-02,  5.4958e-02],\n",
              "                        [-4.2518e-02,  5.0421e-02,  2.8781e-02],\n",
              "                        [-4.0486e-02,  6.4202e-02, -3.3871e-02]],\n",
              "              \n",
              "                       [[-3.5020e-03, -4.0152e-02, -9.9988e-02],\n",
              "                        [ 1.6996e-02,  3.0460e-02, -5.3072e-02],\n",
              "                        [ 6.4663e-02, -9.4558e-02, -1.0161e-01]]],\n",
              "              \n",
              "              \n",
              "                      [[[-6.5106e-02, -3.6430e-02, -1.1707e-02],\n",
              "                        [-2.0370e-02,  4.8108e-02, -9.2510e-02],\n",
              "                        [ 1.5521e-02,  1.8254e-03,  2.7842e-02]],\n",
              "              \n",
              "                       [[ 1.0479e-01,  6.4874e-02, -5.8366e-02],\n",
              "                        [-8.6378e-02, -2.5520e-02, -5.2876e-02],\n",
              "                        [ 3.6820e-02,  9.6628e-04,  8.4783e-02]],\n",
              "              \n",
              "                       [[ 4.1405e-02, -1.9382e-02,  3.6229e-03],\n",
              "                        [ 2.5244e-02, -1.3080e-02,  8.5058e-02],\n",
              "                        [-8.2420e-02,  5.1377e-02, -6.7192e-02]],\n",
              "              \n",
              "                       [[-9.2347e-02, -2.1640e-02,  5.1366e-02],\n",
              "                        [ 7.4478e-02,  2.6452e-02, -9.1104e-03],\n",
              "                        [-5.9092e-03, -4.2731e-02, -9.4592e-03]],\n",
              "              \n",
              "                       [[-7.2831e-03,  8.9699e-02,  6.1690e-02],\n",
              "                        [-8.4351e-02,  4.3604e-04, -6.4834e-02],\n",
              "                        [-1.6733e-02, -8.3776e-02,  2.7402e-02]],\n",
              "              \n",
              "                       [[-7.6008e-02,  1.0406e-01,  7.9605e-02],\n",
              "                        [-7.2559e-02, -9.9239e-02,  4.1128e-03],\n",
              "                        [-2.9425e-02,  3.0945e-02, -7.1353e-02]],\n",
              "              \n",
              "                       [[ 4.3148e-02, -9.1047e-02, -5.5632e-02],\n",
              "                        [-5.5414e-02,  5.1007e-02, -2.7597e-03],\n",
              "                        [-1.0130e-01, -6.0201e-02, -4.8781e-02]],\n",
              "              \n",
              "                       [[-9.7802e-02,  1.3497e-02,  3.7561e-02],\n",
              "                        [-1.9340e-02, -4.1947e-02, -6.3926e-04],\n",
              "                        [-8.3725e-02, -6.4184e-02, -2.4040e-03]],\n",
              "              \n",
              "                       [[ 9.3643e-02, -3.2414e-02,  5.2247e-02],\n",
              "                        [-4.1484e-02, -2.8060e-02, -1.0034e-01],\n",
              "                        [ 8.7330e-02,  1.0264e-01, -2.2139e-03]],\n",
              "              \n",
              "                       [[ 6.6974e-02,  8.6219e-02,  5.2359e-02],\n",
              "                        [ 5.4288e-02, -1.0035e-01, -9.9050e-02],\n",
              "                        [-8.0906e-02,  3.2970e-02, -9.1177e-02]]],\n",
              "              \n",
              "              \n",
              "                      [[[-8.0464e-02, -5.1092e-02, -9.7154e-02],\n",
              "                        [ 1.4203e-04,  1.5207e-02, -6.1686e-02],\n",
              "                        [ 6.9018e-02, -4.0018e-02, -2.9676e-02]],\n",
              "              \n",
              "                       [[ 8.0309e-02,  9.0499e-02, -1.2093e-02],\n",
              "                        [-7.5671e-02, -5.2881e-02,  1.3423e-02],\n",
              "                        [ 6.1790e-02,  5.2477e-02, -4.6547e-02]],\n",
              "              \n",
              "                       [[-9.9650e-02, -9.2249e-02, -3.3537e-02],\n",
              "                        [ 1.3223e-03, -4.7347e-02, -8.3348e-02],\n",
              "                        [ 1.1109e-02, -8.3668e-02, -8.0946e-02]],\n",
              "              \n",
              "                       [[-8.5692e-02, -2.8563e-02,  9.3104e-02],\n",
              "                        [ 4.1207e-02, -1.2498e-02,  2.1694e-02],\n",
              "                        [ 4.1975e-02,  6.1414e-04, -8.5020e-02]],\n",
              "              \n",
              "                       [[-6.4944e-02, -7.1610e-02, -2.6766e-03],\n",
              "                        [-9.6492e-02, -1.9166e-02, -3.8545e-02],\n",
              "                        [ 1.0345e-01,  8.5679e-02,  6.1227e-02]],\n",
              "              \n",
              "                       [[ 5.9116e-03, -3.4129e-02,  2.6887e-02],\n",
              "                        [-7.2830e-02, -4.4957e-02, -2.1175e-02],\n",
              "                        [-2.4766e-02, -9.9854e-02,  4.1903e-02]],\n",
              "              \n",
              "                       [[ 8.6803e-02, -5.8141e-02,  2.8415e-02],\n",
              "                        [-1.2225e-02, -3.8445e-03,  6.1443e-03],\n",
              "                        [ 9.1346e-02,  1.4124e-02, -6.6690e-02]],\n",
              "              \n",
              "                       [[-3.7917e-02,  5.1495e-02,  3.2893e-02],\n",
              "                        [ 2.0487e-03, -1.3912e-02, -4.1012e-02],\n",
              "                        [-3.7413e-02, -5.5602e-02,  1.7273e-02]],\n",
              "              \n",
              "                       [[ 2.9603e-02,  8.0717e-02, -2.3813e-02],\n",
              "                        [ 7.5461e-03,  6.8125e-02,  4.5852e-02],\n",
              "                        [ 1.3544e-02,  3.2390e-02,  5.4714e-03]],\n",
              "              \n",
              "                       [[-9.0419e-02,  4.0636e-03, -2.3040e-02],\n",
              "                        [ 9.5123e-02,  9.5145e-02,  2.0912e-02],\n",
              "                        [ 9.4215e-02, -5.4288e-02,  9.1619e-02]]],\n",
              "              \n",
              "              \n",
              "                      [[[ 9.0756e-02, -4.0288e-03, -8.4592e-02],\n",
              "                        [-3.4015e-02, -2.8189e-02,  1.7411e-03],\n",
              "                        [-9.5569e-02,  1.9535e-02, -4.3839e-02]],\n",
              "              \n",
              "                       [[-2.6989e-02, -5.4443e-02, -2.2255e-02],\n",
              "                        [-9.7896e-02, -5.5885e-02,  9.7108e-03],\n",
              "                        [ 6.9072e-02,  9.5790e-02, -7.9737e-02]],\n",
              "              \n",
              "                       [[ 4.4264e-02, -5.9419e-02, -8.1498e-02],\n",
              "                        [-4.6417e-03, -6.0468e-02, -9.0783e-02],\n",
              "                        [-9.8509e-02, -7.0556e-02,  8.6619e-02]],\n",
              "              \n",
              "                       [[ 5.8788e-02, -4.1726e-02, -7.0553e-02],\n",
              "                        [-8.1085e-02, -6.2246e-02, -4.3376e-02],\n",
              "                        [ 6.3308e-02,  3.4496e-02, -4.0622e-02]],\n",
              "              \n",
              "                       [[ 7.2567e-02, -6.5484e-02, -8.5876e-02],\n",
              "                        [ 2.3006e-02, -5.8123e-02,  2.9987e-02],\n",
              "                        [ 8.9306e-02, -4.9849e-02, -7.3556e-02]],\n",
              "              \n",
              "                       [[ 3.9676e-02, -9.5200e-02,  9.4044e-02],\n",
              "                        [-4.9780e-02,  5.0961e-02, -8.3818e-02],\n",
              "                        [-7.1348e-02,  1.1611e-02,  3.7463e-02]],\n",
              "              \n",
              "                       [[ 8.1734e-02,  8.8158e-02, -6.0623e-03],\n",
              "                        [-1.3552e-02,  1.7424e-02, -2.4486e-02],\n",
              "                        [ 3.5882e-03, -9.9828e-02, -8.6531e-02]],\n",
              "              \n",
              "                       [[ 7.2233e-02, -6.1597e-02,  8.3008e-02],\n",
              "                        [ 1.1568e-02,  2.5676e-02,  9.5804e-02],\n",
              "                        [-5.8628e-02, -1.6640e-02,  1.8675e-02]],\n",
              "              \n",
              "                       [[ 3.6012e-02, -1.0259e-01,  3.7464e-02],\n",
              "                        [-6.2163e-02,  1.3846e-02,  7.1315e-02],\n",
              "                        [-1.0500e-02, -3.3346e-03, -7.8757e-03]],\n",
              "              \n",
              "                       [[ 8.7962e-02,  5.9907e-02,  1.7727e-02],\n",
              "                        [-6.3437e-02, -5.7241e-02,  8.3964e-02],\n",
              "                        [ 7.5834e-02,  6.1033e-02, -8.2189e-02]]],\n",
              "              \n",
              "              \n",
              "                      [[[ 8.2092e-02, -1.0076e-02,  7.7661e-02],\n",
              "                        [ 9.1553e-02,  1.1554e-02, -4.3863e-02],\n",
              "                        [ 9.9153e-02, -5.4931e-02,  6.8876e-02]],\n",
              "              \n",
              "                       [[-1.0108e-01, -3.3153e-02, -9.1902e-02],\n",
              "                        [-4.7284e-02,  4.4759e-02, -7.5529e-02],\n",
              "                        [-9.1158e-02,  7.5371e-02,  5.6270e-02]],\n",
              "              \n",
              "                       [[-1.1527e-03, -7.4309e-02, -2.7927e-02],\n",
              "                        [-3.4129e-02,  6.5100e-02, -3.4478e-02],\n",
              "                        [-3.0360e-02, -7.4720e-02, -4.9646e-02]],\n",
              "              \n",
              "                       [[ 5.7074e-02,  6.7914e-02,  1.5315e-02],\n",
              "                        [-3.9549e-02,  1.0124e-01,  2.0806e-02],\n",
              "                        [-4.0688e-02, -3.6535e-02, -1.4752e-02]],\n",
              "              \n",
              "                       [[ 4.9974e-02,  3.8555e-02,  7.6418e-02],\n",
              "                        [-4.7494e-03,  8.7183e-02, -4.2816e-02],\n",
              "                        [-4.8547e-02, -3.8927e-02, -9.8896e-02]],\n",
              "              \n",
              "                       [[-6.9195e-02, -9.5382e-02, -6.2294e-03],\n",
              "                        [ 9.9374e-04, -2.7358e-02, -7.2035e-02],\n",
              "                        [ 9.5637e-02, -3.4926e-02,  5.0233e-02]],\n",
              "              \n",
              "                       [[ 7.3408e-02, -6.9291e-02, -1.3179e-02],\n",
              "                        [ 6.0923e-02,  1.0218e-01, -1.3299e-02],\n",
              "                        [ 7.6382e-02, -8.2732e-02, -6.8489e-02]],\n",
              "              \n",
              "                       [[ 8.6682e-02, -9.9801e-03,  1.0414e-01],\n",
              "                        [ 7.6651e-03, -4.3714e-02,  1.0011e-01],\n",
              "                        [ 9.2179e-02,  9.7826e-03, -6.3900e-02]],\n",
              "              \n",
              "                       [[-4.5639e-03, -5.0693e-02,  7.6810e-02],\n",
              "                        [ 4.8829e-03,  2.2191e-02,  6.3927e-02],\n",
              "                        [ 3.4916e-02, -6.5803e-02,  8.7566e-02]],\n",
              "              \n",
              "                       [[ 6.4758e-02, -6.5073e-02,  7.9700e-02],\n",
              "                        [ 2.9905e-02, -2.0750e-02, -7.5385e-02],\n",
              "                        [-1.7490e-02, -1.0335e-01,  6.0163e-02]]],\n",
              "              \n",
              "              \n",
              "                      [[[ 7.6343e-02, -3.0347e-02,  9.7720e-02],\n",
              "                        [-3.9032e-02,  1.8051e-02, -7.3459e-02],\n",
              "                        [-4.4565e-03,  4.2610e-02,  4.5403e-02]],\n",
              "              \n",
              "                       [[-3.5346e-03, -5.3154e-02,  7.3680e-02],\n",
              "                        [ 6.9788e-02,  1.6916e-02, -4.8475e-02],\n",
              "                        [ 2.2349e-02,  2.8186e-04,  9.6302e-02]],\n",
              "              \n",
              "                       [[ 1.5621e-02,  8.1301e-03,  7.2057e-03],\n",
              "                        [ 5.6079e-02, -1.3024e-03,  9.0351e-02],\n",
              "                        [ 5.4917e-02, -7.9650e-02, -1.2063e-06]],\n",
              "              \n",
              "                       [[-8.9472e-02, -8.0934e-02,  2.0480e-02],\n",
              "                        [ 2.3687e-02, -9.2246e-03,  1.0019e-01],\n",
              "                        [-5.6627e-02, -4.4176e-02, -1.6881e-02]],\n",
              "              \n",
              "                       [[ 6.3911e-04, -8.9284e-03,  9.4909e-02],\n",
              "                        [-4.4519e-02, -5.5137e-02,  9.0599e-03],\n",
              "                        [ 7.9171e-02,  2.5019e-02,  5.6787e-02]],\n",
              "              \n",
              "                       [[ 2.0406e-02,  8.9839e-02,  6.3311e-02],\n",
              "                        [ 7.5428e-02, -1.4198e-02, -8.7268e-02],\n",
              "                        [-5.0002e-02,  3.5910e-02,  7.3950e-02]],\n",
              "              \n",
              "                       [[-4.1184e-02,  8.7218e-02,  1.5150e-02],\n",
              "                        [ 4.1869e-04,  4.1093e-03, -1.8623e-02],\n",
              "                        [ 9.8683e-02,  4.5784e-03,  6.4564e-02]],\n",
              "              \n",
              "                       [[-8.8967e-02, -5.4309e-02,  1.1852e-02],\n",
              "                        [ 8.4169e-02,  5.0184e-02,  2.0076e-02],\n",
              "                        [-1.0414e-01,  1.9816e-03, -6.9581e-02]],\n",
              "              \n",
              "                       [[-9.0006e-02,  1.4414e-02, -6.6693e-02],\n",
              "                        [ 9.5674e-02, -5.7294e-02,  3.3970e-02],\n",
              "                        [ 6.1871e-02, -8.1928e-02,  5.3946e-02]],\n",
              "              \n",
              "                       [[-1.4114e-02,  5.4619e-02,  1.0201e-01],\n",
              "                        [-4.4922e-02, -4.5653e-02,  8.3753e-02],\n",
              "                        [ 1.1722e-02, -1.0513e-02,  7.9971e-02]]],\n",
              "              \n",
              "              \n",
              "                      [[[-5.0928e-02, -5.2047e-03,  7.2403e-02],\n",
              "                        [ 4.1195e-02, -6.8180e-02,  2.7398e-02],\n",
              "                        [-8.0368e-02, -5.7245e-02,  6.7779e-02]],\n",
              "              \n",
              "                       [[-2.8093e-02, -5.3691e-02,  7.4717e-03],\n",
              "                        [ 2.5759e-02, -6.5524e-02, -7.1084e-02],\n",
              "                        [-1.0209e-01,  2.7236e-02, -6.8013e-02]],\n",
              "              \n",
              "                       [[ 8.0331e-03, -2.3576e-02, -6.8923e-02],\n",
              "                        [-3.3636e-02, -8.1027e-02, -5.5797e-02],\n",
              "                        [-3.2857e-03, -9.0116e-02, -9.2447e-02]],\n",
              "              \n",
              "                       [[ 7.8958e-02,  9.9188e-03, -4.6618e-02],\n",
              "                        [-3.5047e-03,  7.8168e-02, -8.7939e-02],\n",
              "                        [-5.5886e-02, -7.6226e-02, -7.6634e-03]],\n",
              "              \n",
              "                       [[-3.6274e-03, -8.2146e-02,  7.3163e-02],\n",
              "                        [-8.0946e-02,  9.8414e-02, -7.2560e-02],\n",
              "                        [-1.4446e-02,  1.9710e-02, -4.6852e-02]],\n",
              "              \n",
              "                       [[ 9.6939e-02, -7.2673e-02, -5.8427e-03],\n",
              "                        [-7.7398e-02,  2.9261e-02,  8.9871e-02],\n",
              "                        [ 9.7776e-02,  1.2514e-02, -5.2773e-02]],\n",
              "              \n",
              "                       [[ 1.0244e-01,  7.8667e-03,  7.1317e-02],\n",
              "                        [-5.4751e-02, -4.8920e-02, -8.7504e-02],\n",
              "                        [ 9.6990e-02,  1.7486e-02, -7.5704e-02]],\n",
              "              \n",
              "                       [[ 9.0535e-03, -4.5211e-02,  5.2659e-03],\n",
              "                        [ 3.4988e-02, -5.2308e-02,  1.8394e-02],\n",
              "                        [-6.6553e-02,  2.0312e-02, -1.0178e-01]],\n",
              "              \n",
              "                       [[ 1.6797e-02,  1.0473e-01,  9.7094e-02],\n",
              "                        [ 3.8451e-02,  7.7563e-02,  1.0248e-01],\n",
              "                        [ 2.9870e-02,  3.5156e-02,  1.3707e-02]],\n",
              "              \n",
              "                       [[ 9.3322e-02,  9.0551e-02, -4.9570e-02],\n",
              "                        [-4.3333e-03, -5.3110e-02,  3.7824e-02],\n",
              "                        [-1.0214e-01,  3.7301e-02, -2.8929e-02]]],\n",
              "              \n",
              "              \n",
              "                      [[[ 3.8227e-02,  3.2899e-02, -5.2454e-02],\n",
              "                        [ 5.4687e-02,  4.4762e-02, -8.9602e-02],\n",
              "                        [ 1.0517e-01,  9.0731e-02,  6.5584e-02]],\n",
              "              \n",
              "                       [[-1.0699e-02,  3.7345e-02, -5.7028e-02],\n",
              "                        [-3.5818e-02,  4.9749e-02,  4.6925e-02],\n",
              "                        [ 4.1741e-02, -1.0053e-01,  8.7350e-02]],\n",
              "              \n",
              "                       [[-4.4028e-02,  9.1223e-02,  8.6852e-02],\n",
              "                        [ 3.9070e-02,  1.0502e-01,  6.0528e-02],\n",
              "                        [ 6.1821e-02, -3.5794e-02,  9.7766e-02]],\n",
              "              \n",
              "                       [[ 2.7627e-02,  6.2280e-02, -2.3834e-02],\n",
              "                        [ 7.6340e-02,  9.3509e-02, -8.0770e-02],\n",
              "                        [ 8.6415e-02, -6.9664e-02, -7.2571e-02]],\n",
              "              \n",
              "                       [[-8.8089e-02,  3.0459e-02, -7.9144e-02],\n",
              "                        [-3.9680e-02, -5.2988e-02,  2.8172e-02],\n",
              "                        [-1.0349e-01, -4.8324e-02,  7.7112e-04]],\n",
              "              \n",
              "                       [[ 9.4660e-03, -4.7605e-02,  3.7764e-02],\n",
              "                        [-6.9544e-02, -8.9270e-02, -1.4986e-02],\n",
              "                        [-5.6989e-02,  6.6443e-02, -7.2049e-02]],\n",
              "              \n",
              "                       [[-8.8494e-03,  4.3782e-02, -9.2311e-02],\n",
              "                        [ 8.1599e-02, -4.7895e-02, -2.8684e-02],\n",
              "                        [-6.4480e-02, -3.9279e-02, -4.0645e-02]],\n",
              "              \n",
              "                       [[-9.3801e-02,  3.6019e-02, -3.3768e-04],\n",
              "                        [ 1.0311e-01,  7.1117e-02,  9.1699e-02],\n",
              "                        [ 3.1014e-02,  5.5388e-02,  9.8704e-02]],\n",
              "              \n",
              "                       [[ 8.6545e-02, -8.0996e-02, -2.3636e-02],\n",
              "                        [-1.0166e-01,  3.9877e-03, -3.7229e-02],\n",
              "                        [ 9.1486e-02,  1.6666e-02,  1.1601e-03]],\n",
              "              \n",
              "                       [[-7.6248e-02, -8.2718e-02,  1.6594e-02],\n",
              "                        [-5.2376e-02, -4.8409e-02,  7.3938e-02],\n",
              "                        [-5.4952e-02, -4.6918e-02,  8.0934e-02]]]], device='cuda:0')),\n",
              "             ('conv_block_2.2.bias',\n",
              "              tensor([ 0.0412, -0.0599,  0.0319,  0.0531, -0.0936,  0.0197,  0.0241, -0.0041,\n",
              "                       0.1011, -0.0697], device='cuda:0')),\n",
              "             ('classifier.1.weight',\n",
              "              tensor([[ 0.0245, -0.0240, -0.0387,  ...,  0.0094, -0.0015, -0.0225],\n",
              "                      [ 0.0228,  0.0067, -0.0439,  ..., -0.0302,  0.0368,  0.0293],\n",
              "                      [ 0.0303,  0.0347, -0.0211,  ...,  0.0207, -0.0423, -0.0240],\n",
              "                      ...,\n",
              "                      [-0.0359, -0.0343,  0.0166,  ...,  0.0324,  0.0113, -0.0143],\n",
              "                      [-0.0294, -0.0316,  0.0251,  ..., -0.0056,  0.0300, -0.0396],\n",
              "                      [-0.0246, -0.0035, -0.0046,  ..., -0.0146, -0.0358,  0.0175]],\n",
              "                     device='cuda:0')),\n",
              "             ('classifier.1.bias',\n",
              "              tensor([ 0.0320, -0.0445,  0.0246, -0.0357, -0.0442,  0.0156, -0.0010, -0.0277,\n",
              "                       0.0404,  0.0037], device='cuda:0'))])"
            ]
          },
          "metadata": {},
          "execution_count": 55
        }
      ]
    },
    {
      "cell_type": "markdown",
      "source": [
        "### 7.4 Training and Testing loop for model_2"
      ],
      "metadata": {
        "id": "1dd1hkleIWiM"
      }
    },
    {
      "cell_type": "code",
      "source": [
        "torch.manual_seed(42)\n",
        "torch.cuda.manual_seed(42)\n",
        "\n",
        "# Measure the time\n",
        "from timeit import default_timer as timer\n",
        "train_time_start_model_2 = timer()\n",
        "\n",
        "# Train and test model\n",
        "epoch = 3\n",
        "for epoch in tqdm(range(epochs)):\n",
        "  print(f\"Epoch: {epoch}\\n--------\")\n",
        "  train_step(model_2,\n",
        "             train_dataloader,\n",
        "             loss_fn,\n",
        "             optimizer,\n",
        "             accuracy_fn,\n",
        "             device)\n",
        "  testing_step(model_2,\n",
        "               test_dataloader,\n",
        "               loss_fn,\n",
        "               accuracy_fn,\n",
        "               device)\n",
        "\n",
        "train_time_end_model_2 = timer()\n",
        "total_train_time_model_2 = print_train_time(train_time_start_model_2,\n",
        "                                            train_time_end_model_2,\n",
        "                                            device)\n",
        "\n",
        "\n",
        "\n"
      ],
      "metadata": {
        "colab": {
          "base_uri": "https://localhost:8080/",
          "height": 327,
          "referenced_widgets": [
            "19018fd6d4fa469a9b87f328dbf21985",
            "b5762b379c734fc5b94a905f91e2bdce",
            "5dc4999754674fb9bb81ae7b527aa709",
            "cf66dbf0038541babc93609dded13dff",
            "894169f240f24a3b9538fb639a9a1e8d",
            "5256f554b7914588a3bd0fffe2913b37",
            "e17f38016b3c4e14a8e207ac573cacf1",
            "83b6b4ba5a274fde9aff61601b73d6e9",
            "e42848b9068e4b668594fe5fecfa067e",
            "777c45217b4d4c13927d232e840c1abc",
            "c859dbaff2d14871962a0d283e01abc4"
          ]
        },
        "id": "3Hb5TniRIWmE",
        "outputId": "bc659b66-7b3b-47eb-b957-1eb10f70a6e0"
      },
      "execution_count": null,
      "outputs": [
        {
          "output_type": "display_data",
          "data": {
            "text/plain": [
              "  0%|          | 0/3 [00:00<?, ?it/s]"
            ],
            "application/vnd.jupyter.widget-view+json": {
              "version_major": 2,
              "version_minor": 0,
              "model_id": "19018fd6d4fa469a9b87f328dbf21985"
            }
          },
          "metadata": {}
        },
        {
          "output_type": "stream",
          "name": "stdout",
          "text": [
            "Epoch: 0\n",
            "--------\n",
            "Train loss: 0.59291 | train acc: 78.43%\n",
            "\n",
            "test loss: 0.3961 | test acc: 85.88%\n",
            "Epoch: 1\n",
            "--------\n",
            "Train loss: 0.36441 | train acc: 86.79%\n",
            "\n",
            "test loss: 0.3504 | test acc: 87.11%\n",
            "Epoch: 2\n",
            "--------\n",
            "Train loss: 0.32540 | train acc: 88.24%\n",
            "\n",
            "test loss: 0.3163 | test acc: 88.36%\n",
            "train time on cuda: 38.904 seconds\n"
          ]
        }
      ]
    },
    {
      "cell_type": "code",
      "source": [
        "model_2_results = eval_model(model_2,\n",
        "           test_dataloader,\n",
        "           loss_fn,\n",
        "           accuracy_fn)"
      ],
      "metadata": {
        "colab": {
          "base_uri": "https://localhost:8080/",
          "height": 49,
          "referenced_widgets": [
            "46d99fb239624acfbfa80428cbfaedd3",
            "7a62c5eef726493097ee4166d313302e",
            "84ff5b3e287a4fc2807a522bbf6d0170",
            "f5a4dadb9a2447c9a996e8f570b43f39",
            "c37fc1f75d3d4a8899aa17250dbd5d6f",
            "812c1a9e358b475b949c0beb83193798",
            "6f94ab045a3d44698d1484b19bfa2d61",
            "a02211c8f41049499134b79e7249b374",
            "6d2cb937d6b14df1bbc69f59102cb4c7",
            "a95ec45624f544e6bf180ef0a3e97442",
            "40c675d946754bf5a8c5c4630f0923ef"
          ]
        },
        "id": "05Xrgpk8IWrz",
        "outputId": "c050f438-e7c2-425c-844f-6ad08ec168c8"
      },
      "execution_count": null,
      "outputs": [
        {
          "output_type": "display_data",
          "data": {
            "text/plain": [
              "  0%|          | 0/313 [00:00<?, ?it/s]"
            ],
            "application/vnd.jupyter.widget-view+json": {
              "version_major": 2,
              "version_minor": 0,
              "model_id": "46d99fb239624acfbfa80428cbfaedd3"
            }
          },
          "metadata": {}
        }
      ]
    },
    {
      "cell_type": "code",
      "source": [
        "model_0_results"
      ],
      "metadata": {
        "colab": {
          "base_uri": "https://localhost:8080/"
        },
        "id": "eaXeN3kyPUXY",
        "outputId": "9b273ba6-59ca-45e2-87d5-23b07f6813d0"
      },
      "execution_count": null,
      "outputs": [
        {
          "output_type": "execute_result",
          "data": {
            "text/plain": [
              "{'model_name': 'FashionMNISTmodelV0',\n",
              " 'model_loss': 0.47663888335227966,\n",
              " 'model_accuracy': 83.42651757188499}"
            ]
          },
          "metadata": {},
          "execution_count": 58
        }
      ]
    },
    {
      "cell_type": "markdown",
      "source": [
        "### 8. Compare model results and training time"
      ],
      "metadata": {
        "id": "y2ppZCezZ0GW"
      }
    },
    {
      "cell_type": "code",
      "source": [
        "import pandas as pd\n",
        "\n",
        "compare_results = pd.DataFrame([model_0_results,\n",
        "                               model_1_results,\n",
        "                               model_2_results])\n",
        "compare_results"
      ],
      "metadata": {
        "colab": {
          "base_uri": "https://localhost:8080/",
          "height": 143
        },
        "id": "Jge0l1roPYo2",
        "outputId": "f2a3dd2a-a1b0-46a5-8ef7-94022c1b7884"
      },
      "execution_count": null,
      "outputs": [
        {
          "output_type": "execute_result",
          "data": {
            "text/plain": [
              "            model_name  model_loss  model_accuracy\n",
              "0  FashionMNISTmodelV0    0.476639       83.426518\n",
              "1  FashionMNISTmodelV1    0.685001       75.019968\n",
              "2  FashionMNISTmodelV2    0.316306       88.358626"
            ],
            "text/html": [
              "\n",
              "  <div id=\"df-1ef24fbd-ec37-439d-b9c3-7a1b7999927a\" class=\"colab-df-container\">\n",
              "    <div>\n",
              "<style scoped>\n",
              "    .dataframe tbody tr th:only-of-type {\n",
              "        vertical-align: middle;\n",
              "    }\n",
              "\n",
              "    .dataframe tbody tr th {\n",
              "        vertical-align: top;\n",
              "    }\n",
              "\n",
              "    .dataframe thead th {\n",
              "        text-align: right;\n",
              "    }\n",
              "</style>\n",
              "<table border=\"1\" class=\"dataframe\">\n",
              "  <thead>\n",
              "    <tr style=\"text-align: right;\">\n",
              "      <th></th>\n",
              "      <th>model_name</th>\n",
              "      <th>model_loss</th>\n",
              "      <th>model_accuracy</th>\n",
              "    </tr>\n",
              "  </thead>\n",
              "  <tbody>\n",
              "    <tr>\n",
              "      <th>0</th>\n",
              "      <td>FashionMNISTmodelV0</td>\n",
              "      <td>0.476639</td>\n",
              "      <td>83.426518</td>\n",
              "    </tr>\n",
              "    <tr>\n",
              "      <th>1</th>\n",
              "      <td>FashionMNISTmodelV1</td>\n",
              "      <td>0.685001</td>\n",
              "      <td>75.019968</td>\n",
              "    </tr>\n",
              "    <tr>\n",
              "      <th>2</th>\n",
              "      <td>FashionMNISTmodelV2</td>\n",
              "      <td>0.316306</td>\n",
              "      <td>88.358626</td>\n",
              "    </tr>\n",
              "  </tbody>\n",
              "</table>\n",
              "</div>\n",
              "    <div class=\"colab-df-buttons\">\n",
              "\n",
              "  <div class=\"colab-df-container\">\n",
              "    <button class=\"colab-df-convert\" onclick=\"convertToInteractive('df-1ef24fbd-ec37-439d-b9c3-7a1b7999927a')\"\n",
              "            title=\"Convert this dataframe to an interactive table.\"\n",
              "            style=\"display:none;\">\n",
              "\n",
              "  <svg xmlns=\"http://www.w3.org/2000/svg\" height=\"24px\" viewBox=\"0 -960 960 960\">\n",
              "    <path d=\"M120-120v-720h720v720H120Zm60-500h600v-160H180v160Zm220 220h160v-160H400v160Zm0 220h160v-160H400v160ZM180-400h160v-160H180v160Zm440 0h160v-160H620v160ZM180-180h160v-160H180v160Zm440 0h160v-160H620v160Z\"/>\n",
              "  </svg>\n",
              "    </button>\n",
              "\n",
              "  <style>\n",
              "    .colab-df-container {\n",
              "      display:flex;\n",
              "      gap: 12px;\n",
              "    }\n",
              "\n",
              "    .colab-df-convert {\n",
              "      background-color: #E8F0FE;\n",
              "      border: none;\n",
              "      border-radius: 50%;\n",
              "      cursor: pointer;\n",
              "      display: none;\n",
              "      fill: #1967D2;\n",
              "      height: 32px;\n",
              "      padding: 0 0 0 0;\n",
              "      width: 32px;\n",
              "    }\n",
              "\n",
              "    .colab-df-convert:hover {\n",
              "      background-color: #E2EBFA;\n",
              "      box-shadow: 0px 1px 2px rgba(60, 64, 67, 0.3), 0px 1px 3px 1px rgba(60, 64, 67, 0.15);\n",
              "      fill: #174EA6;\n",
              "    }\n",
              "\n",
              "    .colab-df-buttons div {\n",
              "      margin-bottom: 4px;\n",
              "    }\n",
              "\n",
              "    [theme=dark] .colab-df-convert {\n",
              "      background-color: #3B4455;\n",
              "      fill: #D2E3FC;\n",
              "    }\n",
              "\n",
              "    [theme=dark] .colab-df-convert:hover {\n",
              "      background-color: #434B5C;\n",
              "      box-shadow: 0px 1px 3px 1px rgba(0, 0, 0, 0.15);\n",
              "      filter: drop-shadow(0px 1px 2px rgba(0, 0, 0, 0.3));\n",
              "      fill: #FFFFFF;\n",
              "    }\n",
              "  </style>\n",
              "\n",
              "    <script>\n",
              "      const buttonEl =\n",
              "        document.querySelector('#df-1ef24fbd-ec37-439d-b9c3-7a1b7999927a button.colab-df-convert');\n",
              "      buttonEl.style.display =\n",
              "        google.colab.kernel.accessAllowed ? 'block' : 'none';\n",
              "\n",
              "      async function convertToInteractive(key) {\n",
              "        const element = document.querySelector('#df-1ef24fbd-ec37-439d-b9c3-7a1b7999927a');\n",
              "        const dataTable =\n",
              "          await google.colab.kernel.invokeFunction('convertToInteractive',\n",
              "                                                    [key], {});\n",
              "        if (!dataTable) return;\n",
              "\n",
              "        const docLinkHtml = 'Like what you see? Visit the ' +\n",
              "          '<a target=\"_blank\" href=https://colab.research.google.com/notebooks/data_table.ipynb>data table notebook</a>'\n",
              "          + ' to learn more about interactive tables.';\n",
              "        element.innerHTML = '';\n",
              "        dataTable['output_type'] = 'display_data';\n",
              "        await google.colab.output.renderOutput(dataTable, element);\n",
              "        const docLink = document.createElement('div');\n",
              "        docLink.innerHTML = docLinkHtml;\n",
              "        element.appendChild(docLink);\n",
              "      }\n",
              "    </script>\n",
              "  </div>\n",
              "\n",
              "\n",
              "<div id=\"df-83df6fac-ec5e-4460-8e97-544f124b2ecf\">\n",
              "  <button class=\"colab-df-quickchart\" onclick=\"quickchart('df-83df6fac-ec5e-4460-8e97-544f124b2ecf')\"\n",
              "            title=\"Suggest charts\"\n",
              "            style=\"display:none;\">\n",
              "\n",
              "<svg xmlns=\"http://www.w3.org/2000/svg\" height=\"24px\"viewBox=\"0 0 24 24\"\n",
              "     width=\"24px\">\n",
              "    <g>\n",
              "        <path d=\"M19 3H5c-1.1 0-2 .9-2 2v14c0 1.1.9 2 2 2h14c1.1 0 2-.9 2-2V5c0-1.1-.9-2-2-2zM9 17H7v-7h2v7zm4 0h-2V7h2v10zm4 0h-2v-4h2v4z\"/>\n",
              "    </g>\n",
              "</svg>\n",
              "  </button>\n",
              "\n",
              "<style>\n",
              "  .colab-df-quickchart {\n",
              "      --bg-color: #E8F0FE;\n",
              "      --fill-color: #1967D2;\n",
              "      --hover-bg-color: #E2EBFA;\n",
              "      --hover-fill-color: #174EA6;\n",
              "      --disabled-fill-color: #AAA;\n",
              "      --disabled-bg-color: #DDD;\n",
              "  }\n",
              "\n",
              "  [theme=dark] .colab-df-quickchart {\n",
              "      --bg-color: #3B4455;\n",
              "      --fill-color: #D2E3FC;\n",
              "      --hover-bg-color: #434B5C;\n",
              "      --hover-fill-color: #FFFFFF;\n",
              "      --disabled-bg-color: #3B4455;\n",
              "      --disabled-fill-color: #666;\n",
              "  }\n",
              "\n",
              "  .colab-df-quickchart {\n",
              "    background-color: var(--bg-color);\n",
              "    border: none;\n",
              "    border-radius: 50%;\n",
              "    cursor: pointer;\n",
              "    display: none;\n",
              "    fill: var(--fill-color);\n",
              "    height: 32px;\n",
              "    padding: 0;\n",
              "    width: 32px;\n",
              "  }\n",
              "\n",
              "  .colab-df-quickchart:hover {\n",
              "    background-color: var(--hover-bg-color);\n",
              "    box-shadow: 0 1px 2px rgba(60, 64, 67, 0.3), 0 1px 3px 1px rgba(60, 64, 67, 0.15);\n",
              "    fill: var(--button-hover-fill-color);\n",
              "  }\n",
              "\n",
              "  .colab-df-quickchart-complete:disabled,\n",
              "  .colab-df-quickchart-complete:disabled:hover {\n",
              "    background-color: var(--disabled-bg-color);\n",
              "    fill: var(--disabled-fill-color);\n",
              "    box-shadow: none;\n",
              "  }\n",
              "\n",
              "  .colab-df-spinner {\n",
              "    border: 2px solid var(--fill-color);\n",
              "    border-color: transparent;\n",
              "    border-bottom-color: var(--fill-color);\n",
              "    animation:\n",
              "      spin 1s steps(1) infinite;\n",
              "  }\n",
              "\n",
              "  @keyframes spin {\n",
              "    0% {\n",
              "      border-color: transparent;\n",
              "      border-bottom-color: var(--fill-color);\n",
              "      border-left-color: var(--fill-color);\n",
              "    }\n",
              "    20% {\n",
              "      border-color: transparent;\n",
              "      border-left-color: var(--fill-color);\n",
              "      border-top-color: var(--fill-color);\n",
              "    }\n",
              "    30% {\n",
              "      border-color: transparent;\n",
              "      border-left-color: var(--fill-color);\n",
              "      border-top-color: var(--fill-color);\n",
              "      border-right-color: var(--fill-color);\n",
              "    }\n",
              "    40% {\n",
              "      border-color: transparent;\n",
              "      border-right-color: var(--fill-color);\n",
              "      border-top-color: var(--fill-color);\n",
              "    }\n",
              "    60% {\n",
              "      border-color: transparent;\n",
              "      border-right-color: var(--fill-color);\n",
              "    }\n",
              "    80% {\n",
              "      border-color: transparent;\n",
              "      border-right-color: var(--fill-color);\n",
              "      border-bottom-color: var(--fill-color);\n",
              "    }\n",
              "    90% {\n",
              "      border-color: transparent;\n",
              "      border-bottom-color: var(--fill-color);\n",
              "    }\n",
              "  }\n",
              "</style>\n",
              "\n",
              "  <script>\n",
              "    async function quickchart(key) {\n",
              "      const quickchartButtonEl =\n",
              "        document.querySelector('#' + key + ' button');\n",
              "      quickchartButtonEl.disabled = true;  // To prevent multiple clicks.\n",
              "      quickchartButtonEl.classList.add('colab-df-spinner');\n",
              "      try {\n",
              "        const charts = await google.colab.kernel.invokeFunction(\n",
              "            'suggestCharts', [key], {});\n",
              "      } catch (error) {\n",
              "        console.error('Error during call to suggestCharts:', error);\n",
              "      }\n",
              "      quickchartButtonEl.classList.remove('colab-df-spinner');\n",
              "      quickchartButtonEl.classList.add('colab-df-quickchart-complete');\n",
              "    }\n",
              "    (() => {\n",
              "      let quickchartButtonEl =\n",
              "        document.querySelector('#df-83df6fac-ec5e-4460-8e97-544f124b2ecf button');\n",
              "      quickchartButtonEl.style.display =\n",
              "        google.colab.kernel.accessAllowed ? 'block' : 'none';\n",
              "    })();\n",
              "  </script>\n",
              "</div>\n",
              "\n",
              "  <div id=\"id_b51324b6-85ee-40a5-848a-811aacada7b1\">\n",
              "    <style>\n",
              "      .colab-df-generate {\n",
              "        background-color: #E8F0FE;\n",
              "        border: none;\n",
              "        border-radius: 50%;\n",
              "        cursor: pointer;\n",
              "        display: none;\n",
              "        fill: #1967D2;\n",
              "        height: 32px;\n",
              "        padding: 0 0 0 0;\n",
              "        width: 32px;\n",
              "      }\n",
              "\n",
              "      .colab-df-generate:hover {\n",
              "        background-color: #E2EBFA;\n",
              "        box-shadow: 0px 1px 2px rgba(60, 64, 67, 0.3), 0px 1px 3px 1px rgba(60, 64, 67, 0.15);\n",
              "        fill: #174EA6;\n",
              "      }\n",
              "\n",
              "      [theme=dark] .colab-df-generate {\n",
              "        background-color: #3B4455;\n",
              "        fill: #D2E3FC;\n",
              "      }\n",
              "\n",
              "      [theme=dark] .colab-df-generate:hover {\n",
              "        background-color: #434B5C;\n",
              "        box-shadow: 0px 1px 3px 1px rgba(0, 0, 0, 0.15);\n",
              "        filter: drop-shadow(0px 1px 2px rgba(0, 0, 0, 0.3));\n",
              "        fill: #FFFFFF;\n",
              "      }\n",
              "    </style>\n",
              "    <button class=\"colab-df-generate\" onclick=\"generateWithVariable('compare_results')\"\n",
              "            title=\"Generate code using this dataframe.\"\n",
              "            style=\"display:none;\">\n",
              "\n",
              "  <svg xmlns=\"http://www.w3.org/2000/svg\" height=\"24px\"viewBox=\"0 0 24 24\"\n",
              "       width=\"24px\">\n",
              "    <path d=\"M7,19H8.4L18.45,9,17,7.55,7,17.6ZM5,21V16.75L18.45,3.32a2,2,0,0,1,2.83,0l1.4,1.43a1.91,1.91,0,0,1,.58,1.4,1.91,1.91,0,0,1-.58,1.4L9.25,21ZM18.45,9,17,7.55Zm-12,3A5.31,5.31,0,0,0,4.9,8.1,5.31,5.31,0,0,0,1,6.5,5.31,5.31,0,0,0,4.9,4.9,5.31,5.31,0,0,0,6.5,1,5.31,5.31,0,0,0,8.1,4.9,5.31,5.31,0,0,0,12,6.5,5.46,5.46,0,0,0,6.5,12Z\"/>\n",
              "  </svg>\n",
              "    </button>\n",
              "    <script>\n",
              "      (() => {\n",
              "      const buttonEl =\n",
              "        document.querySelector('#id_b51324b6-85ee-40a5-848a-811aacada7b1 button.colab-df-generate');\n",
              "      buttonEl.style.display =\n",
              "        google.colab.kernel.accessAllowed ? 'block' : 'none';\n",
              "\n",
              "      buttonEl.onclick = () => {\n",
              "        google.colab.notebook.generateWithVariable('compare_results');\n",
              "      }\n",
              "      })();\n",
              "    </script>\n",
              "  </div>\n",
              "\n",
              "    </div>\n",
              "  </div>\n"
            ]
          },
          "metadata": {},
          "execution_count": 59
        }
      ]
    },
    {
      "cell_type": "code",
      "source": [
        "# Add training time to the results comparasion\n",
        "compare_results[\"training_time\"] = [total_train_time_model_0,\n",
        "                                    total_train_time_model_1,\n",
        "                                    total_train_time_model_2]\n",
        "compare_results"
      ],
      "metadata": {
        "colab": {
          "base_uri": "https://localhost:8080/",
          "height": 143
        },
        "id": "YcPDmbaFZxpO",
        "outputId": "8fee48fd-affc-4368-ef8c-4f334e69c039"
      },
      "execution_count": null,
      "outputs": [
        {
          "output_type": "execute_result",
          "data": {
            "text/plain": [
              "            model_name  model_loss  model_accuracy  training_time\n",
              "0  FashionMNISTmodelV0    0.476639       83.426518      28.647590\n",
              "1  FashionMNISTmodelV1    0.685001       75.019968      31.203315\n",
              "2  FashionMNISTmodelV2    0.316306       88.358626      38.903887"
            ],
            "text/html": [
              "\n",
              "  <div id=\"df-8623aa1e-6ab6-4ab6-980b-19bd79ca3b07\" class=\"colab-df-container\">\n",
              "    <div>\n",
              "<style scoped>\n",
              "    .dataframe tbody tr th:only-of-type {\n",
              "        vertical-align: middle;\n",
              "    }\n",
              "\n",
              "    .dataframe tbody tr th {\n",
              "        vertical-align: top;\n",
              "    }\n",
              "\n",
              "    .dataframe thead th {\n",
              "        text-align: right;\n",
              "    }\n",
              "</style>\n",
              "<table border=\"1\" class=\"dataframe\">\n",
              "  <thead>\n",
              "    <tr style=\"text-align: right;\">\n",
              "      <th></th>\n",
              "      <th>model_name</th>\n",
              "      <th>model_loss</th>\n",
              "      <th>model_accuracy</th>\n",
              "      <th>training_time</th>\n",
              "    </tr>\n",
              "  </thead>\n",
              "  <tbody>\n",
              "    <tr>\n",
              "      <th>0</th>\n",
              "      <td>FashionMNISTmodelV0</td>\n",
              "      <td>0.476639</td>\n",
              "      <td>83.426518</td>\n",
              "      <td>28.647590</td>\n",
              "    </tr>\n",
              "    <tr>\n",
              "      <th>1</th>\n",
              "      <td>FashionMNISTmodelV1</td>\n",
              "      <td>0.685001</td>\n",
              "      <td>75.019968</td>\n",
              "      <td>31.203315</td>\n",
              "    </tr>\n",
              "    <tr>\n",
              "      <th>2</th>\n",
              "      <td>FashionMNISTmodelV2</td>\n",
              "      <td>0.316306</td>\n",
              "      <td>88.358626</td>\n",
              "      <td>38.903887</td>\n",
              "    </tr>\n",
              "  </tbody>\n",
              "</table>\n",
              "</div>\n",
              "    <div class=\"colab-df-buttons\">\n",
              "\n",
              "  <div class=\"colab-df-container\">\n",
              "    <button class=\"colab-df-convert\" onclick=\"convertToInteractive('df-8623aa1e-6ab6-4ab6-980b-19bd79ca3b07')\"\n",
              "            title=\"Convert this dataframe to an interactive table.\"\n",
              "            style=\"display:none;\">\n",
              "\n",
              "  <svg xmlns=\"http://www.w3.org/2000/svg\" height=\"24px\" viewBox=\"0 -960 960 960\">\n",
              "    <path d=\"M120-120v-720h720v720H120Zm60-500h600v-160H180v160Zm220 220h160v-160H400v160Zm0 220h160v-160H400v160ZM180-400h160v-160H180v160Zm440 0h160v-160H620v160ZM180-180h160v-160H180v160Zm440 0h160v-160H620v160Z\"/>\n",
              "  </svg>\n",
              "    </button>\n",
              "\n",
              "  <style>\n",
              "    .colab-df-container {\n",
              "      display:flex;\n",
              "      gap: 12px;\n",
              "    }\n",
              "\n",
              "    .colab-df-convert {\n",
              "      background-color: #E8F0FE;\n",
              "      border: none;\n",
              "      border-radius: 50%;\n",
              "      cursor: pointer;\n",
              "      display: none;\n",
              "      fill: #1967D2;\n",
              "      height: 32px;\n",
              "      padding: 0 0 0 0;\n",
              "      width: 32px;\n",
              "    }\n",
              "\n",
              "    .colab-df-convert:hover {\n",
              "      background-color: #E2EBFA;\n",
              "      box-shadow: 0px 1px 2px rgba(60, 64, 67, 0.3), 0px 1px 3px 1px rgba(60, 64, 67, 0.15);\n",
              "      fill: #174EA6;\n",
              "    }\n",
              "\n",
              "    .colab-df-buttons div {\n",
              "      margin-bottom: 4px;\n",
              "    }\n",
              "\n",
              "    [theme=dark] .colab-df-convert {\n",
              "      background-color: #3B4455;\n",
              "      fill: #D2E3FC;\n",
              "    }\n",
              "\n",
              "    [theme=dark] .colab-df-convert:hover {\n",
              "      background-color: #434B5C;\n",
              "      box-shadow: 0px 1px 3px 1px rgba(0, 0, 0, 0.15);\n",
              "      filter: drop-shadow(0px 1px 2px rgba(0, 0, 0, 0.3));\n",
              "      fill: #FFFFFF;\n",
              "    }\n",
              "  </style>\n",
              "\n",
              "    <script>\n",
              "      const buttonEl =\n",
              "        document.querySelector('#df-8623aa1e-6ab6-4ab6-980b-19bd79ca3b07 button.colab-df-convert');\n",
              "      buttonEl.style.display =\n",
              "        google.colab.kernel.accessAllowed ? 'block' : 'none';\n",
              "\n",
              "      async function convertToInteractive(key) {\n",
              "        const element = document.querySelector('#df-8623aa1e-6ab6-4ab6-980b-19bd79ca3b07');\n",
              "        const dataTable =\n",
              "          await google.colab.kernel.invokeFunction('convertToInteractive',\n",
              "                                                    [key], {});\n",
              "        if (!dataTable) return;\n",
              "\n",
              "        const docLinkHtml = 'Like what you see? Visit the ' +\n",
              "          '<a target=\"_blank\" href=https://colab.research.google.com/notebooks/data_table.ipynb>data table notebook</a>'\n",
              "          + ' to learn more about interactive tables.';\n",
              "        element.innerHTML = '';\n",
              "        dataTable['output_type'] = 'display_data';\n",
              "        await google.colab.output.renderOutput(dataTable, element);\n",
              "        const docLink = document.createElement('div');\n",
              "        docLink.innerHTML = docLinkHtml;\n",
              "        element.appendChild(docLink);\n",
              "      }\n",
              "    </script>\n",
              "  </div>\n",
              "\n",
              "\n",
              "<div id=\"df-e2715f89-e9a1-46b1-b35b-c060249c9a79\">\n",
              "  <button class=\"colab-df-quickchart\" onclick=\"quickchart('df-e2715f89-e9a1-46b1-b35b-c060249c9a79')\"\n",
              "            title=\"Suggest charts\"\n",
              "            style=\"display:none;\">\n",
              "\n",
              "<svg xmlns=\"http://www.w3.org/2000/svg\" height=\"24px\"viewBox=\"0 0 24 24\"\n",
              "     width=\"24px\">\n",
              "    <g>\n",
              "        <path d=\"M19 3H5c-1.1 0-2 .9-2 2v14c0 1.1.9 2 2 2h14c1.1 0 2-.9 2-2V5c0-1.1-.9-2-2-2zM9 17H7v-7h2v7zm4 0h-2V7h2v10zm4 0h-2v-4h2v4z\"/>\n",
              "    </g>\n",
              "</svg>\n",
              "  </button>\n",
              "\n",
              "<style>\n",
              "  .colab-df-quickchart {\n",
              "      --bg-color: #E8F0FE;\n",
              "      --fill-color: #1967D2;\n",
              "      --hover-bg-color: #E2EBFA;\n",
              "      --hover-fill-color: #174EA6;\n",
              "      --disabled-fill-color: #AAA;\n",
              "      --disabled-bg-color: #DDD;\n",
              "  }\n",
              "\n",
              "  [theme=dark] .colab-df-quickchart {\n",
              "      --bg-color: #3B4455;\n",
              "      --fill-color: #D2E3FC;\n",
              "      --hover-bg-color: #434B5C;\n",
              "      --hover-fill-color: #FFFFFF;\n",
              "      --disabled-bg-color: #3B4455;\n",
              "      --disabled-fill-color: #666;\n",
              "  }\n",
              "\n",
              "  .colab-df-quickchart {\n",
              "    background-color: var(--bg-color);\n",
              "    border: none;\n",
              "    border-radius: 50%;\n",
              "    cursor: pointer;\n",
              "    display: none;\n",
              "    fill: var(--fill-color);\n",
              "    height: 32px;\n",
              "    padding: 0;\n",
              "    width: 32px;\n",
              "  }\n",
              "\n",
              "  .colab-df-quickchart:hover {\n",
              "    background-color: var(--hover-bg-color);\n",
              "    box-shadow: 0 1px 2px rgba(60, 64, 67, 0.3), 0 1px 3px 1px rgba(60, 64, 67, 0.15);\n",
              "    fill: var(--button-hover-fill-color);\n",
              "  }\n",
              "\n",
              "  .colab-df-quickchart-complete:disabled,\n",
              "  .colab-df-quickchart-complete:disabled:hover {\n",
              "    background-color: var(--disabled-bg-color);\n",
              "    fill: var(--disabled-fill-color);\n",
              "    box-shadow: none;\n",
              "  }\n",
              "\n",
              "  .colab-df-spinner {\n",
              "    border: 2px solid var(--fill-color);\n",
              "    border-color: transparent;\n",
              "    border-bottom-color: var(--fill-color);\n",
              "    animation:\n",
              "      spin 1s steps(1) infinite;\n",
              "  }\n",
              "\n",
              "  @keyframes spin {\n",
              "    0% {\n",
              "      border-color: transparent;\n",
              "      border-bottom-color: var(--fill-color);\n",
              "      border-left-color: var(--fill-color);\n",
              "    }\n",
              "    20% {\n",
              "      border-color: transparent;\n",
              "      border-left-color: var(--fill-color);\n",
              "      border-top-color: var(--fill-color);\n",
              "    }\n",
              "    30% {\n",
              "      border-color: transparent;\n",
              "      border-left-color: var(--fill-color);\n",
              "      border-top-color: var(--fill-color);\n",
              "      border-right-color: var(--fill-color);\n",
              "    }\n",
              "    40% {\n",
              "      border-color: transparent;\n",
              "      border-right-color: var(--fill-color);\n",
              "      border-top-color: var(--fill-color);\n",
              "    }\n",
              "    60% {\n",
              "      border-color: transparent;\n",
              "      border-right-color: var(--fill-color);\n",
              "    }\n",
              "    80% {\n",
              "      border-color: transparent;\n",
              "      border-right-color: var(--fill-color);\n",
              "      border-bottom-color: var(--fill-color);\n",
              "    }\n",
              "    90% {\n",
              "      border-color: transparent;\n",
              "      border-bottom-color: var(--fill-color);\n",
              "    }\n",
              "  }\n",
              "</style>\n",
              "\n",
              "  <script>\n",
              "    async function quickchart(key) {\n",
              "      const quickchartButtonEl =\n",
              "        document.querySelector('#' + key + ' button');\n",
              "      quickchartButtonEl.disabled = true;  // To prevent multiple clicks.\n",
              "      quickchartButtonEl.classList.add('colab-df-spinner');\n",
              "      try {\n",
              "        const charts = await google.colab.kernel.invokeFunction(\n",
              "            'suggestCharts', [key], {});\n",
              "      } catch (error) {\n",
              "        console.error('Error during call to suggestCharts:', error);\n",
              "      }\n",
              "      quickchartButtonEl.classList.remove('colab-df-spinner');\n",
              "      quickchartButtonEl.classList.add('colab-df-quickchart-complete');\n",
              "    }\n",
              "    (() => {\n",
              "      let quickchartButtonEl =\n",
              "        document.querySelector('#df-e2715f89-e9a1-46b1-b35b-c060249c9a79 button');\n",
              "      quickchartButtonEl.style.display =\n",
              "        google.colab.kernel.accessAllowed ? 'block' : 'none';\n",
              "    })();\n",
              "  </script>\n",
              "</div>\n",
              "\n",
              "  <div id=\"id_e7b12b27-17d6-4003-b5ab-ce6fa06a8227\">\n",
              "    <style>\n",
              "      .colab-df-generate {\n",
              "        background-color: #E8F0FE;\n",
              "        border: none;\n",
              "        border-radius: 50%;\n",
              "        cursor: pointer;\n",
              "        display: none;\n",
              "        fill: #1967D2;\n",
              "        height: 32px;\n",
              "        padding: 0 0 0 0;\n",
              "        width: 32px;\n",
              "      }\n",
              "\n",
              "      .colab-df-generate:hover {\n",
              "        background-color: #E2EBFA;\n",
              "        box-shadow: 0px 1px 2px rgba(60, 64, 67, 0.3), 0px 1px 3px 1px rgba(60, 64, 67, 0.15);\n",
              "        fill: #174EA6;\n",
              "      }\n",
              "\n",
              "      [theme=dark] .colab-df-generate {\n",
              "        background-color: #3B4455;\n",
              "        fill: #D2E3FC;\n",
              "      }\n",
              "\n",
              "      [theme=dark] .colab-df-generate:hover {\n",
              "        background-color: #434B5C;\n",
              "        box-shadow: 0px 1px 3px 1px rgba(0, 0, 0, 0.15);\n",
              "        filter: drop-shadow(0px 1px 2px rgba(0, 0, 0, 0.3));\n",
              "        fill: #FFFFFF;\n",
              "      }\n",
              "    </style>\n",
              "    <button class=\"colab-df-generate\" onclick=\"generateWithVariable('compare_results')\"\n",
              "            title=\"Generate code using this dataframe.\"\n",
              "            style=\"display:none;\">\n",
              "\n",
              "  <svg xmlns=\"http://www.w3.org/2000/svg\" height=\"24px\"viewBox=\"0 0 24 24\"\n",
              "       width=\"24px\">\n",
              "    <path d=\"M7,19H8.4L18.45,9,17,7.55,7,17.6ZM5,21V16.75L18.45,3.32a2,2,0,0,1,2.83,0l1.4,1.43a1.91,1.91,0,0,1,.58,1.4,1.91,1.91,0,0,1-.58,1.4L9.25,21ZM18.45,9,17,7.55Zm-12,3A5.31,5.31,0,0,0,4.9,8.1,5.31,5.31,0,0,0,1,6.5,5.31,5.31,0,0,0,4.9,4.9,5.31,5.31,0,0,0,6.5,1,5.31,5.31,0,0,0,8.1,4.9,5.31,5.31,0,0,0,12,6.5,5.46,5.46,0,0,0,6.5,12Z\"/>\n",
              "  </svg>\n",
              "    </button>\n",
              "    <script>\n",
              "      (() => {\n",
              "      const buttonEl =\n",
              "        document.querySelector('#id_e7b12b27-17d6-4003-b5ab-ce6fa06a8227 button.colab-df-generate');\n",
              "      buttonEl.style.display =\n",
              "        google.colab.kernel.accessAllowed ? 'block' : 'none';\n",
              "\n",
              "      buttonEl.onclick = () => {\n",
              "        google.colab.notebook.generateWithVariable('compare_results');\n",
              "      }\n",
              "      })();\n",
              "    </script>\n",
              "  </div>\n",
              "\n",
              "    </div>\n",
              "  </div>\n"
            ]
          },
          "metadata": {},
          "execution_count": 60
        }
      ]
    },
    {
      "cell_type": "code",
      "source": [],
      "metadata": {
        "id": "6JY0rKVsa-XE"
      },
      "execution_count": null,
      "outputs": []
    },
    {
      "cell_type": "code",
      "source": [
        "# Visualize our model result\n",
        "\n",
        "compare_results.set_index(\"model_name\")[\"model_accuracy\"].plot(kind='barh')\n",
        "plt.xlabel(\"accuracy (%)\")\n",
        "plt.ylabel(\"model\");"
      ],
      "metadata": {
        "colab": {
          "base_uri": "https://localhost:8080/",
          "height": 449
        },
        "id": "JMEq6MfDbLkA",
        "outputId": "afd82520-7d04-41a7-91ba-24ac8a37ee1a"
      },
      "execution_count": null,
      "outputs": [
        {
          "output_type": "display_data",
          "data": {
            "text/plain": [
              "<Figure size 640x480 with 1 Axes>"
            ],
            "image/png": "[encoded data removed]"
          },
          "metadata": {}
        }
      ]
    },
    {
      "cell_type": "code",
      "source": [
        "## 9. Make and evaluate random predictions with the best model\n",
        "def make_predictions(model: torch.nn.Module,\n",
        "                     data: list,\n",
        "                     device: torch.device = device):\n",
        "  pred_probs = []\n",
        "  model.to(device)\n",
        "  model.eval()\n",
        "  with torch.inference_mode():\n",
        "    for sample in data:\n",
        "      # prepare the sample\n",
        "      sample = torch.unsqueeze(sample, dim=0).to(device)\n",
        "\n",
        "      # Forward pass(model outputs raw logits)\n",
        "      pred_logits = model(sample)\n",
        "\n",
        "      # get prediction probability (logits -> prediction probability)\n",
        "      pred_prob = torch.softmax(pred_logits.squeeze(), dim=0)\n",
        "\n",
        "      # Get pred_prob off the gpu for further calculations\n",
        "      pred_probs.append(pred_prob.cpu())\n",
        "\n",
        "  # Stack the pred_probs to turn list into a tensor\n",
        "  return torch.stack(pred_probs)\n",
        "\n"
      ],
      "metadata": {
        "id": "6qusJGVoc93A"
      },
      "execution_count": null,
      "outputs": []
    },
    {
      "cell_type": "code",
      "source": [
        "import random\n",
        "# random.seed(42)\n",
        "test_samples = []\n",
        "test_labels = []\n",
        "\n",
        "for sample, label in random.sample(list(test_data), k=9):\n",
        "  test_samples.append(sample)\n",
        "  test_labels.append(label)\n",
        "\n",
        "  # View the first sample shape\n",
        "\n",
        "test_samples[0].shape"
      ],
      "metadata": {
        "colab": {
          "base_uri": "https://localhost:8080/"
        },
        "id": "BUcCovWwfwcm",
        "outputId": "07c39ff3-9a04-49c0-e788-bdb7e460f3f3"
      },
      "execution_count": null,
      "outputs": [
        {
          "output_type": "execute_result",
          "data": {
            "text/plain": [
              "torch.Size([1, 28, 28])"
            ]
          },
          "metadata": {},
          "execution_count": 79
        }
      ]
    },
    {
      "cell_type": "code",
      "source": [
        "plt.imshow(test_samples[0].squeeze(), cmap=\"gray\")\n",
        "plt.title(class_names[test_labels[0]])"
      ],
      "metadata": {
        "colab": {
          "base_uri": "https://localhost:8080/",
          "height": 469
        },
        "id": "QA5I-XI9gor8",
        "outputId": "71879df3-3391-48d3-c8d6-550fa5bd4714"
      },
      "execution_count": null,
      "outputs": [
        {
          "output_type": "execute_result",
          "data": {
            "text/plain": [
              "Text(0.5, 1.0, 'Sandal')"
            ]
          },
          "metadata": {},
          "execution_count": 80
        },
        {
          "output_type": "display_data",
          "data": {
            "text/plain": [
              "<Figure size 640x480 with 1 Axes>"
            ],
            "image/png": "[encoded data removed]"
          },
          "metadata": {}
        }
      ]
    },
    {
      "cell_type": "code",
      "source": [
        "# Make predictions\n",
        "pred_probs = make_predictions(model=model_2,\n",
        "                              data=test_samples)\n",
        "\n",
        "# view pred probs\n",
        "pred_probs[:2]"
      ],
      "metadata": {
        "colab": {
          "base_uri": "https://localhost:8080/"
        },
        "id": "MAEHWV0bgxqz",
        "outputId": "61a38dc7-c02d-4dd1-e621-c8f2482a6d8b"
      },
      "execution_count": null,
      "outputs": [
        {
          "output_type": "execute_result",
          "data": {
            "text/plain": [
              "tensor([[2.0145e-06, 4.8029e-06, 7.6542e-06, 5.6240e-05, 3.0417e-05, 9.9813e-01,\n",
              "         1.2753e-05, 8.4097e-04, 1.3695e-04, 7.7952e-04],\n",
              "        [1.0673e-02, 3.5533e-05, 5.8587e-02, 1.2818e-03, 1.2450e-01, 6.8852e-06,\n",
              "         8.0477e-01, 3.6846e-06, 1.2442e-04, 1.3792e-05]])"
            ]
          },
          "metadata": {},
          "execution_count": 81
        }
      ]
    },
    {
      "cell_type": "code",
      "source": [
        "# Convert prediction probabilities to labels\n",
        "pred_classes = pred_probs.argmax(dim=1)\n",
        "pred_classes"
      ],
      "metadata": {
        "colab": {
          "base_uri": "https://localhost:8080/"
        },
        "id": "5W0CZO7Chn33",
        "outputId": "16d93104-44ae-4ef2-e331-81a5b20f2687"
      },
      "execution_count": null,
      "outputs": [
        {
          "output_type": "execute_result",
          "data": {
            "text/plain": [
              "tensor([5, 6, 6, 6, 3, 1, 2, 3, 6])"
            ]
          },
          "metadata": {},
          "execution_count": 82
        }
      ]
    },
    {
      "cell_type": "code",
      "source": [
        "test_labels"
      ],
      "metadata": {
        "colab": {
          "base_uri": "https://localhost:8080/"
        },
        "id": "CHPMK_VZiACS",
        "outputId": "3997b330-d876-4103-fd3a-47e0380c6836"
      },
      "execution_count": null,
      "outputs": [
        {
          "output_type": "execute_result",
          "data": {
            "text/plain": [
              "[5, 6, 6, 4, 3, 1, 4, 6, 6]"
            ]
          },
          "metadata": {},
          "execution_count": 83
        }
      ]
    },
    {
      "cell_type": "code",
      "source": [
        "image, label = test_data[0][:10]\n",
        "image.shape, label"
      ],
      "metadata": {
        "colab": {
          "base_uri": "https://localhost:8080/"
        },
        "id": "RO1MF48JiFld",
        "outputId": "53a98e67-e56d-403a-d9f0-4630852e14e0"
      },
      "execution_count": null,
      "outputs": [
        {
          "output_type": "execute_result",
          "data": {
            "text/plain": [
              "(torch.Size([1, 28, 28]), 9)"
            ]
          },
          "metadata": {},
          "execution_count": 84
        }
      ]
    },
    {
      "cell_type": "code",
      "source": [
        "# plot predictions\n",
        "plt.figure(figsize=(9, 9))\n",
        "nrows= 3\n",
        "ncols = 3\n",
        "for i, sample in enumerate(test_samples):\n",
        "  # Create subplot\n",
        "  plt.subplot(nrows, ncols, i+1)\n",
        "\n",
        "  plt.imshow(sample.squeeze(), cmap=\"gray\")\n",
        "\n",
        "  # Find the predictions (in text form, e.g \" sandal\")\n",
        "  pred_label = class_names[pred_classes[i]]\n",
        "\n",
        "  # Get the truth labels in text form\n",
        "  truth_label = class_names[test_labels[i]]\n",
        "\n",
        "  # create a title\n",
        "  title_text = f\"pred: {pred_label} | Truth: {truth_label}\"\n",
        "\n",
        "  # Check for equality between pred and truth and change the color of title text\n",
        "  if pred_label == truth_label:\n",
        "    plt.title(title_text, fontsize=10, c=\"g\") # green text if prediction same as truth\n",
        "  else:\n",
        "    plt.title(title_text, fontsize=10, c=\"r\")"
      ],
      "metadata": {
        "colab": {
          "base_uri": "https://localhost:8080/",
          "height": 773
        },
        "id": "1NdGWJJnjHyt",
        "outputId": "0243e935-af94-4089-f90e-4f85f9434843"
      },
      "execution_count": null,
      "outputs": [
        {
          "output_type": "display_data",
          "data": {
            "text/plain": [
              "<Figure size 900x900 with 9 Axes>"
            ],
            "image/png": "[encoded data removed]"
          },
          "metadata": {}
        }
      ]
    },
    {
      "cell_type": "markdown",
      "source": [
        "## 10. Making a confusion matrix for further prediction evaluation\n",
        "\n",
        "1. Make predictions with our trained model on the test dataset\n",
        "2. Make a confusion matrix `torchmetrics.ConfusionMatrix`\n",
        "3. Plot the confusion matrix using `mextend.plotting.plot_confusion_matrix`\n"
      ],
      "metadata": {
        "id": "tbPIrVQUQH_D"
      }
    },
    {
      "cell_type": "code",
      "source": [
        "import mlxtend"
      ],
      "metadata": {
        "id": "_1nToMMnQ8aw"
      },
      "execution_count": null,
      "outputs": []
    },
    {
      "cell_type": "code",
      "source": [
        "mlxtend.__version__"
      ],
      "metadata": {
        "colab": {
          "base_uri": "https://localhost:8080/",
          "height": 36
        },
        "id": "afMMDMbHQ8gR",
        "outputId": "0505394c-9825-4bd6-8fc0-eb08153fdeb8"
      },
      "execution_count": null,
      "outputs": [
        {
          "output_type": "execute_result",
          "data": {
            "text/plain": [
              "'0.22.0'"
            ],
            "application/vnd.google.colaboratory.intrinsic+json": {
              "type": "string"
            }
          },
          "metadata": {},
          "execution_count": 29
        }
      ]
    },
    {
      "cell_type": "code",
      "source": [
        "# 1. make predictions with trained model\n",
        "y_preds = []\n",
        "model_2.eval()\n",
        "with torch.inference_mode():\n",
        "  for X, y in tqdm(test_dataloader, desc=\"Making predictions....\"):\n",
        "    # Send the data to the device\n",
        "    X, y = X.to(device), y.to(device)\n",
        "    # Do the forward pass\n",
        "    y_logits = model_2(X)\n",
        "    y_pred = torch.softmax(y_logits.squeeze(), dim=0).argmax(dim=1)\n",
        "    # put predictions on the cpu for evaluation\n",
        "    y_preds.append(y_pred.cpu())\n",
        "\n",
        "  # Concate\n",
        "  # print(y_preds)\n",
        "y_pred_tensor = torch.cat(y_preds)\n",
        "y_pred_tensor[:10]"
      ],
      "metadata": {
        "colab": {
          "base_uri": "https://localhost:8080/",
          "height": 66,
          "referenced_widgets": [
            "fe05c749f5dc43c3852a8eed6c0da31b",
            "e9da6e5985d94d7a8fb9536a86e93adc",
            "a053ea3464784a388729163c6d65c26f",
            "833cc0fe197347a2bdf466b5ffc1a184",
            "a327ee96479048ddb01d4ab500d0aa3c",
            "675fe16d4d1d4190a463efc5c620a756",
            "c042de93c32946939b2ed01905bb7b0a",
            "6f268afc45df4d24ab4807ca985cd09a",
            "0dcbfe41abc8451aa8ac796dc2a1b1dc",
            "5d8de11c59cb4006b391b999ceb63a66",
            "16e861b4acc745f2ae61d9fe62c70ce6"
          ]
        },
        "id": "I0odZ9AsScDy",
        "outputId": "7fa2f723-1e90-478f-d2ce-1ffc64184d36"
      },
      "execution_count": null,
      "outputs": [
        {
          "output_type": "display_data",
          "data": {
            "text/plain": [
              "Making predictions....:   0%|          | 0/313 [00:00<?, ?it/s]"
            ],
            "application/vnd.jupyter.widget-view+json": {
              "version_major": 2,
              "version_minor": 0,
              "model_id": "fe05c749f5dc43c3852a8eed6c0da31b"
            }
          },
          "metadata": {}
        },
        {
          "output_type": "execute_result",
          "data": {
            "text/plain": [
              "tensor([9, 2, 1, 1, 6, 1, 4, 6, 5, 7])"
            ]
          },
          "metadata": {},
          "execution_count": 94
        }
      ]
    },
    {
      "cell_type": "code",
      "source": [
        "try:\n",
        "  import torchmetrics, mlxtend\n",
        "  print(f\"mlxtend version: {mlxtend.__version__}\")\n",
        "  assert int(mlxtend.__version__.split(\".\")[1]) >= 19, \"mlxtend version should be 0.19.0 or higher\"\n",
        "except:\n",
        "  !pip install -q torchmetrics -U mlxtend\n",
        "  import torchmetrics, mlxtend\n",
        "  print(f\"mlxtend version: {mlxtend.__version__}\")"
      ],
      "metadata": {
        "colab": {
          "base_uri": "https://localhost:8080/"
        },
        "id": "QLrll3JGT0bG",
        "outputId": "72cb162c-0e3f-4e10-877c-98b99b6d3103"
      },
      "execution_count": null,
      "outputs": [
        {
          "output_type": "stream",
          "name": "stdout",
          "text": [
            "\u001b[?25l     \u001b[90m━━━━━━━━━━━━━━━━━━━━━━━━━━━━━━━━━━━━━━━━\u001b[0m \u001b[32m0.0/840.2 kB\u001b[0m \u001b[31m?\u001b[0m eta \u001b[36m-:--:--\u001b[0m\r\u001b[2K     \u001b[91m━━━\u001b[0m\u001b[90m╺\u001b[0m\u001b[90m━━━━━━━━━━━━━━━━━━━━━━━━━━━━━━━━━━━━\u001b[0m \u001b[32m71.7/840.2 kB\u001b[0m \u001b[31m2.2 MB/s\u001b[0m eta \u001b[36m0:00:01\u001b[0m\r\u001b[2K     \u001b[91m━━━━━━━━━━━━━━━━━━━━━━━━━━━━━━━━━━━━━━━\u001b[0m\u001b[91m╸\u001b[0m \u001b[32m839.7/840.2 kB\u001b[0m \u001b[31m14.0 MB/s\u001b[0m eta \u001b[36m0:00:01\u001b[0m\r\u001b[2K     \u001b[90m━━━━━━━━━━━━━━━━━━━━━━━━━━━━━━━━━━━━━━━━\u001b[0m \u001b[32m840.2/840.2 kB\u001b[0m \u001b[31m10.9 MB/s\u001b[0m eta \u001b[36m0:00:00\u001b[0m\n",
            "\u001b[?25h\u001b[?25l     \u001b[90m━━━━━━━━━━━━━━━━━━━━━━━━━━━━━━━━━━━━━━━━\u001b[0m \u001b[32m0.0/1.4 MB\u001b[0m \u001b[31m?\u001b[0m eta \u001b[36m-:--:--\u001b[0m\r\u001b[2K     \u001b[91m━━━━━━━━━━━━━━━━━━━━━━━━━━━━━━━━━━━━━━━\u001b[0m\u001b[91m╸\u001b[0m \u001b[32m1.4/1.4 MB\u001b[0m \u001b[31m114.5 MB/s\u001b[0m eta \u001b[36m0:00:01\u001b[0m\r\u001b[2K     \u001b[90m━━━━━━━━━━━━━━━━━━━━━━━━━━━━━━━━━━━━━━━━\u001b[0m \u001b[32m1.4/1.4 MB\u001b[0m \u001b[31m38.2 MB/s\u001b[0m eta \u001b[36m0:00:00\u001b[0m\n",
            "\u001b[?25hmlxtend version: 0.22.0\n"
          ]
        }
      ]
    },
    {
      "cell_type": "code",
      "source": [
        "assert int(mlxtend.__version__.split(\".\")[1]) >= 19, \"mlxtend version should be 0.19.0 or higher\""
      ],
      "metadata": {
        "id": "S7HSeN5_U7yQ"
      },
      "execution_count": null,
      "outputs": []
    },
    {
      "cell_type": "code",
      "source": [
        "from torchmetrics import ConfusionMatrix\n",
        "from mlxtend.plotting import plot_confusion_matrix\n",
        "\n",
        "# 2. Set up confusion matrix instance and compare predictions to truth\n",
        "task = \"multiclass\"\n",
        "confmat = ConfusionMatrix(task=task,\n",
        "                          num_classes=len(class_names))\n",
        "confmat_tensor = confmat(preds=y_pred_tensor,\n",
        "                         target=test_data.targets)\n",
        "\n",
        "# 3. plt the confustion matrix\n",
        "fig, ax = plot_confusion_matrix(\n",
        "    conf_mat=confmat_tensor.numpy(), # matplotlib likes working with numpy\n",
        "    class_names=class_names,\n",
        "    figsize=(10, 7)\n",
        ")\n"
      ],
      "metadata": {
        "colab": {
          "base_uri": "https://localhost:8080/",
          "height": 667
        },
        "id": "nUimeEcDVrQU",
        "outputId": "9b6283be-2bcd-4362-c69b-cd0085ae50f4"
      },
      "execution_count": null,
      "outputs": [
        {
          "output_type": "display_data",
          "data": {
            "text/plain": [
              "<Figure size 1000x700 with 1 Axes>"
            ],
            "image/png": "[encoded data removed]"
          },
          "metadata": {}
        }
      ]
    },
    {
      "cell_type": "code",
      "source": [
        "confmat_tensor"
      ],
      "metadata": {
        "colab": {
          "base_uri": "https://localhost:8080/"
        },
        "id": "MhiodLBpX1R3",
        "outputId": "fdf41643-013c-44bf-9f20-8fa3eda0d378"
      },
      "execution_count": null,
      "outputs": [
        {
          "output_type": "execute_result",
          "data": {
            "text/plain": [
              "tensor([[603,   5,  45,  85,  13,   1, 244,   0,   4,   0],\n",
              "        [  7, 909,   4,  55,  18,   0,   5,   0,   2,   0],\n",
              "        [  7,   2, 804,  15, 113,   0,  56,   0,   3,   0],\n",
              "        [ 22,  15,  23, 852,  51,   0,  28,   0,   7,   2],\n",
              "        [  5,   8, 110,  47, 743,   0,  84,   0,   3,   0],\n",
              "        [  5,   0,   3,  10,   0, 841,   5,  52,  64,  20],\n",
              "        [ 64,   7, 123,  68, 101,   0, 628,   0,   9,   0],\n",
              "        [  1,   1,   0,   0,   0,  25,   0, 910,  10,  53],\n",
              "        [  8,   2,  17,  14,   9,   8,  37,   7, 897,   1],\n",
              "        [  0,   0,   1,   3,   0,  24,   4,  88,  13, 867]])"
            ]
          },
          "metadata": {},
          "execution_count": 102
        }
      ]
    },
    {
      "cell_type": "code",
      "source": [
        "## 11. Save and load best performing model\n",
        "\n",
        "from pathlib import Path\n",
        "\n",
        "# Create a model path\n",
        "MODEL_PATH = Path(\"Models\")\n",
        "MODEL_PATH.mkdir(parents=True,\n",
        "                 exist_ok=True)\n",
        "\n",
        "# create a model save path\n",
        "MODEL_NAME = \"03_pytorch_computer_vision_model_2.pth\"\n",
        "MODEL_SAVE_PATH = MODEL_PATH / MODEL_NAME\n",
        "\n",
        "MODEL_SAVE_PATH\n",
        "\n",
        "# save the model state dict\n",
        "print(f\"saving the model to: {MODEL_SAVE_PATH}\")\n",
        "torch.save(obj=model_2.state_dict(),\n",
        "           f=MODEL_SAVE_PATH)"
      ],
      "metadata": {
        "colab": {
          "base_uri": "https://localhost:8080/"
        },
        "id": "XH0xceQ0YUul",
        "outputId": "fba8db08-3420-4dbf-eb90-7185f44f5ad8"
      },
      "execution_count": null,
      "outputs": [
        {
          "output_type": "stream",
          "name": "stdout",
          "text": [
            "saving the model to: Models/03_pytorch_computer_vision_model_2.pth\n"
          ]
        }
      ]
    },
    {
      "cell_type": "code",
      "source": [
        "# create a new instance\n",
        "torch.manual_seed(42)\n",
        "\n",
        "loaded_model_2 = FashionMNISTmodelV2(input_shape=1,\n",
        "                                     hidden_units=10,\n",
        "                                     output_shape=len(class_names))\n",
        "# load in the saved state dict\n",
        "loaded_model_2.load_state_dict(torch.load(f=MODEL_SAVE_PATH))\n",
        "\n",
        "loaded_model_2.to(device)"
      ],
      "metadata": {
        "colab": {
          "base_uri": "https://localhost:8080/"
        },
        "id": "yImk1zfvaWy1",
        "outputId": "2bfac8c9-0d93-45eb-8c11-924c05f85fc1"
      },
      "execution_count": null,
      "outputs": [
        {
          "output_type": "execute_result",
          "data": {
            "text/plain": [
              "FashionMNISTmodelV2(\n",
              "  (conv_block_1): Sequential(\n",
              "    (0): Conv2d(1, 10, kernel_size=(3, 3), stride=(1, 1), padding=(1, 1))\n",
              "    (1): ReLU()\n",
              "    (2): Conv2d(10, 10, kernel_size=(3, 3), stride=(1, 1), padding=(1, 1))\n",
              "    (3): ReLU()\n",
              "    (4): MaxPool2d(kernel_size=2, stride=2, padding=0, dilation=1, ceil_mode=False)\n",
              "  )\n",
              "  (conv_block_2): Sequential(\n",
              "    (0): Conv2d(10, 10, kernel_size=(3, 3), stride=(1, 1), padding=(1, 1))\n",
              "    (1): ReLU()\n",
              "    (2): Conv2d(10, 10, kernel_size=(3, 3), stride=(1, 1), padding=(1, 1))\n",
              "    (3): ReLU()\n",
              "    (4): MaxPool2d(kernel_size=2, stride=2, padding=0, dilation=1, ceil_mode=False)\n",
              "  )\n",
              "  (classifier): Sequential(\n",
              "    (0): Flatten(start_dim=1, end_dim=-1)\n",
              "    (1): Linear(in_features=490, out_features=10, bias=True)\n",
              "  )\n",
              ")"
            ]
          },
          "metadata": {},
          "execution_count": 106
        }
      ]
    },
    {
      "cell_type": "code",
      "source": [
        "model_2_results"
      ],
      "metadata": {
        "colab": {
          "base_uri": "https://localhost:8080/"
        },
        "id": "NYT57ODvcFDA",
        "outputId": "ba4e0d73-0068-4732-9776-344b53172053"
      },
      "execution_count": null,
      "outputs": [
        {
          "output_type": "execute_result",
          "data": {
            "text/plain": [
              "{'model_name': 'FashionMNISTmodelV2',\n",
              " 'model_loss': 0.31630638241767883,\n",
              " 'model_accuracy': 88.35862619808307}"
            ]
          },
          "metadata": {},
          "execution_count": 107
        }
      ]
    },
    {
      "cell_type": "code",
      "source": [
        "# evaluate loaded model\n",
        "torch.manual_seed(42)\n",
        "\n",
        "loaded_model_2_results = eval_model(\n",
        "    model=loaded_model_2,\n",
        "    data_loader=test_dataloader,\n",
        "    loss_fn=loss_fn,\n",
        "    accuracy_fn=accuracy_fn\n",
        "\n",
        ")\n",
        "\n",
        "loaded_model_2_results"
      ],
      "metadata": {
        "colab": {
          "base_uri": "https://localhost:8080/",
          "height": 101,
          "referenced_widgets": [
            "0ad1316b894944bbaa087d9c71a34847",
            "09ab9b2bf8bf46c79a89e0432e12da58",
            "c0453cce565a414894c073fb30f701df",
            "3e0d9df00de84add98a516312a1fe63d",
            "40a1c16758894246a366cd9c0851e5f2",
            "a49c3e1ceab34e9e81b59d0921315f1c",
            "7a62069b96d642e98190c6583e05b4d2",
            "a6ecd42b58844ca59a254f22430d65ee",
            "2ba8718e1f4346fdb09cdc77187cbee6",
            "fc530ec0769b4f56bdf2996febd50667",
            "47909935b0bb4bb09b2b9d5a653741cd"
          ]
        },
        "id": "iH0EleaQaXBF",
        "outputId": "9644d2c0-f20f-4e31-e455-41d5a2e116d4"
      },
      "execution_count": null,
      "outputs": [
        {
          "output_type": "display_data",
          "data": {
            "text/plain": [
              "  0%|          | 0/313 [00:00<?, ?it/s]"
            ],
            "application/vnd.jupyter.widget-view+json": {
              "version_major": 2,
              "version_minor": 0,
              "model_id": "0ad1316b894944bbaa087d9c71a34847"
            }
          },
          "metadata": {}
        },
        {
          "output_type": "execute_result",
          "data": {
            "text/plain": [
              "{'model_name': 'FashionMNISTmodelV2',\n",
              " 'model_loss': 0.31630638241767883,\n",
              " 'model_accuracy': 88.35862619808307}"
            ]
          },
          "metadata": {},
          "execution_count": 108
        }
      ]
    },
    {
      "cell_type": "code",
      "source": [
        "# Check if model results are close to each other\n",
        "torch.isclose(torch.tensor(model_2_results[\"model_loss\"]),\n",
        "              torch.tensor(loaded_model_2_results[\"model_loss\"]),\n",
        "              atol=1e-02) # adjust the tolerance"
      ],
      "metadata": {
        "colab": {
          "base_uri": "https://localhost:8080/"
        },
        "id": "a0NsTj6YaXHB",
        "outputId": "36f6d3ed-c283-4c97-a192-11570888fffa"
      },
      "execution_count": null,
      "outputs": [
        {
          "output_type": "execute_result",
          "data": {
            "text/plain": [
              "tensor(True)"
            ]
          },
          "metadata": {},
          "execution_count": 112
        }
      ]
    },
    {
      "cell_type": "markdown",
      "source": [
        "## Exercises and Extra curriculum"
      ],
      "metadata": {
        "id": "TDW06103aXMl"
      }
    },
    {
      "cell_type": "markdown",
      "source": [
        "### 1. What are 3 areas in industry where computer vision is currently being used?\n",
        "\n",
        "1.  self driving cars\n",
        "\n",
        "2.  detecting human error\n",
        "\n",
        "3.  analyzing defects in machines\n",
        "\n"
      ],
      "metadata": {
        "id": "SHkQMnm1eJQY"
      }
    },
    {
      "cell_type": "markdown",
      "source": [
        "### 2. Search \"what is overfitting in machine learning\" and write down a sentence about what you find.\n",
        "\n",
        "*  it is when the model learns too much on the training data and it isnt able to perform as well on data it hasnt seen yet."
      ],
      "metadata": {
        "id": "GQE-iWv_ePhK"
      }
    },
    {
      "cell_type": "markdown",
      "source": [
        "### 3. Search \"ways to prevent overfitting in machine learning\", write down 3 of the things you find and a sentence about each.\n",
        "\n",
        "1. Split the data you are using into train and test\n",
        "2. pause the training process earlier, or train for less time\n",
        "3. reduce the complexity of the model, by eliminating less relevant inputs\n"
      ],
      "metadata": {
        "id": "IHo80m8hfx82"
      }
    },
    {
      "cell_type": "markdown",
      "source": [
        "### 4. Spend 20-minutes reading and clicking through the CNN Explainer website.\n"
      ],
      "metadata": {
        "id": "aJsZWLjkePoC"
      }
    },
    {
      "cell_type": "markdown",
      "source": [
        "### 5. Load the torchvision.datasets.MNIST() train and test datasets.\n"
      ],
      "metadata": {
        "id": "DeUj5gLprdN2"
      }
    },
    {
      "cell_type": "code",
      "source": [
        "import torch\n",
        "from torch import nn\n",
        "\n",
        "# import torchvision\n",
        "import torchvision\n",
        "from torchvision import datasets, transforms\n",
        "from torchvision.transforms import ToTensor\n",
        "\n",
        "# import matplotlib for visulization\n",
        "import matplotlib.pyplot as plt\n",
        "\n",
        "# Check the version\n",
        "print(torch.__version__)\n",
        "print(torchvision.__version__)"
      ],
      "metadata": {
        "id": "uYojbbBRaXP_",
        "colab": {
          "base_uri": "https://localhost:8080/"
        },
        "outputId": "757d3d55-0755-4773-ffe8-82bd0e85cb60"
      },
      "execution_count": null,
      "outputs": [
        {
          "output_type": "stream",
          "name": "stdout",
          "text": [
            "2.1.0+cu121\n",
            "0.16.0+cu121\n"
          ]
        }
      ]
    },
    {
      "cell_type": "code",
      "source": [
        "\n",
        "train_data = datasets.MNIST(\n",
        "    root= 'data', # where to download the data to\n",
        "    train=True, # do we want the training dataset\n",
        "    download=True, # do we want to download the data\n",
        "    transform=ToTensor(), # how do we want to transform the data\n",
        "    target_transform=None # how do we want to transform the labels\n",
        ")\n",
        "\n",
        "test_data = datasets.MNIST(\n",
        "    root= 'data',\n",
        "    train=False,\n",
        "    download=True,\n",
        "    transform=ToTensor(),\n",
        "    target_transform=None\n",
        ")\n"
      ],
      "metadata": {
        "id": "X2-lZCkssVNy"
      },
      "execution_count": null,
      "outputs": []
    },
    {
      "cell_type": "code",
      "source": [
        "len(test_data), len(test_data)"
      ],
      "metadata": {
        "colab": {
          "base_uri": "https://localhost:8080/"
        },
        "id": "jSYftJJpsVRs",
        "outputId": "40fc7f8f-a93b-4737-aee9-b3e981036f96"
      },
      "execution_count": null,
      "outputs": [
        {
          "output_type": "execute_result",
          "data": {
            "text/plain": [
              "(10000, 10000)"
            ]
          },
          "metadata": {},
          "execution_count": 36
        }
      ]
    },
    {
      "cell_type": "markdown",
      "source": [
        "### 6. Visualize at least 5 different samples of the MNIST training dataset.\n"
      ],
      "metadata": {
        "id": "ykIHduOnuRQI"
      }
    },
    {
      "cell_type": "code",
      "source": [
        "image, label = train_data[0]\n",
        "print(f\"Image shape: {image.shape}\")\n",
        "plt.imshow(image.squeeze())\n",
        "plt.title(label)"
      ],
      "metadata": {
        "colab": {
          "base_uri": "https://localhost:8080/",
          "height": 487
        },
        "id": "zkickwXxsVV5",
        "outputId": "fb29a0bc-f992-4816-f857-80331e812ef1"
      },
      "execution_count": null,
      "outputs": [
        {
          "output_type": "stream",
          "name": "stdout",
          "text": [
            "Image shape: torch.Size([1, 28, 28])\n"
          ]
        },
        {
          "output_type": "execute_result",
          "data": {
            "text/plain": [
              "Text(0.5, 1.0, '5')"
            ]
          },
          "metadata": {},
          "execution_count": 37
        },
        {
          "output_type": "display_data",
          "data": {
            "text/plain": [
              "<Figure size 640x480 with 1 Axes>"
            ],
            "image/png": "[encoded data removed]"
          },
          "metadata": {}
        }
      ]
    },
    {
      "cell_type": "code",
      "source": [
        "class_names = train_data.classes\n",
        "class_names"
      ],
      "metadata": {
        "colab": {
          "base_uri": "https://localhost:8080/"
        },
        "id": "nL9enHwOsVeB",
        "outputId": "774165c6-bf14-4358-ccab-ebbb38956ec1"
      },
      "execution_count": null,
      "outputs": [
        {
          "output_type": "execute_result",
          "data": {
            "text/plain": [
              "['0 - zero',\n",
              " '1 - one',\n",
              " '2 - two',\n",
              " '3 - three',\n",
              " '4 - four',\n",
              " '5 - five',\n",
              " '6 - six',\n",
              " '7 - seven',\n",
              " '8 - eight',\n",
              " '9 - nine']"
            ]
          },
          "metadata": {},
          "execution_count": 38
        }
      ]
    },
    {
      "cell_type": "markdown",
      "source": [
        "### 7. Turn the MNIST train and test datasets into dataloaders using torch.utils.data.DataLoader, set the batch_size=32."
      ],
      "metadata": {
        "id": "qRzUKTMRsVh1"
      }
    },
    {
      "cell_type": "code",
      "source": [
        "from torch.utils.data import DataLoader\n",
        "\n",
        "# set up the batch size\n",
        "BATCH_SIZE = 32\n",
        "\n",
        "# Turn the datasets into interables(batches)\n",
        "train_dataloader = DataLoader(\n",
        "    dataset=train_data,\n",
        "    batch_size=BATCH_SIZE,\n",
        "    shuffle=True\n",
        ")\n",
        "\n",
        "test_dataloader = DataLoader(\n",
        "    dataset=test_data,\n",
        "    batch_size=BATCH_SIZE,\n",
        "    shuffle=False\n",
        ")\n",
        "\n",
        "train_dataloader, test_dataloader"
      ],
      "metadata": {
        "colab": {
          "base_uri": "https://localhost:8080/"
        },
        "id": "JC7_xDtZwKCz",
        "outputId": "fa967ccb-72c7-46ab-d458-eca888848e9b"
      },
      "execution_count": null,
      "outputs": [
        {
          "output_type": "execute_result",
          "data": {
            "text/plain": [
              "(<torch.utils.data.dataloader.DataLoader at 0x7cc77cc41e70>,\n",
              " <torch.utils.data.dataloader.DataLoader at 0x7cc77c96c8e0>)"
            ]
          },
          "metadata": {},
          "execution_count": 39
        }
      ]
    },
    {
      "cell_type": "markdown",
      "source": [
        "### 8. Recreate model_2 used in notebook 03 (the same model from the CNN Explainer website, also known as TinyVGG) capable of fitting on the MNIST dataset."
      ],
      "metadata": {
        "id": "hKLUnGFKsSAF"
      }
    },
    {
      "cell_type": "code",
      "source": [
        "class MNISTmodelV0(nn.Module):\n",
        "  def __init__(self, input_shape: int, hidden_units: int, output_shape: int):\n",
        "    super().__init__()\n",
        "    self.conv_block_1 = nn.Sequential(\n",
        "        nn.Conv2d(in_channels=input_shape,\n",
        "                  out_channels=hidden_units,\n",
        "                  kernel_size=3,\n",
        "                  stride=1,\n",
        "                  padding=1),\n",
        "        nn.ReLU(),\n",
        "        nn.Conv2d(in_channels=hidden_units,\n",
        "                  out_channels=hidden_units,\n",
        "                  kernel_size=3,\n",
        "                  stride=1,\n",
        "                  padding=1),\n",
        "        nn.ReLU(),\n",
        "        nn.MaxPool2d(kernel_size=2)\n",
        "    )\n",
        "    self.conv_block_2 = nn.Sequential(\n",
        "        nn.Conv2d(in_channels=hidden_units,\n",
        "                  out_channels=hidden_units,\n",
        "                  kernel_size=3,\n",
        "                  stride=1,\n",
        "                  padding=1),\n",
        "        nn.ReLU(),\n",
        "        nn.Conv2d(in_channels=hidden_units,\n",
        "                  out_channels=hidden_units,\n",
        "                  kernel_size=3,\n",
        "                  stride=1,\n",
        "                  padding=1),\n",
        "        nn.ReLU(),\n",
        "        nn.MaxPool2d(kernel_size=2)\n",
        "    )\n",
        "    self.classifier = nn.Sequential(\n",
        "        nn.Flatten(),\n",
        "        nn.Linear(in_features=hidden_units *7*7,\n",
        "                  out_features=output_shape)\n",
        "    )\n",
        "\n",
        "  def forward(self, x):\n",
        "    x = self.conv_block_1(x)\n",
        "    # print(f\"shape of conv block 1 {x.shape}\")\n",
        "    x = self.conv_block_2(x)\n",
        "    # print(f\"shape of conv block 2 {x.shape}\")\n",
        "    x = self.classifier(x)\n",
        "    # print(f\"shape of output classifier{x.shape}\")\n",
        "    return x\n"
      ],
      "metadata": {
        "id": "bWM1EVxWyufo"
      },
      "execution_count": null,
      "outputs": []
    },
    {
      "cell_type": "code",
      "source": [
        "# creating some testing image\n",
        "test_image, label = train_data[1]\n",
        "test_image.shape"
      ],
      "metadata": {
        "colab": {
          "base_uri": "https://localhost:8080/"
        },
        "id": "PAm84uFuyuqa",
        "outputId": "9fa27fff-9426-4e22-81c7-4287358c2024"
      },
      "execution_count": null,
      "outputs": [
        {
          "output_type": "execute_result",
          "data": {
            "text/plain": [
              "torch.Size([1, 28, 28])"
            ]
          },
          "metadata": {},
          "execution_count": 41
        }
      ]
    },
    {
      "cell_type": "code",
      "source": [
        "test_conv = nn.Conv2d(\n",
        "    in_channels=1,\n",
        "    out_channels=10,\n",
        "    kernel_size=3,\n",
        "    stride=1,\n",
        "    padding=1)"
      ],
      "metadata": {
        "id": "SN_AAwblyuvY"
      },
      "execution_count": null,
      "outputs": []
    },
    {
      "cell_type": "code",
      "source": [
        "test_conv_image = test_conv(test_image)"
      ],
      "metadata": {
        "id": "MsmODqtHT2Oc"
      },
      "execution_count": null,
      "outputs": []
    },
    {
      "cell_type": "code",
      "source": [
        "test_maxpool = nn.MaxPool2d(kernel_size=2)"
      ],
      "metadata": {
        "id": "I83sKDvqT5LN"
      },
      "execution_count": null,
      "outputs": []
    },
    {
      "cell_type": "code",
      "source": [
        "test_maxpool_image = test_maxpool(test_conv_image).shape"
      ],
      "metadata": {
        "id": "09Rdx6J9UHZg"
      },
      "execution_count": null,
      "outputs": []
    },
    {
      "cell_type": "code",
      "source": [
        "# instantiate the model\n",
        "model_3 = MNISTmodelV0(input_shape=1,\n",
        "                       hidden_units=20,\n",
        "                       output_shape=len(class_names))"
      ],
      "metadata": {
        "id": "vu9rVyeYUYIp"
      },
      "execution_count": null,
      "outputs": []
    },
    {
      "cell_type": "code",
      "source": [
        "model_3.state_dict()"
      ],
      "metadata": {
        "colab": {
          "base_uri": "https://localhost:8080/"
        },
        "id": "RZNBfZe6U4SL",
        "outputId": "be0d5416-fc37-4f5e-e08f-75b81db422b1"
      },
      "execution_count": null,
      "outputs": [
        {
          "output_type": "execute_result",
          "data": {
            "text/plain": [
              "OrderedDict([('conv_block_1.0.weight',\n",
              "              tensor([[[[ 0.3332,  0.0630,  0.1027],\n",
              "                        [-0.3109, -0.2189, -0.1110],\n",
              "                        [ 0.0521, -0.2933, -0.1436]]],\n",
              "              \n",
              "              \n",
              "                      [[[-0.1996,  0.0009, -0.1240],\n",
              "                        [-0.0231, -0.2259, -0.2288],\n",
              "                        [-0.1945, -0.1141, -0.2631]]],\n",
              "              \n",
              "              \n",
              "                      [[[ 0.2795, -0.0662,  0.2868],\n",
              "                        [ 0.1039, -0.2823,  0.2307],\n",
              "                        [-0.0917, -0.1278, -0.2767]]],\n",
              "              \n",
              "              \n",
              "                      [[[-0.3314,  0.0954, -0.0728],\n",
              "                        [ 0.1298, -0.2736,  0.2475],\n",
              "                        [-0.2447, -0.0576,  0.0696]]],\n",
              "              \n",
              "              \n",
              "                      [[[ 0.1721,  0.2691,  0.3037],\n",
              "                        [-0.2643,  0.0839, -0.1434],\n",
              "                        [-0.0365, -0.2495,  0.3036]]],\n",
              "              \n",
              "              \n",
              "                      [[[-0.2447,  0.1782,  0.1171],\n",
              "                        [ 0.1083, -0.1802,  0.3030],\n",
              "                        [ 0.0733,  0.0429, -0.2938]]],\n",
              "              \n",
              "              \n",
              "                      [[[ 0.1399, -0.0500, -0.1527],\n",
              "                        [ 0.2863,  0.0743, -0.1844],\n",
              "                        [-0.1687, -0.0159,  0.1861]]],\n",
              "              \n",
              "              \n",
              "                      [[[-0.0852, -0.1902, -0.1141],\n",
              "                        [-0.2490,  0.1189,  0.2580],\n",
              "                        [-0.3138,  0.0774,  0.1722]]],\n",
              "              \n",
              "              \n",
              "                      [[[ 0.0604, -0.1187,  0.1740],\n",
              "                        [ 0.1752,  0.1246, -0.0586],\n",
              "                        [-0.0883,  0.0357, -0.0589]]],\n",
              "              \n",
              "              \n",
              "                      [[[-0.0993,  0.2131,  0.2865],\n",
              "                        [-0.0330, -0.0746,  0.0049],\n",
              "                        [-0.0199,  0.0801,  0.0934]]],\n",
              "              \n",
              "              \n",
              "                      [[[-0.3028, -0.1230,  0.2807],\n",
              "                        [ 0.1299, -0.0166, -0.2010],\n",
              "                        [-0.2039, -0.2986, -0.1087]]],\n",
              "              \n",
              "              \n",
              "                      [[[ 0.1126,  0.2125,  0.1539],\n",
              "                        [-0.2946, -0.2005, -0.0526],\n",
              "                        [ 0.3224,  0.0482, -0.0863]]],\n",
              "              \n",
              "              \n",
              "                      [[[ 0.1379, -0.1270, -0.2158],\n",
              "                        [ 0.2433, -0.1516, -0.0668],\n",
              "                        [-0.3316,  0.2231,  0.2525]]],\n",
              "              \n",
              "              \n",
              "                      [[[ 0.1215, -0.2324, -0.3290],\n",
              "                        [-0.2707,  0.2486,  0.1600],\n",
              "                        [ 0.2805,  0.1746,  0.0844]]],\n",
              "              \n",
              "              \n",
              "                      [[[-0.0033, -0.2535, -0.2856],\n",
              "                        [-0.3118,  0.1365, -0.1637],\n",
              "                        [-0.0671, -0.1918, -0.0607]]],\n",
              "              \n",
              "              \n",
              "                      [[[-0.2346, -0.2178,  0.1106],\n",
              "                        [-0.0991,  0.2058, -0.1069],\n",
              "                        [-0.2445, -0.0588, -0.1616]]],\n",
              "              \n",
              "              \n",
              "                      [[[-0.1020, -0.3173,  0.1865],\n",
              "                        [-0.2321,  0.1675,  0.1513],\n",
              "                        [ 0.2381, -0.2557,  0.2397]]],\n",
              "              \n",
              "              \n",
              "                      [[[-0.1576,  0.1237,  0.3130],\n",
              "                        [-0.0470, -0.0026, -0.0767],\n",
              "                        [-0.2783,  0.1600, -0.3309]]],\n",
              "              \n",
              "              \n",
              "                      [[[ 0.2069,  0.2494,  0.3152],\n",
              "                        [-0.0786, -0.2739,  0.0749],\n",
              "                        [ 0.1841, -0.3318, -0.0757]]],\n",
              "              \n",
              "              \n",
              "                      [[[-0.1998, -0.0292, -0.1641],\n",
              "                        [-0.1363, -0.1058, -0.3168],\n",
              "                        [ 0.2735,  0.2794, -0.0523]]]])),\n",
              "             ('conv_block_1.0.bias',\n",
              "              tensor([-0.0380, -0.1360, -0.3010, -0.3244,  0.1239, -0.1830, -0.2143, -0.0260,\n",
              "                      -0.1110, -0.1078,  0.0107, -0.0707, -0.1148, -0.1596, -0.2713,  0.2795,\n",
              "                      -0.1334,  0.0883, -0.1157,  0.0271])),\n",
              "             ('conv_block_1.2.weight',\n",
              "              tensor([[[[ 6.9490e-02,  3.4340e-02, -6.4593e-02],\n",
              "                        [ 2.9583e-02,  7.0752e-02,  1.9609e-02],\n",
              "                        [ 4.9971e-02,  7.3484e-02, -1.1421e-02]],\n",
              "              \n",
              "                       [[ 1.5470e-02, -5.1805e-02, -1.5360e-02],\n",
              "                        [ 5.5200e-02,  3.8210e-02, -4.7165e-02],\n",
              "                        [-5.9769e-02, -5.0935e-02, -7.3558e-02]],\n",
              "              \n",
              "                       [[-5.7515e-02, -1.8432e-02,  5.0302e-02],\n",
              "                        [ 1.2476e-02, -5.6692e-02, -5.9794e-02],\n",
              "                        [ 3.7080e-02, -5.5443e-02, -9.1774e-03]],\n",
              "              \n",
              "                       ...,\n",
              "              \n",
              "                       [[-5.2703e-02,  2.7935e-02, -3.8079e-02],\n",
              "                        [-6.1935e-02, -4.0712e-02,  7.1883e-02],\n",
              "                        [ 6.3717e-02,  6.6745e-02,  4.3753e-02]],\n",
              "              \n",
              "                       [[ 5.6308e-02, -9.9766e-03, -4.1012e-02],\n",
              "                        [ 3.7242e-02, -3.8623e-02, -5.0302e-02],\n",
              "                        [-2.3802e-02,  1.5642e-02,  3.8371e-02]],\n",
              "              \n",
              "                       [[-2.8950e-02, -4.3869e-02,  1.0054e-02],\n",
              "                        [-4.3934e-02, -4.8527e-02,  3.8852e-02],\n",
              "                        [-1.2521e-02,  6.8110e-02,  7.2507e-02]]],\n",
              "              \n",
              "              \n",
              "                      [[[ 2.2294e-02,  2.5652e-02,  1.7164e-02],\n",
              "                        [ 1.1673e-03, -5.4212e-03,  1.0244e-03],\n",
              "                        [ 2.7833e-02,  6.9301e-02, -1.9317e-02]],\n",
              "              \n",
              "                       [[-3.1507e-02, -1.8050e-02, -3.6010e-02],\n",
              "                        [ 1.2674e-02,  5.5637e-02,  5.8285e-02],\n",
              "                        [ 3.4221e-02, -5.4853e-02, -4.0004e-02]],\n",
              "              \n",
              "                       [[-1.6376e-02, -1.3739e-02,  6.1304e-03],\n",
              "                        [-6.8422e-02,  2.3199e-02, -5.6861e-02],\n",
              "                        [-4.7162e-02, -6.1968e-02,  6.4944e-02]],\n",
              "              \n",
              "                       ...,\n",
              "              \n",
              "                       [[ 4.6763e-02, -7.2966e-02, -3.5601e-02],\n",
              "                        [ 2.4310e-02, -1.5314e-02, -8.1226e-03],\n",
              "                        [-3.3654e-02,  5.9868e-02, -4.1665e-02]],\n",
              "              \n",
              "                       [[ 6.1811e-02,  4.8092e-03,  1.4983e-02],\n",
              "                        [ 5.8148e-02, -1.2281e-02, -4.2436e-02],\n",
              "                        [-1.2055e-02,  6.0452e-02, -5.5304e-02]],\n",
              "              \n",
              "                       [[ 1.6918e-02, -7.3253e-02,  3.9079e-02],\n",
              "                        [ 2.7538e-02,  3.1597e-03,  3.1990e-02],\n",
              "                        [ 8.3833e-05,  4.1244e-02, -5.9004e-02]]],\n",
              "              \n",
              "              \n",
              "                      [[[-1.0946e-02,  3.3065e-02,  7.4224e-02],\n",
              "                        [ 3.7968e-02, -5.4200e-02,  5.7325e-02],\n",
              "                        [-1.6621e-02, -1.5914e-02, -6.7746e-02]],\n",
              "              \n",
              "                       [[-1.1733e-02,  5.2721e-02,  1.0394e-02],\n",
              "                        [-4.3414e-02,  2.2943e-02, -2.3899e-02],\n",
              "                        [ 6.8051e-02, -6.4694e-02, -2.3544e-02]],\n",
              "              \n",
              "                       [[-7.1970e-02, -2.9354e-02,  2.3497e-02],\n",
              "                        [ 7.1749e-02,  1.2518e-02,  7.3072e-02],\n",
              "                        [ 1.4583e-02,  4.3047e-02,  5.9752e-02]],\n",
              "              \n",
              "                       ...,\n",
              "              \n",
              "                       [[-3.6806e-02, -2.1551e-02,  3.7809e-03],\n",
              "                        [ 4.4736e-02, -4.2550e-02,  3.7317e-02],\n",
              "                        [-2.6712e-02,  4.5028e-02, -3.5387e-03]],\n",
              "              \n",
              "                       [[-6.5300e-02, -4.1013e-02, -5.3945e-02],\n",
              "                        [ 3.6967e-02, -4.9980e-02, -6.2102e-03],\n",
              "                        [ 1.6081e-02, -4.0875e-02,  2.1501e-02]],\n",
              "              \n",
              "                       [[-7.2778e-02, -5.3331e-02, -6.7538e-02],\n",
              "                        [-2.2545e-02, -2.7153e-02,  1.0673e-02],\n",
              "                        [-1.3783e-02,  3.5038e-02,  6.8334e-02]]],\n",
              "              \n",
              "              \n",
              "                      ...,\n",
              "              \n",
              "              \n",
              "                      [[[ 2.6193e-02, -2.7684e-02, -4.0869e-02],\n",
              "                        [-4.0106e-02,  2.8003e-02,  2.0079e-02],\n",
              "                        [-4.4609e-02,  6.7824e-02,  4.3426e-02]],\n",
              "              \n",
              "                       [[-2.8458e-02,  3.8563e-02, -3.1596e-02],\n",
              "                        [ 2.3391e-02,  6.2038e-02, -6.5929e-02],\n",
              "                        [-3.7060e-02, -4.2124e-03,  1.1115e-02]],\n",
              "              \n",
              "                       [[-6.1296e-02, -4.9037e-02, -7.1389e-03],\n",
              "                        [-1.0746e-02,  1.6077e-02,  9.4711e-03],\n",
              "                        [ 1.5290e-02,  4.9412e-03,  8.5669e-03]],\n",
              "              \n",
              "                       ...,\n",
              "              \n",
              "                       [[-5.9489e-02, -5.8266e-02, -4.3995e-02],\n",
              "                        [ 7.3005e-02,  9.4125e-03, -1.3050e-02],\n",
              "                        [-2.1905e-02, -5.7089e-02, -2.5289e-02]],\n",
              "              \n",
              "                       [[ 3.9267e-02,  5.0375e-02,  5.3761e-02],\n",
              "                        [ 5.3065e-03, -4.0637e-02, -4.4003e-02],\n",
              "                        [ 7.2438e-02, -6.7276e-02,  1.7646e-02]],\n",
              "              \n",
              "                       [[-7.0374e-03,  6.9204e-02,  4.3660e-02],\n",
              "                        [-1.8831e-02, -6.1847e-02,  9.7910e-03],\n",
              "                        [-5.2133e-02, -7.8610e-03,  1.8662e-02]]],\n",
              "              \n",
              "              \n",
              "                      [[[ 3.6398e-02, -2.0159e-02, -5.0314e-02],\n",
              "                        [-6.3480e-02, -7.0600e-02,  9.3492e-03],\n",
              "                        [-4.5365e-02,  2.7031e-03, -3.5312e-02]],\n",
              "              \n",
              "                       [[-5.0440e-02,  5.0259e-02,  4.2181e-02],\n",
              "                        [ 5.2334e-02,  7.1499e-02, -5.3929e-02],\n",
              "                        [-3.9676e-02, -5.6114e-02,  5.0049e-02]],\n",
              "              \n",
              "                       [[ 4.3917e-02,  6.0421e-02, -5.2154e-02],\n",
              "                        [-3.9973e-02,  7.2663e-02, -5.9187e-02],\n",
              "                        [-4.9641e-02,  2.7440e-02, -6.5156e-02]],\n",
              "              \n",
              "                       ...,\n",
              "              \n",
              "                       [[-5.4835e-02,  1.5979e-03, -6.0705e-02],\n",
              "                        [ 3.0958e-02, -5.0909e-02, -3.7985e-02],\n",
              "                        [-3.4548e-02,  1.0987e-02,  4.9807e-02]],\n",
              "              \n",
              "                       [[-3.1196e-02,  1.3748e-02,  5.9347e-02],\n",
              "                        [-4.5163e-03,  7.6963e-03,  5.5346e-03],\n",
              "                        [-9.5216e-04,  4.4749e-02,  4.0331e-02]],\n",
              "              \n",
              "                       [[-3.9919e-02,  7.1171e-02,  4.2888e-02],\n",
              "                        [-1.1663e-02,  6.4893e-02,  4.0087e-03],\n",
              "                        [ 4.7100e-02, -6.3288e-02,  6.6905e-02]]],\n",
              "              \n",
              "              \n",
              "                      [[[ 7.0264e-02, -5.5694e-02, -6.6713e-02],\n",
              "                        [-2.1693e-02, -4.5825e-02,  1.9915e-02],\n",
              "                        [ 3.3178e-02, -9.4970e-03,  5.2303e-02]],\n",
              "              \n",
              "                       [[ 2.8244e-03, -2.1907e-02, -6.3621e-02],\n",
              "                        [ 2.3689e-02, -7.0228e-02, -2.5488e-04],\n",
              "                        [ 1.0895e-02, -4.1744e-02,  2.2392e-02]],\n",
              "              \n",
              "                       [[ 1.4489e-02,  4.9881e-02,  4.6618e-02],\n",
              "                        [-6.0320e-02, -5.5304e-02, -2.7356e-02],\n",
              "                        [-5.3621e-02,  2.3370e-02, -4.8835e-02]],\n",
              "              \n",
              "                       ...,\n",
              "              \n",
              "                       [[ 6.8104e-02,  6.4641e-02, -1.7275e-02],\n",
              "                        [-4.9742e-02,  3.2729e-02,  5.7457e-02],\n",
              "                        [-3.9735e-02, -1.1795e-02, -4.5329e-02]],\n",
              "              \n",
              "                       [[ 2.8464e-02,  1.5865e-02,  3.6947e-02],\n",
              "                        [-2.5573e-02, -7.1950e-02, -3.1389e-02],\n",
              "                        [-5.8293e-02, -1.7956e-02,  2.7088e-02]],\n",
              "              \n",
              "                       [[-6.2009e-02, -3.4792e-03, -7.2924e-02],\n",
              "                        [-5.2820e-02, -5.2185e-02, -2.5378e-02],\n",
              "                        [-3.7766e-02,  1.1473e-02,  4.5564e-02]]]])),\n",
              "             ('conv_block_1.2.bias',\n",
              "              tensor([ 0.0562,  0.0235, -0.0005, -0.0133,  0.0506, -0.0427,  0.0539, -0.0718,\n",
              "                      -0.0556,  0.0198, -0.0307,  0.0139,  0.0649,  0.0340,  0.0730, -0.0316,\n",
              "                      -0.0356, -0.0095, -0.0150, -0.0328])),\n",
              "             ('conv_block_2.0.weight',\n",
              "              tensor([[[[-0.0046,  0.0673, -0.0409],\n",
              "                        [ 0.0419,  0.0346,  0.0432],\n",
              "                        [ 0.0201, -0.0275,  0.0308]],\n",
              "              \n",
              "                       [[-0.0351, -0.0458,  0.0697],\n",
              "                        [ 0.0618, -0.0539,  0.0605],\n",
              "                        [ 0.0155,  0.0191,  0.0718]],\n",
              "              \n",
              "                       [[-0.0039, -0.0237,  0.0468],\n",
              "                        [-0.0193, -0.0179, -0.0301],\n",
              "                        [ 0.0734,  0.0356, -0.0121]],\n",
              "              \n",
              "                       ...,\n",
              "              \n",
              "                       [[ 0.0070,  0.0728, -0.0727],\n",
              "                        [-0.0178, -0.0422, -0.0454],\n",
              "                        [-0.0122, -0.0685,  0.0584]],\n",
              "              \n",
              "                       [[-0.0264,  0.0261, -0.0439],\n",
              "                        [ 0.0004, -0.0528,  0.0600],\n",
              "                        [ 0.0629,  0.0587, -0.0261]],\n",
              "              \n",
              "                       [[ 0.0464, -0.0623,  0.0342],\n",
              "                        [-0.0092, -0.0618, -0.0598],\n",
              "                        [-0.0697,  0.0140, -0.0270]]],\n",
              "              \n",
              "              \n",
              "                      [[[-0.0343,  0.0710, -0.0227],\n",
              "                        [ 0.0251, -0.0131,  0.0450],\n",
              "                        [ 0.0222,  0.0472,  0.0195]],\n",
              "              \n",
              "                       [[-0.0163,  0.0659, -0.0053],\n",
              "                        [-0.0446,  0.0232, -0.0090],\n",
              "                        [-0.0553,  0.0098, -0.0173]],\n",
              "              \n",
              "                       [[-0.0297, -0.0356, -0.0317],\n",
              "                        [-0.0302,  0.0073,  0.0720],\n",
              "                        [-0.0437, -0.0348, -0.0500]],\n",
              "              \n",
              "                       ...,\n",
              "              \n",
              "                       [[ 0.0501, -0.0302,  0.0471],\n",
              "                        [-0.0724,  0.0026, -0.0515],\n",
              "                        [ 0.0264,  0.0605,  0.0293]],\n",
              "              \n",
              "                       [[-0.0256, -0.0699, -0.0353],\n",
              "                        [-0.0440,  0.0712, -0.0401],\n",
              "                        [ 0.0288,  0.0598,  0.0269]],\n",
              "              \n",
              "                       [[-0.0654, -0.0085, -0.0221],\n",
              "                        [ 0.0480, -0.0070, -0.0039],\n",
              "                        [ 0.0663,  0.0177,  0.0346]]],\n",
              "              \n",
              "              \n",
              "                      [[[-0.0240,  0.0487,  0.0107],\n",
              "                        [-0.0150,  0.0144, -0.0587],\n",
              "                        [ 0.0027,  0.0342, -0.0698]],\n",
              "              \n",
              "                       [[-0.0396,  0.0467,  0.0017],\n",
              "                        [-0.0025,  0.0076, -0.0335],\n",
              "                        [ 0.0616, -0.0074, -0.0271]],\n",
              "              \n",
              "                       [[ 0.0392, -0.0620, -0.0137],\n",
              "                        [ 0.0075, -0.0231,  0.0406],\n",
              "                        [-0.0637, -0.0215, -0.0313]],\n",
              "              \n",
              "                       ...,\n",
              "              \n",
              "                       [[-0.0007,  0.0317, -0.0136],\n",
              "                        [ 0.0633,  0.0459, -0.0484],\n",
              "                        [-0.0454, -0.0738,  0.0239]],\n",
              "              \n",
              "                       [[-0.0561, -0.0625, -0.0478],\n",
              "                        [-0.0737, -0.0607,  0.0665],\n",
              "                        [ 0.0416,  0.0660, -0.0362]],\n",
              "              \n",
              "                       [[-0.0306, -0.0262,  0.0015],\n",
              "                        [-0.0535,  0.0109, -0.0478],\n",
              "                        [ 0.0118,  0.0683,  0.0126]]],\n",
              "              \n",
              "              \n",
              "                      ...,\n",
              "              \n",
              "              \n",
              "                      [[[-0.0633, -0.0144,  0.0637],\n",
              "                        [ 0.0602,  0.0507,  0.0692],\n",
              "                        [-0.0234, -0.0577,  0.0419]],\n",
              "              \n",
              "                       [[ 0.0475, -0.0225, -0.0070],\n",
              "                        [-0.0036, -0.0661, -0.0309],\n",
              "                        [-0.0236,  0.0278, -0.0217]],\n",
              "              \n",
              "                       [[ 0.0336,  0.0671, -0.0159],\n",
              "                        [-0.0182, -0.0468, -0.0057],\n",
              "                        [-0.0682,  0.0504,  0.0643]],\n",
              "              \n",
              "                       ...,\n",
              "              \n",
              "                       [[-0.0228, -0.0644, -0.0724],\n",
              "                        [-0.0299,  0.0568,  0.0323],\n",
              "                        [ 0.0369, -0.0603, -0.0670]],\n",
              "              \n",
              "                       [[ 0.0690,  0.0487, -0.0321],\n",
              "                        [ 0.0063,  0.0537,  0.0671],\n",
              "                        [-0.0600, -0.0369,  0.0290]],\n",
              "              \n",
              "                       [[ 0.0569,  0.0130, -0.0046],\n",
              "                        [ 0.0029,  0.0678, -0.0585],\n",
              "                        [ 0.0340, -0.0534,  0.0071]]],\n",
              "              \n",
              "              \n",
              "                      [[[-0.0704,  0.0483, -0.0415],\n",
              "                        [ 0.0050, -0.0467,  0.0068],\n",
              "                        [-0.0363, -0.0381, -0.0323]],\n",
              "              \n",
              "                       [[ 0.0462,  0.0104, -0.0192],\n",
              "                        [ 0.0635,  0.0146, -0.0241],\n",
              "                        [-0.0034, -0.0291, -0.0296]],\n",
              "              \n",
              "                       [[-0.0233,  0.0178, -0.0664],\n",
              "                        [-0.0580,  0.0500, -0.0179],\n",
              "                        [-0.0028,  0.0260, -0.0333]],\n",
              "              \n",
              "                       ...,\n",
              "              \n",
              "                       [[ 0.0135,  0.0540, -0.0241],\n",
              "                        [ 0.0652, -0.0315, -0.0601],\n",
              "                        [-0.0204, -0.0486,  0.0248]],\n",
              "              \n",
              "                       [[ 0.0492, -0.0629, -0.0546],\n",
              "                        [ 0.0414, -0.0160,  0.0680],\n",
              "                        [ 0.0677, -0.0495,  0.0439]],\n",
              "              \n",
              "                       [[-0.0719,  0.0300, -0.0425],\n",
              "                        [-0.0004,  0.0724,  0.0101],\n",
              "                        [-0.0401,  0.0343, -0.0120]]],\n",
              "              \n",
              "              \n",
              "                      [[[ 0.0669, -0.0557, -0.0127],\n",
              "                        [-0.0626, -0.0423, -0.0213],\n",
              "                        [-0.0492, -0.0508, -0.0185]],\n",
              "              \n",
              "                       [[-0.0426, -0.0452,  0.0040],\n",
              "                        [-0.0560,  0.0429,  0.0491],\n",
              "                        [ 0.0686,  0.0231, -0.0070]],\n",
              "              \n",
              "                       [[-0.0130, -0.0354,  0.0507],\n",
              "                        [ 0.0413,  0.0538, -0.0145],\n",
              "                        [-0.0515,  0.0249,  0.0653]],\n",
              "              \n",
              "                       ...,\n",
              "              \n",
              "                       [[ 0.0057, -0.0219,  0.0011],\n",
              "                        [ 0.0612, -0.0139,  0.0057],\n",
              "                        [ 0.0231,  0.0441,  0.0457]],\n",
              "              \n",
              "                       [[-0.0349,  0.0293,  0.0119],\n",
              "                        [ 0.0107, -0.0642,  0.0690],\n",
              "                        [ 0.0332,  0.0087,  0.0286]],\n",
              "              \n",
              "                       [[-0.0185, -0.0535, -0.0195],\n",
              "                        [-0.0667,  0.0645,  0.0319],\n",
              "                        [ 0.0196, -0.0504, -0.0486]]]])),\n",
              "             ('conv_block_2.0.bias',\n",
              "              tensor([ 0.0425, -0.0604,  0.0145,  0.0558, -0.0650,  0.0526, -0.0614, -0.0145,\n",
              "                       0.0515,  0.0553,  0.0677,  0.0617, -0.0719,  0.0125, -0.0666,  0.0424,\n",
              "                       0.0221,  0.0574,  0.0175,  0.0511])),\n",
              "             ('conv_block_2.2.weight',\n",
              "              tensor([[[[-0.0033, -0.0599, -0.0490],\n",
              "                        [-0.0010, -0.0669,  0.0633],\n",
              "                        [-0.0448, -0.0566,  0.0726]],\n",
              "              \n",
              "                       [[-0.0478, -0.0333,  0.0013],\n",
              "                        [ 0.0238, -0.0267,  0.0399],\n",
              "                        [-0.0477,  0.0145, -0.0733]],\n",
              "              \n",
              "                       [[-0.0669,  0.0264,  0.0358],\n",
              "                        [-0.0333,  0.0262, -0.0195],\n",
              "                        [ 0.0416,  0.0081, -0.0165]],\n",
              "              \n",
              "                       ...,\n",
              "              \n",
              "                       [[-0.0523,  0.0560, -0.0694],\n",
              "                        [-0.0371, -0.0336, -0.0127],\n",
              "                        [-0.0009,  0.0241,  0.0668]],\n",
              "              \n",
              "                       [[ 0.0439, -0.0359,  0.0700],\n",
              "                        [-0.0110, -0.0416,  0.0279],\n",
              "                        [-0.0130,  0.0711,  0.0083]],\n",
              "              \n",
              "                       [[ 0.0493,  0.0192, -0.0487],\n",
              "                        [ 0.0157, -0.0431, -0.0200],\n",
              "                        [-0.0240, -0.0591,  0.0288]]],\n",
              "              \n",
              "              \n",
              "                      [[[ 0.0527, -0.0735,  0.0406],\n",
              "                        [-0.0589, -0.0729,  0.0257],\n",
              "                        [-0.0017, -0.0457,  0.0667]],\n",
              "              \n",
              "                       [[ 0.0061, -0.0468,  0.0342],\n",
              "                        [ 0.0053, -0.0119, -0.0531],\n",
              "                        [-0.0054,  0.0431, -0.0364]],\n",
              "              \n",
              "                       [[ 0.0343, -0.0732, -0.0282],\n",
              "                        [-0.0234, -0.0656,  0.0266],\n",
              "                        [-0.0584,  0.0431,  0.0153]],\n",
              "              \n",
              "                       ...,\n",
              "              \n",
              "                       [[-0.0144,  0.0055,  0.0364],\n",
              "                        [ 0.0201, -0.0478,  0.0243],\n",
              "                        [-0.0640, -0.0376, -0.0131]],\n",
              "              \n",
              "                       [[-0.0149,  0.0543, -0.0407],\n",
              "                        [ 0.0625,  0.0347,  0.0243],\n",
              "                        [ 0.0531, -0.0509, -0.0642]],\n",
              "              \n",
              "                       [[ 0.0028,  0.0367,  0.0376],\n",
              "                        [ 0.0031,  0.0713,  0.0265],\n",
              "                        [ 0.0322, -0.0361,  0.0227]]],\n",
              "              \n",
              "              \n",
              "                      [[[-0.0279, -0.0602, -0.0485],\n",
              "                        [-0.0450, -0.0112, -0.0312],\n",
              "                        [ 0.0685,  0.0308, -0.0620]],\n",
              "              \n",
              "                       [[ 0.0031,  0.0643, -0.0030],\n",
              "                        [ 0.0121,  0.0203, -0.0246],\n",
              "                        [-0.0483, -0.0279, -0.0194]],\n",
              "              \n",
              "                       [[ 0.0587, -0.0606,  0.0100],\n",
              "                        [-0.0285, -0.0079, -0.0066],\n",
              "                        [-0.0289,  0.0172,  0.0176]],\n",
              "              \n",
              "                       ...,\n",
              "              \n",
              "                       [[-0.0182,  0.0439,  0.0276],\n",
              "                        [-0.0595,  0.0446,  0.0727],\n",
              "                        [-0.0473, -0.0692, -0.0710]],\n",
              "              \n",
              "                       [[-0.0472, -0.0328, -0.0421],\n",
              "                        [-0.0653,  0.0466,  0.0729],\n",
              "                        [ 0.0624,  0.0467,  0.0331]],\n",
              "              \n",
              "                       [[-0.0294, -0.0601, -0.0440],\n",
              "                        [ 0.0337,  0.0163,  0.0095],\n",
              "                        [-0.0452, -0.0351, -0.0314]]],\n",
              "              \n",
              "              \n",
              "                      ...,\n",
              "              \n",
              "              \n",
              "                      [[[-0.0598,  0.0137, -0.0585],\n",
              "                        [-0.0412,  0.0205, -0.0042],\n",
              "                        [-0.0476,  0.0253,  0.0517]],\n",
              "              \n",
              "                       [[-0.0733,  0.0699,  0.0411],\n",
              "                        [-0.0063, -0.0723, -0.0316],\n",
              "                        [ 0.0227, -0.0318, -0.0245]],\n",
              "              \n",
              "                       [[-0.0308,  0.0641,  0.0631],\n",
              "                        [-0.0581, -0.0230,  0.0675],\n",
              "                        [-0.0043, -0.0363,  0.0090]],\n",
              "              \n",
              "                       ...,\n",
              "              \n",
              "                       [[-0.0127,  0.0414,  0.0369],\n",
              "                        [-0.0259, -0.0053,  0.0692],\n",
              "                        [ 0.0161,  0.0507, -0.0309]],\n",
              "              \n",
              "                       [[-0.0667, -0.0346,  0.0066],\n",
              "                        [-0.0181, -0.0407,  0.0717],\n",
              "                        [-0.0688,  0.0019,  0.0297]],\n",
              "              \n",
              "                       [[-0.0201,  0.0323,  0.0003],\n",
              "                        [-0.0443, -0.0405, -0.0335],\n",
              "                        [-0.0728,  0.0465,  0.0683]]],\n",
              "              \n",
              "              \n",
              "                      [[[-0.0383,  0.0037,  0.0249],\n",
              "                        [ 0.0211, -0.0414, -0.0453],\n",
              "                        [ 0.0726,  0.0434,  0.0697]],\n",
              "              \n",
              "                       [[ 0.0523, -0.0055,  0.0525],\n",
              "                        [-0.0024, -0.0005, -0.0323],\n",
              "                        [ 0.0581, -0.0158,  0.0108]],\n",
              "              \n",
              "                       [[-0.0594,  0.0256, -0.0354],\n",
              "                        [-0.0168, -0.0067,  0.0276],\n",
              "                        [ 0.0030,  0.0130, -0.0484]],\n",
              "              \n",
              "                       ...,\n",
              "              \n",
              "                       [[-0.0007,  0.0137,  0.0331],\n",
              "                        [ 0.0150, -0.0457,  0.0024],\n",
              "                        [-0.0603,  0.0374,  0.0469]],\n",
              "              \n",
              "                       [[-0.0267, -0.0652,  0.0007],\n",
              "                        [ 0.0381, -0.0509,  0.0315],\n",
              "                        [ 0.0519, -0.0618,  0.0412]],\n",
              "              \n",
              "                       [[ 0.0337, -0.0384,  0.0626],\n",
              "                        [-0.0358,  0.0567, -0.0571],\n",
              "                        [ 0.0588, -0.0168, -0.0658]]],\n",
              "              \n",
              "              \n",
              "                      [[[ 0.0397, -0.0061,  0.0211],\n",
              "                        [ 0.0343,  0.0080,  0.0238],\n",
              "                        [-0.0628, -0.0658, -0.0350]],\n",
              "              \n",
              "                       [[-0.0390, -0.0703,  0.0116],\n",
              "                        [-0.0059, -0.0164, -0.0035],\n",
              "                        [ 0.0358, -0.0277,  0.0047]],\n",
              "              \n",
              "                       [[-0.0067,  0.0360, -0.0079],\n",
              "                        [ 0.0268, -0.0292,  0.0577],\n",
              "                        [ 0.0125,  0.0125,  0.0361]],\n",
              "              \n",
              "                       ...,\n",
              "              \n",
              "                       [[ 0.0424, -0.0046, -0.0733],\n",
              "                        [-0.0064, -0.0238, -0.0370],\n",
              "                        [-0.0029, -0.0285,  0.0058]],\n",
              "              \n",
              "                       [[-0.0220, -0.0462,  0.0274],\n",
              "                        [-0.0610, -0.0577, -0.0117],\n",
              "                        [-0.0065, -0.0697,  0.0379]],\n",
              "              \n",
              "                       [[ 0.0062,  0.0314, -0.0007],\n",
              "                        [-0.0163, -0.0262, -0.0067],\n",
              "                        [-0.0586,  0.0327,  0.0212]]]])),\n",
              "             ('conv_block_2.2.bias',\n",
              "              tensor([ 0.0533, -0.0696, -0.0078, -0.0292,  0.0023,  0.0114, -0.0111, -0.0061,\n",
              "                      -0.0123,  0.0181, -0.0407, -0.0086,  0.0368,  0.0502,  0.0083, -0.0082,\n",
              "                       0.0125,  0.0343,  0.0137, -0.0434])),\n",
              "             ('classifier.1.weight',\n",
              "              tensor([[-0.0252,  0.0149, -0.0137,  ...,  0.0014,  0.0073,  0.0241],\n",
              "                      [-0.0319,  0.0021,  0.0144,  ..., -0.0206,  0.0089,  0.0078],\n",
              "                      [-0.0201,  0.0063, -0.0041,  ...,  0.0214,  0.0035,  0.0108],\n",
              "                      ...,\n",
              "                      [-0.0315, -0.0164,  0.0042,  ...,  0.0087,  0.0166, -0.0180],\n",
              "                      [ 0.0128,  0.0280,  0.0103,  ...,  0.0296,  0.0256,  0.0170],\n",
              "                      [ 0.0038,  0.0152,  0.0168,  ..., -0.0269,  0.0101, -0.0147]])),\n",
              "             ('classifier.1.bias',\n",
              "              tensor([-0.0140,  0.0035,  0.0032,  0.0315,  0.0256,  0.0016,  0.0109,  0.0066,\n",
              "                      -0.0069, -0.0231]))])"
            ]
          },
          "metadata": {},
          "execution_count": 47
        }
      ]
    },
    {
      "cell_type": "code",
      "source": [
        "# set up a loss function and optimizer for model 2\n",
        "loss_fn = nn.CrossEntropyLoss()\n",
        "optimizer = torch.optim.SGD(params=model_3.parameters(),\n",
        "                            lr=0.1)"
      ],
      "metadata": {
        "id": "SCKUaqVsU6P2"
      },
      "execution_count": null,
      "outputs": []
    },
    {
      "cell_type": "code",
      "source": [
        "import requests\n",
        "from pathlib import Path\n",
        "\n",
        "# download helper functions from learn pytorch repo\n",
        "if Path(\"helper_functions.py\").is_file():\n",
        "  print(\"helper_functions.py already, exists, skipping the download...\")\n",
        "else:\n",
        "  print(\"Downloading helper_functions.py\")\n",
        "  request = requests.get(\"https://raw.githubusercontent.com/mrdbourke/pytorch-deep-learning/main/helper_functions.py\")\n",
        "  with open(\"helper_functions.py\", \"wb\") as f:\n",
        "    f.write(request.content)"
      ],
      "metadata": {
        "colab": {
          "base_uri": "https://localhost:8080/"
        },
        "id": "MEHRHhz_WD1R",
        "outputId": "726e31e7-5eea-4e69-dbcf-47c773e131b1"
      },
      "execution_count": null,
      "outputs": [
        {
          "output_type": "stream",
          "name": "stdout",
          "text": [
            "helper_functions.py already, exists, skipping the download...\n"
          ]
        }
      ]
    },
    {
      "cell_type": "code",
      "source": [
        "from helper_functions import accuracy_fn"
      ],
      "metadata": {
        "id": "Sj73fBcoWIcd"
      },
      "execution_count": null,
      "outputs": []
    },
    {
      "cell_type": "code",
      "source": [
        "# Create another training function\n",
        "def train_func(model: torch.nn.Module,\n",
        "               dataloader: torch.utils.data.DataLoader,\n",
        "               loss_fn: torch.nn.Module,\n",
        "               optimizer: torch.optim.Optimizer,\n",
        "               accuracy_fn):\n",
        "  \"\"\" Performs a training step with model trying to learn on the data loader\"\"\"\n",
        "\n",
        "  train_loss, train_acc = 0, 0\n",
        "\n",
        "  model_3.train()\n",
        "\n",
        "  for X, y in dataloader:\n",
        "    y_pred = model(X)\n",
        "\n",
        "    loss = loss_fn(y_pred, y)\n",
        "    train_loss += loss\n",
        "    train_acc += accuracy_fn(y, y_pred.argmax(dim=1))\n",
        "\n",
        "    optimizer.zero_grad()\n",
        "\n",
        "    loss.backward()\n",
        "\n",
        "    optimizer.step()\n",
        "\n",
        "  train_loss /= len(dataloader)\n",
        "  train_acc /= len(dataloader)\n",
        "  print(f\"train_loss: {train_loss:.5f} | train_acc: {train_acc:.2f}%\")\n"
      ],
      "metadata": {
        "id": "XSxkqyWxWZHB"
      },
      "execution_count": null,
      "outputs": []
    },
    {
      "cell_type": "code",
      "source": [
        "# Create another testing function\n",
        "def test_func(model: torch.nn.Module,\n",
        "              dataloader: torch.utils.data.DataLoader,\n",
        "              loss_fn: torch.nn.Module,\n",
        "              accuracy_fn):\n",
        "  \"\"\" Performs a testing step with model trying to learn on the data \"\"\"\n",
        "  test_loss, test_acc = 0, 0\n",
        "\n",
        "  model.eval()\n",
        "  with torch.inference_mode():\n",
        "    for X, y in dataloader:\n",
        "      test_pred = model(X)\n",
        "\n",
        "      loss = loss_fn(test_pred, y)\n",
        "      test_loss += loss\n",
        "      test_acc += accuracy_fn(y,  test_pred.argmax(dim=1))\n",
        "\n",
        "    test_loss /= len(dataloader)\n",
        "    test_acc /= len(dataloader)\n",
        "  print(f\"test_loss: {test_loss:.5f} | test_acc: {test_acc:.2f}%\")\n"
      ],
      "metadata": {
        "id": "nBp6Qijybt31"
      },
      "execution_count": null,
      "outputs": []
    },
    {
      "cell_type": "code",
      "source": [
        "# import tqdm for progress bar\n",
        "from tqdm.auto import tqdm"
      ],
      "metadata": {
        "id": "QqdeppOX0Kbv"
      },
      "execution_count": null,
      "outputs": []
    },
    {
      "cell_type": "code",
      "source": [
        "torch.manual_seed(42)\n",
        "\n",
        "# train the model and also test the model\n",
        "epochs = 1\n",
        "for epoch in tqdm(range(epochs)):\n",
        "  print(f\"Epoch: {epoch}\\n--------\")\n",
        "  train_func(model=model_3,\n",
        "             dataloader=train_dataloader,\n",
        "             loss_fn=loss_fn,\n",
        "             optimizer=optimizer,\n",
        "             accuracy_fn=accuracy_fn)\n",
        "  test_func(model=model_3,\n",
        "            dataloader=test_dataloader,\n",
        "            loss_fn=loss_fn,\n",
        "            accuracy_fn=accuracy_fn)"
      ],
      "metadata": {
        "colab": {
          "base_uri": "https://localhost:8080/",
          "height": 118,
          "referenced_widgets": [
            "ec5118a00d6141e191951fbe7001efa5",
            "dfa352f2641341fcb8a82a9a1ca5bb57",
            "7d68a8780a574cf3bf4186a5c63cd544",
            "2ae7d1e17b46405facd1aac257fb9f31",
            "cee688d5fdcc413a919a2f7a935bc785",
            "48407222d2f4482997d63baaddf5ba2d",
            "4d1e965b48054d61be83538cb8accef5",
            "fcb8925355594098afc55a87982dd4b8",
            "fff2950070564a5c9043f0fa948bbe63",
            "4db7194579e844a2a4cba5259e309fab",
            "acebfedeb03d4bfe813fad9d305bdfad"
          ]
        },
        "id": "DV-loTF1d7eF",
        "outputId": "fc6dca50-e896-47f5-89f6-1b98ed7cea95"
      },
      "execution_count": null,
      "outputs": [
        {
          "output_type": "display_data",
          "data": {
            "text/plain": [
              "  0%|          | 0/1 [00:00<?, ?it/s]"
            ],
            "application/vnd.jupyter.widget-view+json": {
              "version_major": 2,
              "version_minor": 0,
              "model_id": "ec5118a00d6141e191951fbe7001efa5"
            }
          },
          "metadata": {}
        },
        {
          "output_type": "stream",
          "name": "stdout",
          "text": [
            "Epoch: 0\n",
            "--------\n",
            "train_loss: 0.27051 | train_acc: 90.84%\n",
            "test_loss: 0.06191 | test_acc: 98.04%\n"
          ]
        }
      ]
    },
    {
      "cell_type": "code",
      "source": [
        "import random\n",
        "test_samples = []\n",
        "test_labels = []\n",
        "\n",
        "for sample, label in random.sample(list(test_data), k=9):\n",
        "  test_samples.append(sample)\n",
        "  test_labels.append(label)\n",
        "\n",
        "test_samples[0].shape"
      ],
      "metadata": {
        "colab": {
          "base_uri": "https://localhost:8080/"
        },
        "id": "6n5t4XD0wcF0",
        "outputId": "b3699ad8-52e6-42a5-ffca-9b22ab28a512"
      },
      "execution_count": null,
      "outputs": [
        {
          "output_type": "execute_result",
          "data": {
            "text/plain": [
              "torch.Size([1, 28, 28])"
            ]
          },
          "metadata": {},
          "execution_count": 55
        }
      ]
    },
    {
      "cell_type": "code",
      "source": [
        "# plt.imshow(test_samples[0].squeeze(), cmap=\"gray\")\n",
        "# plt.title(class_names[test_labels[0]])\n",
        "\n",
        "plt.imshow(test_samples[0].squeeze())\n",
        "plt.title(class_names[test_labels[0]])"
      ],
      "metadata": {
        "colab": {
          "base_uri": "https://localhost:8080/",
          "height": 469
        },
        "id": "JbwTuPo4e-dr",
        "outputId": "55d59d10-12e4-4e11-8e77-aae55a1ce8a0"
      },
      "execution_count": null,
      "outputs": [
        {
          "output_type": "execute_result",
          "data": {
            "text/plain": [
              "Text(0.5, 1.0, '1 - one')"
            ]
          },
          "metadata": {},
          "execution_count": 56
        },
        {
          "output_type": "display_data",
          "data": {
            "text/plain": [
              "<Figure size 640x480 with 1 Axes>"
            ],
            "image/png": "[encoded data removed]"
          },
          "metadata": {}
        }
      ]
    },
    {
      "cell_type": "code",
      "source": [
        "def make_predictions(model: torch.nn.Module,\n",
        "                    data: list):\n",
        "  pred_probs = []\n",
        "  model.eval()\n",
        "  with torch.inference_mode():\n",
        "    for sample in data:\n",
        "      sample = torch.unsqueeze(sample, dim=0)\n",
        "      pred_logits = model(sample)\n",
        "      pred_prob = torch.softmax(pred_logits.squeeze(), dim=0)\n",
        "      pred_probs.append(pred_prob)\n",
        "\n",
        "  return torch.stack(pred_probs)"
      ],
      "metadata": {
        "id": "abU11CVV5UWs"
      },
      "execution_count": null,
      "outputs": []
    },
    {
      "cell_type": "code",
      "source": [
        "# pred_probs = make_predictions(model=model_2,\n",
        "#                               data=test_samples)\n",
        "\n",
        "# pred_classes = pred_probs.argmax(dim=1)\n",
        "# pred_classes\n",
        "\n",
        "pred_probs = make_predictions(model_3,\n",
        "                              test_samples)\n",
        "\n",
        "pred_classes = pred_probs.argmax(dim=1)\n",
        "pred_classes"
      ],
      "metadata": {
        "colab": {
          "base_uri": "https://localhost:8080/"
        },
        "id": "9ZJDA9mp5Ud4",
        "outputId": "31712129-5422-4cb8-aa41-077962bba178"
      },
      "execution_count": null,
      "outputs": [
        {
          "output_type": "execute_result",
          "data": {
            "text/plain": [
              "tensor([1, 1, 6, 6, 2, 2, 2, 6, 7])"
            ]
          },
          "metadata": {},
          "execution_count": 58
        }
      ]
    },
    {
      "cell_type": "code",
      "source": [
        "# # plot predictions\n",
        "# plt.figure(figsize=(9, 9))\n",
        "# nrows= 3\n",
        "# ncols = 3\n",
        "# for i, sample in enumerate(test_samples):\n",
        "#   # Create subplot\n",
        "#   plt.subplot(nrows, ncols, i+1)\n",
        "\n",
        "#   plt.imshow(sample.squeeze(), cmap=\"gray\")\n",
        "\n",
        "#   # Find the predictions (in text form, e.g \" sandal\")\n",
        "#   pred_label = class_names[pred_classes[i]]\n",
        "\n",
        "#   # Get the truth labels in text form\n",
        "#   truth_label = class_names[test_labels[i]]\n",
        "\n",
        "#   # create a title\n",
        "#   title_text = f\"pred: {pred_label} | Truth: {truth_label}\"\n",
        "\n",
        "#   # Check for equality between pred and truth and change the color of title text\n",
        "#   if pred_label == truth_label:\n",
        "#     plt.title(title_text, fontsize=10, c=\"g\") # green text if prediction same as truth\n",
        "#   else:\n",
        "#     plt.title(title_text, fontsize=10, c=\"r\")\n",
        "\n",
        "plt.figure(figsize=(9, 9))\n",
        "nrows = 3\n",
        "ncols = 3\n",
        "for i, sample in enumerate(test_samples):\n",
        "  plt.subplot(nrows, ncols, i+1)\n",
        "  plt.imshow(sample.squeeze())\n",
        "\n",
        "  pred_label = class_names[pred_classes[i]]\n",
        "  truth_label = class_names[test_labels[i]]\n",
        "\n",
        "  title_text = f\"Pred: {pred_label} | Truth: {truth_label}\"\n",
        "\n",
        "  if pred_label == truth_label:\n",
        "    plt.title(title_text, fontsize=10, c='g')\n",
        "  else:\n",
        "    plt.title(title_text, fontsize=10, c='r')"
      ],
      "metadata": {
        "colab": {
          "base_uri": "https://localhost:8080/",
          "height": 773
        },
        "id": "zIczT4qd5UjV",
        "outputId": "4bf0f6ea-a2c4-4f75-9f93-366b04442ff4"
      },
      "execution_count": null,
      "outputs": [
        {
          "output_type": "display_data",
          "data": {
            "text/plain": [
              "<Figure size 900x900 with 9 Axes>"
            ],
            "image/png": "[encoded data removed]"
          },
          "metadata": {}
        }
      ]
    },
    {
      "cell_type": "markdown",
      "source": [
        "### 11. Plot a confusion matrix comparing your model's predictions to the truth labels"
      ],
      "metadata": {
        "id": "1WXL5-9RxAaq"
      }
    },
    {
      "cell_type": "code",
      "source": [
        "# Making predictions with our trained model\n",
        "y_preds = []\n",
        "model_3.eval()\n",
        "with torch.inference_mode():\n",
        "  for X, y in tqdm(test_dataloader, desc=\"Making predictions....\"):\n",
        "    y_logits = model_3(X)\n",
        "    y_pred = torch.softmax(y_logits.squeeze(), dim=0).argmax(dim=1)\n",
        "    y_preds.append(y_pred)\n",
        "\n",
        "y_pred_tensor = torch.cat(y_preds)\n",
        "y_pred_tensor[:10]\n"
      ],
      "metadata": {
        "id": "X5OPXqXbxAmP",
        "colab": {
          "base_uri": "https://localhost:8080/",
          "height": 66,
          "referenced_widgets": [
            "8d11012d9ce644a691b1681cafe41567",
            "829ad3a9e64b402e9dbe01fabc10b926",
            "8c14b1b6694841aabee5e3f48b9c959f",
            "87f78344f6e84ac5bf4f3925b6e23f70",
            "b84d594e4c2e41dd94782f873b1e97ba",
            "aa9cbf35f4b542708569de1b49e5680e",
            "6d14e9e0e2e844779f87f96a7c385d4b",
            "0abcc779c733433bbbfb7872d517b86c",
            "554d1645c6d04687a462d511008c15c0",
            "73e2b789e0c64fd4aad5cd020e5fcdef",
            "b72ddf86cfb74cef86fccc8068171949"
          ]
        },
        "outputId": "fb9d5de3-78d6-4897-b636-14c2a81e6c37"
      },
      "execution_count": null,
      "outputs": [
        {
          "output_type": "display_data",
          "data": {
            "text/plain": [
              "Making predictions....:   0%|          | 0/313 [00:00<?, ?it/s]"
            ],
            "application/vnd.jupyter.widget-view+json": {
              "version_major": 2,
              "version_minor": 0,
              "model_id": "8d11012d9ce644a691b1681cafe41567"
            }
          },
          "metadata": {}
        },
        {
          "output_type": "execute_result",
          "data": {
            "text/plain": [
              "tensor([7, 2, 1, 0, 4, 1, 8, 9, 8, 9])"
            ]
          },
          "metadata": {},
          "execution_count": 60
        }
      ]
    },
    {
      "cell_type": "code",
      "source": [
        "# from torchmetrics import ConfusionMatrix\n",
        "# from mlxtend.plotting import plot_confusion_matrix\n",
        "\n",
        "# # 2. Set up confusion matrix instance and compare predictions to truth\n",
        "# task = \"multiclass\"\n",
        "# confmat = ConfusionMatrix(task=task,\n",
        "#                           num_classes=len(class_names))\n",
        "# confmat_tensor = confmat(preds=y_pred_tensor,\n",
        "#                          target=test_data.targets)\n",
        "\n",
        "# # 3. plt the confustion matrix\n",
        "# fig, ax = plot_confusion_matrix(\n",
        "#     conf_mat=confmat_tensor.numpy(), # matplotlib likes working with numpy\n",
        "#     class_names=class_names,\n",
        "#     figsize=(10, 7)\n",
        "\n",
        "\n",
        "from torchmetrics import ConfusionMatrix\n",
        "from mlxtend.plotting import plot_confusion_matrix\n",
        "\n",
        "# Set up confusion matrix instance and compare predictions to the truth\n",
        "task = 'multiclass'\n",
        "confmat = ConfusionMatrix(task=task,\n",
        "                          num_classes=len(class_names))\n",
        "confmat_tensor = confmat(preds=y_pred_tensor,\n",
        "                         target=test_data.targets)\n",
        "\n",
        "# plt the confusion matrix\n",
        "fig, ax = plot_confusion_matrix(\n",
        "    conf_mat=confmat_tensor.numpy(),\n",
        "    class_names=class_names,\n",
        "    figsize=(10, 7)\n",
        ")"
      ],
      "metadata": {
        "colab": {
          "base_uri": "https://localhost:8080/",
          "height": 660
        },
        "id": "TP5M9cwl1W3t",
        "outputId": "6361342b-4ca4-44d6-f290-ad6268071d3b"
      },
      "execution_count": null,
      "outputs": [
        {
          "output_type": "display_data",
          "data": {
            "text/plain": [
              "<Figure size 1000x700 with 1 Axes>"
            ],
            "image/png": "[encoded data removed]"
          },
          "metadata": {}
        }
      ]
    },
    {
      "cell_type": "code",
      "source": [],
      "metadata": {
        "id": "r65-HSNh3rXj"
      },
      "execution_count": null,
      "outputs": []
    }
  ]
}